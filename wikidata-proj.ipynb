{
 "cells": [
  {
   "cell_type": "markdown",
   "metadata": {},
   "source": [
    "# Wikidata Project\n",
    "\n",
    "This project explores some of the data available in Wikidata's open knowledge graph through the use of SPARQL and analyzes and displays the data with Python and graphing libraries: matplotlib, plotly. \n",
    "\n",
    "There are two sections in this notebook.\n",
    "\n",
    "The first section looks at musical tonalities of all works available in Wikidata and the movements they belong to. I was curious about the relationship between musical movements and tonalities, and through this data, wanted to answer questions such as \"what were the most popular tonalities during the Romantic music period?\", \"what is the tonality landscape like for works of the First Viennese School?\", \"which movements had the most pieces in D minor?\". The queries and resulting graphs attempt to address these questions.\n",
    "\n",
    "The second section displays a map of indigenous languages in what is now the United States. Please see the sections below for more details on how this is done."
   ]
  },
  {
   "cell_type": "markdown",
   "metadata": {},
   "source": [
    "## Getting Started\n",
    "The requirements.txt file has been updated to include `plotly` and `ipywidgets` packages. Please note that `ipywidgets` also needs to be enabled as a Jupyter extension. This should be handled by Binder through the `postBuild` file but for reference, the following command can be run to enable the extension:\n",
    "\n",
    "```\n",
    "jupyter nbextension enable --py widgetsnbextension\n",
    "```"
   ]
  },
  {
   "cell_type": "markdown",
   "metadata": {},
   "source": [
    "Import the needed python packages"
   ]
  },
  {
   "cell_type": "code",
   "execution_count": 1,
   "metadata": {},
   "outputs": [],
   "source": [
    "import requests\n",
    "import matplotlib.pyplot as plt\n",
    "import plotly.graph_objects as go\n",
    "from ipywidgets import interact"
   ]
  },
  {
   "cell_type": "code",
   "execution_count": 2,
   "metadata": {},
   "outputs": [],
   "source": [
    "#from ipywidgets import interact, interactive, fixed, interact_manual\n",
    "#import ipywidgets as widgets"
   ]
  },
  {
   "cell_type": "markdown",
   "metadata": {},
   "source": [
    "## Wikidata Query Setup\n",
    "\n",
    "The code below is unchanged from the example.\n",
    "\n",
    "Defines Wikidata SPARQL endpoint.  Numerous query examples using this endpoint can be found on the [Wikidata examples page](https://www.wikidata.org/wiki/Wikidata:SPARQL_query_service/queries/examples)."
   ]
  },
  {
   "cell_type": "code",
   "execution_count": 3,
   "metadata": {},
   "outputs": [],
   "source": [
    "wikidata_endpoint = 'https://query.wikidata.org/sparql'"
   ]
  },
  {
   "cell_type": "markdown",
   "metadata": {},
   "source": [
    "`do_query` is a simple helper method for setting the HTTP header and submitting the request using the excellent python [requests](https://requests.readthedocs.io/en/master/) package."
   ]
  },
  {
   "cell_type": "code",
   "execution_count": 4,
   "metadata": {},
   "outputs": [],
   "source": [
    "def do_query(query):\n",
    "    rsp = requests.post(\n",
    "        wikidata_endpoint,\n",
    "        data=query,\n",
    "        headers={\n",
    "            'Content-type': 'application/sparql-query',\n",
    "            'Accept': 'application/sparql-results+json',\n",
    "            'User-Agent': 'https://github.com/JSTOR-Labs/sw-dev-project'\n",
    "        }\n",
    "    )\n",
    "    if rsp.status_code != 200:\n",
    "        raise Exception(f\"Query failed with status code {rsp.status_code}.\")\n",
    "    return rsp.json()"
   ]
  },
  {
   "cell_type": "markdown",
   "metadata": {},
   "source": [
    "\n",
    "# Tonality in Musical Movements\n",
    "\n"
   ]
  },
  {
   "cell_type": "code",
   "execution_count": 97,
   "metadata": {},
   "outputs": [],
   "source": [
    "movements_dict = {}\n",
    "movements_tonalities = {}"
   ]
  },
  {
   "cell_type": "code",
   "execution_count": 98,
   "metadata": {},
   "outputs": [],
   "source": [
    "#get all movements\n",
    "def movements():\n",
    "    print('\\nMovements with tonalities')\n",
    "    \n",
    "    query = '''\n",
    "        SELECT ?movement ?movementLabel\n",
    "        WHERE\n",
    "        {\n",
    "          ?work wdt:P826 ?tonality . #find all works that have tonality\n",
    "          ?work wdt:P86 ?composer . #find composer of work\n",
    "          ?composer wdt:P135 ?movement . #find musical movement of composer\n",
    "\n",
    "          SERVICE wikibase:label { bd:serviceParam wikibase:language \"en\" }\n",
    "        }\n",
    "        GROUP BY ?movement ?movementLabel\n",
    "    '''\n",
    "        \n",
    "    results = do_query(query)['results']['bindings']\n",
    "    \n",
    "    for m in results:\n",
    "        #split URI string to get QID\n",
    "        qid = m['movement']['value'].split('/')[-1]\n",
    "        movements_dict[m['movementLabel']['value']] = qid\n",
    "        \n",
    "    print(movements_dict)"
   ]
  },
  {
   "cell_type": "code",
   "execution_count": 99,
   "metadata": {},
   "outputs": [
    {
     "name": "stdout",
     "output_type": "stream",
     "text": [
      "\n",
      "Movements with tonalities\n",
      "{'Classical period': 'Q17723', 'Romantic music': 'Q207591', 'Western classical music': 'Q9730', 'baroque music': 'Q8361', 'Impressionism in music': 'Q837182', 'Harlem Renaissance': 'Q829895', 'First Viennese School': 'Q702207', 'Russian symbolism': 'Q1879488', 'musical modernism': 'Q2426218', 'Romanticism': 'Q37068', 'avant-garde': 'Q102932', '20th-century classical music': 'Q1338153', 'jazz': 'Q8341', 'vocal': 'Q2529757', 'glam rock': 'Q76092', 'new wave': 'Q187760', 'art rock': 'Q217467', 'pop rock': 'Q484641', 'blue-eyed soul': 'Q885561', 'art pop': 'Q25094849', 'social contract': 'Q1326430', 'classicism': 'Q170292'}\n"
     ]
    }
   ],
   "source": [
    "movements()"
   ]
  },
  {
   "cell_type": "code",
   "execution_count": 100,
   "metadata": {},
   "outputs": [],
   "source": [
    "#get counts of tonalities for each movement\n",
    "def movements():\n",
    "    print('\\nCount of tonalities by movement')\n",
    "\n",
    "    for qid in movements_dict.values():\n",
    "        query = '''\n",
    "            SELECT ?tonalityLabel (COUNT(?tonalityLabel) as ?count)\n",
    "                WHERE\n",
    "                {\n",
    "                  ?composer wdt:P135 wd:%s . #find all composers of movement\n",
    "                  ?work wdt:P86 ?composer . #find works of composers\n",
    "                  ?work wdt:P826 ?tonality . #find tonalities of works\n",
    "\n",
    "                  SERVICE wikibase:label { bd:serviceParam wikibase:language \"en\" }\n",
    "                }\n",
    "                GROUP BY ?tonalityLabel\n",
    "                ORDER BY DESC(?count)\n",
    "        ''' % qid\n",
    "        \n",
    "        results = do_query(query)['results']['bindings']\n",
    "        \n",
    "        movements_tonalities[qid] = {}\n",
    "        for t in results:\n",
    "            movements_tonalities[qid][t['tonalityLabel']['value']] = int(t['count']['value'])\n",
    "            \n",
    "    print(movements_tonalities)"
   ]
  },
  {
   "cell_type": "code",
   "execution_count": 101,
   "metadata": {},
   "outputs": [
    {
     "name": "stdout",
     "output_type": "stream",
     "text": [
      "\n",
      "Count of tonalities by movement\n",
      "{'Q17723': {'C major': 90, 'D major': 83, 'F major': 66, 'E-flat major': 61, 'G major': 55, 'B-flat major': 55, 'A major': 33, 'C minor': 29, 'D minor': 12, 'G minor': 12, 'A minor': 8, 'F minor': 6, 'B major': 4, 'E major': 3, 'E minor': 3, 'C-sharp minor': 2, 'A-flat major': 2, 'B minor': 1, 'F-sharp major': 1, 'E-flat minor': 1}, 'Q207591': {'E-flat major': 56, 'C minor': 49, 'D minor': 41, 'B-flat major': 39, 'C major': 38, 'F major': 38, 'D major': 37, 'A minor': 34, 'G major': 33, 'A-flat major': 33, 'G minor': 33, 'A major': 30, 'F minor': 28, 'E minor': 26, 'C-sharp minor': 22, 'B minor': 18, 'E major': 17, 'D-flat major': 16, 'F-sharp minor': 13, 'B major': 12, 'E-flat minor': 11, 'F-sharp major': 9, 'B-flat minor': 9, 'G-flat major': 8, 'G-sharp minor': 6, 'atonality': 1}, 'Q9730': {'A-flat major': 27, 'G minor': 24, 'E-flat major': 20, 'F minor': 19, 'C major': 19, 'C minor': 18, 'A minor': 18, 'F major': 18, 'C-sharp minor': 16, 'E major': 16, 'D minor': 15, 'E minor': 13, 'B-flat major': 13, 'D major': 13, 'G major': 13, 'A major': 12, 'D-flat major': 10, 'B minor': 10, 'B major': 8, 'B-flat minor': 8, 'E-flat minor': 8, 'G-flat major': 7, 'F-sharp minor': 6, 'G-sharp minor': 5, 'F-sharp major': 4}, 'Q8361': {'D major': 102, 'G major': 98, 'C major': 84, 'F major': 73, 'B-flat major': 67, 'A major': 66, 'D minor': 60, 'G minor': 50, 'C minor': 42, 'A minor': 34, 'E major': 33, 'F minor': 30, 'E minor': 29, 'E-flat major': 27, 'B minor': 23, 'B major': 6, 'F-sharp major': 6, 'F-sharp minor': 5, 'C-sharp minor': 4, 'A-flat major': 4, 'B-flat minor': 3, 'C-sharp major': 2, 'G-sharp minor': 2, 'E-flat minor': 1, 'D-sharp minor': 1}, 'Q837182': {'G major': 5, 'D minor': 5, 'C minor': 4, 'G minor': 4, 'F-sharp minor': 3, 'D-flat major': 2, 'F major': 2, 'C major': 2, 'G-flat major': 2, 'D major': 2, 'A minor': 2, 'F-sharp major': 1, 'E minor': 1, 'A major': 1, 'C-sharp minor': 1, 'E major': 1, 'F minor': 1}, 'Q829895': {'G major': 3, 'C major': 3, 'F minor': 2, 'C minor': 2, 'A-flat major': 2, 'B-flat minor': 2, 'D minor': 1, 'B-flat major': 1, 'E-flat minor': 1}, 'Q702207': {'C major': 33, 'D major': 31, 'B-flat major': 22, 'G major': 20, 'E-flat major': 19, 'A major': 11, 'F major': 8, 'D minor': 5, 'C minor': 4, 'G minor': 3, 'E major': 3, 'E minor': 2, 'F-sharp minor': 2, 'F minor': 2, 'E-flat minor': 1, 'B major': 1}, 'Q1879488': {'atonality': 4, 'E major': 2, 'C minor': 2, 'D-sharp minor': 2, 'F-sharp minor': 2, 'G-sharp minor': 2, 'C-sharp minor': 2, 'E minor': 2, 'E-flat minor': 2, 'F minor': 1, 'F-sharp major': 1, 'A-flat major': 1, 'A minor': 1, 'C major': 1, 'F major': 1, 'B minor': 1}, 'Q2426218': {'G minor': 1, 'C-sharp minor': 1, 'D minor': 1, 'A major': 1, 'E minor': 1, 'B-flat minor': 1, 'C major': 1, 'G major': 1}, 'Q37068': {'D minor': 9, 'G minor': 4, 'C minor': 3, 'E-flat major': 2, 'A-flat major': 2, 'F-sharp minor': 2, 'E minor': 2, 'A minor': 2, 'C-sharp minor': 2, 'B-flat major': 1, 'D major': 1, 'E-flat minor': 1, 'G-flat major': 1, 'G major': 1, 'B-flat minor': 1}, 'Q102932': {'atonality': 1}, 'Q1338153': {'atonality': 1, 'D major': 1}, 'Q8341': {'B-flat major': 1}, 'Q2529757': {'B-flat major': 1}, 'Q76092': {'F major': 1}, 'Q187760': {'F major': 1}, 'Q217467': {'F major': 1}, 'Q484641': {'F major': 1}, 'Q885561': {'F major': 1}, 'Q25094849': {'F major': 1}, 'Q1326430': {'G major': 1}, 'Q170292': {'E-flat major': 1}}\n"
     ]
    }
   ],
   "source": [
    "movements()"
   ]
  },
  {
   "cell_type": "code",
   "execution_count": null,
   "metadata": {},
   "outputs": [],
   "source": []
  },
  {
   "cell_type": "code",
   "execution_count": 107,
   "metadata": {},
   "outputs": [
    {
     "data": {
      "application/vnd.jupyter.widget-view+json": {
       "model_id": "3973e9507fa2495d9ae2ca66994dfa5e",
       "version_major": 2,
       "version_minor": 0
      },
      "text/plain": [
       "interactive(children=(Dropdown(description='id', options={'Classical period': 'Q17723', 'Romantic music': 'Q20…"
      ]
     },
     "metadata": {},
     "output_type": "display_data"
    },
    {
     "data": {
      "text/plain": [
       "<function __main__.plot(id)>"
      ]
     },
     "execution_count": 107,
     "metadata": {},
     "output_type": "execute_result"
    }
   ],
   "source": [
    "def plot(id):\n",
    "    print('Tonality Count')\n",
    "    for tonality, count in movements_tonalities[id].items():\n",
    "        print('{} {}'.format(tonality, count))\n",
    "\n",
    "    \n",
    "    plt.title('Tonalities')\n",
    "    plt.pie(movements_tonalities[id].values(), labels=movements_tonalities[id].keys(), shadow=True)\n",
    "    plt.axis('equal')\n",
    "    plt.subplots_adjust(0,0,1,1)\n",
    "    plt.show()\n",
    "    \n",
    "movements = movements_dict\n",
    "interact(plot, id=movements)\n"
   ]
  },
  {
   "cell_type": "code",
   "execution_count": 103,
   "metadata": {},
   "outputs": [],
   "source": [
    "import random\n",
    "\n",
    "def plotly():\n",
    "    #randomly pick 5 movements\n",
    "    sample = random.sample(list(movements_dict.items()), 5)\n",
    "    \n",
    "    print(sample)\n",
    "    print(movements_tonalities[sample[0][1]].keys())\n",
    "    print(movements_tonalities[sample[0][1]].values())\n",
    "\n",
    "    fig = go.Figure(data=[\n",
    "        go.Bar(name=sample[0][0], x=list(movements_tonalities[sample[0][1]].keys()), y=list(movements_tonalities[sample[0][1]].values())),\n",
    "        go.Bar(name=sample[1][0], x=list(movements_tonalities[sample[1][1]].keys()), y=list(movements_tonalities[sample[1][1]].values())),\n",
    "        go.Bar(name=sample[2][0], x=list(movements_tonalities[sample[2][1]].keys()), y=list(movements_tonalities[sample[2][1]].values())),\n",
    "        go.Bar(name=sample[3][0], x=list(movements_tonalities[sample[3][1]].keys()), y=list(movements_tonalities[sample[3][1]].values())),\n",
    "\n",
    "    ])\n",
    "    fig.update_layout(barmode='stack')\n",
    "    fig.show()"
   ]
  },
  {
   "cell_type": "code",
   "execution_count": 106,
   "metadata": {},
   "outputs": [
    {
     "name": "stdout",
     "output_type": "stream",
     "text": [
      "[('Harlem Renaissance', 'Q829895'), ('20th-century classical music', 'Q1338153'), ('Russian symbolism', 'Q1879488'), ('Romanticism', 'Q37068'), ('art rock', 'Q217467')]\n",
      "dict_keys(['G major', 'C major', 'F minor', 'C minor', 'A-flat major', 'B-flat minor', 'D minor', 'B-flat major', 'E-flat minor'])\n",
      "dict_values([3, 3, 2, 2, 2, 2, 1, 1, 1])\n"
     ]
    },
    {
     "data": {
      "application/vnd.plotly.v1+json": {
       "config": {
        "plotlyServerURL": "https://plot.ly"
       },
       "data": [
        {
         "name": "Harlem Renaissance",
         "type": "bar",
         "x": [
          "G major",
          "C major",
          "F minor",
          "C minor",
          "A-flat major",
          "B-flat minor",
          "D minor",
          "B-flat major",
          "E-flat minor"
         ],
         "y": [
          3,
          3,
          2,
          2,
          2,
          2,
          1,
          1,
          1
         ]
        },
        {
         "name": "20th-century classical music",
         "type": "bar",
         "x": [
          "atonality",
          "D major"
         ],
         "y": [
          1,
          1
         ]
        },
        {
         "name": "Russian symbolism",
         "type": "bar",
         "x": [
          "atonality",
          "E major",
          "C minor",
          "D-sharp minor",
          "F-sharp minor",
          "G-sharp minor",
          "C-sharp minor",
          "E minor",
          "E-flat minor",
          "F minor",
          "F-sharp major",
          "A-flat major",
          "A minor",
          "C major",
          "F major",
          "B minor"
         ],
         "y": [
          4,
          2,
          2,
          2,
          2,
          2,
          2,
          2,
          2,
          1,
          1,
          1,
          1,
          1,
          1,
          1
         ]
        },
        {
         "name": "Romanticism",
         "type": "bar",
         "x": [
          "D minor",
          "G minor",
          "C minor",
          "E-flat major",
          "A-flat major",
          "F-sharp minor",
          "E minor",
          "A minor",
          "C-sharp minor",
          "B-flat major",
          "D major",
          "E-flat minor",
          "G-flat major",
          "G major",
          "B-flat minor"
         ],
         "y": [
          9,
          4,
          3,
          2,
          2,
          2,
          2,
          2,
          2,
          1,
          1,
          1,
          1,
          1,
          1
         ]
        }
       ],
       "layout": {
        "barmode": "stack",
        "template": {
         "data": {
          "bar": [
           {
            "error_x": {
             "color": "#2a3f5f"
            },
            "error_y": {
             "color": "#2a3f5f"
            },
            "marker": {
             "line": {
              "color": "#E5ECF6",
              "width": 0.5
             }
            },
            "type": "bar"
           }
          ],
          "barpolar": [
           {
            "marker": {
             "line": {
              "color": "#E5ECF6",
              "width": 0.5
             }
            },
            "type": "barpolar"
           }
          ],
          "carpet": [
           {
            "aaxis": {
             "endlinecolor": "#2a3f5f",
             "gridcolor": "white",
             "linecolor": "white",
             "minorgridcolor": "white",
             "startlinecolor": "#2a3f5f"
            },
            "baxis": {
             "endlinecolor": "#2a3f5f",
             "gridcolor": "white",
             "linecolor": "white",
             "minorgridcolor": "white",
             "startlinecolor": "#2a3f5f"
            },
            "type": "carpet"
           }
          ],
          "choropleth": [
           {
            "colorbar": {
             "outlinewidth": 0,
             "ticks": ""
            },
            "type": "choropleth"
           }
          ],
          "contour": [
           {
            "colorbar": {
             "outlinewidth": 0,
             "ticks": ""
            },
            "colorscale": [
             [
              0,
              "#0d0887"
             ],
             [
              0.1111111111111111,
              "#46039f"
             ],
             [
              0.2222222222222222,
              "#7201a8"
             ],
             [
              0.3333333333333333,
              "#9c179e"
             ],
             [
              0.4444444444444444,
              "#bd3786"
             ],
             [
              0.5555555555555556,
              "#d8576b"
             ],
             [
              0.6666666666666666,
              "#ed7953"
             ],
             [
              0.7777777777777778,
              "#fb9f3a"
             ],
             [
              0.8888888888888888,
              "#fdca26"
             ],
             [
              1,
              "#f0f921"
             ]
            ],
            "type": "contour"
           }
          ],
          "contourcarpet": [
           {
            "colorbar": {
             "outlinewidth": 0,
             "ticks": ""
            },
            "type": "contourcarpet"
           }
          ],
          "heatmap": [
           {
            "colorbar": {
             "outlinewidth": 0,
             "ticks": ""
            },
            "colorscale": [
             [
              0,
              "#0d0887"
             ],
             [
              0.1111111111111111,
              "#46039f"
             ],
             [
              0.2222222222222222,
              "#7201a8"
             ],
             [
              0.3333333333333333,
              "#9c179e"
             ],
             [
              0.4444444444444444,
              "#bd3786"
             ],
             [
              0.5555555555555556,
              "#d8576b"
             ],
             [
              0.6666666666666666,
              "#ed7953"
             ],
             [
              0.7777777777777778,
              "#fb9f3a"
             ],
             [
              0.8888888888888888,
              "#fdca26"
             ],
             [
              1,
              "#f0f921"
             ]
            ],
            "type": "heatmap"
           }
          ],
          "heatmapgl": [
           {
            "colorbar": {
             "outlinewidth": 0,
             "ticks": ""
            },
            "colorscale": [
             [
              0,
              "#0d0887"
             ],
             [
              0.1111111111111111,
              "#46039f"
             ],
             [
              0.2222222222222222,
              "#7201a8"
             ],
             [
              0.3333333333333333,
              "#9c179e"
             ],
             [
              0.4444444444444444,
              "#bd3786"
             ],
             [
              0.5555555555555556,
              "#d8576b"
             ],
             [
              0.6666666666666666,
              "#ed7953"
             ],
             [
              0.7777777777777778,
              "#fb9f3a"
             ],
             [
              0.8888888888888888,
              "#fdca26"
             ],
             [
              1,
              "#f0f921"
             ]
            ],
            "type": "heatmapgl"
           }
          ],
          "histogram": [
           {
            "marker": {
             "colorbar": {
              "outlinewidth": 0,
              "ticks": ""
             }
            },
            "type": "histogram"
           }
          ],
          "histogram2d": [
           {
            "colorbar": {
             "outlinewidth": 0,
             "ticks": ""
            },
            "colorscale": [
             [
              0,
              "#0d0887"
             ],
             [
              0.1111111111111111,
              "#46039f"
             ],
             [
              0.2222222222222222,
              "#7201a8"
             ],
             [
              0.3333333333333333,
              "#9c179e"
             ],
             [
              0.4444444444444444,
              "#bd3786"
             ],
             [
              0.5555555555555556,
              "#d8576b"
             ],
             [
              0.6666666666666666,
              "#ed7953"
             ],
             [
              0.7777777777777778,
              "#fb9f3a"
             ],
             [
              0.8888888888888888,
              "#fdca26"
             ],
             [
              1,
              "#f0f921"
             ]
            ],
            "type": "histogram2d"
           }
          ],
          "histogram2dcontour": [
           {
            "colorbar": {
             "outlinewidth": 0,
             "ticks": ""
            },
            "colorscale": [
             [
              0,
              "#0d0887"
             ],
             [
              0.1111111111111111,
              "#46039f"
             ],
             [
              0.2222222222222222,
              "#7201a8"
             ],
             [
              0.3333333333333333,
              "#9c179e"
             ],
             [
              0.4444444444444444,
              "#bd3786"
             ],
             [
              0.5555555555555556,
              "#d8576b"
             ],
             [
              0.6666666666666666,
              "#ed7953"
             ],
             [
              0.7777777777777778,
              "#fb9f3a"
             ],
             [
              0.8888888888888888,
              "#fdca26"
             ],
             [
              1,
              "#f0f921"
             ]
            ],
            "type": "histogram2dcontour"
           }
          ],
          "mesh3d": [
           {
            "colorbar": {
             "outlinewidth": 0,
             "ticks": ""
            },
            "type": "mesh3d"
           }
          ],
          "parcoords": [
           {
            "line": {
             "colorbar": {
              "outlinewidth": 0,
              "ticks": ""
             }
            },
            "type": "parcoords"
           }
          ],
          "pie": [
           {
            "automargin": true,
            "type": "pie"
           }
          ],
          "scatter": [
           {
            "marker": {
             "colorbar": {
              "outlinewidth": 0,
              "ticks": ""
             }
            },
            "type": "scatter"
           }
          ],
          "scatter3d": [
           {
            "line": {
             "colorbar": {
              "outlinewidth": 0,
              "ticks": ""
             }
            },
            "marker": {
             "colorbar": {
              "outlinewidth": 0,
              "ticks": ""
             }
            },
            "type": "scatter3d"
           }
          ],
          "scattercarpet": [
           {
            "marker": {
             "colorbar": {
              "outlinewidth": 0,
              "ticks": ""
             }
            },
            "type": "scattercarpet"
           }
          ],
          "scattergeo": [
           {
            "marker": {
             "colorbar": {
              "outlinewidth": 0,
              "ticks": ""
             }
            },
            "type": "scattergeo"
           }
          ],
          "scattergl": [
           {
            "marker": {
             "colorbar": {
              "outlinewidth": 0,
              "ticks": ""
             }
            },
            "type": "scattergl"
           }
          ],
          "scattermapbox": [
           {
            "marker": {
             "colorbar": {
              "outlinewidth": 0,
              "ticks": ""
             }
            },
            "type": "scattermapbox"
           }
          ],
          "scatterpolar": [
           {
            "marker": {
             "colorbar": {
              "outlinewidth": 0,
              "ticks": ""
             }
            },
            "type": "scatterpolar"
           }
          ],
          "scatterpolargl": [
           {
            "marker": {
             "colorbar": {
              "outlinewidth": 0,
              "ticks": ""
             }
            },
            "type": "scatterpolargl"
           }
          ],
          "scatterternary": [
           {
            "marker": {
             "colorbar": {
              "outlinewidth": 0,
              "ticks": ""
             }
            },
            "type": "scatterternary"
           }
          ],
          "surface": [
           {
            "colorbar": {
             "outlinewidth": 0,
             "ticks": ""
            },
            "colorscale": [
             [
              0,
              "#0d0887"
             ],
             [
              0.1111111111111111,
              "#46039f"
             ],
             [
              0.2222222222222222,
              "#7201a8"
             ],
             [
              0.3333333333333333,
              "#9c179e"
             ],
             [
              0.4444444444444444,
              "#bd3786"
             ],
             [
              0.5555555555555556,
              "#d8576b"
             ],
             [
              0.6666666666666666,
              "#ed7953"
             ],
             [
              0.7777777777777778,
              "#fb9f3a"
             ],
             [
              0.8888888888888888,
              "#fdca26"
             ],
             [
              1,
              "#f0f921"
             ]
            ],
            "type": "surface"
           }
          ],
          "table": [
           {
            "cells": {
             "fill": {
              "color": "#EBF0F8"
             },
             "line": {
              "color": "white"
             }
            },
            "header": {
             "fill": {
              "color": "#C8D4E3"
             },
             "line": {
              "color": "white"
             }
            },
            "type": "table"
           }
          ]
         },
         "layout": {
          "annotationdefaults": {
           "arrowcolor": "#2a3f5f",
           "arrowhead": 0,
           "arrowwidth": 1
          },
          "coloraxis": {
           "colorbar": {
            "outlinewidth": 0,
            "ticks": ""
           }
          },
          "colorscale": {
           "diverging": [
            [
             0,
             "#8e0152"
            ],
            [
             0.1,
             "#c51b7d"
            ],
            [
             0.2,
             "#de77ae"
            ],
            [
             0.3,
             "#f1b6da"
            ],
            [
             0.4,
             "#fde0ef"
            ],
            [
             0.5,
             "#f7f7f7"
            ],
            [
             0.6,
             "#e6f5d0"
            ],
            [
             0.7,
             "#b8e186"
            ],
            [
             0.8,
             "#7fbc41"
            ],
            [
             0.9,
             "#4d9221"
            ],
            [
             1,
             "#276419"
            ]
           ],
           "sequential": [
            [
             0,
             "#0d0887"
            ],
            [
             0.1111111111111111,
             "#46039f"
            ],
            [
             0.2222222222222222,
             "#7201a8"
            ],
            [
             0.3333333333333333,
             "#9c179e"
            ],
            [
             0.4444444444444444,
             "#bd3786"
            ],
            [
             0.5555555555555556,
             "#d8576b"
            ],
            [
             0.6666666666666666,
             "#ed7953"
            ],
            [
             0.7777777777777778,
             "#fb9f3a"
            ],
            [
             0.8888888888888888,
             "#fdca26"
            ],
            [
             1,
             "#f0f921"
            ]
           ],
           "sequentialminus": [
            [
             0,
             "#0d0887"
            ],
            [
             0.1111111111111111,
             "#46039f"
            ],
            [
             0.2222222222222222,
             "#7201a8"
            ],
            [
             0.3333333333333333,
             "#9c179e"
            ],
            [
             0.4444444444444444,
             "#bd3786"
            ],
            [
             0.5555555555555556,
             "#d8576b"
            ],
            [
             0.6666666666666666,
             "#ed7953"
            ],
            [
             0.7777777777777778,
             "#fb9f3a"
            ],
            [
             0.8888888888888888,
             "#fdca26"
            ],
            [
             1,
             "#f0f921"
            ]
           ]
          },
          "colorway": [
           "#636efa",
           "#EF553B",
           "#00cc96",
           "#ab63fa",
           "#FFA15A",
           "#19d3f3",
           "#FF6692",
           "#B6E880",
           "#FF97FF",
           "#FECB52"
          ],
          "font": {
           "color": "#2a3f5f"
          },
          "geo": {
           "bgcolor": "white",
           "lakecolor": "white",
           "landcolor": "#E5ECF6",
           "showlakes": true,
           "showland": true,
           "subunitcolor": "white"
          },
          "hoverlabel": {
           "align": "left"
          },
          "hovermode": "closest",
          "mapbox": {
           "style": "light"
          },
          "paper_bgcolor": "white",
          "plot_bgcolor": "#E5ECF6",
          "polar": {
           "angularaxis": {
            "gridcolor": "white",
            "linecolor": "white",
            "ticks": ""
           },
           "bgcolor": "#E5ECF6",
           "radialaxis": {
            "gridcolor": "white",
            "linecolor": "white",
            "ticks": ""
           }
          },
          "scene": {
           "xaxis": {
            "backgroundcolor": "#E5ECF6",
            "gridcolor": "white",
            "gridwidth": 2,
            "linecolor": "white",
            "showbackground": true,
            "ticks": "",
            "zerolinecolor": "white"
           },
           "yaxis": {
            "backgroundcolor": "#E5ECF6",
            "gridcolor": "white",
            "gridwidth": 2,
            "linecolor": "white",
            "showbackground": true,
            "ticks": "",
            "zerolinecolor": "white"
           },
           "zaxis": {
            "backgroundcolor": "#E5ECF6",
            "gridcolor": "white",
            "gridwidth": 2,
            "linecolor": "white",
            "showbackground": true,
            "ticks": "",
            "zerolinecolor": "white"
           }
          },
          "shapedefaults": {
           "line": {
            "color": "#2a3f5f"
           }
          },
          "ternary": {
           "aaxis": {
            "gridcolor": "white",
            "linecolor": "white",
            "ticks": ""
           },
           "baxis": {
            "gridcolor": "white",
            "linecolor": "white",
            "ticks": ""
           },
           "bgcolor": "#E5ECF6",
           "caxis": {
            "gridcolor": "white",
            "linecolor": "white",
            "ticks": ""
           }
          },
          "title": {
           "x": 0.05
          },
          "xaxis": {
           "automargin": true,
           "gridcolor": "white",
           "linecolor": "white",
           "ticks": "",
           "title": {
            "standoff": 15
           },
           "zerolinecolor": "white",
           "zerolinewidth": 2
          },
          "yaxis": {
           "automargin": true,
           "gridcolor": "white",
           "linecolor": "white",
           "ticks": "",
           "title": {
            "standoff": 15
           },
           "zerolinecolor": "white",
           "zerolinewidth": 2
          }
         }
        }
       }
      },
      "text/html": [
       "<div>\n",
       "        \n",
       "        \n",
       "            <div id=\"dbbafb1b-d619-415d-9a76-a7ff07c60f1f\" class=\"plotly-graph-div\" style=\"height:525px; width:100%;\"></div>\n",
       "            <script type=\"text/javascript\">\n",
       "                require([\"plotly\"], function(Plotly) {\n",
       "                    window.PLOTLYENV=window.PLOTLYENV || {};\n",
       "                    \n",
       "                if (document.getElementById(\"dbbafb1b-d619-415d-9a76-a7ff07c60f1f\")) {\n",
       "                    Plotly.newPlot(\n",
       "                        'dbbafb1b-d619-415d-9a76-a7ff07c60f1f',\n",
       "                        [{\"name\": \"Harlem Renaissance\", \"type\": \"bar\", \"x\": [\"G major\", \"C major\", \"F minor\", \"C minor\", \"A-flat major\", \"B-flat minor\", \"D minor\", \"B-flat major\", \"E-flat minor\"], \"y\": [3, 3, 2, 2, 2, 2, 1, 1, 1]}, {\"name\": \"20th-century classical music\", \"type\": \"bar\", \"x\": [\"atonality\", \"D major\"], \"y\": [1, 1]}, {\"name\": \"Russian symbolism\", \"type\": \"bar\", \"x\": [\"atonality\", \"E major\", \"C minor\", \"D-sharp minor\", \"F-sharp minor\", \"G-sharp minor\", \"C-sharp minor\", \"E minor\", \"E-flat minor\", \"F minor\", \"F-sharp major\", \"A-flat major\", \"A minor\", \"C major\", \"F major\", \"B minor\"], \"y\": [4, 2, 2, 2, 2, 2, 2, 2, 2, 1, 1, 1, 1, 1, 1, 1]}, {\"name\": \"Romanticism\", \"type\": \"bar\", \"x\": [\"D minor\", \"G minor\", \"C minor\", \"E-flat major\", \"A-flat major\", \"F-sharp minor\", \"E minor\", \"A minor\", \"C-sharp minor\", \"B-flat major\", \"D major\", \"E-flat minor\", \"G-flat major\", \"G major\", \"B-flat minor\"], \"y\": [9, 4, 3, 2, 2, 2, 2, 2, 2, 1, 1, 1, 1, 1, 1]}],\n",
       "                        {\"barmode\": \"stack\", \"template\": {\"data\": {\"bar\": [{\"error_x\": {\"color\": \"#2a3f5f\"}, \"error_y\": {\"color\": \"#2a3f5f\"}, \"marker\": {\"line\": {\"color\": \"#E5ECF6\", \"width\": 0.5}}, \"type\": \"bar\"}], \"barpolar\": [{\"marker\": {\"line\": {\"color\": \"#E5ECF6\", \"width\": 0.5}}, \"type\": \"barpolar\"}], \"carpet\": [{\"aaxis\": {\"endlinecolor\": \"#2a3f5f\", \"gridcolor\": \"white\", \"linecolor\": \"white\", \"minorgridcolor\": \"white\", \"startlinecolor\": \"#2a3f5f\"}, \"baxis\": {\"endlinecolor\": \"#2a3f5f\", \"gridcolor\": \"white\", \"linecolor\": \"white\", \"minorgridcolor\": \"white\", \"startlinecolor\": \"#2a3f5f\"}, \"type\": \"carpet\"}], \"choropleth\": [{\"colorbar\": {\"outlinewidth\": 0, \"ticks\": \"\"}, \"type\": \"choropleth\"}], \"contour\": [{\"colorbar\": {\"outlinewidth\": 0, \"ticks\": \"\"}, \"colorscale\": [[0.0, \"#0d0887\"], [0.1111111111111111, \"#46039f\"], [0.2222222222222222, \"#7201a8\"], [0.3333333333333333, \"#9c179e\"], [0.4444444444444444, \"#bd3786\"], [0.5555555555555556, \"#d8576b\"], [0.6666666666666666, \"#ed7953\"], [0.7777777777777778, \"#fb9f3a\"], [0.8888888888888888, \"#fdca26\"], [1.0, \"#f0f921\"]], \"type\": \"contour\"}], \"contourcarpet\": [{\"colorbar\": {\"outlinewidth\": 0, \"ticks\": \"\"}, \"type\": \"contourcarpet\"}], \"heatmap\": [{\"colorbar\": {\"outlinewidth\": 0, \"ticks\": \"\"}, \"colorscale\": [[0.0, \"#0d0887\"], [0.1111111111111111, \"#46039f\"], [0.2222222222222222, \"#7201a8\"], [0.3333333333333333, \"#9c179e\"], [0.4444444444444444, \"#bd3786\"], [0.5555555555555556, \"#d8576b\"], [0.6666666666666666, \"#ed7953\"], [0.7777777777777778, \"#fb9f3a\"], [0.8888888888888888, \"#fdca26\"], [1.0, \"#f0f921\"]], \"type\": \"heatmap\"}], \"heatmapgl\": [{\"colorbar\": {\"outlinewidth\": 0, \"ticks\": \"\"}, \"colorscale\": [[0.0, \"#0d0887\"], [0.1111111111111111, \"#46039f\"], [0.2222222222222222, \"#7201a8\"], [0.3333333333333333, \"#9c179e\"], [0.4444444444444444, \"#bd3786\"], [0.5555555555555556, \"#d8576b\"], [0.6666666666666666, \"#ed7953\"], [0.7777777777777778, \"#fb9f3a\"], [0.8888888888888888, \"#fdca26\"], [1.0, \"#f0f921\"]], \"type\": \"heatmapgl\"}], \"histogram\": [{\"marker\": {\"colorbar\": {\"outlinewidth\": 0, \"ticks\": \"\"}}, \"type\": \"histogram\"}], \"histogram2d\": [{\"colorbar\": {\"outlinewidth\": 0, \"ticks\": \"\"}, \"colorscale\": [[0.0, \"#0d0887\"], [0.1111111111111111, \"#46039f\"], [0.2222222222222222, \"#7201a8\"], [0.3333333333333333, \"#9c179e\"], [0.4444444444444444, \"#bd3786\"], [0.5555555555555556, \"#d8576b\"], [0.6666666666666666, \"#ed7953\"], [0.7777777777777778, \"#fb9f3a\"], [0.8888888888888888, \"#fdca26\"], [1.0, \"#f0f921\"]], \"type\": \"histogram2d\"}], \"histogram2dcontour\": [{\"colorbar\": {\"outlinewidth\": 0, \"ticks\": \"\"}, \"colorscale\": [[0.0, \"#0d0887\"], [0.1111111111111111, \"#46039f\"], [0.2222222222222222, \"#7201a8\"], [0.3333333333333333, \"#9c179e\"], [0.4444444444444444, \"#bd3786\"], [0.5555555555555556, \"#d8576b\"], [0.6666666666666666, \"#ed7953\"], [0.7777777777777778, \"#fb9f3a\"], [0.8888888888888888, \"#fdca26\"], [1.0, \"#f0f921\"]], \"type\": \"histogram2dcontour\"}], \"mesh3d\": [{\"colorbar\": {\"outlinewidth\": 0, \"ticks\": \"\"}, \"type\": \"mesh3d\"}], \"parcoords\": [{\"line\": {\"colorbar\": {\"outlinewidth\": 0, \"ticks\": \"\"}}, \"type\": \"parcoords\"}], \"pie\": [{\"automargin\": true, \"type\": \"pie\"}], \"scatter\": [{\"marker\": {\"colorbar\": {\"outlinewidth\": 0, \"ticks\": \"\"}}, \"type\": \"scatter\"}], \"scatter3d\": [{\"line\": {\"colorbar\": {\"outlinewidth\": 0, \"ticks\": \"\"}}, \"marker\": {\"colorbar\": {\"outlinewidth\": 0, \"ticks\": \"\"}}, \"type\": \"scatter3d\"}], \"scattercarpet\": [{\"marker\": {\"colorbar\": {\"outlinewidth\": 0, \"ticks\": \"\"}}, \"type\": \"scattercarpet\"}], \"scattergeo\": [{\"marker\": {\"colorbar\": {\"outlinewidth\": 0, \"ticks\": \"\"}}, \"type\": \"scattergeo\"}], \"scattergl\": [{\"marker\": {\"colorbar\": {\"outlinewidth\": 0, \"ticks\": \"\"}}, \"type\": \"scattergl\"}], \"scattermapbox\": [{\"marker\": {\"colorbar\": {\"outlinewidth\": 0, \"ticks\": \"\"}}, \"type\": \"scattermapbox\"}], \"scatterpolar\": [{\"marker\": {\"colorbar\": {\"outlinewidth\": 0, \"ticks\": \"\"}}, \"type\": \"scatterpolar\"}], \"scatterpolargl\": [{\"marker\": {\"colorbar\": {\"outlinewidth\": 0, \"ticks\": \"\"}}, \"type\": \"scatterpolargl\"}], \"scatterternary\": [{\"marker\": {\"colorbar\": {\"outlinewidth\": 0, \"ticks\": \"\"}}, \"type\": \"scatterternary\"}], \"surface\": [{\"colorbar\": {\"outlinewidth\": 0, \"ticks\": \"\"}, \"colorscale\": [[0.0, \"#0d0887\"], [0.1111111111111111, \"#46039f\"], [0.2222222222222222, \"#7201a8\"], [0.3333333333333333, \"#9c179e\"], [0.4444444444444444, \"#bd3786\"], [0.5555555555555556, \"#d8576b\"], [0.6666666666666666, \"#ed7953\"], [0.7777777777777778, \"#fb9f3a\"], [0.8888888888888888, \"#fdca26\"], [1.0, \"#f0f921\"]], \"type\": \"surface\"}], \"table\": [{\"cells\": {\"fill\": {\"color\": \"#EBF0F8\"}, \"line\": {\"color\": \"white\"}}, \"header\": {\"fill\": {\"color\": \"#C8D4E3\"}, \"line\": {\"color\": \"white\"}}, \"type\": \"table\"}]}, \"layout\": {\"annotationdefaults\": {\"arrowcolor\": \"#2a3f5f\", \"arrowhead\": 0, \"arrowwidth\": 1}, \"coloraxis\": {\"colorbar\": {\"outlinewidth\": 0, \"ticks\": \"\"}}, \"colorscale\": {\"diverging\": [[0, \"#8e0152\"], [0.1, \"#c51b7d\"], [0.2, \"#de77ae\"], [0.3, \"#f1b6da\"], [0.4, \"#fde0ef\"], [0.5, \"#f7f7f7\"], [0.6, \"#e6f5d0\"], [0.7, \"#b8e186\"], [0.8, \"#7fbc41\"], [0.9, \"#4d9221\"], [1, \"#276419\"]], \"sequential\": [[0.0, \"#0d0887\"], [0.1111111111111111, \"#46039f\"], [0.2222222222222222, \"#7201a8\"], [0.3333333333333333, \"#9c179e\"], [0.4444444444444444, \"#bd3786\"], [0.5555555555555556, \"#d8576b\"], [0.6666666666666666, \"#ed7953\"], [0.7777777777777778, \"#fb9f3a\"], [0.8888888888888888, \"#fdca26\"], [1.0, \"#f0f921\"]], \"sequentialminus\": [[0.0, \"#0d0887\"], [0.1111111111111111, \"#46039f\"], [0.2222222222222222, \"#7201a8\"], [0.3333333333333333, \"#9c179e\"], [0.4444444444444444, \"#bd3786\"], [0.5555555555555556, \"#d8576b\"], [0.6666666666666666, \"#ed7953\"], [0.7777777777777778, \"#fb9f3a\"], [0.8888888888888888, \"#fdca26\"], [1.0, \"#f0f921\"]]}, \"colorway\": [\"#636efa\", \"#EF553B\", \"#00cc96\", \"#ab63fa\", \"#FFA15A\", \"#19d3f3\", \"#FF6692\", \"#B6E880\", \"#FF97FF\", \"#FECB52\"], \"font\": {\"color\": \"#2a3f5f\"}, \"geo\": {\"bgcolor\": \"white\", \"lakecolor\": \"white\", \"landcolor\": \"#E5ECF6\", \"showlakes\": true, \"showland\": true, \"subunitcolor\": \"white\"}, \"hoverlabel\": {\"align\": \"left\"}, \"hovermode\": \"closest\", \"mapbox\": {\"style\": \"light\"}, \"paper_bgcolor\": \"white\", \"plot_bgcolor\": \"#E5ECF6\", \"polar\": {\"angularaxis\": {\"gridcolor\": \"white\", \"linecolor\": \"white\", \"ticks\": \"\"}, \"bgcolor\": \"#E5ECF6\", \"radialaxis\": {\"gridcolor\": \"white\", \"linecolor\": \"white\", \"ticks\": \"\"}}, \"scene\": {\"xaxis\": {\"backgroundcolor\": \"#E5ECF6\", \"gridcolor\": \"white\", \"gridwidth\": 2, \"linecolor\": \"white\", \"showbackground\": true, \"ticks\": \"\", \"zerolinecolor\": \"white\"}, \"yaxis\": {\"backgroundcolor\": \"#E5ECF6\", \"gridcolor\": \"white\", \"gridwidth\": 2, \"linecolor\": \"white\", \"showbackground\": true, \"ticks\": \"\", \"zerolinecolor\": \"white\"}, \"zaxis\": {\"backgroundcolor\": \"#E5ECF6\", \"gridcolor\": \"white\", \"gridwidth\": 2, \"linecolor\": \"white\", \"showbackground\": true, \"ticks\": \"\", \"zerolinecolor\": \"white\"}}, \"shapedefaults\": {\"line\": {\"color\": \"#2a3f5f\"}}, \"ternary\": {\"aaxis\": {\"gridcolor\": \"white\", \"linecolor\": \"white\", \"ticks\": \"\"}, \"baxis\": {\"gridcolor\": \"white\", \"linecolor\": \"white\", \"ticks\": \"\"}, \"bgcolor\": \"#E5ECF6\", \"caxis\": {\"gridcolor\": \"white\", \"linecolor\": \"white\", \"ticks\": \"\"}}, \"title\": {\"x\": 0.05}, \"xaxis\": {\"automargin\": true, \"gridcolor\": \"white\", \"linecolor\": \"white\", \"ticks\": \"\", \"title\": {\"standoff\": 15}, \"zerolinecolor\": \"white\", \"zerolinewidth\": 2}, \"yaxis\": {\"automargin\": true, \"gridcolor\": \"white\", \"linecolor\": \"white\", \"ticks\": \"\", \"title\": {\"standoff\": 15}, \"zerolinecolor\": \"white\", \"zerolinewidth\": 2}}}},\n",
       "                        {\"responsive\": true}\n",
       "                    ).then(function(){\n",
       "                            \n",
       "var gd = document.getElementById('dbbafb1b-d619-415d-9a76-a7ff07c60f1f');\n",
       "var x = new MutationObserver(function (mutations, observer) {{\n",
       "        var display = window.getComputedStyle(gd).display;\n",
       "        if (!display || display === 'none') {{\n",
       "            console.log([gd, 'removed!']);\n",
       "            Plotly.purge(gd);\n",
       "            observer.disconnect();\n",
       "        }}\n",
       "}});\n",
       "\n",
       "// Listen for the removal of the full notebook cells\n",
       "var notebookContainer = gd.closest('#notebook-container');\n",
       "if (notebookContainer) {{\n",
       "    x.observe(notebookContainer, {childList: true});\n",
       "}}\n",
       "\n",
       "// Listen for the clearing of the current output cell\n",
       "var outputEl = gd.closest('.output');\n",
       "if (outputEl) {{\n",
       "    x.observe(outputEl, {childList: true});\n",
       "}}\n",
       "\n",
       "                        })\n",
       "                };\n",
       "                });\n",
       "            </script>\n",
       "        </div>"
      ]
     },
     "metadata": {},
     "output_type": "display_data"
    }
   ],
   "source": [
    "plotly()"
   ]
  },
  {
   "cell_type": "markdown",
   "metadata": {},
   "source": [
    "In this example four separate queries are used to generate a count of entities that are an `instance of` (property P31) 4 types of academic journal.  This same information could have been requested in a single SPARQL query using `GROUP BY` clause but Wikidata has become so large (now ~90M entities) that queries of that kind will often time out before completing.  More targeted queries are sometimes required to work around these timeouts. \n",
    "\n",
    "\n"
   ]
  },
  {
   "cell_type": "markdown",
   "metadata": {},
   "source": [
    "# Map of Languages in the Contiguous United States"
   ]
  },
  {
   "cell_type": "code",
   "execution_count": 87,
   "metadata": {},
   "outputs": [],
   "source": [
    "mapdata = {\n",
    "    'lat': [],\n",
    "    'lon':[],\n",
    "    'text':[],\n",
    "    'count_size':[],\n",
    "    'count_color':[],\n",
    "}"
   ]
  },
  {
   "cell_type": "code",
   "execution_count": 88,
   "metadata": {},
   "outputs": [],
   "source": [
    "def languages_query():\n",
    "    print('\\nLanguages in the Contiguous United States:')\n",
    "    print('querying...')\n",
    "    \n",
    "    query = '''\n",
    "        SELECT ?language ?languageLabel ?coordinates ?statecount\n",
    "\n",
    "        WHERE {\n",
    "          ?language wdt:P625 ?coordinates . #get coordinates of language\n",
    "\n",
    "          #subquery\n",
    "          { SELECT ?language (COUNT(?state) as ?statecount)\n",
    "                   WHERE {\n",
    "                      ?language wdt:P31 wd:Q34770 . #find languages\n",
    "                      ?language wdt:P2341 ?state . #that are indigenous to a state\n",
    "                      ?state wdt:P361 wd:Q578170 . #a state that is a part of the contiguous united states\n",
    "                     }\n",
    "\n",
    "            GROUP BY ?language\n",
    "          }\n",
    "          #end of subquery\n",
    "\n",
    "          SERVICE wikibase:label { bd:serviceParam wikibase:language \"en\". }\n",
    "\n",
    "          }\n",
    "    '''\n",
    "    \n",
    "    results = do_query(query)['results']['bindings']\n",
    "    \n",
    "    for lang in results:\n",
    "        #append coordinates\n",
    "        coord = lang['coordinates']['value'][6:-1]\n",
    "        lon_coord, lat_coord = coord.split()\n",
    "        \n",
    "        mapdata['lat'].append(lat_coord)\n",
    "        mapdata['lon'].append(lon_coord)\n",
    "        \n",
    "        #append text (language label)\n",
    "        text = lang['languageLabel']['value']\n",
    "        mapdata['text'].append(text)\n",
    "        \n",
    "        #append count\n",
    "        count = int(lang['statecount']['value'])\n",
    "        mapdata['count_size'].append(count+6)\n",
    "        mapdata['count_color'].append(count*200)\n",
    "\n",
    "    print('...done')\n",
    "    print('\\nMapdata results:')\n",
    "    print(mapdata)\n"
   ]
  },
  {
   "cell_type": "code",
   "execution_count": 89,
   "metadata": {},
   "outputs": [
    {
     "name": "stdout",
     "output_type": "stream",
     "text": [
      "\n",
      "Languages in the contiguous United States:\n",
      "\n",
      "Query results:\n",
      "[{'language': {'type': 'uri', 'value': 'http://www.wikidata.org/entity/Q56749'}, 'coordinates': {'datatype': 'http://www.opengis.net/ont/geosparql#wktLiteral', 'type': 'literal', 'value': 'Point(-85.0 44.5)'}, 'statecount': {'datatype': 'http://www.w3.org/2001/XMLSchema#integer', 'type': 'literal', 'value': '4'}, 'languageLabel': {'xml:lang': 'en', 'type': 'literal', 'value': 'Potawatomi'}}, {'language': {'type': 'uri', 'value': 'http://www.wikidata.org/entity/Q12714767'}, 'coordinates': {'datatype': 'http://www.opengis.net/ont/geosparql#wktLiteral', 'type': 'literal', 'value': 'Point(-83.0 43.0)'}, 'statecount': {'datatype': 'http://www.w3.org/2001/XMLSchema#integer', 'type': 'literal', 'value': '4'}, 'languageLabel': {'xml:lang': 'en', 'type': 'literal', 'value': 'Mesquakie language'}}, {'language': {'type': 'uri', 'value': 'http://www.wikidata.org/entity/Q1185119'}, 'coordinates': {'datatype': 'http://www.opengis.net/ont/geosparql#wktLiteral', 'type': 'literal', 'value': 'Point(-77.5 44.333333333)'}, 'statecount': {'datatype': 'http://www.w3.org/2001/XMLSchema#integer', 'type': 'literal', 'value': '1'}, 'languageLabel': {'xml:lang': 'en', 'type': 'literal', 'value': 'Wyandot'}}, {'language': {'type': 'uri', 'value': 'http://www.wikidata.org/entity/Q13339'}, 'coordinates': {'datatype': 'http://www.opengis.net/ont/geosparql#wktLiteral', 'type': 'literal', 'value': 'Point(-74.25 43.5)'}, 'statecount': {'datatype': 'http://www.w3.org/2001/XMLSchema#integer', 'type': 'literal', 'value': '1'}, 'languageLabel': {'xml:lang': 'en', 'type': 'literal', 'value': 'Mohawk'}}, {'language': {'type': 'uri', 'value': 'http://www.wikidata.org/entity/Q13315'}, 'coordinates': {'datatype': 'http://www.opengis.net/ont/geosparql#wktLiteral', 'type': 'literal', 'value': 'Point(-100.166666667 52.0)'}, 'statecount': {'datatype': 'http://www.w3.org/2001/XMLSchema#integer', 'type': 'literal', 'value': '1'}, 'languageLabel': {'xml:lang': 'en', 'type': 'literal', 'value': 'Michif'}}, {'language': {'type': 'uri', 'value': 'http://www.wikidata.org/entity/Q3183144'}, 'coordinates': {'datatype': 'http://www.opengis.net/ont/geosparql#wktLiteral', 'type': 'literal', 'value': 'Point(-67.0 45.0)'}, 'statecount': {'datatype': 'http://www.w3.org/2001/XMLSchema#integer', 'type': 'literal', 'value': '1'}, 'languageLabel': {'xml:lang': 'en', 'type': 'literal', 'value': 'Malecite-Passamaquoddy'}}, {'language': {'type': 'uri', 'value': 'http://www.wikidata.org/entity/Q35602'}, 'coordinates': {'datatype': 'http://www.opengis.net/ont/geosparql#wktLiteral', 'type': 'literal', 'value': 'Point(-158.0 21.5)'}, 'statecount': {'datatype': 'http://www.w3.org/2001/XMLSchema#integer', 'type': 'literal', 'value': '2'}, 'languageLabel': {'xml:lang': 'en', 'type': 'literal', 'value': 'Hawaiian Pidgin'}}, {'language': {'type': 'uri', 'value': 'http://www.wikidata.org/entity/Q21058'}, 'coordinates': {'datatype': 'http://www.opengis.net/ont/geosparql#wktLiteral', 'type': 'literal', 'value': 'Point(-145.0 62.0)'}, 'statecount': {'datatype': 'http://www.w3.org/2001/XMLSchema#integer', 'type': 'literal', 'value': '1'}, 'languageLabel': {'xml:lang': 'en', 'type': 'literal', 'value': 'Ahtna'}}, {'language': {'type': 'uri', 'value': 'http://www.wikidata.org/entity/Q3027471'}, 'coordinates': {'datatype': 'http://www.opengis.net/ont/geosparql#wktLiteral', 'type': 'literal', 'value': 'Point(-116.5 32.166666666)'}, 'statecount': {'datatype': 'http://www.w3.org/2001/XMLSchema#integer', 'type': 'literal', 'value': '1'}, 'languageLabel': {'xml:lang': 'en', 'type': 'literal', 'value': 'Tipai'}}, {'language': {'type': 'uri', 'value': 'http://www.wikidata.org/entity/Q3027471'}, 'coordinates': {'datatype': 'http://www.opengis.net/ont/geosparql#wktLiteral', 'type': 'literal', 'value': 'Point(-116.166666667 32.666666666)'}, 'statecount': {'datatype': 'http://www.w3.org/2001/XMLSchema#integer', 'type': 'literal', 'value': '1'}, 'languageLabel': {'xml:lang': 'en', 'type': 'literal', 'value': 'Tipai'}}, {'language': {'type': 'uri', 'value': 'http://www.wikidata.org/entity/Q143130'}, 'coordinates': {'datatype': 'http://www.opengis.net/ont/geosparql#wktLiteral', 'type': 'literal', 'value': 'Point(-116.5 33.166666666)'}, 'statecount': {'datatype': 'http://www.w3.org/2001/XMLSchema#integer', 'type': 'literal', 'value': '1'}, 'languageLabel': {'xml:lang': 'en', 'type': 'literal', 'value': 'Cupeño'}}, {'language': {'type': 'uri', 'value': 'http://www.wikidata.org/entity/Q56236'}, 'coordinates': {'datatype': 'http://www.opengis.net/ont/geosparql#wktLiteral', 'type': 'literal', 'value': 'Point(-117.166666667 33.333333333)'}, 'statecount': {'datatype': 'http://www.w3.org/2001/XMLSchema#integer', 'type': 'literal', 'value': '1'}, 'languageLabel': {'xml:lang': 'en', 'type': 'literal', 'value': 'Luiseño language'}}, {'language': {'type': 'uri', 'value': 'http://www.wikidata.org/entity/Q56438'}, 'coordinates': {'datatype': 'http://www.opengis.net/ont/geosparql#wktLiteral', 'type': 'literal', 'value': 'Point(-116.25 33.5)'}, 'statecount': {'datatype': 'http://www.w3.org/2001/XMLSchema#integer', 'type': 'literal', 'value': '1'}, 'languageLabel': {'xml:lang': 'en', 'type': 'literal', 'value': 'Cahuilla'}}, {'language': {'type': 'uri', 'value': 'http://www.wikidata.org/entity/Q2393095'}, 'coordinates': {'datatype': 'http://www.opengis.net/ont/geosparql#wktLiteral', 'type': 'literal', 'value': 'Point(-112.5 31.0)'}, 'statecount': {'datatype': 'http://www.w3.org/2001/XMLSchema#integer', 'type': 'literal', 'value': '1'}, 'languageLabel': {'xml:lang': 'en', 'type': 'literal', 'value': \"O'odham\"}}, {'language': {'type': 'uri', 'value': 'http://www.wikidata.org/entity/Q2393095'}, 'coordinates': {'datatype': 'http://www.opengis.net/ont/geosparql#wktLiteral', 'type': 'literal', 'value': 'Point(-112.0 32.0)'}, 'statecount': {'datatype': 'http://www.w3.org/2001/XMLSchema#integer', 'type': 'literal', 'value': '1'}, 'languageLabel': {'xml:lang': 'en', 'type': 'literal', 'value': \"O'odham\"}}, {'language': {'type': 'uri', 'value': 'http://www.wikidata.org/entity/Q33044'}, 'coordinates': {'datatype': 'http://www.opengis.net/ont/geosparql#wktLiteral', 'type': 'literal', 'value': 'Point(-115.0 32.333333333)'}, 'statecount': {'datatype': 'http://www.w3.org/2001/XMLSchema#integer', 'type': 'literal', 'value': '2'}, 'languageLabel': {'xml:lang': 'en', 'type': 'literal', 'value': 'Cocopah'}}, {'language': {'type': 'uri', 'value': 'http://www.wikidata.org/entity/Q3573199'}, 'coordinates': {'datatype': 'http://www.opengis.net/ont/geosparql#wktLiteral', 'type': 'literal', 'value': 'Point(-114.333333333 32.833333333)'}, 'statecount': {'datatype': 'http://www.w3.org/2001/XMLSchema#integer', 'type': 'literal', 'value': '1'}, 'languageLabel': {'xml:lang': 'en', 'type': 'literal', 'value': 'Quechan'}}, {'language': {'type': 'uri', 'value': 'http://www.wikidata.org/entity/Q13260'}, 'coordinates': {'datatype': 'http://www.opengis.net/ont/geosparql#wktLiteral', 'type': 'literal', 'value': 'Point(-115.166666667 34.333333333)'}, 'statecount': {'datatype': 'http://www.w3.org/2001/XMLSchema#integer', 'type': 'literal', 'value': '6'}, 'languageLabel': {'xml:lang': 'en', 'type': 'literal', 'value': 'Colorado River Numic language'}}, {'language': {'type': 'uri', 'value': 'http://www.wikidata.org/entity/Q56386'}, 'coordinates': {'datatype': 'http://www.opengis.net/ont/geosparql#wktLiteral', 'type': 'literal', 'value': 'Point(-113.166666667 33.166666666)'}, 'statecount': {'datatype': 'http://www.w3.org/2001/XMLSchema#integer', 'type': 'literal', 'value': '1'}, 'languageLabel': {'xml:lang': 'en', 'type': 'literal', 'value': 'Maricopa'}}, {'language': {'type': 'uri', 'value': 'http://www.wikidata.org/entity/Q3565286'}, 'coordinates': {'datatype': 'http://www.opengis.net/ont/geosparql#wktLiteral', 'type': 'literal', 'value': 'Point(-113.333333333 34.0)'}, 'statecount': {'datatype': 'http://www.w3.org/2001/XMLSchema#integer', 'type': 'literal', 'value': '1'}, 'languageLabel': {'xml:lang': 'en', 'type': 'literal', 'value': 'Havasupai–Hualapai language'}}, {'language': {'type': 'uri', 'value': 'http://www.wikidata.org/entity/Q28060'}, 'coordinates': {'datatype': 'http://www.opengis.net/ont/geosparql#wktLiteral', 'type': 'literal', 'value': 'Point(-110.0 33.75)'}, 'statecount': {'datatype': 'http://www.w3.org/2001/XMLSchema#integer', 'type': 'literal', 'value': '1'}, 'languageLabel': {'xml:lang': 'en', 'type': 'literal', 'value': 'Western Apache'}}, {'language': {'type': 'uri', 'value': 'http://www.wikidata.org/entity/Q13368'}, 'coordinates': {'datatype': 'http://www.opengis.net/ont/geosparql#wktLiteral', 'type': 'literal', 'value': 'Point(-108.0 33.25)'}, 'statecount': {'datatype': 'http://www.w3.org/2001/XMLSchema#integer', 'type': 'literal', 'value': '2'}, 'languageLabel': {'xml:lang': 'en', 'type': 'literal', 'value': 'Mescalero-Chiricahua'}}, {'language': {'type': 'uri', 'value': 'http://www.wikidata.org/entity/Q32972'}, 'coordinates': {'datatype': 'http://www.opengis.net/ont/geosparql#wktLiteral', 'type': 'literal', 'value': 'Point(-101.5 33.5)'}, 'statecount': {'datatype': 'http://www.w3.org/2001/XMLSchema#integer', 'type': 'literal', 'value': '1'}, 'languageLabel': {'xml:lang': 'en', 'type': 'literal', 'value': 'Comanche'}}, {'language': {'type': 'uri', 'value': 'http://www.wikidata.org/entity/Q2454881'}, 'coordinates': {'datatype': 'http://www.opengis.net/ont/geosparql#wktLiteral', 'type': 'literal', 'value': 'Point(-96.75 30.25)'}, 'statecount': {'datatype': 'http://www.w3.org/2001/XMLSchema#integer', 'type': 'literal', 'value': '1'}, 'languageLabel': {'xml:lang': 'en', 'type': 'literal', 'value': 'Tonkawa'}}, {'language': {'type': 'uri', 'value': 'http://www.wikidata.org/entity/Q56627'}, 'coordinates': {'datatype': 'http://www.opengis.net/ont/geosparql#wktLiteral', 'type': 'literal', 'value': 'Point(-96.5 31.833333333)'}, 'statecount': {'datatype': 'http://www.w3.org/2001/XMLSchema#integer', 'type': 'literal', 'value': '1'}, 'languageLabel': {'xml:lang': 'en', 'type': 'literal', 'value': 'Kitsai'}}, {'language': {'type': 'uri', 'value': 'http://www.wikidata.org/entity/Q56513'}, 'coordinates': {'datatype': 'http://www.opengis.net/ont/geosparql#wktLiteral', 'type': 'literal', 'value': 'Point(-97.333333333 33.333333333)'}, 'statecount': {'datatype': 'http://www.w3.org/2001/XMLSchema#integer', 'type': 'literal', 'value': '1'}, 'languageLabel': {'xml:lang': 'en', 'type': 'literal', 'value': 'Wichita'}}, {'language': {'type': 'uri', 'value': 'http://www.wikidata.org/entity/Q1294227'}, 'coordinates': {'datatype': 'http://www.opengis.net/ont/geosparql#wktLiteral', 'type': 'literal', 'value': 'Point(-91.0 29.666666666)'}, 'statecount': {'datatype': 'http://www.w3.org/2001/XMLSchema#integer', 'type': 'literal', 'value': '1'}, 'languageLabel': {'xml:lang': 'en', 'type': 'literal', 'value': 'Chitimacha'}}, {'language': {'type': 'uri', 'value': 'http://www.wikidata.org/entity/Q3111838'}, 'coordinates': {'datatype': 'http://www.opengis.net/ont/geosparql#wktLiteral', 'type': 'literal', 'value': 'Point(-91.333333333 31.75)'}, 'statecount': {'datatype': 'http://www.w3.org/2001/XMLSchema#integer', 'type': 'literal', 'value': '3'}, 'languageLabel': {'xml:lang': 'en', 'type': 'literal', 'value': 'Natchez'}}, {'language': {'type': 'uri', 'value': 'http://www.wikidata.org/entity/Q56756'}, 'coordinates': {'datatype': 'http://www.opengis.net/ont/geosparql#wktLiteral', 'type': 'literal', 'value': 'Point(-93.5 33.333333333)'}, 'statecount': {'datatype': 'http://www.w3.org/2001/XMLSchema#integer', 'type': 'literal', 'value': '1'}, 'languageLabel': {'xml:lang': 'en', 'type': 'literal', 'value': 'Caddo'}}, {'language': {'type': 'uri', 'value': 'http://www.wikidata.org/entity/Q56619'}, 'coordinates': {'datatype': 'http://www.opengis.net/ont/geosparql#wktLiteral', 'type': 'literal', 'value': 'Point(-91.0 32.666666666)'}, 'statecount': {'datatype': 'http://www.w3.org/2001/XMLSchema#integer', 'type': 'literal', 'value': '1'}, 'languageLabel': {'xml:lang': 'en', 'type': 'literal', 'value': 'Tunica'}}, {'language': {'type': 'uri', 'value': 'http://www.wikidata.org/entity/Q32979'}, 'coordinates': {'datatype': 'http://www.opengis.net/ont/geosparql#wktLiteral', 'type': 'literal', 'value': 'Point(-88.5 32.25)'}, 'statecount': {'datatype': 'http://www.w3.org/2001/XMLSchema#integer', 'type': 'literal', 'value': '3'}, 'languageLabel': {'xml:lang': 'en', 'type': 'literal', 'value': 'Choctaw'}}, {'language': {'type': 'uri', 'value': 'http://www.wikidata.org/entity/Q1815020'}, 'coordinates': {'datatype': 'http://www.opengis.net/ont/geosparql#wktLiteral', 'type': 'literal', 'value': 'Point(-87.416666666 32.333333333)'}, 'statecount': {'datatype': 'http://www.w3.org/2001/XMLSchema#integer', 'type': 'literal', 'value': '2'}, 'languageLabel': {'xml:lang': 'en', 'type': 'literal', 'value': 'Alabama'}}, {'language': {'type': 'uri', 'value': 'http://www.wikidata.org/entity/Q33192'}, 'coordinates': {'datatype': 'http://www.opengis.net/ont/geosparql#wktLiteral', 'type': 'literal', 'value': 'Point(-88.0 34.0)'}, 'statecount': {'datatype': 'http://www.w3.org/2001/XMLSchema#integer', 'type': 'literal', 'value': '2'}, 'languageLabel': {'xml:lang': 'en', 'type': 'literal', 'value': 'Chickasaw'}}, {'language': {'type': 'uri', 'value': 'http://www.wikidata.org/entity/Q13316'}, 'coordinates': {'datatype': 'http://www.opengis.net/ont/geosparql#wktLiteral', 'type': 'literal', 'value': 'Point(-85.0 32.0)'}, 'statecount': {'datatype': 'http://www.w3.org/2001/XMLSchema#integer', 'type': 'literal', 'value': '1'}, 'languageLabel': {'xml:lang': 'en', 'type': 'literal', 'value': 'Mikasuki'}}, {'language': {'type': 'uri', 'value': 'http://www.wikidata.org/entity/Q523014'}, 'coordinates': {'datatype': 'http://www.opengis.net/ont/geosparql#wktLiteral', 'type': 'literal', 'value': 'Point(-84.0 33.0)'}, 'statecount': {'datatype': 'http://www.w3.org/2001/XMLSchema#integer', 'type': 'literal', 'value': '2'}, 'languageLabel': {'xml:lang': 'en', 'type': 'literal', 'value': 'Muscogee'}}, {'language': {'type': 'uri', 'value': 'http://www.wikidata.org/entity/Q523014'}, 'coordinates': {'datatype': 'http://www.opengis.net/ont/geosparql#wktLiteral', 'type': 'literal', 'value': 'Point(-85.0 34.0)'}, 'statecount': {'datatype': 'http://www.w3.org/2001/XMLSchema#integer', 'type': 'literal', 'value': '2'}, 'languageLabel': {'xml:lang': 'en', 'type': 'literal', 'value': 'Muscogee'}}, {'language': {'type': 'uri', 'value': 'http://www.wikidata.org/entity/Q1294243'}, 'coordinates': {'datatype': 'http://www.opengis.net/ont/geosparql#wktLiteral', 'type': 'literal', 'value': 'Point(-121.75 36.25)'}, 'statecount': {'datatype': 'http://www.w3.org/2001/XMLSchema#integer', 'type': 'literal', 'value': '1'}, 'languageLabel': {'xml:lang': 'en', 'type': 'literal', 'value': 'Esselen'}}, {'language': {'type': 'uri', 'value': 'http://www.wikidata.org/entity/Q1568938'}, 'coordinates': {'datatype': 'http://www.opengis.net/ont/geosparql#wktLiteral', 'type': 'literal', 'value': 'Point(-121.0 36.0)'}, 'statecount': {'datatype': 'http://www.w3.org/2001/XMLSchema#integer', 'type': 'literal', 'value': '1'}, 'languageLabel': {'xml:lang': 'en', 'type': 'literal', 'value': 'Salinan'}}, {'language': {'type': 'uri', 'value': 'http://www.wikidata.org/entity/Q2981109'}, 'coordinates': {'datatype': 'http://www.opengis.net/ont/geosparql#wktLiteral', 'type': 'literal', 'value': 'Point(-123.0 38.333333333)'}, 'statecount': {'datatype': 'http://www.w3.org/2001/XMLSchema#integer', 'type': 'literal', 'value': '1'}, 'languageLabel': {'xml:lang': 'en', 'type': 'literal', 'value': 'Coast Miwok'}}, {'language': {'type': 'uri', 'value': 'http://www.wikidata.org/entity/Q56530'}, 'coordinates': {'datatype': 'http://www.opengis.net/ont/geosparql#wktLiteral', 'type': 'literal', 'value': 'Point(-122.5 38.5)'}, 'statecount': {'datatype': 'http://www.w3.org/2001/XMLSchema#integer', 'type': 'literal', 'value': '1'}, 'languageLabel': {'xml:lang': 'en', 'type': 'literal', 'value': 'Wappo'}}, {'language': {'type': 'uri', 'value': 'http://www.wikidata.org/entity/Q25559664'}, 'coordinates': {'datatype': 'http://www.opengis.net/ont/geosparql#wktLiteral', 'type': 'literal', 'value': 'Point(-121.75 36.833333333)'}, 'statecount': {'datatype': 'http://www.w3.org/2001/XMLSchema#integer', 'type': 'literal', 'value': '1'}, 'languageLabel': {'xml:lang': 'en', 'type': 'literal', 'value': 'Southern Ohlone'}}, {'language': {'type': 'uri', 'value': 'http://www.wikidata.org/entity/Q25559664'}, 'coordinates': {'datatype': 'http://www.opengis.net/ont/geosparql#wktLiteral', 'type': 'literal', 'value': 'Point(-121.5 36.833333333)'}, 'statecount': {'datatype': 'http://www.w3.org/2001/XMLSchema#integer', 'type': 'literal', 'value': '1'}, 'languageLabel': {'xml:lang': 'en', 'type': 'literal', 'value': 'Southern Ohlone'}}, {'language': {'type': 'uri', 'value': 'http://www.wikidata.org/entity/Q3391031'}, 'coordinates': {'datatype': 'http://www.opengis.net/ont/geosparql#wktLiteral', 'type': 'literal', 'value': 'Point(-121.0 38.0)'}, 'statecount': {'datatype': 'http://www.w3.org/2001/XMLSchema#integer', 'type': 'literal', 'value': '1'}, 'languageLabel': {'xml:lang': 'en', 'type': 'literal', 'value': 'Plains Miwok'}}, {'language': {'type': 'uri', 'value': 'http://www.wikidata.org/entity/Q2944443'}, 'coordinates': {'datatype': 'http://www.opengis.net/ont/geosparql#wktLiteral', 'type': 'literal', 'value': 'Point(-120.333333333 38.0)'}, 'statecount': {'datatype': 'http://www.w3.org/2001/XMLSchema#integer', 'type': 'literal', 'value': '1'}, 'languageLabel': {'xml:lang': 'en', 'type': 'literal', 'value': 'Central Sierra Miwok'}}, {'language': {'type': 'uri', 'value': 'http://www.wikidata.org/entity/Q3344226'}, 'coordinates': {'datatype': 'http://www.opengis.net/ont/geosparql#wktLiteral', 'type': 'literal', 'value': 'Point(-120.666666667 38.333333333)'}, 'statecount': {'datatype': 'http://www.w3.org/2001/XMLSchema#integer', 'type': 'literal', 'value': '1'}, 'languageLabel': {'xml:lang': 'en', 'type': 'literal', 'value': 'Northern Sierra Miwok'}}, {'language': {'type': 'uri', 'value': 'http://www.wikidata.org/entity/Q3396021'}, 'coordinates': {'datatype': 'http://www.opengis.net/ont/geosparql#wktLiteral', 'type': 'literal', 'value': 'Point(-123.5 39.333333333)'}, 'statecount': {'datatype': 'http://www.w3.org/2001/XMLSchema#integer', 'type': 'literal', 'value': '1'}, 'languageLabel': {'xml:lang': 'en', 'type': 'literal', 'value': 'Northern Pomo'}}, {'language': {'type': 'uri', 'value': 'http://www.wikidata.org/entity/Q3193689'}, 'coordinates': {'datatype': 'http://www.opengis.net/ont/geosparql#wktLiteral', 'type': 'literal', 'value': 'Point(-123.333333333 38.666666666)'}, 'statecount': {'datatype': 'http://www.w3.org/2001/XMLSchema#integer', 'type': 'literal', 'value': '1'}, 'languageLabel': {'xml:lang': 'en', 'type': 'literal', 'value': 'Kashaya'}}, {'language': {'type': 'uri', 'value': 'http://www.wikidata.org/entity/Q36993'}, 'coordinates': {'datatype': 'http://www.opengis.net/ont/geosparql#wktLiteral', 'type': 'literal', 'value': 'Point(-123.5 39.666666666)'}, 'statecount': {'datatype': 'http://www.w3.org/2001/XMLSchema#integer', 'type': 'literal', 'value': '1'}, 'languageLabel': {'xml:lang': 'en', 'type': 'literal', 'value': 'Yuki'}}, {'language': {'type': 'uri', 'value': 'http://www.wikidata.org/entity/Q3396020'}, 'coordinates': {'datatype': 'http://www.opengis.net/ont/geosparql#wktLiteral', 'type': 'literal', 'value': 'Point(-123.333333333 39.0)'}, 'statecount': {'datatype': 'http://www.w3.org/2001/XMLSchema#integer', 'type': 'literal', 'value': '1'}, 'languageLabel': {'xml:lang': 'en', 'type': 'literal', 'value': 'Central Pomo'}}, {'language': {'type': 'uri', 'value': 'http://www.wikidata.org/entity/Q3396025'}, 'coordinates': {'datatype': 'http://www.opengis.net/ont/geosparql#wktLiteral', 'type': 'literal', 'value': 'Point(-122.5 39.0)'}, 'statecount': {'datatype': 'http://www.w3.org/2001/XMLSchema#integer', 'type': 'literal', 'value': '1'}, 'languageLabel': {'xml:lang': 'en', 'type': 'literal', 'value': 'Southeastern Pomo'}}, {'language': {'type': 'uri', 'value': 'http://www.wikidata.org/entity/Q3396032'}, 'coordinates': {'datatype': 'http://www.opengis.net/ont/geosparql#wktLiteral', 'type': 'literal', 'value': 'Point(-122.666666667 39.0)'}, 'statecount': {'datatype': 'http://www.w3.org/2001/XMLSchema#integer', 'type': 'literal', 'value': '1'}, 'languageLabel': {'xml:lang': 'en', 'type': 'literal', 'value': 'Eastern Pomo'}}, {'language': {'type': 'uri', 'value': 'http://www.wikidata.org/entity/Q20824'}, 'coordinates': {'datatype': 'http://www.opengis.net/ont/geosparql#wktLiteral', 'type': 'literal', 'value': 'Point(-124.166666667 40.166666666)'}, 'statecount': {'datatype': 'http://www.w3.org/2001/XMLSchema#integer', 'type': 'literal', 'value': '1'}, 'languageLabel': {'xml:lang': 'en', 'type': 'literal', 'value': 'Mattole'}}, {'language': {'type': 'uri', 'value': 'http://www.wikidata.org/entity/Q3198700'}, 'coordinates': {'datatype': 'http://www.opengis.net/ont/geosparql#wktLiteral', 'type': 'literal', 'value': 'Point(-121.5 39.5)'}, 'statecount': {'datatype': 'http://www.w3.org/2001/XMLSchema#integer', 'type': 'literal', 'value': '1'}, 'languageLabel': {'xml:lang': 'en', 'type': 'literal', 'value': 'Konkow language'}}, {'language': {'type': 'uri', 'value': 'http://www.wikidata.org/entity/Q33665'}, 'coordinates': {'datatype': 'http://www.opengis.net/ont/geosparql#wktLiteral', 'type': 'literal', 'value': 'Point(-121.0 39.0)'}, 'statecount': {'datatype': 'http://www.w3.org/2001/XMLSchema#integer', 'type': 'literal', 'value': '1'}, 'languageLabel': {'xml:lang': 'en', 'type': 'literal', 'value': 'Nisenan'}}, {'language': {'type': 'uri', 'value': 'http://www.wikidata.org/entity/Q3278074'}, 'coordinates': {'datatype': 'http://www.opengis.net/ont/geosparql#wktLiteral', 'type': 'literal', 'value': 'Point(-120.666666667 40.0)'}, 'statecount': {'datatype': 'http://www.w3.org/2001/XMLSchema#integer', 'type': 'literal', 'value': '1'}, 'languageLabel': {'xml:lang': 'en', 'type': 'literal', 'value': 'Maidu language'}}, {'language': {'type': 'uri', 'value': 'http://www.wikidata.org/entity/Q56718'}, 'coordinates': {'datatype': 'http://www.opengis.net/ont/geosparql#wktLiteral', 'type': 'literal', 'value': 'Point(-121.0 40.75)'}, 'statecount': {'datatype': 'http://www.w3.org/2001/XMLSchema#integer', 'type': 'literal', 'value': '1'}, 'languageLabel': {'xml:lang': 'en', 'type': 'literal', 'value': 'Atsugewi'}}, {'language': {'type': 'uri', 'value': 'http://www.wikidata.org/entity/Q36937'}, 'coordinates': {'datatype': 'http://www.opengis.net/ont/geosparql#wktLiteral', 'type': 'literal', 'value': 'Point(-124.166666667 40.833333333)'}, 'statecount': {'datatype': 'http://www.w3.org/2001/XMLSchema#integer', 'type': 'literal', 'value': '1'}, 'languageLabel': {'xml:lang': 'en', 'type': 'literal', 'value': 'Wiyot'}}, {'language': {'type': 'uri', 'value': 'http://www.wikidata.org/entity/Q28058'}, 'coordinates': {'datatype': 'http://www.opengis.net/ont/geosparql#wktLiteral', 'type': 'literal', 'value': 'Point(-123.666666667 41.083333333)'}, 'statecount': {'datatype': 'http://www.w3.org/2001/XMLSchema#integer', 'type': 'literal', 'value': '1'}, 'languageLabel': {'xml:lang': 'en', 'type': 'literal', 'value': 'Hupa'}}, {'language': {'type': 'uri', 'value': 'http://www.wikidata.org/entity/Q34685'}, 'coordinates': {'datatype': 'http://www.opengis.net/ont/geosparql#wktLiteral', 'type': 'literal', 'value': 'Point(-124.0 41.333333333)'}, 'statecount': {'datatype': 'http://www.w3.org/2001/XMLSchema#integer', 'type': 'literal', 'value': '1'}, 'languageLabel': {'xml:lang': 'en', 'type': 'literal', 'value': 'Yurok'}}, {'language': {'type': 'uri', 'value': 'http://www.wikidata.org/entity/Q1294251'}, 'coordinates': {'datatype': 'http://www.opengis.net/ont/geosparql#wktLiteral', 'type': 'literal', 'value': 'Point(-123.0 41.0)'}, 'statecount': {'datatype': 'http://www.w3.org/2001/XMLSchema#integer', 'type': 'literal', 'value': '1'}, 'languageLabel': {'xml:lang': 'en', 'type': 'literal', 'value': 'Chimariko'}}, {'language': {'type': 'uri', 'value': 'http://www.wikidata.org/entity/Q56754'}, 'coordinates': {'datatype': 'http://www.opengis.net/ont/geosparql#wktLiteral', 'type': 'literal', 'value': 'Point(-122.5 41.0)'}, 'statecount': {'datatype': 'http://www.w3.org/2001/XMLSchema#integer', 'type': 'literal', 'value': '1'}, 'languageLabel': {'xml:lang': 'en', 'type': 'literal', 'value': 'Wintu'}}, {'language': {'type': 'uri', 'value': 'http://www.wikidata.org/entity/Q1288440'}, 'coordinates': {'datatype': 'http://www.opengis.net/ont/geosparql#wktLiteral', 'type': 'literal', 'value': 'Point(-123.0 41.666666666)'}, 'statecount': {'datatype': 'http://www.w3.org/2001/XMLSchema#integer', 'type': 'literal', 'value': '1'}, 'languageLabel': {'xml:lang': 'en', 'type': 'literal', 'value': 'Karuk'}}, {'language': {'type': 'uri', 'value': 'http://www.wikidata.org/entity/Q56396'}, 'coordinates': {'datatype': 'http://www.opengis.net/ont/geosparql#wktLiteral', 'type': 'literal', 'value': 'Point(-122.666666667 41.833333333)'}, 'statecount': {'datatype': 'http://www.w3.org/2001/XMLSchema#integer', 'type': 'literal', 'value': '1'}, 'languageLabel': {'xml:lang': 'en', 'type': 'literal', 'value': 'Shasta'}}, {'language': {'type': 'uri', 'value': 'http://www.wikidata.org/entity/Q56661'}, 'coordinates': {'datatype': 'http://www.opengis.net/ont/geosparql#wktLiteral', 'type': 'literal', 'value': 'Point(-121.0 41.5)'}, 'statecount': {'datatype': 'http://www.w3.org/2001/XMLSchema#integer', 'type': 'literal', 'value': '1'}, 'languageLabel': {'xml:lang': 'en', 'type': 'literal', 'value': 'Achumawi'}}, {'language': {'type': 'uri', 'value': 'http://www.wikidata.org/entity/Q2669248'}, 'coordinates': {'datatype': 'http://www.opengis.net/ont/geosparql#wktLiteral', 'type': 'literal', 'value': 'Point(-121.5 42.5)'}, 'statecount': {'datatype': 'http://www.w3.org/2001/XMLSchema#integer', 'type': 'literal', 'value': '1'}, 'languageLabel': {'xml:lang': 'en', 'type': 'literal', 'value': 'Klamath language'}}, {'language': {'type': 'uri', 'value': 'http://www.wikidata.org/entity/Q3126783'}, 'coordinates': {'datatype': 'http://www.opengis.net/ont/geosparql#wktLiteral', 'type': 'literal', 'value': 'Point(-124.166666667 43.5)'}, 'statecount': {'datatype': 'http://www.w3.org/2001/XMLSchema#integer', 'type': 'literal', 'value': '1'}, 'languageLabel': {'xml:lang': 'en', 'type': 'literal', 'value': 'Hanis language'}}, {'language': {'type': 'uri', 'value': 'http://www.wikidata.org/entity/Q2315424'}, 'coordinates': {'datatype': 'http://www.opengis.net/ont/geosparql#wktLiteral', 'type': 'literal', 'value': 'Point(-124.0 44.0)'}, 'statecount': {'datatype': 'http://www.w3.org/2001/XMLSchema#integer', 'type': 'literal', 'value': '1'}, 'languageLabel': {'xml:lang': 'en', 'type': 'literal', 'value': 'Siuslaw'}}, {'language': {'type': 'uri', 'value': 'http://www.wikidata.org/entity/Q3192120'}, 'coordinates': {'datatype': 'http://www.opengis.net/ont/geosparql#wktLiteral', 'type': 'literal', 'value': 'Point(-123.0 44.5)'}, 'statecount': {'datatype': 'http://www.w3.org/2001/XMLSchema#integer', 'type': 'literal', 'value': '1'}, 'languageLabel': {'xml:lang': 'en', 'type': 'literal', 'value': 'Central Kalapuya language'}}, {'language': {'type': 'uri', 'value': 'http://www.wikidata.org/entity/Q3319444'}, 'coordinates': {'datatype': 'http://www.opengis.net/ont/geosparql#wktLiteral', 'type': 'literal', 'value': 'Point(-122.5 44.5)'}, 'statecount': {'datatype': 'http://www.w3.org/2001/XMLSchema#integer', 'type': 'literal', 'value': '2'}, 'languageLabel': {'xml:lang': 'en', 'type': 'literal', 'value': 'Molala language'}}, {'language': {'type': 'uri', 'value': 'http://www.wikidata.org/entity/Q2109432'}, 'coordinates': {'datatype': 'http://www.opengis.net/ont/geosparql#wktLiteral', 'type': 'literal', 'value': 'Point(-123.75 45.333333333)'}, 'statecount': {'datatype': 'http://www.w3.org/2001/XMLSchema#integer', 'type': 'literal', 'value': '1'}, 'languageLabel': {'xml:lang': 'en', 'type': 'literal', 'value': 'Tillamook'}}, {'language': {'type': 'uri', 'value': 'http://www.wikidata.org/entity/Q12645081'}, 'coordinates': {'datatype': 'http://www.opengis.net/ont/geosparql#wktLiteral', 'type': 'literal', 'value': 'Point(-122.5 45.5)'}, 'statecount': {'datatype': 'http://www.w3.org/2001/XMLSchema#integer', 'type': 'literal', 'value': '2'}, 'languageLabel': {'xml:lang': 'en', 'type': 'literal', 'value': 'Wasco-Wishram'}}, {'language': {'type': 'uri', 'value': 'http://www.wikidata.org/entity/Q6693380'}, 'coordinates': {'datatype': 'http://www.opengis.net/ont/geosparql#wktLiteral', 'type': 'literal', 'value': 'Point(-123.5 46.25)'}, 'statecount': {'datatype': 'http://www.w3.org/2001/XMLSchema#integer', 'type': 'literal', 'value': '2'}, 'languageLabel': {'xml:lang': 'en', 'type': 'literal', 'value': 'Lower Chinook'}}, {'language': {'type': 'uri', 'value': 'http://www.wikidata.org/entity/Q2962074'}, 'coordinates': {'datatype': 'http://www.opengis.net/ont/geosparql#wktLiteral', 'type': 'literal', 'value': 'Point(-123.0 46.583333333)'}, 'statecount': {'datatype': 'http://www.w3.org/2001/XMLSchema#integer', 'type': 'literal', 'value': '1'}, 'languageLabel': {'xml:lang': 'en', 'type': 'literal', 'value': 'Upper Chehalis'}}, {'language': {'type': 'uri', 'value': 'http://www.wikidata.org/entity/Q3280640'}, 'coordinates': {'datatype': 'http://www.opengis.net/ont/geosparql#wktLiteral', 'type': 'literal', 'value': 'Point(-124.666666667 48.333333333)'}, 'statecount': {'datatype': 'http://www.w3.org/2001/XMLSchema#integer', 'type': 'literal', 'value': '1'}, 'languageLabel': {'xml:lang': 'en', 'type': 'literal', 'value': 'Makah'}}, {'language': {'type': 'uri', 'value': 'http://www.wikidata.org/entity/Q3414490'}, 'coordinates': {'datatype': 'http://www.opengis.net/ont/geosparql#wktLiteral', 'type': 'literal', 'value': 'Point(-124.25 47.916666666)'}, 'statecount': {'datatype': 'http://www.w3.org/2001/XMLSchema#integer', 'type': 'literal', 'value': '1'}, 'languageLabel': {'xml:lang': 'en', 'type': 'literal', 'value': 'Quileute'}}, {'language': {'type': 'uri', 'value': 'http://www.wikidata.org/entity/Q33404'}, 'coordinates': {'datatype': 'http://www.opengis.net/ont/geosparql#wktLiteral', 'type': 'literal', 'value': 'Point(-123.75 48.083333333)'}, 'statecount': {'datatype': 'http://www.w3.org/2001/XMLSchema#integer', 'type': 'literal', 'value': '1'}, 'languageLabel': {'xml:lang': 'en', 'type': 'literal', 'value': 'Klallam language'}}, {'language': {'type': 'uri', 'value': 'http://www.wikidata.org/entity/Q12642471'}, 'coordinates': {'datatype': 'http://www.opengis.net/ont/geosparql#wktLiteral', 'type': 'literal', 'value': 'Point(-122.5 47.25)'}, 'statecount': {'datatype': 'http://www.w3.org/2001/XMLSchema#integer', 'type': 'literal', 'value': '1'}, 'languageLabel': {'xml:lang': 'en', 'type': 'literal', 'value': 'Southern Puget Sound Salish'}}, {'language': {'type': 'uri', 'value': 'http://www.wikidata.org/entity/Q7857412'}, 'coordinates': {'datatype': 'http://www.opengis.net/ont/geosparql#wktLiteral', 'type': 'literal', 'value': 'Point(-122.75 47.666666666)'}, 'statecount': {'datatype': 'http://www.w3.org/2001/XMLSchema#integer', 'type': 'literal', 'value': '1'}, 'languageLabel': {'xml:lang': 'en', 'type': 'literal', 'value': 'Twana'}}, {'language': {'type': 'uri', 'value': 'http://www.wikidata.org/entity/Q36444'}, 'coordinates': {'datatype': 'http://www.opengis.net/ont/geosparql#wktLiteral', 'type': 'literal', 'value': 'Point(-123.75 48.333333333)'}, 'statecount': {'datatype': 'http://www.w3.org/2001/XMLSchema#integer', 'type': 'literal', 'value': '1'}, 'languageLabel': {'xml:lang': 'en', 'type': 'literal', 'value': 'North Straits Salish language'}}, {'language': {'type': 'uri', 'value': 'http://www.wikidata.org/entity/Q36444'}, 'coordinates': {'datatype': 'http://www.opengis.net/ont/geosparql#wktLiteral', 'type': 'literal', 'value': 'Point(-123.333333333 48.45)'}, 'statecount': {'datatype': 'http://www.w3.org/2001/XMLSchema#integer', 'type': 'literal', 'value': '1'}, 'languageLabel': {'xml:lang': 'en', 'type': 'literal', 'value': 'North Straits Salish language'}}, {'language': {'type': 'uri', 'value': 'http://www.wikidata.org/entity/Q36444'}, 'coordinates': {'datatype': 'http://www.opengis.net/ont/geosparql#wktLiteral', 'type': 'literal', 'value': 'Point(-123.416666667 48.583333333)'}, 'statecount': {'datatype': 'http://www.w3.org/2001/XMLSchema#integer', 'type': 'literal', 'value': '1'}, 'languageLabel': {'xml:lang': 'en', 'type': 'literal', 'value': 'North Straits Salish language'}}, {'language': {'type': 'uri', 'value': 'http://www.wikidata.org/entity/Q36444'}, 'coordinates': {'datatype': 'http://www.opengis.net/ont/geosparql#wktLiteral', 'type': 'literal', 'value': 'Point(-123.25 48.75)'}, 'statecount': {'datatype': 'http://www.w3.org/2001/XMLSchema#integer', 'type': 'literal', 'value': '1'}, 'languageLabel': {'xml:lang': 'en', 'type': 'literal', 'value': 'North Straits Salish language'}}, {'language': {'type': 'uri', 'value': 'http://www.wikidata.org/entity/Q36444'}, 'coordinates': {'datatype': 'http://www.opengis.net/ont/geosparql#wktLiteral', 'type': 'literal', 'value': 'Point(-122.583333333 48.583333333)'}, 'statecount': {'datatype': 'http://www.w3.org/2001/XMLSchema#integer', 'type': 'literal', 'value': '1'}, 'languageLabel': {'xml:lang': 'en', 'type': 'literal', 'value': 'North Straits Salish language'}}, {'language': {'type': 'uri', 'value': 'http://www.wikidata.org/entity/Q36444'}, 'coordinates': {'datatype': 'http://www.opengis.net/ont/geosparql#wktLiteral', 'type': 'literal', 'value': 'Point(-122.666666667 48.7)'}, 'statecount': {'datatype': 'http://www.w3.org/2001/XMLSchema#integer', 'type': 'literal', 'value': '1'}, 'languageLabel': {'xml:lang': 'en', 'type': 'literal', 'value': 'North Straits Salish language'}}, {'language': {'type': 'uri', 'value': 'http://www.wikidata.org/entity/Q33658'}, 'coordinates': {'datatype': 'http://www.opengis.net/ont/geosparql#wktLiteral', 'type': 'literal', 'value': 'Point(-122.0 48.0)'}, 'statecount': {'datatype': 'http://www.w3.org/2001/XMLSchema#integer', 'type': 'literal', 'value': '1'}, 'languageLabel': {'xml:lang': 'en', 'type': 'literal', 'value': 'Lushootseed'}}, {'language': {'type': 'uri', 'value': 'http://www.wikidata.org/entity/Q56391'}, 'coordinates': {'datatype': 'http://www.opengis.net/ont/geosparql#wktLiteral', 'type': 'literal', 'value': 'Point(-120.25 34.5)'}, 'statecount': {'datatype': 'http://www.w3.org/2001/XMLSchema#integer', 'type': 'literal', 'value': '1'}, 'languageLabel': {'xml:lang': 'en', 'type': 'literal', 'value': 'Barbareño'}}, {'language': {'type': 'uri', 'value': 'http://www.wikidata.org/entity/Q35443'}, 'coordinates': {'datatype': 'http://www.opengis.net/ont/geosparql#wktLiteral', 'type': 'literal', 'value': 'Point(-120.25 34.666666666)'}, 'statecount': {'datatype': 'http://www.w3.org/2001/XMLSchema#integer', 'type': 'literal', 'value': '1'}, 'languageLabel': {'xml:lang': 'en', 'type': 'literal', 'value': 'Ineseño'}}, {'language': {'type': 'uri', 'value': 'http://www.wikidata.org/entity/Q56704'}, 'coordinates': {'datatype': 'http://www.opengis.net/ont/geosparql#wktLiteral', 'type': 'literal', 'value': 'Point(-118.333333333 36.0)'}, 'statecount': {'datatype': 'http://www.w3.org/2001/XMLSchema#integer', 'type': 'literal', 'value': '1'}, 'languageLabel': {'xml:lang': 'en', 'type': 'literal', 'value': 'Tübatulabal'}}, {'language': {'type': 'uri', 'value': 'http://www.wikidata.org/entity/Q3479942'}, 'coordinates': {'datatype': 'http://www.opengis.net/ont/geosparql#wktLiteral', 'type': 'literal', 'value': 'Point(-117.0 34.5)'}, 'statecount': {'datatype': 'http://www.w3.org/2001/XMLSchema#integer', 'type': 'literal', 'value': '1'}, 'languageLabel': {'xml:lang': 'en', 'type': 'literal', 'value': 'Serrano'}}, {'language': {'type': 'uri', 'value': 'http://www.wikidata.org/entity/Q56338'}, 'coordinates': {'datatype': 'http://www.opengis.net/ont/geosparql#wktLiteral', 'type': 'literal', 'value': 'Point(-117.5 36.0)'}, 'statecount': {'datatype': 'http://www.w3.org/2001/XMLSchema#integer', 'type': 'literal', 'value': '1'}, 'languageLabel': {'xml:lang': 'en', 'type': 'literal', 'value': 'Kawaiisu'}}, {'language': {'type': 'uri', 'value': 'http://www.wikidata.org/entity/Q3492334'}, 'coordinates': {'datatype': 'http://www.opengis.net/ont/geosparql#wktLiteral', 'type': 'literal', 'value': 'Point(-120.0 37.5)'}, 'statecount': {'datatype': 'http://www.w3.org/2001/XMLSchema#integer', 'type': 'literal', 'value': '1'}, 'languageLabel': {'xml:lang': 'en', 'type': 'literal', 'value': 'Southern Sierra Miwok'}}, {'language': {'type': 'uri', 'value': 'http://www.wikidata.org/entity/Q33591'}, 'coordinates': {'datatype': 'http://www.opengis.net/ont/geosparql#wktLiteral', 'type': 'literal', 'value': 'Point(-119.0 38.0)'}, 'statecount': {'datatype': 'http://www.w3.org/2001/XMLSchema#integer', 'type': 'literal', 'value': '2'}, 'languageLabel': {'xml:lang': 'en', 'type': 'literal', 'value': 'Mono language'}}, {'language': {'type': 'uri', 'value': 'http://www.wikidata.org/entity/Q33926'}, 'coordinates': {'datatype': 'http://www.opengis.net/ont/geosparql#wktLiteral', 'type': 'literal', 'value': 'Point(-117.0 37.0)'}, 'statecount': {'datatype': 'http://www.w3.org/2001/XMLSchema#integer', 'type': 'literal', 'value': '2'}, 'languageLabel': {'xml:lang': 'en', 'type': 'literal', 'value': 'Timbisha language'}}, {'language': {'type': 'uri', 'value': 'http://www.wikidata.org/entity/Q56510'}, 'coordinates': {'datatype': 'http://www.opengis.net/ont/geosparql#wktLiteral', 'type': 'literal', 'value': 'Point(-114.583333333 34.666666666)'}, 'statecount': {'datatype': 'http://www.w3.org/2001/XMLSchema#integer', 'type': 'literal', 'value': '3'}, 'languageLabel': {'xml:lang': 'en', 'type': 'literal', 'value': 'Mojave'}}, {'language': {'type': 'uri', 'value': 'http://www.wikidata.org/entity/Q3565286'}, 'coordinates': {'datatype': 'http://www.opengis.net/ont/geosparql#wktLiteral', 'type': 'literal', 'value': 'Point(-113.75 35.5)'}, 'statecount': {'datatype': 'http://www.w3.org/2001/XMLSchema#integer', 'type': 'literal', 'value': '1'}, 'languageLabel': {'xml:lang': 'en', 'type': 'literal', 'value': 'Havasupai–Hualapai language'}}, {'language': {'type': 'uri', 'value': 'http://www.wikidata.org/entity/Q3565286'}, 'coordinates': {'datatype': 'http://www.opengis.net/ont/geosparql#wktLiteral', 'type': 'literal', 'value': 'Point(-112.5 35.75)'}, 'statecount': {'datatype': 'http://www.w3.org/2001/XMLSchema#integer', 'type': 'literal', 'value': '1'}, 'languageLabel': {'xml:lang': 'en', 'type': 'literal', 'value': 'Havasupai–Hualapai language'}}, {'language': {'type': 'uri', 'value': 'http://www.wikidata.org/entity/Q13260'}, 'coordinates': {'datatype': 'http://www.opengis.net/ont/geosparql#wktLiteral', 'type': 'literal', 'value': 'Point(-113.333333333 37.833333333)'}, 'statecount': {'datatype': 'http://www.w3.org/2001/XMLSchema#integer', 'type': 'literal', 'value': '6'}, 'languageLabel': {'xml:lang': 'en', 'type': 'literal', 'value': 'Colorado River Numic language'}}, {'language': {'type': 'uri', 'value': 'http://www.wikidata.org/entity/Q34198'}, 'coordinates': {'datatype': 'http://www.opengis.net/ont/geosparql#wktLiteral', 'type': 'literal', 'value': 'Point(-120.0 39.25)'}, 'statecount': {'datatype': 'http://www.w3.org/2001/XMLSchema#integer', 'type': 'literal', 'value': '2'}, 'languageLabel': {'xml:lang': 'en', 'type': 'literal', 'value': 'Washo'}}, {'language': {'type': 'uri', 'value': 'http://www.wikidata.org/entity/Q3360656'}, 'coordinates': {'datatype': 'http://www.opengis.net/ont/geosparql#wktLiteral', 'type': 'literal', 'value': 'Point(-118.0 42.0)'}, 'statecount': {'datatype': 'http://www.w3.org/2001/XMLSchema#integer', 'type': 'literal', 'value': '4'}, 'languageLabel': {'xml:lang': 'en', 'type': 'literal', 'value': 'Northern Paiute'}}, {'language': {'type': 'uri', 'value': 'http://www.wikidata.org/entity/Q33811'}, 'coordinates': {'datatype': 'http://www.opengis.net/ont/geosparql#wktLiteral', 'type': 'literal', 'value': 'Point(-114.0 41.0)'}, 'statecount': {'datatype': 'http://www.w3.org/2001/XMLSchema#integer', 'type': 'literal', 'value': '4'}, 'languageLabel': {'xml:lang': 'en', 'type': 'literal', 'value': 'Shoshoni'}}, {'language': {'type': 'uri', 'value': 'http://www.wikidata.org/entity/Q56492'}, 'coordinates': {'datatype': 'http://www.opengis.net/ont/geosparql#wktLiteral', 'type': 'literal', 'value': 'Point(-110.416666667 35.833333333)'}, 'statecount': {'datatype': 'http://www.w3.org/2001/XMLSchema#integer', 'type': 'literal', 'value': '2'}, 'languageLabel': {'xml:lang': 'en', 'type': 'literal', 'value': 'Tewa language'}}, {'language': {'type': 'uri', 'value': 'http://www.wikidata.org/entity/Q56421'}, 'coordinates': {'datatype': 'http://www.opengis.net/ont/geosparql#wktLiteral', 'type': 'literal', 'value': 'Point(-110.0 36.0)'}, 'statecount': {'datatype': 'http://www.w3.org/2001/XMLSchema#integer', 'type': 'literal', 'value': '3'}, 'languageLabel': {'xml:lang': 'en', 'type': 'literal', 'value': 'Hopi'}}, {'language': {'type': 'uri', 'value': 'http://www.wikidata.org/entity/Q10188'}, 'coordinates': {'datatype': 'http://www.opengis.net/ont/geosparql#wktLiteral', 'type': 'literal', 'value': 'Point(-108.833333333 35.083333333)'}, 'statecount': {'datatype': 'http://www.w3.org/2001/XMLSchema#integer', 'type': 'literal', 'value': '1'}, 'languageLabel': {'xml:lang': 'en', 'type': 'literal', 'value': 'Zuni'}}, {'language': {'type': 'uri', 'value': 'http://www.wikidata.org/entity/Q12645568'}, 'coordinates': {'datatype': 'http://www.opengis.net/ont/geosparql#wktLiteral', 'type': 'literal', 'value': 'Point(-107.583333333 34.916666666)'}, 'statecount': {'datatype': 'http://www.w3.org/2001/XMLSchema#integer', 'type': 'literal', 'value': '1'}, 'languageLabel': {'xml:lang': 'en', 'type': 'literal', 'value': 'Western Keres'}}, {'language': {'type': 'uri', 'value': 'http://www.wikidata.org/entity/Q13310'}, 'coordinates': {'datatype': 'http://www.opengis.net/ont/geosparql#wktLiteral', 'type': 'literal', 'value': 'Point(-108.0 36.166666666)'}, 'statecount': {'datatype': 'http://www.w3.org/2001/XMLSchema#integer', 'type': 'literal', 'value': '4'}, 'languageLabel': {'xml:lang': 'en', 'type': 'literal', 'value': 'Navajo'}}, {'language': {'type': 'uri', 'value': 'http://www.wikidata.org/entity/Q7570552'}, 'coordinates': {'datatype': 'http://www.opengis.net/ont/geosparql#wktLiteral', 'type': 'literal', 'value': 'Point(-106.333333333 35.0)'}, 'statecount': {'datatype': 'http://www.w3.org/2001/XMLSchema#integer', 'type': 'literal', 'value': '1'}, 'languageLabel': {'xml:lang': 'en', 'type': 'literal', 'value': 'Southern Tiwa'}}, {'language': {'type': 'uri', 'value': 'http://www.wikidata.org/entity/Q15649021'}, 'coordinates': {'datatype': 'http://www.opengis.net/ont/geosparql#wktLiteral', 'type': 'literal', 'value': 'Point(-106.666666667 35.416666666)'}, 'statecount': {'datatype': 'http://www.w3.org/2001/XMLSchema#integer', 'type': 'literal', 'value': '1'}, 'languageLabel': {'xml:lang': 'en', 'type': 'literal', 'value': 'Eastern Keres'}}, {'language': {'type': 'uri', 'value': 'http://www.wikidata.org/entity/Q3912876'}, 'coordinates': {'datatype': 'http://www.opengis.net/ont/geosparql#wktLiteral', 'type': 'literal', 'value': 'Point(-107.0 35.833333333)'}, 'statecount': {'datatype': 'http://www.w3.org/2001/XMLSchema#integer', 'type': 'literal', 'value': '1'}, 'languageLabel': {'xml:lang': 'en', 'type': 'literal', 'value': 'Jemez'}}, {'language': {'type': 'uri', 'value': 'http://www.wikidata.org/entity/Q56492'}, 'coordinates': {'datatype': 'http://www.opengis.net/ont/geosparql#wktLiteral', 'type': 'literal', 'value': 'Point(-106.083333333 36.083333333)'}, 'statecount': {'datatype': 'http://www.w3.org/2001/XMLSchema#integer', 'type': 'literal', 'value': '2'}, 'languageLabel': {'xml:lang': 'en', 'type': 'literal', 'value': 'Tewa language'}}, {'language': {'type': 'uri', 'value': 'http://www.wikidata.org/entity/Q56492'}, 'coordinates': {'datatype': 'http://www.opengis.net/ont/geosparql#wktLiteral', 'type': 'literal', 'value': 'Point(-106.166666667 36.25)'}, 'statecount': {'datatype': 'http://www.w3.org/2001/XMLSchema#integer', 'type': 'literal', 'value': '2'}, 'languageLabel': {'xml:lang': 'en', 'type': 'literal', 'value': 'Tewa language'}}, {'language': {'type': 'uri', 'value': 'http://www.wikidata.org/entity/Q7684320'}, 'coordinates': {'datatype': 'http://www.opengis.net/ont/geosparql#wktLiteral', 'type': 'literal', 'value': 'Point(-105.5 36.5)'}, 'statecount': {'datatype': 'http://www.w3.org/2001/XMLSchema#integer', 'type': 'literal', 'value': '1'}, 'languageLabel': {'xml:lang': 'en', 'type': 'literal', 'value': 'Taos dialect'}}, {'language': {'type': 'uri', 'value': 'http://www.wikidata.org/entity/Q28277'}, 'coordinates': {'datatype': 'http://www.opengis.net/ont/geosparql#wktLiteral', 'type': 'literal', 'value': 'Point(-104.0 36.583333333)'}, 'statecount': {'datatype': 'http://www.w3.org/2001/XMLSchema#integer', 'type': 'literal', 'value': '1'}, 'languageLabel': {'xml:lang': 'en', 'type': 'literal', 'value': 'Jicarilla'}}, {'language': {'type': 'uri', 'value': 'http://www.wikidata.org/entity/Q13260'}, 'coordinates': {'datatype': 'http://www.opengis.net/ont/geosparql#wktLiteral', 'type': 'literal', 'value': 'Point(-109.0 39.0)'}, 'statecount': {'datatype': 'http://www.w3.org/2001/XMLSchema#integer', 'type': 'literal', 'value': '6'}, 'languageLabel': {'xml:lang': 'en', 'type': 'literal', 'value': 'Colorado River Numic language'}}, {'language': {'type': 'uri', 'value': 'http://www.wikidata.org/entity/Q12953952'}, 'coordinates': {'datatype': 'http://www.opengis.net/ont/geosparql#wktLiteral', 'type': 'literal', 'value': 'Point(-118.5 45.666666666)'}, 'statecount': {'datatype': 'http://www.w3.org/2001/XMLSchema#integer', 'type': 'literal', 'value': '1'}, 'languageLabel': {'xml:lang': 'en', 'type': 'literal', 'value': 'Umatilla'}}, {'language': {'type': 'uri', 'value': 'http://www.wikidata.org/entity/Q12953960'}, 'coordinates': {'datatype': 'http://www.opengis.net/ont/geosparql#wktLiteral', 'type': 'literal', 'value': 'Point(-120.0 46.5)'}, 'statecount': {'datatype': 'http://www.w3.org/2001/XMLSchema#integer', 'type': 'literal', 'value': '1'}, 'languageLabel': {'xml:lang': 'en', 'type': 'literal', 'value': 'Walla Walla'}}, {'language': {'type': 'uri', 'value': 'http://www.wikidata.org/entity/Q3339226'}, 'coordinates': {'datatype': 'http://www.opengis.net/ont/geosparql#wktLiteral', 'type': 'literal', 'value': 'Point(-116.0 46.0)'}, 'statecount': {'datatype': 'http://www.w3.org/2001/XMLSchema#integer', 'type': 'literal', 'value': '3'}, 'languageLabel': {'xml:lang': 'en', 'type': 'literal', 'value': 'Nez Perce'}}, {'language': {'type': 'uri', 'value': 'http://www.wikidata.org/entity/Q3324744'}, 'coordinates': {'datatype': 'http://www.opengis.net/ont/geosparql#wktLiteral', 'type': 'literal', 'value': 'Point(-120.0 47.5)'}, 'statecount': {'datatype': 'http://www.w3.org/2001/XMLSchema#integer', 'type': 'literal', 'value': '1'}, 'languageLabel': {'xml:lang': 'en', 'type': 'literal', 'value': 'Columbia-Moses language'}}, {'language': {'type': 'uri', 'value': 'http://www.wikidata.org/entity/Q3493704'}, 'coordinates': {'datatype': 'http://www.opengis.net/ont/geosparql#wktLiteral', 'type': 'literal', 'value': 'Point(-117.75 47.666666666)'}, 'statecount': {'datatype': 'http://www.w3.org/2001/XMLSchema#integer', 'type': 'literal', 'value': '1'}, 'languageLabel': {'xml:lang': 'en', 'type': 'literal', 'value': 'Spokane'}}, {'language': {'type': 'uri', 'value': 'http://www.wikidata.org/entity/Q32915'}, 'coordinates': {'datatype': 'http://www.opengis.net/ont/geosparql#wktLiteral', 'type': 'literal', 'value': 'Point(-116.5 47.25)'}, 'statecount': {'datatype': 'http://www.w3.org/2001/XMLSchema#integer', 'type': 'literal', 'value': '1'}, 'languageLabel': {'xml:lang': 'en', 'type': 'literal', 'value': \"Coeur d'Alene\"}}, {'language': {'type': 'uri', 'value': 'http://www.wikidata.org/entity/Q3111983'}, 'coordinates': {'datatype': 'http://www.opengis.net/ont/geosparql#wktLiteral', 'type': 'literal', 'value': 'Point(-117.0 48.0)'}, 'statecount': {'datatype': 'http://www.w3.org/2001/XMLSchema#integer', 'type': 'literal', 'value': '2'}, 'languageLabel': {'xml:lang': 'en', 'type': 'literal', 'value': 'Salish-Spokane-Kalispel language'}}, {'language': {'type': 'uri', 'value': 'http://www.wikidata.org/entity/Q2984602'}, 'coordinates': {'datatype': 'http://www.opengis.net/ont/geosparql#wktLiteral', 'type': 'literal', 'value': 'Point(-118.5 49.5)'}, 'statecount': {'datatype': 'http://www.w3.org/2001/XMLSchema#integer', 'type': 'literal', 'value': '1'}, 'languageLabel': {'xml:lang': 'en', 'type': 'literal', 'value': 'Okanagan'}}, {'language': {'type': 'uri', 'value': 'http://www.wikidata.org/entity/Q33434'}, 'coordinates': {'datatype': 'http://www.opengis.net/ont/geosparql#wktLiteral', 'type': 'literal', 'value': 'Point(-116.0 49.5)'}, 'statecount': {'datatype': 'http://www.w3.org/2001/XMLSchema#integer', 'type': 'literal', 'value': '2'}, 'languageLabel': {'xml:lang': 'en', 'type': 'literal', 'value': 'Kutenai'}}, {'language': {'type': 'uri', 'value': 'http://www.wikidata.org/entity/Q33060'}, 'coordinates': {'datatype': 'http://www.opengis.net/ont/geosparql#wktLiteral', 'type': 'literal', 'value': 'Point(-112.666666667 50.0)'}, 'statecount': {'datatype': 'http://www.w3.org/2001/XMLSchema#integer', 'type': 'literal', 'value': '1'}, 'languageLabel': {'xml:lang': 'en', 'type': 'literal', 'value': 'Blackfoot'}}, {'language': {'type': 'uri', 'value': 'http://www.wikidata.org/entity/Q33811'}, 'coordinates': {'datatype': 'http://www.opengis.net/ont/geosparql#wktLiteral', 'type': 'literal', 'value': 'Point(-108.833333333 43.416666666)'}, 'statecount': {'datatype': 'http://www.w3.org/2001/XMLSchema#integer', 'type': 'literal', 'value': '4'}, 'languageLabel': {'xml:lang': 'en', 'type': 'literal', 'value': 'Shoshoni'}}, {'language': {'type': 'uri', 'value': 'http://www.wikidata.org/entity/Q1207611'}, 'coordinates': {'datatype': 'http://www.opengis.net/ont/geosparql#wktLiteral', 'type': 'literal', 'value': 'Point(-108.0 47.0)'}, 'statecount': {'datatype': 'http://www.w3.org/2001/XMLSchema#integer', 'type': 'literal', 'value': '1'}, 'languageLabel': {'xml:lang': 'en', 'type': 'literal', 'value': 'Crow'}}, {'language': {'type': 'uri', 'value': 'http://www.wikidata.org/entity/Q56631'}, 'coordinates': {'datatype': 'http://www.opengis.net/ont/geosparql#wktLiteral', 'type': 'literal', 'value': 'Point(-99.0 37.0)'}, 'statecount': {'datatype': 'http://www.w3.org/2001/XMLSchema#integer', 'type': 'literal', 'value': '1'}, 'languageLabel': {'xml:lang': 'en', 'type': 'literal', 'value': 'Kiowa'}}, {'language': {'type': 'uri', 'value': 'http://www.wikidata.org/entity/Q56417'}, 'coordinates': {'datatype': 'http://www.opengis.net/ont/geosparql#wktLiteral', 'type': 'literal', 'value': 'Point(-103.0 40.0)'}, 'statecount': {'datatype': 'http://www.w3.org/2001/XMLSchema#integer', 'type': 'literal', 'value': '1'}, 'languageLabel': {'xml:lang': 'en', 'type': 'literal', 'value': 'Arapaho'}}, {'language': {'type': 'uri', 'value': 'http://www.wikidata.org/entity/Q2380124'}, 'coordinates': {'datatype': 'http://www.opengis.net/ont/geosparql#wktLiteral', 'type': 'literal', 'value': 'Point(-100.0 40.0)'}, 'statecount': {'datatype': 'http://www.w3.org/2001/XMLSchema#integer', 'type': 'literal', 'value': '1'}, 'languageLabel': {'xml:lang': 'en', 'type': 'literal', 'value': 'Plains Indian Sign Language'}}, {'language': {'type': 'uri', 'value': 'http://www.wikidata.org/entity/Q56737'}, 'coordinates': {'datatype': 'http://www.opengis.net/ont/geosparql#wktLiteral', 'type': 'literal', 'value': 'Point(-96.0 40.5)'}, 'statecount': {'datatype': 'http://www.w3.org/2001/XMLSchema#integer', 'type': 'literal', 'value': '1'}, 'languageLabel': {'xml:lang': 'en', 'type': 'literal', 'value': 'Chiwere language'}}, {'language': {'type': 'uri', 'value': 'http://www.wikidata.org/entity/Q56751'}, 'coordinates': {'datatype': 'http://www.opengis.net/ont/geosparql#wktLiteral', 'type': 'literal', 'value': 'Point(-98.666666666 41.0)'}, 'statecount': {'datatype': 'http://www.w3.org/2001/XMLSchema#integer', 'type': 'literal', 'value': '1'}, 'languageLabel': {'xml:lang': 'en', 'type': 'literal', 'value': 'Pawnee'}}, {'language': {'type': 'uri', 'value': 'http://www.wikidata.org/entity/Q2917968'}, 'coordinates': {'datatype': 'http://www.opengis.net/ont/geosparql#wktLiteral', 'type': 'literal', 'value': 'Point(-97.25 42.0)'}, 'statecount': {'datatype': 'http://www.w3.org/2001/XMLSchema#integer', 'type': 'literal', 'value': '4'}, 'languageLabel': {'xml:lang': 'en', 'type': 'literal', 'value': 'Omaha–Ponca'}}, {'language': {'type': 'uri', 'value': 'http://www.wikidata.org/entity/Q2600085'}, 'coordinates': {'datatype': 'http://www.opengis.net/ont/geosparql#wktLiteral', 'type': 'literal', 'value': 'Point(-94.0 37.0)'}, 'statecount': {'datatype': 'http://www.w3.org/2001/XMLSchema#integer', 'type': 'literal', 'value': '1'}, 'languageLabel': {'xml:lang': 'en', 'type': 'literal', 'value': 'Osage'}}, {'language': {'type': 'uri', 'value': 'http://www.wikidata.org/entity/Q34204'}, 'coordinates': {'datatype': 'http://www.opengis.net/ont/geosparql#wktLiteral', 'type': 'literal', 'value': 'Point(-86.75 35.75)'}, 'statecount': {'datatype': 'http://www.w3.org/2001/XMLSchema#integer', 'type': 'literal', 'value': '1'}, 'languageLabel': {'xml:lang': 'en', 'type': 'literal', 'value': 'Yuchi'}}, {'language': {'type': 'uri', 'value': 'http://www.wikidata.org/entity/Q56523'}, 'coordinates': {'datatype': 'http://www.opengis.net/ont/geosparql#wktLiteral', 'type': 'literal', 'value': 'Point(-90.0 40.0)'}, 'statecount': {'datatype': 'http://www.w3.org/2001/XMLSchema#integer', 'type': 'literal', 'value': '2'}, 'languageLabel': {'xml:lang': 'en', 'type': 'literal', 'value': 'Piedras negras Coahuila'}}, {'language': {'type': 'uri', 'value': 'http://www.wikidata.org/entity/Q1957120'}, 'coordinates': {'datatype': 'http://www.opengis.net/ont/geosparql#wktLiteral', 'type': 'literal', 'value': 'Point(-102.5 46.5)'}, 'statecount': {'datatype': 'http://www.w3.org/2001/XMLSchema#integer', 'type': 'literal', 'value': '1'}, 'languageLabel': {'xml:lang': 'en', 'type': 'literal', 'value': 'Mandan'}}, {'language': {'type': 'uri', 'value': 'http://www.wikidata.org/entity/Q3135234'}, 'coordinates': {'datatype': 'http://www.opengis.net/ont/geosparql#wktLiteral', 'type': 'literal', 'value': 'Point(-102.5 47.0)'}, 'statecount': {'datatype': 'http://www.w3.org/2001/XMLSchema#integer', 'type': 'literal', 'value': '1'}, 'languageLabel': {'xml:lang': 'en', 'type': 'literal', 'value': 'Hidatsa'}}, {'language': {'type': 'uri', 'value': 'http://www.wikidata.org/entity/Q56539'}, 'coordinates': {'datatype': 'http://www.opengis.net/ont/geosparql#wktLiteral', 'type': 'literal', 'value': 'Point(-100.5 45.5)'}, 'statecount': {'datatype': 'http://www.w3.org/2001/XMLSchema#integer', 'type': 'literal', 'value': '1'}, 'languageLabel': {'xml:lang': 'en', 'type': 'literal', 'value': 'Arikara'}}, {'language': {'type': 'uri', 'value': 'http://www.wikidata.org/entity/Q33265'}, 'coordinates': {'datatype': 'http://www.opengis.net/ont/geosparql#wktLiteral', 'type': 'literal', 'value': 'Point(-95.0 47.0)'}, 'statecount': {'datatype': 'http://www.w3.org/2001/XMLSchema#integer', 'type': 'literal', 'value': '1'}, 'languageLabel': {'xml:lang': 'en', 'type': 'literal', 'value': 'Cheyenne'}}, {'language': {'type': 'uri', 'value': 'http://www.wikidata.org/entity/Q2963878'}, 'coordinates': {'datatype': 'http://www.opengis.net/ont/geosparql#wktLiteral', 'type': 'literal', 'value': 'Point(-95.0 48.0)'}, 'statecount': {'datatype': 'http://www.w3.org/2001/XMLSchema#integer', 'type': 'literal', 'value': '4'}, 'languageLabel': {'xml:lang': 'en', 'type': 'literal', 'value': 'Chippewa'}}, {'language': {'type': 'uri', 'value': 'http://www.wikidata.org/entity/Q530384'}, 'coordinates': {'datatype': 'http://www.opengis.net/ont/geosparql#wktLiteral', 'type': 'literal', 'value': 'Point(-93.5 45.0)'}, 'statecount': {'datatype': 'http://www.w3.org/2001/XMLSchema#integer', 'type': 'literal', 'value': '5'}, 'languageLabel': {'xml:lang': 'en', 'type': 'literal', 'value': 'Dakota'}}, {'language': {'type': 'uri', 'value': 'http://www.wikidata.org/entity/Q1957108'}, 'coordinates': {'datatype': 'http://www.opengis.net/ont/geosparql#wktLiteral', 'type': 'literal', 'value': 'Point(-88.5 43.5)'}, 'statecount': {'datatype': 'http://www.w3.org/2001/XMLSchema#integer', 'type': 'literal', 'value': '4'}, 'languageLabel': {'xml:lang': 'en', 'type': 'literal', 'value': 'Winnebago'}}, {'language': {'type': 'uri', 'value': 'http://www.wikidata.org/entity/Q13363'}, 'coordinates': {'datatype': 'http://www.opengis.net/ont/geosparql#wktLiteral', 'type': 'literal', 'value': 'Point(-88.333333333 45.5)'}, 'statecount': {'datatype': 'http://www.w3.org/2001/XMLSchema#integer', 'type': 'literal', 'value': '1'}, 'languageLabel': {'xml:lang': 'en', 'type': 'literal', 'value': 'Menominee'}}, {'language': {'type': 'uri', 'value': 'http://www.wikidata.org/entity/Q2963878'}, 'coordinates': {'datatype': 'http://www.opengis.net/ont/geosparql#wktLiteral', 'type': 'literal', 'value': 'Point(-92.5 47.666666666)'}, 'statecount': {'datatype': 'http://www.w3.org/2001/XMLSchema#integer', 'type': 'literal', 'value': '4'}, 'languageLabel': {'xml:lang': 'en', 'type': 'literal', 'value': 'Chippewa'}}, {'language': {'type': 'uri', 'value': 'http://www.wikidata.org/entity/Q35162'}, 'coordinates': {'datatype': 'http://www.opengis.net/ont/geosparql#wktLiteral', 'type': 'literal', 'value': 'Point(-85.166666666 34.833333333)'}, 'statecount': {'datatype': 'http://www.w3.org/2001/XMLSchema#integer', 'type': 'literal', 'value': '1'}, 'languageLabel': {'xml:lang': 'en', 'type': 'literal', 'value': 'Koasati'}}, {'language': {'type': 'uri', 'value': 'http://www.wikidata.org/entity/Q33388'}, 'coordinates': {'datatype': 'http://www.opengis.net/ont/geosparql#wktLiteral', 'type': 'literal', 'value': 'Point(-83.5 35.5)'}, 'statecount': {'datatype': 'http://www.w3.org/2001/XMLSchema#integer', 'type': 'literal', 'value': '1'}, 'languageLabel': {'xml:lang': 'en', 'type': 'literal', 'value': 'Cherokee'}}, {'language': {'type': 'uri', 'value': 'http://www.wikidata.org/entity/Q5051602'}, 'coordinates': {'datatype': 'http://www.opengis.net/ont/geosparql#wktLiteral', 'type': 'literal', 'value': 'Point(-80.5 35.5)'}, 'statecount': {'datatype': 'http://www.w3.org/2001/XMLSchema#integer', 'type': 'literal', 'value': '1'}, 'languageLabel': {'xml:lang': 'en', 'type': 'literal', 'value': 'Catawba'}}, {'language': {'type': 'uri', 'value': 'http://www.wikidata.org/entity/Q36944'}, 'coordinates': {'datatype': 'http://www.opengis.net/ont/geosparql#wktLiteral', 'type': 'literal', 'value': 'Point(-77.5 36.0)'}, 'statecount': {'datatype': 'http://www.w3.org/2001/XMLSchema#integer', 'type': 'literal', 'value': '2'}, 'languageLabel': {'xml:lang': 'en', 'type': 'literal', 'value': 'Tuscarora'}}, {'language': {'type': 'uri', 'value': 'http://www.wikidata.org/entity/Q2669206'}, 'coordinates': {'datatype': 'http://www.opengis.net/ont/geosparql#wktLiteral', 'type': 'literal', 'value': 'Point(-83.0 40.0)'}, 'statecount': {'datatype': 'http://www.w3.org/2001/XMLSchema#integer', 'type': 'literal', 'value': '1'}, 'languageLabel': {'xml:lang': 'en', 'type': 'literal', 'value': 'Shawnee'}}, {'language': {'type': 'uri', 'value': 'http://www.wikidata.org/entity/Q20162127'}, 'coordinates': {'datatype': 'http://www.opengis.net/ont/geosparql#wktLiteral', 'type': 'literal', 'value': 'Point(-84.0 42.25)'}, 'statecount': {'datatype': 'http://www.w3.org/2001/XMLSchema#integer', 'type': 'literal', 'value': '3'}, 'languageLabel': {'xml:lang': 'en', 'type': 'literal', 'value': 'Kickapoo'}}, {'language': {'type': 'uri', 'value': 'http://www.wikidata.org/entity/Q1185133'}, 'coordinates': {'datatype': 'http://www.opengis.net/ont/geosparql#wktLiteral', 'type': 'literal', 'value': 'Point(-77.5 42.5)'}, 'statecount': {'datatype': 'http://www.w3.org/2001/XMLSchema#integer', 'type': 'literal', 'value': '1'}, 'languageLabel': {'xml:lang': 'en', 'type': 'literal', 'value': 'Seneca'}}, {'language': {'type': 'uri', 'value': 'http://www.wikidata.org/entity/Q2270532'}, 'coordinates': {'datatype': 'http://www.opengis.net/ont/geosparql#wktLiteral', 'type': 'literal', 'value': 'Point(-76.5 37.333333333)'}, 'statecount': {'datatype': 'http://www.w3.org/2001/XMLSchema#integer', 'type': 'literal', 'value': '1'}, 'languageLabel': {'xml:lang': 'en', 'type': 'literal', 'value': 'Powhatan'}}, {'language': {'type': 'uri', 'value': 'http://www.wikidata.org/entity/Q3915517'}, 'coordinates': {'datatype': 'http://www.opengis.net/ont/geosparql#wktLiteral', 'type': 'literal', 'value': 'Point(-76.25 38.0)'}, 'statecount': {'datatype': 'http://www.w3.org/2001/XMLSchema#integer', 'type': 'literal', 'value': '2'}, 'languageLabel': {'xml:lang': 'en', 'type': 'literal', 'value': 'Nanticoke'}}, {'language': {'type': 'uri', 'value': 'http://www.wikidata.org/entity/Q3549180'}, 'coordinates': {'datatype': 'http://www.opengis.net/ont/geosparql#wktLiteral', 'type': 'literal', 'value': 'Point(-75.166666666 40.0)'}, 'statecount': {'datatype': 'http://www.w3.org/2001/XMLSchema#integer', 'type': 'literal', 'value': '1'}, 'languageLabel': {'xml:lang': 'en', 'type': 'literal', 'value': 'Unami'}}, {'language': {'type': 'uri', 'value': 'http://www.wikidata.org/entity/Q32967'}, 'coordinates': {'datatype': 'http://www.opengis.net/ont/geosparql#wktLiteral', 'type': 'literal', 'value': 'Point(-76.75 42.75)'}, 'statecount': {'datatype': 'http://www.w3.org/2001/XMLSchema#integer', 'type': 'literal', 'value': '1'}, 'languageLabel': {'xml:lang': 'en', 'type': 'literal', 'value': 'Cayuga'}}, {'language': {'type': 'uri', 'value': 'http://www.wikidata.org/entity/Q3319130'}, 'coordinates': {'datatype': 'http://www.opengis.net/ont/geosparql#wktLiteral', 'type': 'literal', 'value': 'Point(-73.5 42.666666666)'}, 'statecount': {'datatype': 'http://www.w3.org/2001/XMLSchema#integer', 'type': 'literal', 'value': '2'}, 'languageLabel': {'xml:lang': 'en', 'type': 'literal', 'value': 'Mohegan-Pequot'}}, {'language': {'type': 'uri', 'value': 'http://www.wikidata.org/entity/Q56519'}, 'coordinates': {'datatype': 'http://www.opengis.net/ont/geosparql#wktLiteral', 'type': 'literal', 'value': 'Point(-71.0 42.5)'}, 'statecount': {'datatype': 'http://www.w3.org/2001/XMLSchema#integer', 'type': 'literal', 'value': '1'}, 'languageLabel': {'xml:lang': 'en', 'type': 'literal', 'value': 'Massachusett'}}]\n",
      "\n",
      "Mapdata results:\n",
      "{'lat': ['44.5', '43.0', '44.333333333', '43.5', '52.0', '45.0', '21.5', '62.0', '32.166666666', '32.666666666', '33.166666666', '33.333333333', '33.5', '31.0', '32.0', '32.333333333', '32.833333333', '34.333333333', '33.166666666', '34.0', '33.75', '33.25', '33.5', '30.25', '31.833333333', '33.333333333', '29.666666666', '31.75', '33.333333333', '32.666666666', '32.25', '32.333333333', '34.0', '32.0', '33.0', '34.0', '36.25', '36.0', '38.333333333', '38.5', '36.833333333', '36.833333333', '38.0', '38.0', '38.333333333', '39.333333333', '38.666666666', '39.666666666', '39.0', '39.0', '39.0', '40.166666666', '39.5', '39.0', '40.0', '40.75', '40.833333333', '41.083333333', '41.333333333', '41.0', '41.0', '41.666666666', '41.833333333', '41.5', '42.5', '43.5', '44.0', '44.5', '44.5', '45.333333333', '45.5', '46.25', '46.583333333', '48.333333333', '47.916666666', '48.083333333', '47.25', '47.666666666', '48.333333333', '48.45', '48.583333333', '48.75', '48.583333333', '48.7', '48.0', '34.5', '34.666666666', '36.0', '34.5', '36.0', '37.5', '38.0', '37.0', '34.666666666', '35.5', '35.75', '37.833333333', '39.25', '42.0', '41.0', '35.833333333', '36.0', '35.083333333', '34.916666666', '36.166666666', '35.0', '35.416666666', '35.833333333', '36.083333333', '36.25', '36.5', '36.583333333', '39.0', '45.666666666', '46.5', '46.0', '47.5', '47.666666666', '47.25', '48.0', '49.5', '49.5', '50.0', '43.416666666', '47.0', '37.0', '40.0', '40.0', '40.5', '41.0', '42.0', '37.0', '35.75', '40.0', '46.5', '47.0', '45.5', '47.0', '48.0', '45.0', '43.5', '45.5', '47.666666666', '34.833333333', '35.5', '35.5', '36.0', '40.0', '42.25', '42.5', '37.333333333', '38.0', '40.0', '42.75', '42.666666666', '42.5'], 'lon': ['-85.0', '-83.0', '-77.5', '-74.25', '-100.166666667', '-67.0', '-158.0', '-145.0', '-116.5', '-116.166666667', '-116.5', '-117.166666667', '-116.25', '-112.5', '-112.0', '-115.0', '-114.333333333', '-115.166666667', '-113.166666667', '-113.333333333', '-110.0', '-108.0', '-101.5', '-96.75', '-96.5', '-97.333333333', '-91.0', '-91.333333333', '-93.5', '-91.0', '-88.5', '-87.416666666', '-88.0', '-85.0', '-84.0', '-85.0', '-121.75', '-121.0', '-123.0', '-122.5', '-121.75', '-121.5', '-121.0', '-120.333333333', '-120.666666667', '-123.5', '-123.333333333', '-123.5', '-123.333333333', '-122.5', '-122.666666667', '-124.166666667', '-121.5', '-121.0', '-120.666666667', '-121.0', '-124.166666667', '-123.666666667', '-124.0', '-123.0', '-122.5', '-123.0', '-122.666666667', '-121.0', '-121.5', '-124.166666667', '-124.0', '-123.0', '-122.5', '-123.75', '-122.5', '-123.5', '-123.0', '-124.666666667', '-124.25', '-123.75', '-122.5', '-122.75', '-123.75', '-123.333333333', '-123.416666667', '-123.25', '-122.583333333', '-122.666666667', '-122.0', '-120.25', '-120.25', '-118.333333333', '-117.0', '-117.5', '-120.0', '-119.0', '-117.0', '-114.583333333', '-113.75', '-112.5', '-113.333333333', '-120.0', '-118.0', '-114.0', '-110.416666667', '-110.0', '-108.833333333', '-107.583333333', '-108.0', '-106.333333333', '-106.666666667', '-107.0', '-106.083333333', '-106.166666667', '-105.5', '-104.0', '-109.0', '-118.5', '-120.0', '-116.0', '-120.0', '-117.75', '-116.5', '-117.0', '-118.5', '-116.0', '-112.666666667', '-108.833333333', '-108.0', '-99.0', '-103.0', '-100.0', '-96.0', '-98.666666666', '-97.25', '-94.0', '-86.75', '-90.0', '-102.5', '-102.5', '-100.5', '-95.0', '-95.0', '-93.5', '-88.5', '-88.333333333', '-92.5', '-85.166666666', '-83.5', '-80.5', '-77.5', '-83.0', '-84.0', '-77.5', '-76.5', '-76.25', '-75.166666666', '-76.75', '-73.5', '-71.0'], 'text': ['Potawatomi', 'Mesquakie language', 'Wyandot', 'Mohawk', 'Michif', 'Malecite-Passamaquoddy', 'Hawaiian Pidgin', 'Ahtna', 'Tipai', 'Tipai', 'Cupeño', 'Luiseño language', 'Cahuilla', \"O'odham\", \"O'odham\", 'Cocopah', 'Quechan', 'Colorado River Numic language', 'Maricopa', 'Havasupai–Hualapai language', 'Western Apache', 'Mescalero-Chiricahua', 'Comanche', 'Tonkawa', 'Kitsai', 'Wichita', 'Chitimacha', 'Natchez', 'Caddo', 'Tunica', 'Choctaw', 'Alabama', 'Chickasaw', 'Mikasuki', 'Muscogee', 'Muscogee', 'Esselen', 'Salinan', 'Coast Miwok', 'Wappo', 'Southern Ohlone', 'Southern Ohlone', 'Plains Miwok', 'Central Sierra Miwok', 'Northern Sierra Miwok', 'Northern Pomo', 'Kashaya', 'Yuki', 'Central Pomo', 'Southeastern Pomo', 'Eastern Pomo', 'Mattole', 'Konkow language', 'Nisenan', 'Maidu language', 'Atsugewi', 'Wiyot', 'Hupa', 'Yurok', 'Chimariko', 'Wintu', 'Karuk', 'Shasta', 'Achumawi', 'Klamath language', 'Hanis language', 'Siuslaw', 'Central Kalapuya language', 'Molala language', 'Tillamook', 'Wasco-Wishram', 'Lower Chinook', 'Upper Chehalis', 'Makah', 'Quileute', 'Klallam language', 'Southern Puget Sound Salish', 'Twana', 'North Straits Salish language', 'North Straits Salish language', 'North Straits Salish language', 'North Straits Salish language', 'North Straits Salish language', 'North Straits Salish language', 'Lushootseed', 'Barbareño', 'Ineseño', 'Tübatulabal', 'Serrano', 'Kawaiisu', 'Southern Sierra Miwok', 'Mono language', 'Timbisha language', 'Mojave', 'Havasupai–Hualapai language', 'Havasupai–Hualapai language', 'Colorado River Numic language', 'Washo', 'Northern Paiute', 'Shoshoni', 'Tewa language', 'Hopi', 'Zuni', 'Western Keres', 'Navajo', 'Southern Tiwa', 'Eastern Keres', 'Jemez', 'Tewa language', 'Tewa language', 'Taos dialect', 'Jicarilla', 'Colorado River Numic language', 'Umatilla', 'Walla Walla', 'Nez Perce', 'Columbia-Moses language', 'Spokane', \"Coeur d'Alene\", 'Salish-Spokane-Kalispel language', 'Okanagan', 'Kutenai', 'Blackfoot', 'Shoshoni', 'Crow', 'Kiowa', 'Arapaho', 'Plains Indian Sign Language', 'Chiwere language', 'Pawnee', 'Omaha–Ponca', 'Osage', 'Yuchi', 'Piedras negras Coahuila', 'Mandan', 'Hidatsa', 'Arikara', 'Cheyenne', 'Chippewa', 'Dakota', 'Winnebago', 'Menominee', 'Chippewa', 'Koasati', 'Cherokee', 'Catawba', 'Tuscarora', 'Shawnee', 'Kickapoo', 'Seneca', 'Powhatan', 'Nanticoke', 'Unami', 'Cayuga', 'Mohegan-Pequot', 'Massachusett'], 'count_size': [10, 10, 7, 7, 7, 7, 8, 7, 7, 7, 7, 7, 7, 7, 7, 8, 7, 12, 7, 7, 7, 8, 7, 7, 7, 7, 7, 9, 7, 7, 9, 8, 8, 7, 8, 8, 7, 7, 7, 7, 7, 7, 7, 7, 7, 7, 7, 7, 7, 7, 7, 7, 7, 7, 7, 7, 7, 7, 7, 7, 7, 7, 7, 7, 7, 7, 7, 7, 8, 7, 8, 8, 7, 7, 7, 7, 7, 7, 7, 7, 7, 7, 7, 7, 7, 7, 7, 7, 7, 7, 7, 8, 8, 9, 7, 7, 12, 8, 10, 10, 8, 9, 7, 7, 10, 7, 7, 7, 8, 8, 7, 7, 12, 7, 7, 9, 7, 7, 7, 8, 7, 8, 7, 10, 7, 7, 7, 7, 7, 7, 10, 7, 7, 8, 7, 7, 7, 7, 10, 11, 10, 7, 10, 7, 7, 7, 8, 7, 9, 7, 7, 8, 7, 7, 8, 7], 'count_color': [800, 800, 200, 200, 200, 200, 400, 200, 200, 200, 200, 200, 200, 200, 200, 400, 200, 1200, 200, 200, 200, 400, 200, 200, 200, 200, 200, 600, 200, 200, 600, 400, 400, 200, 400, 400, 200, 200, 200, 200, 200, 200, 200, 200, 200, 200, 200, 200, 200, 200, 200, 200, 200, 200, 200, 200, 200, 200, 200, 200, 200, 200, 200, 200, 200, 200, 200, 200, 400, 200, 400, 400, 200, 200, 200, 200, 200, 200, 200, 200, 200, 200, 200, 200, 200, 200, 200, 200, 200, 200, 200, 400, 400, 600, 200, 200, 1200, 400, 800, 800, 400, 600, 200, 200, 800, 200, 200, 200, 400, 400, 200, 200, 1200, 200, 200, 600, 200, 200, 200, 400, 200, 400, 200, 800, 200, 200, 200, 200, 200, 200, 800, 200, 200, 400, 200, 200, 200, 200, 800, 1000, 800, 200, 800, 200, 200, 200, 400, 200, 600, 200, 200, 400, 200, 200, 400, 200]}\n"
     ]
    }
   ],
   "source": [
    "languages_query()"
   ]
  },
  {
   "cell_type": "code",
   "execution_count": 90,
   "metadata": {},
   "outputs": [],
   "source": [
    "#display map\n",
    "def display_map(data):\n",
    "    fig = go.Figure(data=go.Scattergeo(\n",
    "        lon = data['lon'],\n",
    "        lat = data['lat'],\n",
    "        text = data['text'],\n",
    "        mode = 'markers',\n",
    "        \n",
    "        marker = dict(\n",
    "            size=data['count_size'],\n",
    "            color=data['count_color'],\n",
    "            )\n",
    "        ))\n",
    "\n",
    "    fig.update_layout(\n",
    "            title = 'Languages in Contiguous United States',\n",
    "            geo_scope = 'north america'\n",
    "        )\n",
    "    fig.show()"
   ]
  },
  {
   "cell_type": "code",
   "execution_count": 91,
   "metadata": {
    "scrolled": true
   },
   "outputs": [
    {
     "data": {
      "application/vnd.plotly.v1+json": {
       "config": {
        "plotlyServerURL": "https://plot.ly"
       },
       "data": [
        {
         "lat": [
          "44.5",
          "43.0",
          "44.333333333",
          "43.5",
          "52.0",
          "45.0",
          "21.5",
          "62.0",
          "32.166666666",
          "32.666666666",
          "33.166666666",
          "33.333333333",
          "33.5",
          "31.0",
          "32.0",
          "32.333333333",
          "32.833333333",
          "34.333333333",
          "33.166666666",
          "34.0",
          "33.75",
          "33.25",
          "33.5",
          "30.25",
          "31.833333333",
          "33.333333333",
          "29.666666666",
          "31.75",
          "33.333333333",
          "32.666666666",
          "32.25",
          "32.333333333",
          "34.0",
          "32.0",
          "33.0",
          "34.0",
          "36.25",
          "36.0",
          "38.333333333",
          "38.5",
          "36.833333333",
          "36.833333333",
          "38.0",
          "38.0",
          "38.333333333",
          "39.333333333",
          "38.666666666",
          "39.666666666",
          "39.0",
          "39.0",
          "39.0",
          "40.166666666",
          "39.5",
          "39.0",
          "40.0",
          "40.75",
          "40.833333333",
          "41.083333333",
          "41.333333333",
          "41.0",
          "41.0",
          "41.666666666",
          "41.833333333",
          "41.5",
          "42.5",
          "43.5",
          "44.0",
          "44.5",
          "44.5",
          "45.333333333",
          "45.5",
          "46.25",
          "46.583333333",
          "48.333333333",
          "47.916666666",
          "48.083333333",
          "47.25",
          "47.666666666",
          "48.333333333",
          "48.45",
          "48.583333333",
          "48.75",
          "48.583333333",
          "48.7",
          "48.0",
          "34.5",
          "34.666666666",
          "36.0",
          "34.5",
          "36.0",
          "37.5",
          "38.0",
          "37.0",
          "34.666666666",
          "35.5",
          "35.75",
          "37.833333333",
          "39.25",
          "42.0",
          "41.0",
          "35.833333333",
          "36.0",
          "35.083333333",
          "34.916666666",
          "36.166666666",
          "35.0",
          "35.416666666",
          "35.833333333",
          "36.083333333",
          "36.25",
          "36.5",
          "36.583333333",
          "39.0",
          "45.666666666",
          "46.5",
          "46.0",
          "47.5",
          "47.666666666",
          "47.25",
          "48.0",
          "49.5",
          "49.5",
          "50.0",
          "43.416666666",
          "47.0",
          "37.0",
          "40.0",
          "40.0",
          "40.5",
          "41.0",
          "42.0",
          "37.0",
          "35.75",
          "40.0",
          "46.5",
          "47.0",
          "45.5",
          "47.0",
          "48.0",
          "45.0",
          "43.5",
          "45.5",
          "47.666666666",
          "34.833333333",
          "35.5",
          "35.5",
          "36.0",
          "40.0",
          "42.25",
          "42.5",
          "37.333333333",
          "38.0",
          "40.0",
          "42.75",
          "42.666666666",
          "42.5"
         ],
         "lon": [
          "-85.0",
          "-83.0",
          "-77.5",
          "-74.25",
          "-100.166666667",
          "-67.0",
          "-158.0",
          "-145.0",
          "-116.5",
          "-116.166666667",
          "-116.5",
          "-117.166666667",
          "-116.25",
          "-112.5",
          "-112.0",
          "-115.0",
          "-114.333333333",
          "-115.166666667",
          "-113.166666667",
          "-113.333333333",
          "-110.0",
          "-108.0",
          "-101.5",
          "-96.75",
          "-96.5",
          "-97.333333333",
          "-91.0",
          "-91.333333333",
          "-93.5",
          "-91.0",
          "-88.5",
          "-87.416666666",
          "-88.0",
          "-85.0",
          "-84.0",
          "-85.0",
          "-121.75",
          "-121.0",
          "-123.0",
          "-122.5",
          "-121.75",
          "-121.5",
          "-121.0",
          "-120.333333333",
          "-120.666666667",
          "-123.5",
          "-123.333333333",
          "-123.5",
          "-123.333333333",
          "-122.5",
          "-122.666666667",
          "-124.166666667",
          "-121.5",
          "-121.0",
          "-120.666666667",
          "-121.0",
          "-124.166666667",
          "-123.666666667",
          "-124.0",
          "-123.0",
          "-122.5",
          "-123.0",
          "-122.666666667",
          "-121.0",
          "-121.5",
          "-124.166666667",
          "-124.0",
          "-123.0",
          "-122.5",
          "-123.75",
          "-122.5",
          "-123.5",
          "-123.0",
          "-124.666666667",
          "-124.25",
          "-123.75",
          "-122.5",
          "-122.75",
          "-123.75",
          "-123.333333333",
          "-123.416666667",
          "-123.25",
          "-122.583333333",
          "-122.666666667",
          "-122.0",
          "-120.25",
          "-120.25",
          "-118.333333333",
          "-117.0",
          "-117.5",
          "-120.0",
          "-119.0",
          "-117.0",
          "-114.583333333",
          "-113.75",
          "-112.5",
          "-113.333333333",
          "-120.0",
          "-118.0",
          "-114.0",
          "-110.416666667",
          "-110.0",
          "-108.833333333",
          "-107.583333333",
          "-108.0",
          "-106.333333333",
          "-106.666666667",
          "-107.0",
          "-106.083333333",
          "-106.166666667",
          "-105.5",
          "-104.0",
          "-109.0",
          "-118.5",
          "-120.0",
          "-116.0",
          "-120.0",
          "-117.75",
          "-116.5",
          "-117.0",
          "-118.5",
          "-116.0",
          "-112.666666667",
          "-108.833333333",
          "-108.0",
          "-99.0",
          "-103.0",
          "-100.0",
          "-96.0",
          "-98.666666666",
          "-97.25",
          "-94.0",
          "-86.75",
          "-90.0",
          "-102.5",
          "-102.5",
          "-100.5",
          "-95.0",
          "-95.0",
          "-93.5",
          "-88.5",
          "-88.333333333",
          "-92.5",
          "-85.166666666",
          "-83.5",
          "-80.5",
          "-77.5",
          "-83.0",
          "-84.0",
          "-77.5",
          "-76.5",
          "-76.25",
          "-75.166666666",
          "-76.75",
          "-73.5",
          "-71.0"
         ],
         "marker": {
          "color": [
           800,
           800,
           200,
           200,
           200,
           200,
           400,
           200,
           200,
           200,
           200,
           200,
           200,
           200,
           200,
           400,
           200,
           1200,
           200,
           200,
           200,
           400,
           200,
           200,
           200,
           200,
           200,
           600,
           200,
           200,
           600,
           400,
           400,
           200,
           400,
           400,
           200,
           200,
           200,
           200,
           200,
           200,
           200,
           200,
           200,
           200,
           200,
           200,
           200,
           200,
           200,
           200,
           200,
           200,
           200,
           200,
           200,
           200,
           200,
           200,
           200,
           200,
           200,
           200,
           200,
           200,
           200,
           200,
           400,
           200,
           400,
           400,
           200,
           200,
           200,
           200,
           200,
           200,
           200,
           200,
           200,
           200,
           200,
           200,
           200,
           200,
           200,
           200,
           200,
           200,
           200,
           400,
           400,
           600,
           200,
           200,
           1200,
           400,
           800,
           800,
           400,
           600,
           200,
           200,
           800,
           200,
           200,
           200,
           400,
           400,
           200,
           200,
           1200,
           200,
           200,
           600,
           200,
           200,
           200,
           400,
           200,
           400,
           200,
           800,
           200,
           200,
           200,
           200,
           200,
           200,
           800,
           200,
           200,
           400,
           200,
           200,
           200,
           200,
           800,
           1000,
           800,
           200,
           800,
           200,
           200,
           200,
           400,
           200,
           600,
           200,
           200,
           400,
           200,
           200,
           400,
           200
          ],
          "size": [
           10,
           10,
           7,
           7,
           7,
           7,
           8,
           7,
           7,
           7,
           7,
           7,
           7,
           7,
           7,
           8,
           7,
           12,
           7,
           7,
           7,
           8,
           7,
           7,
           7,
           7,
           7,
           9,
           7,
           7,
           9,
           8,
           8,
           7,
           8,
           8,
           7,
           7,
           7,
           7,
           7,
           7,
           7,
           7,
           7,
           7,
           7,
           7,
           7,
           7,
           7,
           7,
           7,
           7,
           7,
           7,
           7,
           7,
           7,
           7,
           7,
           7,
           7,
           7,
           7,
           7,
           7,
           7,
           8,
           7,
           8,
           8,
           7,
           7,
           7,
           7,
           7,
           7,
           7,
           7,
           7,
           7,
           7,
           7,
           7,
           7,
           7,
           7,
           7,
           7,
           7,
           8,
           8,
           9,
           7,
           7,
           12,
           8,
           10,
           10,
           8,
           9,
           7,
           7,
           10,
           7,
           7,
           7,
           8,
           8,
           7,
           7,
           12,
           7,
           7,
           9,
           7,
           7,
           7,
           8,
           7,
           8,
           7,
           10,
           7,
           7,
           7,
           7,
           7,
           7,
           10,
           7,
           7,
           8,
           7,
           7,
           7,
           7,
           10,
           11,
           10,
           7,
           10,
           7,
           7,
           7,
           8,
           7,
           9,
           7,
           7,
           8,
           7,
           7,
           8,
           7
          ]
         },
         "mode": "markers",
         "text": [
          "Potawatomi",
          "Mesquakie language",
          "Wyandot",
          "Mohawk",
          "Michif",
          "Malecite-Passamaquoddy",
          "Hawaiian Pidgin",
          "Ahtna",
          "Tipai",
          "Tipai",
          "Cupeño",
          "Luiseño language",
          "Cahuilla",
          "O'odham",
          "O'odham",
          "Cocopah",
          "Quechan",
          "Colorado River Numic language",
          "Maricopa",
          "Havasupai–Hualapai language",
          "Western Apache",
          "Mescalero-Chiricahua",
          "Comanche",
          "Tonkawa",
          "Kitsai",
          "Wichita",
          "Chitimacha",
          "Natchez",
          "Caddo",
          "Tunica",
          "Choctaw",
          "Alabama",
          "Chickasaw",
          "Mikasuki",
          "Muscogee",
          "Muscogee",
          "Esselen",
          "Salinan",
          "Coast Miwok",
          "Wappo",
          "Southern Ohlone",
          "Southern Ohlone",
          "Plains Miwok",
          "Central Sierra Miwok",
          "Northern Sierra Miwok",
          "Northern Pomo",
          "Kashaya",
          "Yuki",
          "Central Pomo",
          "Southeastern Pomo",
          "Eastern Pomo",
          "Mattole",
          "Konkow language",
          "Nisenan",
          "Maidu language",
          "Atsugewi",
          "Wiyot",
          "Hupa",
          "Yurok",
          "Chimariko",
          "Wintu",
          "Karuk",
          "Shasta",
          "Achumawi",
          "Klamath language",
          "Hanis language",
          "Siuslaw",
          "Central Kalapuya language",
          "Molala language",
          "Tillamook",
          "Wasco-Wishram",
          "Lower Chinook",
          "Upper Chehalis",
          "Makah",
          "Quileute",
          "Klallam language",
          "Southern Puget Sound Salish",
          "Twana",
          "North Straits Salish language",
          "North Straits Salish language",
          "North Straits Salish language",
          "North Straits Salish language",
          "North Straits Salish language",
          "North Straits Salish language",
          "Lushootseed",
          "Barbareño",
          "Ineseño",
          "Tübatulabal",
          "Serrano",
          "Kawaiisu",
          "Southern Sierra Miwok",
          "Mono language",
          "Timbisha language",
          "Mojave",
          "Havasupai–Hualapai language",
          "Havasupai–Hualapai language",
          "Colorado River Numic language",
          "Washo",
          "Northern Paiute",
          "Shoshoni",
          "Tewa language",
          "Hopi",
          "Zuni",
          "Western Keres",
          "Navajo",
          "Southern Tiwa",
          "Eastern Keres",
          "Jemez",
          "Tewa language",
          "Tewa language",
          "Taos dialect",
          "Jicarilla",
          "Colorado River Numic language",
          "Umatilla",
          "Walla Walla",
          "Nez Perce",
          "Columbia-Moses language",
          "Spokane",
          "Coeur d'Alene",
          "Salish-Spokane-Kalispel language",
          "Okanagan",
          "Kutenai",
          "Blackfoot",
          "Shoshoni",
          "Crow",
          "Kiowa",
          "Arapaho",
          "Plains Indian Sign Language",
          "Chiwere language",
          "Pawnee",
          "Omaha–Ponca",
          "Osage",
          "Yuchi",
          "Piedras negras Coahuila",
          "Mandan",
          "Hidatsa",
          "Arikara",
          "Cheyenne",
          "Chippewa",
          "Dakota",
          "Winnebago",
          "Menominee",
          "Chippewa",
          "Koasati",
          "Cherokee",
          "Catawba",
          "Tuscarora",
          "Shawnee",
          "Kickapoo",
          "Seneca",
          "Powhatan",
          "Nanticoke",
          "Unami",
          "Cayuga",
          "Mohegan-Pequot",
          "Massachusett"
         ],
         "type": "scattergeo"
        }
       ],
       "layout": {
        "geo": {
         "scope": "north america"
        },
        "template": {
         "data": {
          "bar": [
           {
            "error_x": {
             "color": "#2a3f5f"
            },
            "error_y": {
             "color": "#2a3f5f"
            },
            "marker": {
             "line": {
              "color": "#E5ECF6",
              "width": 0.5
             }
            },
            "type": "bar"
           }
          ],
          "barpolar": [
           {
            "marker": {
             "line": {
              "color": "#E5ECF6",
              "width": 0.5
             }
            },
            "type": "barpolar"
           }
          ],
          "carpet": [
           {
            "aaxis": {
             "endlinecolor": "#2a3f5f",
             "gridcolor": "white",
             "linecolor": "white",
             "minorgridcolor": "white",
             "startlinecolor": "#2a3f5f"
            },
            "baxis": {
             "endlinecolor": "#2a3f5f",
             "gridcolor": "white",
             "linecolor": "white",
             "minorgridcolor": "white",
             "startlinecolor": "#2a3f5f"
            },
            "type": "carpet"
           }
          ],
          "choropleth": [
           {
            "colorbar": {
             "outlinewidth": 0,
             "ticks": ""
            },
            "type": "choropleth"
           }
          ],
          "contour": [
           {
            "colorbar": {
             "outlinewidth": 0,
             "ticks": ""
            },
            "colorscale": [
             [
              0,
              "#0d0887"
             ],
             [
              0.1111111111111111,
              "#46039f"
             ],
             [
              0.2222222222222222,
              "#7201a8"
             ],
             [
              0.3333333333333333,
              "#9c179e"
             ],
             [
              0.4444444444444444,
              "#bd3786"
             ],
             [
              0.5555555555555556,
              "#d8576b"
             ],
             [
              0.6666666666666666,
              "#ed7953"
             ],
             [
              0.7777777777777778,
              "#fb9f3a"
             ],
             [
              0.8888888888888888,
              "#fdca26"
             ],
             [
              1,
              "#f0f921"
             ]
            ],
            "type": "contour"
           }
          ],
          "contourcarpet": [
           {
            "colorbar": {
             "outlinewidth": 0,
             "ticks": ""
            },
            "type": "contourcarpet"
           }
          ],
          "heatmap": [
           {
            "colorbar": {
             "outlinewidth": 0,
             "ticks": ""
            },
            "colorscale": [
             [
              0,
              "#0d0887"
             ],
             [
              0.1111111111111111,
              "#46039f"
             ],
             [
              0.2222222222222222,
              "#7201a8"
             ],
             [
              0.3333333333333333,
              "#9c179e"
             ],
             [
              0.4444444444444444,
              "#bd3786"
             ],
             [
              0.5555555555555556,
              "#d8576b"
             ],
             [
              0.6666666666666666,
              "#ed7953"
             ],
             [
              0.7777777777777778,
              "#fb9f3a"
             ],
             [
              0.8888888888888888,
              "#fdca26"
             ],
             [
              1,
              "#f0f921"
             ]
            ],
            "type": "heatmap"
           }
          ],
          "heatmapgl": [
           {
            "colorbar": {
             "outlinewidth": 0,
             "ticks": ""
            },
            "colorscale": [
             [
              0,
              "#0d0887"
             ],
             [
              0.1111111111111111,
              "#46039f"
             ],
             [
              0.2222222222222222,
              "#7201a8"
             ],
             [
              0.3333333333333333,
              "#9c179e"
             ],
             [
              0.4444444444444444,
              "#bd3786"
             ],
             [
              0.5555555555555556,
              "#d8576b"
             ],
             [
              0.6666666666666666,
              "#ed7953"
             ],
             [
              0.7777777777777778,
              "#fb9f3a"
             ],
             [
              0.8888888888888888,
              "#fdca26"
             ],
             [
              1,
              "#f0f921"
             ]
            ],
            "type": "heatmapgl"
           }
          ],
          "histogram": [
           {
            "marker": {
             "colorbar": {
              "outlinewidth": 0,
              "ticks": ""
             }
            },
            "type": "histogram"
           }
          ],
          "histogram2d": [
           {
            "colorbar": {
             "outlinewidth": 0,
             "ticks": ""
            },
            "colorscale": [
             [
              0,
              "#0d0887"
             ],
             [
              0.1111111111111111,
              "#46039f"
             ],
             [
              0.2222222222222222,
              "#7201a8"
             ],
             [
              0.3333333333333333,
              "#9c179e"
             ],
             [
              0.4444444444444444,
              "#bd3786"
             ],
             [
              0.5555555555555556,
              "#d8576b"
             ],
             [
              0.6666666666666666,
              "#ed7953"
             ],
             [
              0.7777777777777778,
              "#fb9f3a"
             ],
             [
              0.8888888888888888,
              "#fdca26"
             ],
             [
              1,
              "#f0f921"
             ]
            ],
            "type": "histogram2d"
           }
          ],
          "histogram2dcontour": [
           {
            "colorbar": {
             "outlinewidth": 0,
             "ticks": ""
            },
            "colorscale": [
             [
              0,
              "#0d0887"
             ],
             [
              0.1111111111111111,
              "#46039f"
             ],
             [
              0.2222222222222222,
              "#7201a8"
             ],
             [
              0.3333333333333333,
              "#9c179e"
             ],
             [
              0.4444444444444444,
              "#bd3786"
             ],
             [
              0.5555555555555556,
              "#d8576b"
             ],
             [
              0.6666666666666666,
              "#ed7953"
             ],
             [
              0.7777777777777778,
              "#fb9f3a"
             ],
             [
              0.8888888888888888,
              "#fdca26"
             ],
             [
              1,
              "#f0f921"
             ]
            ],
            "type": "histogram2dcontour"
           }
          ],
          "mesh3d": [
           {
            "colorbar": {
             "outlinewidth": 0,
             "ticks": ""
            },
            "type": "mesh3d"
           }
          ],
          "parcoords": [
           {
            "line": {
             "colorbar": {
              "outlinewidth": 0,
              "ticks": ""
             }
            },
            "type": "parcoords"
           }
          ],
          "pie": [
           {
            "automargin": true,
            "type": "pie"
           }
          ],
          "scatter": [
           {
            "marker": {
             "colorbar": {
              "outlinewidth": 0,
              "ticks": ""
             }
            },
            "type": "scatter"
           }
          ],
          "scatter3d": [
           {
            "line": {
             "colorbar": {
              "outlinewidth": 0,
              "ticks": ""
             }
            },
            "marker": {
             "colorbar": {
              "outlinewidth": 0,
              "ticks": ""
             }
            },
            "type": "scatter3d"
           }
          ],
          "scattercarpet": [
           {
            "marker": {
             "colorbar": {
              "outlinewidth": 0,
              "ticks": ""
             }
            },
            "type": "scattercarpet"
           }
          ],
          "scattergeo": [
           {
            "marker": {
             "colorbar": {
              "outlinewidth": 0,
              "ticks": ""
             }
            },
            "type": "scattergeo"
           }
          ],
          "scattergl": [
           {
            "marker": {
             "colorbar": {
              "outlinewidth": 0,
              "ticks": ""
             }
            },
            "type": "scattergl"
           }
          ],
          "scattermapbox": [
           {
            "marker": {
             "colorbar": {
              "outlinewidth": 0,
              "ticks": ""
             }
            },
            "type": "scattermapbox"
           }
          ],
          "scatterpolar": [
           {
            "marker": {
             "colorbar": {
              "outlinewidth": 0,
              "ticks": ""
             }
            },
            "type": "scatterpolar"
           }
          ],
          "scatterpolargl": [
           {
            "marker": {
             "colorbar": {
              "outlinewidth": 0,
              "ticks": ""
             }
            },
            "type": "scatterpolargl"
           }
          ],
          "scatterternary": [
           {
            "marker": {
             "colorbar": {
              "outlinewidth": 0,
              "ticks": ""
             }
            },
            "type": "scatterternary"
           }
          ],
          "surface": [
           {
            "colorbar": {
             "outlinewidth": 0,
             "ticks": ""
            },
            "colorscale": [
             [
              0,
              "#0d0887"
             ],
             [
              0.1111111111111111,
              "#46039f"
             ],
             [
              0.2222222222222222,
              "#7201a8"
             ],
             [
              0.3333333333333333,
              "#9c179e"
             ],
             [
              0.4444444444444444,
              "#bd3786"
             ],
             [
              0.5555555555555556,
              "#d8576b"
             ],
             [
              0.6666666666666666,
              "#ed7953"
             ],
             [
              0.7777777777777778,
              "#fb9f3a"
             ],
             [
              0.8888888888888888,
              "#fdca26"
             ],
             [
              1,
              "#f0f921"
             ]
            ],
            "type": "surface"
           }
          ],
          "table": [
           {
            "cells": {
             "fill": {
              "color": "#EBF0F8"
             },
             "line": {
              "color": "white"
             }
            },
            "header": {
             "fill": {
              "color": "#C8D4E3"
             },
             "line": {
              "color": "white"
             }
            },
            "type": "table"
           }
          ]
         },
         "layout": {
          "annotationdefaults": {
           "arrowcolor": "#2a3f5f",
           "arrowhead": 0,
           "arrowwidth": 1
          },
          "coloraxis": {
           "colorbar": {
            "outlinewidth": 0,
            "ticks": ""
           }
          },
          "colorscale": {
           "diverging": [
            [
             0,
             "#8e0152"
            ],
            [
             0.1,
             "#c51b7d"
            ],
            [
             0.2,
             "#de77ae"
            ],
            [
             0.3,
             "#f1b6da"
            ],
            [
             0.4,
             "#fde0ef"
            ],
            [
             0.5,
             "#f7f7f7"
            ],
            [
             0.6,
             "#e6f5d0"
            ],
            [
             0.7,
             "#b8e186"
            ],
            [
             0.8,
             "#7fbc41"
            ],
            [
             0.9,
             "#4d9221"
            ],
            [
             1,
             "#276419"
            ]
           ],
           "sequential": [
            [
             0,
             "#0d0887"
            ],
            [
             0.1111111111111111,
             "#46039f"
            ],
            [
             0.2222222222222222,
             "#7201a8"
            ],
            [
             0.3333333333333333,
             "#9c179e"
            ],
            [
             0.4444444444444444,
             "#bd3786"
            ],
            [
             0.5555555555555556,
             "#d8576b"
            ],
            [
             0.6666666666666666,
             "#ed7953"
            ],
            [
             0.7777777777777778,
             "#fb9f3a"
            ],
            [
             0.8888888888888888,
             "#fdca26"
            ],
            [
             1,
             "#f0f921"
            ]
           ],
           "sequentialminus": [
            [
             0,
             "#0d0887"
            ],
            [
             0.1111111111111111,
             "#46039f"
            ],
            [
             0.2222222222222222,
             "#7201a8"
            ],
            [
             0.3333333333333333,
             "#9c179e"
            ],
            [
             0.4444444444444444,
             "#bd3786"
            ],
            [
             0.5555555555555556,
             "#d8576b"
            ],
            [
             0.6666666666666666,
             "#ed7953"
            ],
            [
             0.7777777777777778,
             "#fb9f3a"
            ],
            [
             0.8888888888888888,
             "#fdca26"
            ],
            [
             1,
             "#f0f921"
            ]
           ]
          },
          "colorway": [
           "#636efa",
           "#EF553B",
           "#00cc96",
           "#ab63fa",
           "#FFA15A",
           "#19d3f3",
           "#FF6692",
           "#B6E880",
           "#FF97FF",
           "#FECB52"
          ],
          "font": {
           "color": "#2a3f5f"
          },
          "geo": {
           "bgcolor": "white",
           "lakecolor": "white",
           "landcolor": "#E5ECF6",
           "showlakes": true,
           "showland": true,
           "subunitcolor": "white"
          },
          "hoverlabel": {
           "align": "left"
          },
          "hovermode": "closest",
          "mapbox": {
           "style": "light"
          },
          "paper_bgcolor": "white",
          "plot_bgcolor": "#E5ECF6",
          "polar": {
           "angularaxis": {
            "gridcolor": "white",
            "linecolor": "white",
            "ticks": ""
           },
           "bgcolor": "#E5ECF6",
           "radialaxis": {
            "gridcolor": "white",
            "linecolor": "white",
            "ticks": ""
           }
          },
          "scene": {
           "xaxis": {
            "backgroundcolor": "#E5ECF6",
            "gridcolor": "white",
            "gridwidth": 2,
            "linecolor": "white",
            "showbackground": true,
            "ticks": "",
            "zerolinecolor": "white"
           },
           "yaxis": {
            "backgroundcolor": "#E5ECF6",
            "gridcolor": "white",
            "gridwidth": 2,
            "linecolor": "white",
            "showbackground": true,
            "ticks": "",
            "zerolinecolor": "white"
           },
           "zaxis": {
            "backgroundcolor": "#E5ECF6",
            "gridcolor": "white",
            "gridwidth": 2,
            "linecolor": "white",
            "showbackground": true,
            "ticks": "",
            "zerolinecolor": "white"
           }
          },
          "shapedefaults": {
           "line": {
            "color": "#2a3f5f"
           }
          },
          "ternary": {
           "aaxis": {
            "gridcolor": "white",
            "linecolor": "white",
            "ticks": ""
           },
           "baxis": {
            "gridcolor": "white",
            "linecolor": "white",
            "ticks": ""
           },
           "bgcolor": "#E5ECF6",
           "caxis": {
            "gridcolor": "white",
            "linecolor": "white",
            "ticks": ""
           }
          },
          "title": {
           "x": 0.05
          },
          "xaxis": {
           "automargin": true,
           "gridcolor": "white",
           "linecolor": "white",
           "ticks": "",
           "title": {
            "standoff": 15
           },
           "zerolinecolor": "white",
           "zerolinewidth": 2
          },
          "yaxis": {
           "automargin": true,
           "gridcolor": "white",
           "linecolor": "white",
           "ticks": "",
           "title": {
            "standoff": 15
           },
           "zerolinecolor": "white",
           "zerolinewidth": 2
          }
         }
        },
        "title": {
         "text": "Languages in Contiguous United States"
        }
       }
      },
      "text/html": [
       "<div>\n",
       "        \n",
       "        \n",
       "            <div id=\"db5633db-27f3-4e02-b301-b8ddeb148b04\" class=\"plotly-graph-div\" style=\"height:525px; width:100%;\"></div>\n",
       "            <script type=\"text/javascript\">\n",
       "                require([\"plotly\"], function(Plotly) {\n",
       "                    window.PLOTLYENV=window.PLOTLYENV || {};\n",
       "                    \n",
       "                if (document.getElementById(\"db5633db-27f3-4e02-b301-b8ddeb148b04\")) {\n",
       "                    Plotly.newPlot(\n",
       "                        'db5633db-27f3-4e02-b301-b8ddeb148b04',\n",
       "                        [{\"lat\": [\"44.5\", \"43.0\", \"44.333333333\", \"43.5\", \"52.0\", \"45.0\", \"21.5\", \"62.0\", \"32.166666666\", \"32.666666666\", \"33.166666666\", \"33.333333333\", \"33.5\", \"31.0\", \"32.0\", \"32.333333333\", \"32.833333333\", \"34.333333333\", \"33.166666666\", \"34.0\", \"33.75\", \"33.25\", \"33.5\", \"30.25\", \"31.833333333\", \"33.333333333\", \"29.666666666\", \"31.75\", \"33.333333333\", \"32.666666666\", \"32.25\", \"32.333333333\", \"34.0\", \"32.0\", \"33.0\", \"34.0\", \"36.25\", \"36.0\", \"38.333333333\", \"38.5\", \"36.833333333\", \"36.833333333\", \"38.0\", \"38.0\", \"38.333333333\", \"39.333333333\", \"38.666666666\", \"39.666666666\", \"39.0\", \"39.0\", \"39.0\", \"40.166666666\", \"39.5\", \"39.0\", \"40.0\", \"40.75\", \"40.833333333\", \"41.083333333\", \"41.333333333\", \"41.0\", \"41.0\", \"41.666666666\", \"41.833333333\", \"41.5\", \"42.5\", \"43.5\", \"44.0\", \"44.5\", \"44.5\", \"45.333333333\", \"45.5\", \"46.25\", \"46.583333333\", \"48.333333333\", \"47.916666666\", \"48.083333333\", \"47.25\", \"47.666666666\", \"48.333333333\", \"48.45\", \"48.583333333\", \"48.75\", \"48.583333333\", \"48.7\", \"48.0\", \"34.5\", \"34.666666666\", \"36.0\", \"34.5\", \"36.0\", \"37.5\", \"38.0\", \"37.0\", \"34.666666666\", \"35.5\", \"35.75\", \"37.833333333\", \"39.25\", \"42.0\", \"41.0\", \"35.833333333\", \"36.0\", \"35.083333333\", \"34.916666666\", \"36.166666666\", \"35.0\", \"35.416666666\", \"35.833333333\", \"36.083333333\", \"36.25\", \"36.5\", \"36.583333333\", \"39.0\", \"45.666666666\", \"46.5\", \"46.0\", \"47.5\", \"47.666666666\", \"47.25\", \"48.0\", \"49.5\", \"49.5\", \"50.0\", \"43.416666666\", \"47.0\", \"37.0\", \"40.0\", \"40.0\", \"40.5\", \"41.0\", \"42.0\", \"37.0\", \"35.75\", \"40.0\", \"46.5\", \"47.0\", \"45.5\", \"47.0\", \"48.0\", \"45.0\", \"43.5\", \"45.5\", \"47.666666666\", \"34.833333333\", \"35.5\", \"35.5\", \"36.0\", \"40.0\", \"42.25\", \"42.5\", \"37.333333333\", \"38.0\", \"40.0\", \"42.75\", \"42.666666666\", \"42.5\"], \"lon\": [\"-85.0\", \"-83.0\", \"-77.5\", \"-74.25\", \"-100.166666667\", \"-67.0\", \"-158.0\", \"-145.0\", \"-116.5\", \"-116.166666667\", \"-116.5\", \"-117.166666667\", \"-116.25\", \"-112.5\", \"-112.0\", \"-115.0\", \"-114.333333333\", \"-115.166666667\", \"-113.166666667\", \"-113.333333333\", \"-110.0\", \"-108.0\", \"-101.5\", \"-96.75\", \"-96.5\", \"-97.333333333\", \"-91.0\", \"-91.333333333\", \"-93.5\", \"-91.0\", \"-88.5\", \"-87.416666666\", \"-88.0\", \"-85.0\", \"-84.0\", \"-85.0\", \"-121.75\", \"-121.0\", \"-123.0\", \"-122.5\", \"-121.75\", \"-121.5\", \"-121.0\", \"-120.333333333\", \"-120.666666667\", \"-123.5\", \"-123.333333333\", \"-123.5\", \"-123.333333333\", \"-122.5\", \"-122.666666667\", \"-124.166666667\", \"-121.5\", \"-121.0\", \"-120.666666667\", \"-121.0\", \"-124.166666667\", \"-123.666666667\", \"-124.0\", \"-123.0\", \"-122.5\", \"-123.0\", \"-122.666666667\", \"-121.0\", \"-121.5\", \"-124.166666667\", \"-124.0\", \"-123.0\", \"-122.5\", \"-123.75\", \"-122.5\", \"-123.5\", \"-123.0\", \"-124.666666667\", \"-124.25\", \"-123.75\", \"-122.5\", \"-122.75\", \"-123.75\", \"-123.333333333\", \"-123.416666667\", \"-123.25\", \"-122.583333333\", \"-122.666666667\", \"-122.0\", \"-120.25\", \"-120.25\", \"-118.333333333\", \"-117.0\", \"-117.5\", \"-120.0\", \"-119.0\", \"-117.0\", \"-114.583333333\", \"-113.75\", \"-112.5\", \"-113.333333333\", \"-120.0\", \"-118.0\", \"-114.0\", \"-110.416666667\", \"-110.0\", \"-108.833333333\", \"-107.583333333\", \"-108.0\", \"-106.333333333\", \"-106.666666667\", \"-107.0\", \"-106.083333333\", \"-106.166666667\", \"-105.5\", \"-104.0\", \"-109.0\", \"-118.5\", \"-120.0\", \"-116.0\", \"-120.0\", \"-117.75\", \"-116.5\", \"-117.0\", \"-118.5\", \"-116.0\", \"-112.666666667\", \"-108.833333333\", \"-108.0\", \"-99.0\", \"-103.0\", \"-100.0\", \"-96.0\", \"-98.666666666\", \"-97.25\", \"-94.0\", \"-86.75\", \"-90.0\", \"-102.5\", \"-102.5\", \"-100.5\", \"-95.0\", \"-95.0\", \"-93.5\", \"-88.5\", \"-88.333333333\", \"-92.5\", \"-85.166666666\", \"-83.5\", \"-80.5\", \"-77.5\", \"-83.0\", \"-84.0\", \"-77.5\", \"-76.5\", \"-76.25\", \"-75.166666666\", \"-76.75\", \"-73.5\", \"-71.0\"], \"marker\": {\"color\": [800, 800, 200, 200, 200, 200, 400, 200, 200, 200, 200, 200, 200, 200, 200, 400, 200, 1200, 200, 200, 200, 400, 200, 200, 200, 200, 200, 600, 200, 200, 600, 400, 400, 200, 400, 400, 200, 200, 200, 200, 200, 200, 200, 200, 200, 200, 200, 200, 200, 200, 200, 200, 200, 200, 200, 200, 200, 200, 200, 200, 200, 200, 200, 200, 200, 200, 200, 200, 400, 200, 400, 400, 200, 200, 200, 200, 200, 200, 200, 200, 200, 200, 200, 200, 200, 200, 200, 200, 200, 200, 200, 400, 400, 600, 200, 200, 1200, 400, 800, 800, 400, 600, 200, 200, 800, 200, 200, 200, 400, 400, 200, 200, 1200, 200, 200, 600, 200, 200, 200, 400, 200, 400, 200, 800, 200, 200, 200, 200, 200, 200, 800, 200, 200, 400, 200, 200, 200, 200, 800, 1000, 800, 200, 800, 200, 200, 200, 400, 200, 600, 200, 200, 400, 200, 200, 400, 200], \"size\": [10, 10, 7, 7, 7, 7, 8, 7, 7, 7, 7, 7, 7, 7, 7, 8, 7, 12, 7, 7, 7, 8, 7, 7, 7, 7, 7, 9, 7, 7, 9, 8, 8, 7, 8, 8, 7, 7, 7, 7, 7, 7, 7, 7, 7, 7, 7, 7, 7, 7, 7, 7, 7, 7, 7, 7, 7, 7, 7, 7, 7, 7, 7, 7, 7, 7, 7, 7, 8, 7, 8, 8, 7, 7, 7, 7, 7, 7, 7, 7, 7, 7, 7, 7, 7, 7, 7, 7, 7, 7, 7, 8, 8, 9, 7, 7, 12, 8, 10, 10, 8, 9, 7, 7, 10, 7, 7, 7, 8, 8, 7, 7, 12, 7, 7, 9, 7, 7, 7, 8, 7, 8, 7, 10, 7, 7, 7, 7, 7, 7, 10, 7, 7, 8, 7, 7, 7, 7, 10, 11, 10, 7, 10, 7, 7, 7, 8, 7, 9, 7, 7, 8, 7, 7, 8, 7]}, \"mode\": \"markers\", \"text\": [\"Potawatomi\", \"Mesquakie language\", \"Wyandot\", \"Mohawk\", \"Michif\", \"Malecite-Passamaquoddy\", \"Hawaiian Pidgin\", \"Ahtna\", \"Tipai\", \"Tipai\", \"Cupe\\u00f1o\", \"Luise\\u00f1o language\", \"Cahuilla\", \"O'odham\", \"O'odham\", \"Cocopah\", \"Quechan\", \"Colorado River Numic language\", \"Maricopa\", \"Havasupai\\u2013Hualapai language\", \"Western Apache\", \"Mescalero-Chiricahua\", \"Comanche\", \"Tonkawa\", \"Kitsai\", \"Wichita\", \"Chitimacha\", \"Natchez\", \"Caddo\", \"Tunica\", \"Choctaw\", \"Alabama\", \"Chickasaw\", \"Mikasuki\", \"Muscogee\", \"Muscogee\", \"Esselen\", \"Salinan\", \"Coast Miwok\", \"Wappo\", \"Southern Ohlone\", \"Southern Ohlone\", \"Plains Miwok\", \"Central Sierra Miwok\", \"Northern Sierra Miwok\", \"Northern Pomo\", \"Kashaya\", \"Yuki\", \"Central Pomo\", \"Southeastern Pomo\", \"Eastern Pomo\", \"Mattole\", \"Konkow language\", \"Nisenan\", \"Maidu language\", \"Atsugewi\", \"Wiyot\", \"Hupa\", \"Yurok\", \"Chimariko\", \"Wintu\", \"Karuk\", \"Shasta\", \"Achumawi\", \"Klamath language\", \"Hanis language\", \"Siuslaw\", \"Central Kalapuya language\", \"Molala language\", \"Tillamook\", \"Wasco-Wishram\", \"Lower Chinook\", \"Upper Chehalis\", \"Makah\", \"Quileute\", \"Klallam language\", \"Southern Puget Sound Salish\", \"Twana\", \"North Straits Salish language\", \"North Straits Salish language\", \"North Straits Salish language\", \"North Straits Salish language\", \"North Straits Salish language\", \"North Straits Salish language\", \"Lushootseed\", \"Barbare\\u00f1o\", \"Inese\\u00f1o\", \"T\\u00fcbatulabal\", \"Serrano\", \"Kawaiisu\", \"Southern Sierra Miwok\", \"Mono language\", \"Timbisha language\", \"Mojave\", \"Havasupai\\u2013Hualapai language\", \"Havasupai\\u2013Hualapai language\", \"Colorado River Numic language\", \"Washo\", \"Northern Paiute\", \"Shoshoni\", \"Tewa language\", \"Hopi\", \"Zuni\", \"Western Keres\", \"Navajo\", \"Southern Tiwa\", \"Eastern Keres\", \"Jemez\", \"Tewa language\", \"Tewa language\", \"Taos dialect\", \"Jicarilla\", \"Colorado River Numic language\", \"Umatilla\", \"Walla Walla\", \"Nez Perce\", \"Columbia-Moses language\", \"Spokane\", \"Coeur d'Alene\", \"Salish-Spokane-Kalispel language\", \"Okanagan\", \"Kutenai\", \"Blackfoot\", \"Shoshoni\", \"Crow\", \"Kiowa\", \"Arapaho\", \"Plains Indian Sign Language\", \"Chiwere language\", \"Pawnee\", \"Omaha\\u2013Ponca\", \"Osage\", \"Yuchi\", \"Piedras negras Coahuila\", \"Mandan\", \"Hidatsa\", \"Arikara\", \"Cheyenne\", \"Chippewa\", \"Dakota\", \"Winnebago\", \"Menominee\", \"Chippewa\", \"Koasati\", \"Cherokee\", \"Catawba\", \"Tuscarora\", \"Shawnee\", \"Kickapoo\", \"Seneca\", \"Powhatan\", \"Nanticoke\", \"Unami\", \"Cayuga\", \"Mohegan-Pequot\", \"Massachusett\"], \"type\": \"scattergeo\"}],\n",
       "                        {\"geo\": {\"scope\": \"north america\"}, \"template\": {\"data\": {\"bar\": [{\"error_x\": {\"color\": \"#2a3f5f\"}, \"error_y\": {\"color\": \"#2a3f5f\"}, \"marker\": {\"line\": {\"color\": \"#E5ECF6\", \"width\": 0.5}}, \"type\": \"bar\"}], \"barpolar\": [{\"marker\": {\"line\": {\"color\": \"#E5ECF6\", \"width\": 0.5}}, \"type\": \"barpolar\"}], \"carpet\": [{\"aaxis\": {\"endlinecolor\": \"#2a3f5f\", \"gridcolor\": \"white\", \"linecolor\": \"white\", \"minorgridcolor\": \"white\", \"startlinecolor\": \"#2a3f5f\"}, \"baxis\": {\"endlinecolor\": \"#2a3f5f\", \"gridcolor\": \"white\", \"linecolor\": \"white\", \"minorgridcolor\": \"white\", \"startlinecolor\": \"#2a3f5f\"}, \"type\": \"carpet\"}], \"choropleth\": [{\"colorbar\": {\"outlinewidth\": 0, \"ticks\": \"\"}, \"type\": \"choropleth\"}], \"contour\": [{\"colorbar\": {\"outlinewidth\": 0, \"ticks\": \"\"}, \"colorscale\": [[0.0, \"#0d0887\"], [0.1111111111111111, \"#46039f\"], [0.2222222222222222, \"#7201a8\"], [0.3333333333333333, \"#9c179e\"], [0.4444444444444444, \"#bd3786\"], [0.5555555555555556, \"#d8576b\"], [0.6666666666666666, \"#ed7953\"], [0.7777777777777778, \"#fb9f3a\"], [0.8888888888888888, \"#fdca26\"], [1.0, \"#f0f921\"]], \"type\": \"contour\"}], \"contourcarpet\": [{\"colorbar\": {\"outlinewidth\": 0, \"ticks\": \"\"}, \"type\": \"contourcarpet\"}], \"heatmap\": [{\"colorbar\": {\"outlinewidth\": 0, \"ticks\": \"\"}, \"colorscale\": [[0.0, \"#0d0887\"], [0.1111111111111111, \"#46039f\"], [0.2222222222222222, \"#7201a8\"], [0.3333333333333333, \"#9c179e\"], [0.4444444444444444, \"#bd3786\"], [0.5555555555555556, \"#d8576b\"], [0.6666666666666666, \"#ed7953\"], [0.7777777777777778, \"#fb9f3a\"], [0.8888888888888888, \"#fdca26\"], [1.0, \"#f0f921\"]], \"type\": \"heatmap\"}], \"heatmapgl\": [{\"colorbar\": {\"outlinewidth\": 0, \"ticks\": \"\"}, \"colorscale\": [[0.0, \"#0d0887\"], [0.1111111111111111, \"#46039f\"], [0.2222222222222222, \"#7201a8\"], [0.3333333333333333, \"#9c179e\"], [0.4444444444444444, \"#bd3786\"], [0.5555555555555556, \"#d8576b\"], [0.6666666666666666, \"#ed7953\"], [0.7777777777777778, \"#fb9f3a\"], [0.8888888888888888, \"#fdca26\"], [1.0, \"#f0f921\"]], \"type\": \"heatmapgl\"}], \"histogram\": [{\"marker\": {\"colorbar\": {\"outlinewidth\": 0, \"ticks\": \"\"}}, \"type\": \"histogram\"}], \"histogram2d\": [{\"colorbar\": {\"outlinewidth\": 0, \"ticks\": \"\"}, \"colorscale\": [[0.0, \"#0d0887\"], [0.1111111111111111, \"#46039f\"], [0.2222222222222222, \"#7201a8\"], [0.3333333333333333, \"#9c179e\"], [0.4444444444444444, \"#bd3786\"], [0.5555555555555556, \"#d8576b\"], [0.6666666666666666, \"#ed7953\"], [0.7777777777777778, \"#fb9f3a\"], [0.8888888888888888, \"#fdca26\"], [1.0, \"#f0f921\"]], \"type\": \"histogram2d\"}], \"histogram2dcontour\": [{\"colorbar\": {\"outlinewidth\": 0, \"ticks\": \"\"}, \"colorscale\": [[0.0, \"#0d0887\"], [0.1111111111111111, \"#46039f\"], [0.2222222222222222, \"#7201a8\"], [0.3333333333333333, \"#9c179e\"], [0.4444444444444444, \"#bd3786\"], [0.5555555555555556, \"#d8576b\"], [0.6666666666666666, \"#ed7953\"], [0.7777777777777778, \"#fb9f3a\"], [0.8888888888888888, \"#fdca26\"], [1.0, \"#f0f921\"]], \"type\": \"histogram2dcontour\"}], \"mesh3d\": [{\"colorbar\": {\"outlinewidth\": 0, \"ticks\": \"\"}, \"type\": \"mesh3d\"}], \"parcoords\": [{\"line\": {\"colorbar\": {\"outlinewidth\": 0, \"ticks\": \"\"}}, \"type\": \"parcoords\"}], \"pie\": [{\"automargin\": true, \"type\": \"pie\"}], \"scatter\": [{\"marker\": {\"colorbar\": {\"outlinewidth\": 0, \"ticks\": \"\"}}, \"type\": \"scatter\"}], \"scatter3d\": [{\"line\": {\"colorbar\": {\"outlinewidth\": 0, \"ticks\": \"\"}}, \"marker\": {\"colorbar\": {\"outlinewidth\": 0, \"ticks\": \"\"}}, \"type\": \"scatter3d\"}], \"scattercarpet\": [{\"marker\": {\"colorbar\": {\"outlinewidth\": 0, \"ticks\": \"\"}}, \"type\": \"scattercarpet\"}], \"scattergeo\": [{\"marker\": {\"colorbar\": {\"outlinewidth\": 0, \"ticks\": \"\"}}, \"type\": \"scattergeo\"}], \"scattergl\": [{\"marker\": {\"colorbar\": {\"outlinewidth\": 0, \"ticks\": \"\"}}, \"type\": \"scattergl\"}], \"scattermapbox\": [{\"marker\": {\"colorbar\": {\"outlinewidth\": 0, \"ticks\": \"\"}}, \"type\": \"scattermapbox\"}], \"scatterpolar\": [{\"marker\": {\"colorbar\": {\"outlinewidth\": 0, \"ticks\": \"\"}}, \"type\": \"scatterpolar\"}], \"scatterpolargl\": [{\"marker\": {\"colorbar\": {\"outlinewidth\": 0, \"ticks\": \"\"}}, \"type\": \"scatterpolargl\"}], \"scatterternary\": [{\"marker\": {\"colorbar\": {\"outlinewidth\": 0, \"ticks\": \"\"}}, \"type\": \"scatterternary\"}], \"surface\": [{\"colorbar\": {\"outlinewidth\": 0, \"ticks\": \"\"}, \"colorscale\": [[0.0, \"#0d0887\"], [0.1111111111111111, \"#46039f\"], [0.2222222222222222, \"#7201a8\"], [0.3333333333333333, \"#9c179e\"], [0.4444444444444444, \"#bd3786\"], [0.5555555555555556, \"#d8576b\"], [0.6666666666666666, \"#ed7953\"], [0.7777777777777778, \"#fb9f3a\"], [0.8888888888888888, \"#fdca26\"], [1.0, \"#f0f921\"]], \"type\": \"surface\"}], \"table\": [{\"cells\": {\"fill\": {\"color\": \"#EBF0F8\"}, \"line\": {\"color\": \"white\"}}, \"header\": {\"fill\": {\"color\": \"#C8D4E3\"}, \"line\": {\"color\": \"white\"}}, \"type\": \"table\"}]}, \"layout\": {\"annotationdefaults\": {\"arrowcolor\": \"#2a3f5f\", \"arrowhead\": 0, \"arrowwidth\": 1}, \"coloraxis\": {\"colorbar\": {\"outlinewidth\": 0, \"ticks\": \"\"}}, \"colorscale\": {\"diverging\": [[0, \"#8e0152\"], [0.1, \"#c51b7d\"], [0.2, \"#de77ae\"], [0.3, \"#f1b6da\"], [0.4, \"#fde0ef\"], [0.5, \"#f7f7f7\"], [0.6, \"#e6f5d0\"], [0.7, \"#b8e186\"], [0.8, \"#7fbc41\"], [0.9, \"#4d9221\"], [1, \"#276419\"]], \"sequential\": [[0.0, \"#0d0887\"], [0.1111111111111111, \"#46039f\"], [0.2222222222222222, \"#7201a8\"], [0.3333333333333333, \"#9c179e\"], [0.4444444444444444, \"#bd3786\"], [0.5555555555555556, \"#d8576b\"], [0.6666666666666666, \"#ed7953\"], [0.7777777777777778, \"#fb9f3a\"], [0.8888888888888888, \"#fdca26\"], [1.0, \"#f0f921\"]], \"sequentialminus\": [[0.0, \"#0d0887\"], [0.1111111111111111, \"#46039f\"], [0.2222222222222222, \"#7201a8\"], [0.3333333333333333, \"#9c179e\"], [0.4444444444444444, \"#bd3786\"], [0.5555555555555556, \"#d8576b\"], [0.6666666666666666, \"#ed7953\"], [0.7777777777777778, \"#fb9f3a\"], [0.8888888888888888, \"#fdca26\"], [1.0, \"#f0f921\"]]}, \"colorway\": [\"#636efa\", \"#EF553B\", \"#00cc96\", \"#ab63fa\", \"#FFA15A\", \"#19d3f3\", \"#FF6692\", \"#B6E880\", \"#FF97FF\", \"#FECB52\"], \"font\": {\"color\": \"#2a3f5f\"}, \"geo\": {\"bgcolor\": \"white\", \"lakecolor\": \"white\", \"landcolor\": \"#E5ECF6\", \"showlakes\": true, \"showland\": true, \"subunitcolor\": \"white\"}, \"hoverlabel\": {\"align\": \"left\"}, \"hovermode\": \"closest\", \"mapbox\": {\"style\": \"light\"}, \"paper_bgcolor\": \"white\", \"plot_bgcolor\": \"#E5ECF6\", \"polar\": {\"angularaxis\": {\"gridcolor\": \"white\", \"linecolor\": \"white\", \"ticks\": \"\"}, \"bgcolor\": \"#E5ECF6\", \"radialaxis\": {\"gridcolor\": \"white\", \"linecolor\": \"white\", \"ticks\": \"\"}}, \"scene\": {\"xaxis\": {\"backgroundcolor\": \"#E5ECF6\", \"gridcolor\": \"white\", \"gridwidth\": 2, \"linecolor\": \"white\", \"showbackground\": true, \"ticks\": \"\", \"zerolinecolor\": \"white\"}, \"yaxis\": {\"backgroundcolor\": \"#E5ECF6\", \"gridcolor\": \"white\", \"gridwidth\": 2, \"linecolor\": \"white\", \"showbackground\": true, \"ticks\": \"\", \"zerolinecolor\": \"white\"}, \"zaxis\": {\"backgroundcolor\": \"#E5ECF6\", \"gridcolor\": \"white\", \"gridwidth\": 2, \"linecolor\": \"white\", \"showbackground\": true, \"ticks\": \"\", \"zerolinecolor\": \"white\"}}, \"shapedefaults\": {\"line\": {\"color\": \"#2a3f5f\"}}, \"ternary\": {\"aaxis\": {\"gridcolor\": \"white\", \"linecolor\": \"white\", \"ticks\": \"\"}, \"baxis\": {\"gridcolor\": \"white\", \"linecolor\": \"white\", \"ticks\": \"\"}, \"bgcolor\": \"#E5ECF6\", \"caxis\": {\"gridcolor\": \"white\", \"linecolor\": \"white\", \"ticks\": \"\"}}, \"title\": {\"x\": 0.05}, \"xaxis\": {\"automargin\": true, \"gridcolor\": \"white\", \"linecolor\": \"white\", \"ticks\": \"\", \"title\": {\"standoff\": 15}, \"zerolinecolor\": \"white\", \"zerolinewidth\": 2}, \"yaxis\": {\"automargin\": true, \"gridcolor\": \"white\", \"linecolor\": \"white\", \"ticks\": \"\", \"title\": {\"standoff\": 15}, \"zerolinecolor\": \"white\", \"zerolinewidth\": 2}}}, \"title\": {\"text\": \"Languages in Contiguous United States\"}},\n",
       "                        {\"responsive\": true}\n",
       "                    ).then(function(){\n",
       "                            \n",
       "var gd = document.getElementById('db5633db-27f3-4e02-b301-b8ddeb148b04');\n",
       "var x = new MutationObserver(function (mutations, observer) {{\n",
       "        var display = window.getComputedStyle(gd).display;\n",
       "        if (!display || display === 'none') {{\n",
       "            console.log([gd, 'removed!']);\n",
       "            Plotly.purge(gd);\n",
       "            observer.disconnect();\n",
       "        }}\n",
       "}});\n",
       "\n",
       "// Listen for the removal of the full notebook cells\n",
       "var notebookContainer = gd.closest('#notebook-container');\n",
       "if (notebookContainer) {{\n",
       "    x.observe(notebookContainer, {childList: true});\n",
       "}}\n",
       "\n",
       "// Listen for the clearing of the current output cell\n",
       "var outputEl = gd.closest('.output');\n",
       "if (outputEl) {{\n",
       "    x.observe(outputEl, {childList: true});\n",
       "}}\n",
       "\n",
       "                        })\n",
       "                };\n",
       "                });\n",
       "            </script>\n",
       "        </div>"
      ]
     },
     "metadata": {},
     "output_type": "display_data"
    }
   ],
   "source": [
    "display_map(mapdata)"
   ]
  },
  {
   "cell_type": "code",
   "execution_count": null,
   "metadata": {},
   "outputs": [],
   "source": []
  }
 ],
 "metadata": {
  "kernelspec": {
   "display_name": "Python 3",
   "language": "python",
   "name": "python3"
  },
  "language_info": {
   "codemirror_mode": {
    "name": "ipython",
    "version": 3
   },
   "file_extension": ".py",
   "mimetype": "text/x-python",
   "name": "python",
   "nbconvert_exporter": "python",
   "pygments_lexer": "ipython3",
   "version": "3.6.2"
  }
 },
 "nbformat": 4,
 "nbformat_minor": 2
}
