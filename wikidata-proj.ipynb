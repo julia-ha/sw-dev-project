{
 "cells": [
  {
   "cell_type": "markdown",
   "metadata": {},
   "source": [
    "# Wikidata Project\n",
    "\n",
    "This project explores some of the data available in Wikidata's open knowledge graph through the use of SPARQL and analyzes and displays the data with Python and graphing libraries: matplotlib, plotly. \n",
    "\n",
    "There are two sections in this notebook.\n",
    "\n",
    "The first section looks at musical tonalities of all works available in Wikidata and the movements they belong to. I was curious about the relationship between musical movements and tonalities, and through this data, wanted to answer questions such as \"what were the most popular tonalities during the Romantic music period?\", \"what is the tonality landscape like for works of the First Viennese School?\", \"which movements had the most pieces in D minor?\". The queries and resulting graphs attempt to address these questions.\n",
    "\n",
    "The second section displays a map of indigenous languages in what is now the United States. Please see the sections below for more details on how this is done."
   ]
  },
  {
   "cell_type": "markdown",
   "metadata": {},
   "source": [
    "## Getting Started\n",
    "The requirements.txt file has been updated to include `plotly` and `ipywidgets` packages. Please note that `ipywidgets` also needs to be enabled as a Jupyter extension. This should be handled by Binder through the `postBuild` file but for reference, the following command can be run to enable the extension:\n",
    "\n",
    "```\n",
    "jupyter nbextension enable --py widgetsnbextension\n",
    "```"
   ]
  },
  {
   "cell_type": "markdown",
   "metadata": {},
   "source": [
    "Import the needed python packages"
   ]
  },
  {
   "cell_type": "code",
   "execution_count": 173,
   "metadata": {},
   "outputs": [],
   "source": [
    "import requests\n",
    "import matplotlib.pyplot as plt\n",
    "import plotly.graph_objects as go\n",
    "import random\n",
    "from ipywidgets import interact"
   ]
  },
  {
   "cell_type": "markdown",
   "metadata": {},
   "source": [
    "## Wikidata Query Setup\n",
    "\n",
    "The code below is unchanged from the example.\n",
    "\n",
    "Defines Wikidata SPARQL endpoint.  Numerous query examples using this endpoint can be found on the [Wikidata examples page](https://www.wikidata.org/wiki/Wikidata:SPARQL_query_service/queries/examples)."
   ]
  },
  {
   "cell_type": "code",
   "execution_count": 174,
   "metadata": {},
   "outputs": [],
   "source": [
    "wikidata_endpoint = 'https://query.wikidata.org/sparql'"
   ]
  },
  {
   "cell_type": "markdown",
   "metadata": {},
   "source": [
    "`do_query` is a simple helper method for setting the HTTP header and submitting the request using the excellent python [requests](https://requests.readthedocs.io/en/master/) package."
   ]
  },
  {
   "cell_type": "code",
   "execution_count": 175,
   "metadata": {},
   "outputs": [],
   "source": [
    "def do_query(query):\n",
    "    rsp = requests.post(\n",
    "        wikidata_endpoint,\n",
    "        data=query,\n",
    "        headers={\n",
    "            'Content-type': 'application/sparql-query',\n",
    "            'Accept': 'application/sparql-results+json',\n",
    "            'User-Agent': 'https://github.com/JSTOR-Labs/sw-dev-project'\n",
    "        }\n",
    "    )\n",
    "    if rsp.status_code != 200:\n",
    "        raise Exception(f\"Query failed with status code {rsp.status_code}.\")\n",
    "    return rsp.json()"
   ]
  },
  {
   "cell_type": "markdown",
   "metadata": {},
   "source": [
    "\n",
    "# Tonality in Musical Movements\n",
    "\n"
   ]
  },
  {
   "cell_type": "code",
   "execution_count": 176,
   "metadata": {},
   "outputs": [],
   "source": [
    "movements_dict = {}\n",
    "movements_tonalities = {}"
   ]
  },
  {
   "cell_type": "code",
   "execution_count": 177,
   "metadata": {},
   "outputs": [],
   "source": [
    "#get all movements\n",
    "def movements():\n",
    "    print('\\nMovements with Tonalities and corresponding QID:')\n",
    "    \n",
    "    query = '''\n",
    "        SELECT ?movement ?movementLabel\n",
    "        WHERE\n",
    "        {\n",
    "          ?work wdt:P826 ?tonality . #find all works that have tonality\n",
    "          ?work wdt:P86 ?composer . #find composer of work\n",
    "          ?composer wdt:P135 ?movement . #find musical movement of composer\n",
    "\n",
    "          SERVICE wikibase:label { bd:serviceParam wikibase:language \"en\" }\n",
    "        }\n",
    "        GROUP BY ?movement ?movementLabel\n",
    "    '''\n",
    "        \n",
    "    results = do_query(query)['results']['bindings']\n",
    "    \n",
    "    for m in results:\n",
    "        qid = m['movement']['value'].split('/')[-1] #split URI string to get QID\n",
    "        movements_dict[m['movementLabel']['value']] = qid\n",
    "        \n",
    "    print(movements_dict)"
   ]
  },
  {
   "cell_type": "code",
   "execution_count": 178,
   "metadata": {},
   "outputs": [
    {
     "name": "stdout",
     "output_type": "stream",
     "text": [
      "\n",
      "Movements with Tonalities and corresponding QID:\n",
      "{'Classical period': 'Q17723', 'Western classical music': 'Q9730', 'Romantic music': 'Q207591', 'baroque music': 'Q8361', 'First Viennese School': 'Q702207', 'Impressionism in music': 'Q837182', 'musical modernism': 'Q2426218', 'Harlem Renaissance': 'Q829895', 'Russian symbolism': 'Q1879488', 'Romanticism': 'Q37068', 'avant-garde': 'Q102932', '20th-century classical music': 'Q1338153', 'glam rock': 'Q76092', 'new wave': 'Q187760', 'art rock': 'Q217467', 'pop rock': 'Q484641', 'blue-eyed soul': 'Q885561', 'art pop': 'Q25094849', 'social contract': 'Q1326430', 'jazz': 'Q8341', 'vocal': 'Q2529757', 'classicism': 'Q170292'}\n"
     ]
    }
   ],
   "source": [
    "movements()"
   ]
  },
  {
   "cell_type": "code",
   "execution_count": 179,
   "metadata": {},
   "outputs": [],
   "source": [
    "#get counts of tonalities for each movement\n",
    "def movement_count():\n",
    "    print('\\nQuerying count of tonalities by movement...')\n",
    "\n",
    "    for qid in movements_dict.values():\n",
    "        query = '''\n",
    "            SELECT ?tonalityLabel (COUNT(?tonalityLabel) as ?count)\n",
    "                WHERE\n",
    "                {\n",
    "                  ?composer wdt:P135 wd:%s . #find all composers of movement\n",
    "                  ?work wdt:P86 ?composer . #find works of composers\n",
    "                  ?work wdt:P826 ?tonality . #find tonalities of works\n",
    "\n",
    "                  SERVICE wikibase:label { bd:serviceParam wikibase:language \"en\" }\n",
    "                }\n",
    "                GROUP BY ?tonalityLabel\n",
    "                ORDER BY DESC(?count)\n",
    "        ''' % qid\n",
    "        \n",
    "        results = do_query(query)['results']['bindings']\n",
    "        \n",
    "        movements_tonalities[qid] = {}\n",
    "        for t in results:\n",
    "            movements_tonalities[qid][t['tonalityLabel']['value']] = int(t['count']['value'])\n",
    "            \n",
    "    print('...Done!')\n",
    "    #print(movements_tonalities)"
   ]
  },
  {
   "cell_type": "code",
   "execution_count": 180,
   "metadata": {},
   "outputs": [
    {
     "name": "stdout",
     "output_type": "stream",
     "text": [
      "\n",
      "Querying count of tonalities by movement...\n",
      "...Done!\n"
     ]
    }
   ],
   "source": [
    "movement_count()"
   ]
  },
  {
   "cell_type": "markdown",
   "metadata": {},
   "source": [
    "After querying data and parsing it into dictionaries, the data is plotted using a pie chart with a drop down menu that allows selection of movement."
   ]
  },
  {
   "cell_type": "code",
   "execution_count": 181,
   "metadata": {},
   "outputs": [],
   "source": [
    "def pie(id):\n",
    "    print('Tonality Count')\n",
    "    for tonality, count in movements_tonalities[id].items():\n",
    "        print('{} {}'.format(tonality, count))\n",
    "\n",
    "    plt.title('Tonalities')\n",
    "    plt.pie(movements_tonalities[id].values(), labels=movements_tonalities[id].keys(), shadow=True)\n",
    "    plt.axis('equal')\n",
    "    plt.subplots_adjust(0,0,1,1)\n",
    "    plt.show()"
   ]
  },
  {
   "cell_type": "code",
   "execution_count": 182,
   "metadata": {},
   "outputs": [
    {
     "data": {
      "application/vnd.jupyter.widget-view+json": {
       "model_id": "8f5c88bc922f45779038d3415305e05a",
       "version_major": 2,
       "version_minor": 0
      },
      "text/plain": [
       "interactive(children=(Dropdown(description='id', options={'Classical period': 'Q17723', 'Western classical mus…"
      ]
     },
     "metadata": {},
     "output_type": "display_data"
    },
    {
     "data": {
      "text/plain": [
       "<function __main__.pie(id)>"
      ]
     },
     "execution_count": 182,
     "metadata": {},
     "output_type": "execute_result"
    }
   ],
   "source": [
    "interact(pie, id=movements_dict)"
   ]
  },
  {
   "cell_type": "markdown",
   "metadata": {},
   "source": [
    "This graph displays 5 randomly selected movements and their respective tonality counts."
   ]
  },
  {
   "cell_type": "code",
   "execution_count": 183,
   "metadata": {},
   "outputs": [],
   "source": [
    "def plotly_bar():\n",
    "    #randomly pick 5 movements\n",
    "    sample = random.sample(list(movements_dict.items()), 5)\n",
    "\n",
    "    fig = go.Figure(data=[\n",
    "        go.Bar(name=sample[0][0], x=list(movements_tonalities[sample[0][1]].keys()), y=list(movements_tonalities[sample[0][1]].values())),\n",
    "        go.Bar(name=sample[1][0], x=list(movements_tonalities[sample[1][1]].keys()), y=list(movements_tonalities[sample[1][1]].values())),\n",
    "        go.Bar(name=sample[2][0], x=list(movements_tonalities[sample[2][1]].keys()), y=list(movements_tonalities[sample[2][1]].values())),\n",
    "        go.Bar(name=sample[3][0], x=list(movements_tonalities[sample[3][1]].keys()), y=list(movements_tonalities[sample[3][1]].values())),\n",
    "        go.Bar(name=sample[4][0], x=list(movements_tonalities[sample[4][1]].keys()), y=list(movements_tonalities[sample[4][1]].values())),\n",
    "    ])\n",
    "    fig.update_layout(barmode='stack')\n",
    "    fig.show()"
   ]
  },
  {
   "cell_type": "code",
   "execution_count": 185,
   "metadata": {},
   "outputs": [
    {
     "data": {
      "application/vnd.plotly.v1+json": {
       "config": {
        "plotlyServerURL": "https://plot.ly"
       },
       "data": [
        {
         "name": "glam rock",
         "type": "bar",
         "x": [
          "F major"
         ],
         "y": [
          1
         ]
        },
        {
         "name": "blue-eyed soul",
         "type": "bar",
         "x": [
          "F major"
         ],
         "y": [
          1
         ]
        },
        {
         "name": "social contract",
         "type": "bar",
         "x": [
          "G major"
         ],
         "y": [
          1
         ]
        },
        {
         "name": "Impressionism in music",
         "type": "bar",
         "x": [
          "D minor",
          "G major",
          "C minor",
          "G minor",
          "F-sharp minor",
          "F major",
          "C major",
          "G-flat major",
          "D-flat major",
          "D major",
          "A minor",
          "F-sharp major",
          "E minor",
          "A major",
          "C-sharp minor",
          "E major",
          "F minor"
         ],
         "y": [
          5,
          5,
          4,
          4,
          3,
          2,
          2,
          2,
          2,
          2,
          2,
          1,
          1,
          1,
          1,
          1,
          1
         ]
        }
       ],
       "layout": {
        "barmode": "stack",
        "template": {
         "data": {
          "bar": [
           {
            "error_x": {
             "color": "#2a3f5f"
            },
            "error_y": {
             "color": "#2a3f5f"
            },
            "marker": {
             "line": {
              "color": "#E5ECF6",
              "width": 0.5
             }
            },
            "type": "bar"
           }
          ],
          "barpolar": [
           {
            "marker": {
             "line": {
              "color": "#E5ECF6",
              "width": 0.5
             }
            },
            "type": "barpolar"
           }
          ],
          "carpet": [
           {
            "aaxis": {
             "endlinecolor": "#2a3f5f",
             "gridcolor": "white",
             "linecolor": "white",
             "minorgridcolor": "white",
             "startlinecolor": "#2a3f5f"
            },
            "baxis": {
             "endlinecolor": "#2a3f5f",
             "gridcolor": "white",
             "linecolor": "white",
             "minorgridcolor": "white",
             "startlinecolor": "#2a3f5f"
            },
            "type": "carpet"
           }
          ],
          "choropleth": [
           {
            "colorbar": {
             "outlinewidth": 0,
             "ticks": ""
            },
            "type": "choropleth"
           }
          ],
          "contour": [
           {
            "colorbar": {
             "outlinewidth": 0,
             "ticks": ""
            },
            "colorscale": [
             [
              0,
              "#0d0887"
             ],
             [
              0.1111111111111111,
              "#46039f"
             ],
             [
              0.2222222222222222,
              "#7201a8"
             ],
             [
              0.3333333333333333,
              "#9c179e"
             ],
             [
              0.4444444444444444,
              "#bd3786"
             ],
             [
              0.5555555555555556,
              "#d8576b"
             ],
             [
              0.6666666666666666,
              "#ed7953"
             ],
             [
              0.7777777777777778,
              "#fb9f3a"
             ],
             [
              0.8888888888888888,
              "#fdca26"
             ],
             [
              1,
              "#f0f921"
             ]
            ],
            "type": "contour"
           }
          ],
          "contourcarpet": [
           {
            "colorbar": {
             "outlinewidth": 0,
             "ticks": ""
            },
            "type": "contourcarpet"
           }
          ],
          "heatmap": [
           {
            "colorbar": {
             "outlinewidth": 0,
             "ticks": ""
            },
            "colorscale": [
             [
              0,
              "#0d0887"
             ],
             [
              0.1111111111111111,
              "#46039f"
             ],
             [
              0.2222222222222222,
              "#7201a8"
             ],
             [
              0.3333333333333333,
              "#9c179e"
             ],
             [
              0.4444444444444444,
              "#bd3786"
             ],
             [
              0.5555555555555556,
              "#d8576b"
             ],
             [
              0.6666666666666666,
              "#ed7953"
             ],
             [
              0.7777777777777778,
              "#fb9f3a"
             ],
             [
              0.8888888888888888,
              "#fdca26"
             ],
             [
              1,
              "#f0f921"
             ]
            ],
            "type": "heatmap"
           }
          ],
          "heatmapgl": [
           {
            "colorbar": {
             "outlinewidth": 0,
             "ticks": ""
            },
            "colorscale": [
             [
              0,
              "#0d0887"
             ],
             [
              0.1111111111111111,
              "#46039f"
             ],
             [
              0.2222222222222222,
              "#7201a8"
             ],
             [
              0.3333333333333333,
              "#9c179e"
             ],
             [
              0.4444444444444444,
              "#bd3786"
             ],
             [
              0.5555555555555556,
              "#d8576b"
             ],
             [
              0.6666666666666666,
              "#ed7953"
             ],
             [
              0.7777777777777778,
              "#fb9f3a"
             ],
             [
              0.8888888888888888,
              "#fdca26"
             ],
             [
              1,
              "#f0f921"
             ]
            ],
            "type": "heatmapgl"
           }
          ],
          "histogram": [
           {
            "marker": {
             "colorbar": {
              "outlinewidth": 0,
              "ticks": ""
             }
            },
            "type": "histogram"
           }
          ],
          "histogram2d": [
           {
            "colorbar": {
             "outlinewidth": 0,
             "ticks": ""
            },
            "colorscale": [
             [
              0,
              "#0d0887"
             ],
             [
              0.1111111111111111,
              "#46039f"
             ],
             [
              0.2222222222222222,
              "#7201a8"
             ],
             [
              0.3333333333333333,
              "#9c179e"
             ],
             [
              0.4444444444444444,
              "#bd3786"
             ],
             [
              0.5555555555555556,
              "#d8576b"
             ],
             [
              0.6666666666666666,
              "#ed7953"
             ],
             [
              0.7777777777777778,
              "#fb9f3a"
             ],
             [
              0.8888888888888888,
              "#fdca26"
             ],
             [
              1,
              "#f0f921"
             ]
            ],
            "type": "histogram2d"
           }
          ],
          "histogram2dcontour": [
           {
            "colorbar": {
             "outlinewidth": 0,
             "ticks": ""
            },
            "colorscale": [
             [
              0,
              "#0d0887"
             ],
             [
              0.1111111111111111,
              "#46039f"
             ],
             [
              0.2222222222222222,
              "#7201a8"
             ],
             [
              0.3333333333333333,
              "#9c179e"
             ],
             [
              0.4444444444444444,
              "#bd3786"
             ],
             [
              0.5555555555555556,
              "#d8576b"
             ],
             [
              0.6666666666666666,
              "#ed7953"
             ],
             [
              0.7777777777777778,
              "#fb9f3a"
             ],
             [
              0.8888888888888888,
              "#fdca26"
             ],
             [
              1,
              "#f0f921"
             ]
            ],
            "type": "histogram2dcontour"
           }
          ],
          "mesh3d": [
           {
            "colorbar": {
             "outlinewidth": 0,
             "ticks": ""
            },
            "type": "mesh3d"
           }
          ],
          "parcoords": [
           {
            "line": {
             "colorbar": {
              "outlinewidth": 0,
              "ticks": ""
             }
            },
            "type": "parcoords"
           }
          ],
          "pie": [
           {
            "automargin": true,
            "type": "pie"
           }
          ],
          "scatter": [
           {
            "marker": {
             "colorbar": {
              "outlinewidth": 0,
              "ticks": ""
             }
            },
            "type": "scatter"
           }
          ],
          "scatter3d": [
           {
            "line": {
             "colorbar": {
              "outlinewidth": 0,
              "ticks": ""
             }
            },
            "marker": {
             "colorbar": {
              "outlinewidth": 0,
              "ticks": ""
             }
            },
            "type": "scatter3d"
           }
          ],
          "scattercarpet": [
           {
            "marker": {
             "colorbar": {
              "outlinewidth": 0,
              "ticks": ""
             }
            },
            "type": "scattercarpet"
           }
          ],
          "scattergeo": [
           {
            "marker": {
             "colorbar": {
              "outlinewidth": 0,
              "ticks": ""
             }
            },
            "type": "scattergeo"
           }
          ],
          "scattergl": [
           {
            "marker": {
             "colorbar": {
              "outlinewidth": 0,
              "ticks": ""
             }
            },
            "type": "scattergl"
           }
          ],
          "scattermapbox": [
           {
            "marker": {
             "colorbar": {
              "outlinewidth": 0,
              "ticks": ""
             }
            },
            "type": "scattermapbox"
           }
          ],
          "scatterpolar": [
           {
            "marker": {
             "colorbar": {
              "outlinewidth": 0,
              "ticks": ""
             }
            },
            "type": "scatterpolar"
           }
          ],
          "scatterpolargl": [
           {
            "marker": {
             "colorbar": {
              "outlinewidth": 0,
              "ticks": ""
             }
            },
            "type": "scatterpolargl"
           }
          ],
          "scatterternary": [
           {
            "marker": {
             "colorbar": {
              "outlinewidth": 0,
              "ticks": ""
             }
            },
            "type": "scatterternary"
           }
          ],
          "surface": [
           {
            "colorbar": {
             "outlinewidth": 0,
             "ticks": ""
            },
            "colorscale": [
             [
              0,
              "#0d0887"
             ],
             [
              0.1111111111111111,
              "#46039f"
             ],
             [
              0.2222222222222222,
              "#7201a8"
             ],
             [
              0.3333333333333333,
              "#9c179e"
             ],
             [
              0.4444444444444444,
              "#bd3786"
             ],
             [
              0.5555555555555556,
              "#d8576b"
             ],
             [
              0.6666666666666666,
              "#ed7953"
             ],
             [
              0.7777777777777778,
              "#fb9f3a"
             ],
             [
              0.8888888888888888,
              "#fdca26"
             ],
             [
              1,
              "#f0f921"
             ]
            ],
            "type": "surface"
           }
          ],
          "table": [
           {
            "cells": {
             "fill": {
              "color": "#EBF0F8"
             },
             "line": {
              "color": "white"
             }
            },
            "header": {
             "fill": {
              "color": "#C8D4E3"
             },
             "line": {
              "color": "white"
             }
            },
            "type": "table"
           }
          ]
         },
         "layout": {
          "annotationdefaults": {
           "arrowcolor": "#2a3f5f",
           "arrowhead": 0,
           "arrowwidth": 1
          },
          "coloraxis": {
           "colorbar": {
            "outlinewidth": 0,
            "ticks": ""
           }
          },
          "colorscale": {
           "diverging": [
            [
             0,
             "#8e0152"
            ],
            [
             0.1,
             "#c51b7d"
            ],
            [
             0.2,
             "#de77ae"
            ],
            [
             0.3,
             "#f1b6da"
            ],
            [
             0.4,
             "#fde0ef"
            ],
            [
             0.5,
             "#f7f7f7"
            ],
            [
             0.6,
             "#e6f5d0"
            ],
            [
             0.7,
             "#b8e186"
            ],
            [
             0.8,
             "#7fbc41"
            ],
            [
             0.9,
             "#4d9221"
            ],
            [
             1,
             "#276419"
            ]
           ],
           "sequential": [
            [
             0,
             "#0d0887"
            ],
            [
             0.1111111111111111,
             "#46039f"
            ],
            [
             0.2222222222222222,
             "#7201a8"
            ],
            [
             0.3333333333333333,
             "#9c179e"
            ],
            [
             0.4444444444444444,
             "#bd3786"
            ],
            [
             0.5555555555555556,
             "#d8576b"
            ],
            [
             0.6666666666666666,
             "#ed7953"
            ],
            [
             0.7777777777777778,
             "#fb9f3a"
            ],
            [
             0.8888888888888888,
             "#fdca26"
            ],
            [
             1,
             "#f0f921"
            ]
           ],
           "sequentialminus": [
            [
             0,
             "#0d0887"
            ],
            [
             0.1111111111111111,
             "#46039f"
            ],
            [
             0.2222222222222222,
             "#7201a8"
            ],
            [
             0.3333333333333333,
             "#9c179e"
            ],
            [
             0.4444444444444444,
             "#bd3786"
            ],
            [
             0.5555555555555556,
             "#d8576b"
            ],
            [
             0.6666666666666666,
             "#ed7953"
            ],
            [
             0.7777777777777778,
             "#fb9f3a"
            ],
            [
             0.8888888888888888,
             "#fdca26"
            ],
            [
             1,
             "#f0f921"
            ]
           ]
          },
          "colorway": [
           "#636efa",
           "#EF553B",
           "#00cc96",
           "#ab63fa",
           "#FFA15A",
           "#19d3f3",
           "#FF6692",
           "#B6E880",
           "#FF97FF",
           "#FECB52"
          ],
          "font": {
           "color": "#2a3f5f"
          },
          "geo": {
           "bgcolor": "white",
           "lakecolor": "white",
           "landcolor": "#E5ECF6",
           "showlakes": true,
           "showland": true,
           "subunitcolor": "white"
          },
          "hoverlabel": {
           "align": "left"
          },
          "hovermode": "closest",
          "mapbox": {
           "style": "light"
          },
          "paper_bgcolor": "white",
          "plot_bgcolor": "#E5ECF6",
          "polar": {
           "angularaxis": {
            "gridcolor": "white",
            "linecolor": "white",
            "ticks": ""
           },
           "bgcolor": "#E5ECF6",
           "radialaxis": {
            "gridcolor": "white",
            "linecolor": "white",
            "ticks": ""
           }
          },
          "scene": {
           "xaxis": {
            "backgroundcolor": "#E5ECF6",
            "gridcolor": "white",
            "gridwidth": 2,
            "linecolor": "white",
            "showbackground": true,
            "ticks": "",
            "zerolinecolor": "white"
           },
           "yaxis": {
            "backgroundcolor": "#E5ECF6",
            "gridcolor": "white",
            "gridwidth": 2,
            "linecolor": "white",
            "showbackground": true,
            "ticks": "",
            "zerolinecolor": "white"
           },
           "zaxis": {
            "backgroundcolor": "#E5ECF6",
            "gridcolor": "white",
            "gridwidth": 2,
            "linecolor": "white",
            "showbackground": true,
            "ticks": "",
            "zerolinecolor": "white"
           }
          },
          "shapedefaults": {
           "line": {
            "color": "#2a3f5f"
           }
          },
          "ternary": {
           "aaxis": {
            "gridcolor": "white",
            "linecolor": "white",
            "ticks": ""
           },
           "baxis": {
            "gridcolor": "white",
            "linecolor": "white",
            "ticks": ""
           },
           "bgcolor": "#E5ECF6",
           "caxis": {
            "gridcolor": "white",
            "linecolor": "white",
            "ticks": ""
           }
          },
          "title": {
           "x": 0.05
          },
          "xaxis": {
           "automargin": true,
           "gridcolor": "white",
           "linecolor": "white",
           "ticks": "",
           "title": {
            "standoff": 15
           },
           "zerolinecolor": "white",
           "zerolinewidth": 2
          },
          "yaxis": {
           "automargin": true,
           "gridcolor": "white",
           "linecolor": "white",
           "ticks": "",
           "title": {
            "standoff": 15
           },
           "zerolinecolor": "white",
           "zerolinewidth": 2
          }
         }
        }
       }
      },
      "text/html": [
       "<div>\n",
       "        \n",
       "        \n",
       "            <div id=\"98f3a4f1-45e2-40ae-a328-c27bb42c788b\" class=\"plotly-graph-div\" style=\"height:525px; width:100%;\"></div>\n",
       "            <script type=\"text/javascript\">\n",
       "                require([\"plotly\"], function(Plotly) {\n",
       "                    window.PLOTLYENV=window.PLOTLYENV || {};\n",
       "                    \n",
       "                if (document.getElementById(\"98f3a4f1-45e2-40ae-a328-c27bb42c788b\")) {\n",
       "                    Plotly.newPlot(\n",
       "                        '98f3a4f1-45e2-40ae-a328-c27bb42c788b',\n",
       "                        [{\"name\": \"glam rock\", \"type\": \"bar\", \"x\": [\"F major\"], \"y\": [1]}, {\"name\": \"blue-eyed soul\", \"type\": \"bar\", \"x\": [\"F major\"], \"y\": [1]}, {\"name\": \"social contract\", \"type\": \"bar\", \"x\": [\"G major\"], \"y\": [1]}, {\"name\": \"Impressionism in music\", \"type\": \"bar\", \"x\": [\"D minor\", \"G major\", \"C minor\", \"G minor\", \"F-sharp minor\", \"F major\", \"C major\", \"G-flat major\", \"D-flat major\", \"D major\", \"A minor\", \"F-sharp major\", \"E minor\", \"A major\", \"C-sharp minor\", \"E major\", \"F minor\"], \"y\": [5, 5, 4, 4, 3, 2, 2, 2, 2, 2, 2, 1, 1, 1, 1, 1, 1]}],\n",
       "                        {\"barmode\": \"stack\", \"template\": {\"data\": {\"bar\": [{\"error_x\": {\"color\": \"#2a3f5f\"}, \"error_y\": {\"color\": \"#2a3f5f\"}, \"marker\": {\"line\": {\"color\": \"#E5ECF6\", \"width\": 0.5}}, \"type\": \"bar\"}], \"barpolar\": [{\"marker\": {\"line\": {\"color\": \"#E5ECF6\", \"width\": 0.5}}, \"type\": \"barpolar\"}], \"carpet\": [{\"aaxis\": {\"endlinecolor\": \"#2a3f5f\", \"gridcolor\": \"white\", \"linecolor\": \"white\", \"minorgridcolor\": \"white\", \"startlinecolor\": \"#2a3f5f\"}, \"baxis\": {\"endlinecolor\": \"#2a3f5f\", \"gridcolor\": \"white\", \"linecolor\": \"white\", \"minorgridcolor\": \"white\", \"startlinecolor\": \"#2a3f5f\"}, \"type\": \"carpet\"}], \"choropleth\": [{\"colorbar\": {\"outlinewidth\": 0, \"ticks\": \"\"}, \"type\": \"choropleth\"}], \"contour\": [{\"colorbar\": {\"outlinewidth\": 0, \"ticks\": \"\"}, \"colorscale\": [[0.0, \"#0d0887\"], [0.1111111111111111, \"#46039f\"], [0.2222222222222222, \"#7201a8\"], [0.3333333333333333, \"#9c179e\"], [0.4444444444444444, \"#bd3786\"], [0.5555555555555556, \"#d8576b\"], [0.6666666666666666, \"#ed7953\"], [0.7777777777777778, \"#fb9f3a\"], [0.8888888888888888, \"#fdca26\"], [1.0, \"#f0f921\"]], \"type\": \"contour\"}], \"contourcarpet\": [{\"colorbar\": {\"outlinewidth\": 0, \"ticks\": \"\"}, \"type\": \"contourcarpet\"}], \"heatmap\": [{\"colorbar\": {\"outlinewidth\": 0, \"ticks\": \"\"}, \"colorscale\": [[0.0, \"#0d0887\"], [0.1111111111111111, \"#46039f\"], [0.2222222222222222, \"#7201a8\"], [0.3333333333333333, \"#9c179e\"], [0.4444444444444444, \"#bd3786\"], [0.5555555555555556, \"#d8576b\"], [0.6666666666666666, \"#ed7953\"], [0.7777777777777778, \"#fb9f3a\"], [0.8888888888888888, \"#fdca26\"], [1.0, \"#f0f921\"]], \"type\": \"heatmap\"}], \"heatmapgl\": [{\"colorbar\": {\"outlinewidth\": 0, \"ticks\": \"\"}, \"colorscale\": [[0.0, \"#0d0887\"], [0.1111111111111111, \"#46039f\"], [0.2222222222222222, \"#7201a8\"], [0.3333333333333333, \"#9c179e\"], [0.4444444444444444, \"#bd3786\"], [0.5555555555555556, \"#d8576b\"], [0.6666666666666666, \"#ed7953\"], [0.7777777777777778, \"#fb9f3a\"], [0.8888888888888888, \"#fdca26\"], [1.0, \"#f0f921\"]], \"type\": \"heatmapgl\"}], \"histogram\": [{\"marker\": {\"colorbar\": {\"outlinewidth\": 0, \"ticks\": \"\"}}, \"type\": \"histogram\"}], \"histogram2d\": [{\"colorbar\": {\"outlinewidth\": 0, \"ticks\": \"\"}, \"colorscale\": [[0.0, \"#0d0887\"], [0.1111111111111111, \"#46039f\"], [0.2222222222222222, \"#7201a8\"], [0.3333333333333333, \"#9c179e\"], [0.4444444444444444, \"#bd3786\"], [0.5555555555555556, \"#d8576b\"], [0.6666666666666666, \"#ed7953\"], [0.7777777777777778, \"#fb9f3a\"], [0.8888888888888888, \"#fdca26\"], [1.0, \"#f0f921\"]], \"type\": \"histogram2d\"}], \"histogram2dcontour\": [{\"colorbar\": {\"outlinewidth\": 0, \"ticks\": \"\"}, \"colorscale\": [[0.0, \"#0d0887\"], [0.1111111111111111, \"#46039f\"], [0.2222222222222222, \"#7201a8\"], [0.3333333333333333, \"#9c179e\"], [0.4444444444444444, \"#bd3786\"], [0.5555555555555556, \"#d8576b\"], [0.6666666666666666, \"#ed7953\"], [0.7777777777777778, \"#fb9f3a\"], [0.8888888888888888, \"#fdca26\"], [1.0, \"#f0f921\"]], \"type\": \"histogram2dcontour\"}], \"mesh3d\": [{\"colorbar\": {\"outlinewidth\": 0, \"ticks\": \"\"}, \"type\": \"mesh3d\"}], \"parcoords\": [{\"line\": {\"colorbar\": {\"outlinewidth\": 0, \"ticks\": \"\"}}, \"type\": \"parcoords\"}], \"pie\": [{\"automargin\": true, \"type\": \"pie\"}], \"scatter\": [{\"marker\": {\"colorbar\": {\"outlinewidth\": 0, \"ticks\": \"\"}}, \"type\": \"scatter\"}], \"scatter3d\": [{\"line\": {\"colorbar\": {\"outlinewidth\": 0, \"ticks\": \"\"}}, \"marker\": {\"colorbar\": {\"outlinewidth\": 0, \"ticks\": \"\"}}, \"type\": \"scatter3d\"}], \"scattercarpet\": [{\"marker\": {\"colorbar\": {\"outlinewidth\": 0, \"ticks\": \"\"}}, \"type\": \"scattercarpet\"}], \"scattergeo\": [{\"marker\": {\"colorbar\": {\"outlinewidth\": 0, \"ticks\": \"\"}}, \"type\": \"scattergeo\"}], \"scattergl\": [{\"marker\": {\"colorbar\": {\"outlinewidth\": 0, \"ticks\": \"\"}}, \"type\": \"scattergl\"}], \"scattermapbox\": [{\"marker\": {\"colorbar\": {\"outlinewidth\": 0, \"ticks\": \"\"}}, \"type\": \"scattermapbox\"}], \"scatterpolar\": [{\"marker\": {\"colorbar\": {\"outlinewidth\": 0, \"ticks\": \"\"}}, \"type\": \"scatterpolar\"}], \"scatterpolargl\": [{\"marker\": {\"colorbar\": {\"outlinewidth\": 0, \"ticks\": \"\"}}, \"type\": \"scatterpolargl\"}], \"scatterternary\": [{\"marker\": {\"colorbar\": {\"outlinewidth\": 0, \"ticks\": \"\"}}, \"type\": \"scatterternary\"}], \"surface\": [{\"colorbar\": {\"outlinewidth\": 0, \"ticks\": \"\"}, \"colorscale\": [[0.0, \"#0d0887\"], [0.1111111111111111, \"#46039f\"], [0.2222222222222222, \"#7201a8\"], [0.3333333333333333, \"#9c179e\"], [0.4444444444444444, \"#bd3786\"], [0.5555555555555556, \"#d8576b\"], [0.6666666666666666, \"#ed7953\"], [0.7777777777777778, \"#fb9f3a\"], [0.8888888888888888, \"#fdca26\"], [1.0, \"#f0f921\"]], \"type\": \"surface\"}], \"table\": [{\"cells\": {\"fill\": {\"color\": \"#EBF0F8\"}, \"line\": {\"color\": \"white\"}}, \"header\": {\"fill\": {\"color\": \"#C8D4E3\"}, \"line\": {\"color\": \"white\"}}, \"type\": \"table\"}]}, \"layout\": {\"annotationdefaults\": {\"arrowcolor\": \"#2a3f5f\", \"arrowhead\": 0, \"arrowwidth\": 1}, \"coloraxis\": {\"colorbar\": {\"outlinewidth\": 0, \"ticks\": \"\"}}, \"colorscale\": {\"diverging\": [[0, \"#8e0152\"], [0.1, \"#c51b7d\"], [0.2, \"#de77ae\"], [0.3, \"#f1b6da\"], [0.4, \"#fde0ef\"], [0.5, \"#f7f7f7\"], [0.6, \"#e6f5d0\"], [0.7, \"#b8e186\"], [0.8, \"#7fbc41\"], [0.9, \"#4d9221\"], [1, \"#276419\"]], \"sequential\": [[0.0, \"#0d0887\"], [0.1111111111111111, \"#46039f\"], [0.2222222222222222, \"#7201a8\"], [0.3333333333333333, \"#9c179e\"], [0.4444444444444444, \"#bd3786\"], [0.5555555555555556, \"#d8576b\"], [0.6666666666666666, \"#ed7953\"], [0.7777777777777778, \"#fb9f3a\"], [0.8888888888888888, \"#fdca26\"], [1.0, \"#f0f921\"]], \"sequentialminus\": [[0.0, \"#0d0887\"], [0.1111111111111111, \"#46039f\"], [0.2222222222222222, \"#7201a8\"], [0.3333333333333333, \"#9c179e\"], [0.4444444444444444, \"#bd3786\"], [0.5555555555555556, \"#d8576b\"], [0.6666666666666666, \"#ed7953\"], [0.7777777777777778, \"#fb9f3a\"], [0.8888888888888888, \"#fdca26\"], [1.0, \"#f0f921\"]]}, \"colorway\": [\"#636efa\", \"#EF553B\", \"#00cc96\", \"#ab63fa\", \"#FFA15A\", \"#19d3f3\", \"#FF6692\", \"#B6E880\", \"#FF97FF\", \"#FECB52\"], \"font\": {\"color\": \"#2a3f5f\"}, \"geo\": {\"bgcolor\": \"white\", \"lakecolor\": \"white\", \"landcolor\": \"#E5ECF6\", \"showlakes\": true, \"showland\": true, \"subunitcolor\": \"white\"}, \"hoverlabel\": {\"align\": \"left\"}, \"hovermode\": \"closest\", \"mapbox\": {\"style\": \"light\"}, \"paper_bgcolor\": \"white\", \"plot_bgcolor\": \"#E5ECF6\", \"polar\": {\"angularaxis\": {\"gridcolor\": \"white\", \"linecolor\": \"white\", \"ticks\": \"\"}, \"bgcolor\": \"#E5ECF6\", \"radialaxis\": {\"gridcolor\": \"white\", \"linecolor\": \"white\", \"ticks\": \"\"}}, \"scene\": {\"xaxis\": {\"backgroundcolor\": \"#E5ECF6\", \"gridcolor\": \"white\", \"gridwidth\": 2, \"linecolor\": \"white\", \"showbackground\": true, \"ticks\": \"\", \"zerolinecolor\": \"white\"}, \"yaxis\": {\"backgroundcolor\": \"#E5ECF6\", \"gridcolor\": \"white\", \"gridwidth\": 2, \"linecolor\": \"white\", \"showbackground\": true, \"ticks\": \"\", \"zerolinecolor\": \"white\"}, \"zaxis\": {\"backgroundcolor\": \"#E5ECF6\", \"gridcolor\": \"white\", \"gridwidth\": 2, \"linecolor\": \"white\", \"showbackground\": true, \"ticks\": \"\", \"zerolinecolor\": \"white\"}}, \"shapedefaults\": {\"line\": {\"color\": \"#2a3f5f\"}}, \"ternary\": {\"aaxis\": {\"gridcolor\": \"white\", \"linecolor\": \"white\", \"ticks\": \"\"}, \"baxis\": {\"gridcolor\": \"white\", \"linecolor\": \"white\", \"ticks\": \"\"}, \"bgcolor\": \"#E5ECF6\", \"caxis\": {\"gridcolor\": \"white\", \"linecolor\": \"white\", \"ticks\": \"\"}}, \"title\": {\"x\": 0.05}, \"xaxis\": {\"automargin\": true, \"gridcolor\": \"white\", \"linecolor\": \"white\", \"ticks\": \"\", \"title\": {\"standoff\": 15}, \"zerolinecolor\": \"white\", \"zerolinewidth\": 2}, \"yaxis\": {\"automargin\": true, \"gridcolor\": \"white\", \"linecolor\": \"white\", \"ticks\": \"\", \"title\": {\"standoff\": 15}, \"zerolinecolor\": \"white\", \"zerolinewidth\": 2}}}},\n",
       "                        {\"responsive\": true}\n",
       "                    ).then(function(){\n",
       "                            \n",
       "var gd = document.getElementById('98f3a4f1-45e2-40ae-a328-c27bb42c788b');\n",
       "var x = new MutationObserver(function (mutations, observer) {{\n",
       "        var display = window.getComputedStyle(gd).display;\n",
       "        if (!display || display === 'none') {{\n",
       "            console.log([gd, 'removed!']);\n",
       "            Plotly.purge(gd);\n",
       "            observer.disconnect();\n",
       "        }}\n",
       "}});\n",
       "\n",
       "// Listen for the removal of the full notebook cells\n",
       "var notebookContainer = gd.closest('#notebook-container');\n",
       "if (notebookContainer) {{\n",
       "    x.observe(notebookContainer, {childList: true});\n",
       "}}\n",
       "\n",
       "// Listen for the clearing of the current output cell\n",
       "var outputEl = gd.closest('.output');\n",
       "if (outputEl) {{\n",
       "    x.observe(outputEl, {childList: true});\n",
       "}}\n",
       "\n",
       "                        })\n",
       "                };\n",
       "                });\n",
       "            </script>\n",
       "        </div>"
      ]
     },
     "metadata": {},
     "output_type": "display_data"
    }
   ],
   "source": [
    "plotly_bar()"
   ]
  },
  {
   "cell_type": "markdown",
   "metadata": {},
   "source": [
    "\n",
    "\n",
    "# Map of Languages in the Contiguous United States"
   ]
  },
  {
   "cell_type": "markdown",
   "metadata": {},
   "source": [
    "In the below function, two queries are used to gather information on indigenous languages of the United States. The first is used to search for indigenous languages and count the number of states each language is associated with (this can vary from 1 state to 6). The second query then retrieves the coordinate locations for each language (this can vary from 1 location to 4).\n",
    "\n",
    "A language is determined \"indigenous to the contiguous united states\" by the state it is indigenous to. States and coordinate location properties of a language are not related and have different counts/values. Two queries were used because grouping by state in order to get a count of states and query distinct coordinate locations for each language is not possible with just one query.\n",
    "\n",
    "My original solution was to use the below nested query to reduce redundancy but because the request would occasionally time out, I separated the queries.\n",
    "\n",
    "```\n",
    "        SELECT ?language ?languageLabel ?coordinates ?statecount\n",
    "\n",
    "        WHERE {\n",
    "          ?language wdt:P625 ?coordinates . #get coordinates of language\n",
    "\n",
    "          #subquery\n",
    "          { SELECT ?language (COUNT(?state) as ?statecount)\n",
    "                   WHERE {\n",
    "                      ?language wdt:P31 wd:Q34770 . #find languages\n",
    "                      ?language wdt:P2341 ?state . #that are indigenous to a state\n",
    "                      ?state wdt:P361 wd:Q578170 . #a state that is a part of the contiguous united states\n",
    "                     }\n",
    "\n",
    "            GROUP BY ?language\n",
    "          }\n",
    "          #end of subquery\n",
    "\n",
    "          SERVICE wikibase:label { bd:serviceParam wikibase:language \"en\". }\n",
    "\n",
    "          }\n",
    "```"
   ]
  },
  {
   "cell_type": "code",
   "execution_count": 186,
   "metadata": {},
   "outputs": [],
   "source": [
    "mapdata = {\n",
    "    'lat': [],\n",
    "    'lon':[],\n",
    "    'text':[],\n",
    "    'count_size':[],\n",
    "    'count_color':[],\n",
    "}\n",
    "lang_state_dict = {}"
   ]
  },
  {
   "cell_type": "code",
   "execution_count": 187,
   "metadata": {},
   "outputs": [],
   "source": [
    "def languages_state_count_query():\n",
    "    print('\\nQuerying Indigenous Languages and their states...')\n",
    "    query = '''\n",
    "        SELECT ?language (COUNT(?state) as ?statecount)\n",
    "        WHERE {\n",
    "            ?language wdt:P31 wd:Q34770 . #find languages\n",
    "            ?language wdt:P2341 ?state . #that are indigenous to a state\n",
    "            ?state wdt:P361 wd:Q578170 . #a state that is a part of the contiguous united states\n",
    "        }\n",
    "\n",
    "        GROUP BY ?language\n",
    "    '''\n",
    "    results = do_query(query)['results']['bindings']\n",
    "    \n",
    "    for x in results:\n",
    "        qid = x['language']['value'].split('/')[-1]\n",
    "        count = x['statecount']['value']\n",
    "        lang_state_dict[qid] = count\n",
    "\n",
    "    print('...Done!')"
   ]
  },
  {
   "cell_type": "code",
   "execution_count": 188,
   "metadata": {},
   "outputs": [
    {
     "name": "stdout",
     "output_type": "stream",
     "text": [
      "\n",
      "Querying Indigenous Languages and their states...\n",
      "...Done!\n"
     ]
    }
   ],
   "source": [
    "languages_state_count_query()"
   ]
  },
  {
   "cell_type": "code",
   "execution_count": 189,
   "metadata": {},
   "outputs": [],
   "source": [
    "def languages_coordinates_query():    \n",
    "    print('\\nQuerying Indigenous Languages and their coordinates...')\n",
    "    query = '''\n",
    "        SELECT DISTINCT ?language ?languageLabel ?coordinates\n",
    "        WHERE {\n",
    "            ?language wdt:P31 wd:Q34770 . #find languages\n",
    "            ?language wdt:P2341 ?state . #that are indigenous to a state\n",
    "            ?state wdt:P361 wd:Q578170 . #a state that is a part of the contiguous united states\n",
    "            ?language wdt:P625 ?coordinates. # get coordinates\n",
    "        \n",
    "            SERVICE wikibase:label { bd:serviceParam wikibase:language \"en\". }\n",
    "        }\n",
    "    '''\n",
    "    results = do_query(query)['results']['bindings']\n",
    "    \n",
    "    for lang in results:\n",
    "        #append coordinates\n",
    "        coord = lang['coordinates']['value'][6:-1]\n",
    "        lon_coord, lat_coord = coord.split()\n",
    "        \n",
    "        mapdata['lat'].append(lat_coord)\n",
    "        mapdata['lon'].append(lon_coord)\n",
    "        \n",
    "        #append text (language label)\n",
    "        text = lang['languageLabel']['value']\n",
    "        mapdata['text'].append(text)\n",
    "        \n",
    "        #get count from lang_state_dict and append\n",
    "        qid = lang['language']['value'].split('/')[-1]\n",
    "        count = int(lang_state_dict[qid])\n",
    "        mapdata['count_size'].append(count+6)\n",
    "        mapdata['count_color'].append(count*200)\n",
    "        \n",
    "    print('...Done!')"
   ]
  },
  {
   "cell_type": "code",
   "execution_count": 190,
   "metadata": {},
   "outputs": [
    {
     "name": "stdout",
     "output_type": "stream",
     "text": [
      "\n",
      "Querying Indigenous Languages and their coordinates...\n",
      "...Done!\n"
     ]
    }
   ],
   "source": [
    "languages_coordinates_query()"
   ]
  },
  {
   "cell_type": "markdown",
   "metadata": {},
   "source": [
    "The number of states a language is indigenous to gives us an idea of widely used or at least how spatially wide the territory of the peoples speaking a certain language was. The coordinate values of a language give us a relative geographical point of where these languages were used.\n",
    "\n",
    "In the map, the colors of the markers correspond to each unique language. The size of the markers correlate to how many states (in today's current US geography) the language is indigenous to. The bigger the marker, the higher number of states the language is known to be indigenous to."
   ]
  },
  {
   "cell_type": "code",
   "execution_count": 191,
   "metadata": {},
   "outputs": [],
   "source": [
    "#display map\n",
    "def display_map(data):\n",
    "    fig = go.Figure(data=go.Scattergeo(\n",
    "        lon = data['lon'],\n",
    "        lat = data['lat'],\n",
    "        text = data['text'],\n",
    "        mode = 'markers',\n",
    "        \n",
    "        marker = dict(\n",
    "            size=data['count_size'],\n",
    "            color=data['count_color'],\n",
    "            )\n",
    "        ))\n",
    "\n",
    "    fig.update_layout(\n",
    "            title = 'Languages in Contiguous United States',\n",
    "            geo_scope = 'north america'\n",
    "        )\n",
    "    fig.show()"
   ]
  },
  {
   "cell_type": "code",
   "execution_count": 192,
   "metadata": {
    "scrolled": true
   },
   "outputs": [
    {
     "data": {
      "application/vnd.plotly.v1+json": {
       "config": {
        "plotlyServerURL": "https://plot.ly"
       },
       "data": [
        {
         "lat": [
          "44.5",
          "31.833333333",
          "35.75",
          "40.5",
          "41.0",
          "34.0",
          "40.0",
          "35.083333333",
          "30.25",
          "37.833333333",
          "33.5",
          "39.0",
          "43.5",
          "43.0",
          "36.583333333",
          "33.0",
          "33.333333333",
          "36.25",
          "34.0",
          "36.0",
          "40.0",
          "32.25",
          "35.833333333",
          "32.666666666",
          "45.5",
          "31.75",
          "34.333333333",
          "35.5",
          "36.083333333",
          "35.0",
          "44.333333333",
          "36.166666666",
          "47.666666666",
          "48.0",
          "42.25",
          "33.25",
          "45.0",
          "35.833333333",
          "40.0",
          "37.0",
          "37.0",
          "42.0",
          "34.916666666",
          "29.666666666",
          "36.5",
          "40.0",
          "35.416666666",
          "33.333333333",
          "44.5",
          "34.833333333",
          "46.25",
          "47.25",
          "38.0",
          "62.0",
          "43.5",
          "48.0",
          "48.333333333",
          "47.0",
          "41.0",
          "45.5",
          "48.0",
          "47.666666666",
          "48.45",
          "47.0",
          "49.5",
          "39.25",
          "47.5",
          "21.5",
          "37.333333333",
          "47.666666666",
          "48.083333333",
          "48.75",
          "42.0",
          "50.0",
          "48.7",
          "48.583333333",
          "32.333333333",
          "42.75",
          "47.25",
          "46.0",
          "49.5",
          "42.666666666",
          "46.583333333",
          "47.916666666",
          "45.5",
          "42.5",
          "35.5",
          "47.0",
          "43.416666666",
          "32.333333333",
          "36.0",
          "52.0",
          "40.0",
          "46.5",
          "38.0",
          "48.333333333",
          "34.666666666",
          "48.583333333",
          "37.0",
          "40.166666666",
          "36.833333333",
          "42.5",
          "39.666666666",
          "46.5",
          "41.5",
          "39.333333333",
          "41.0",
          "45.0",
          "33.333333333",
          "38.333333333",
          "40.75",
          "37.5",
          "33.75",
          "34.5",
          "36.833333333",
          "32.666666666",
          "33.166666666",
          "34.0",
          "45.666666666",
          "39.0",
          "39.5",
          "39.0",
          "41.333333333",
          "34.5",
          "38.333333333",
          "36.25",
          "38.0",
          "39.0",
          "32.0",
          "44.5",
          "41.083333333",
          "36.0",
          "36.0",
          "33.166666666",
          "35.5",
          "39.0",
          "41.0",
          "33.5",
          "44.0",
          "32.0",
          "45.333333333",
          "38.0",
          "38.666666666",
          "36.0",
          "35.75",
          "32.833333333",
          "43.5",
          "40.0",
          "32.166666666",
          "42.5",
          "41.666666666",
          "40.833333333",
          "31.0",
          "38.5",
          "41.833333333",
          "34.666666666"
         ],
         "lon": [
          "-85.0",
          "-96.5",
          "-86.75",
          "-96.0",
          "-98.666666666",
          "-88.0",
          "-83.0",
          "-108.833333333",
          "-96.75",
          "-113.333333333",
          "-101.5",
          "-109.0",
          "-88.5",
          "-83.0",
          "-104.0",
          "-84.0",
          "-97.333333333",
          "-106.166666667",
          "-85.0",
          "-110.0",
          "-90.0",
          "-88.5",
          "-107.0",
          "-91.0",
          "-88.333333333",
          "-91.333333333",
          "-115.166666667",
          "-83.5",
          "-106.083333333",
          "-106.333333333",
          "-77.5",
          "-108.0",
          "-92.5",
          "-95.0",
          "-84.0",
          "-108.0",
          "-93.5",
          "-110.416666667",
          "-100.0",
          "-94.0",
          "-99.0",
          "-97.25",
          "-107.583333333",
          "-91.0",
          "-105.5",
          "-75.166666666",
          "-106.666666667",
          "-93.5",
          "-122.5",
          "-85.166666666",
          "-123.5",
          "-116.5",
          "-76.25",
          "-145.0",
          "-74.25",
          "-117.0",
          "-124.666666667",
          "-95.0",
          "-114.0",
          "-100.5",
          "-122.0",
          "-122.75",
          "-123.333333333",
          "-108.0",
          "-116.0",
          "-120.0",
          "-120.0",
          "-158.0",
          "-76.5",
          "-117.75",
          "-123.75",
          "-123.25",
          "-118.0",
          "-112.666666667",
          "-122.666666667",
          "-123.416666667",
          "-115.0",
          "-76.75",
          "-122.5",
          "-116.0",
          "-118.5",
          "-73.5",
          "-123.0",
          "-124.25",
          "-122.5",
          "-77.5",
          "-80.5",
          "-102.5",
          "-108.833333333",
          "-87.416666666",
          "-77.5",
          "-100.166666667",
          "-103.0",
          "-102.5",
          "-119.0",
          "-123.75",
          "-114.583333333",
          "-122.583333333",
          "-117.0",
          "-124.166666667",
          "-121.5",
          "-121.5",
          "-123.5",
          "-120.0",
          "-121.0",
          "-123.5",
          "-122.5",
          "-67.0",
          "-117.166666667",
          "-120.666666667",
          "-121.0",
          "-120.0",
          "-110.0",
          "-117.0",
          "-121.75",
          "-116.166666667",
          "-116.5",
          "-113.333333333",
          "-118.5",
          "-123.333333333",
          "-121.5",
          "-121.0",
          "-124.0",
          "-120.25",
          "-123.0",
          "-121.75",
          "-121.0",
          "-122.666666667",
          "-112.0",
          "-123.0",
          "-123.666666667",
          "-118.333333333",
          "-117.5",
          "-113.166666667",
          "-113.75",
          "-122.5",
          "-123.0",
          "-116.25",
          "-124.0",
          "-85.0",
          "-123.75",
          "-120.333333333",
          "-123.333333333",
          "-121.0",
          "-112.5",
          "-114.333333333",
          "-124.166666667",
          "-120.666666667",
          "-116.5",
          "-71.0",
          "-123.0",
          "-124.166666667",
          "-112.5",
          "-122.5",
          "-122.666666667",
          "-120.25"
         ],
         "marker": {
          "color": [
           800,
           200,
           200,
           200,
           200,
           400,
           200,
           200,
           200,
           1200,
           200,
           1200,
           800,
           800,
           200,
           400,
           200,
           400,
           400,
           600,
           400,
           600,
           200,
           200,
           200,
           600,
           1200,
           200,
           400,
           200,
           200,
           800,
           800,
           800,
           600,
           400,
           1000,
           400,
           200,
           200,
           200,
           800,
           200,
           200,
           200,
           200,
           200,
           200,
           400,
           200,
           400,
           200,
           400,
           200,
           200,
           400,
           200,
           200,
           800,
           200,
           200,
           200,
           200,
           200,
           400,
           400,
           200,
           400,
           200,
           200,
           200,
           200,
           800,
           200,
           200,
           200,
           400,
           200,
           200,
           600,
           200,
           400,
           200,
           200,
           400,
           200,
           200,
           200,
           800,
           400,
           400,
           200,
           200,
           200,
           400,
           200,
           600,
           200,
           400,
           200,
           200,
           200,
           200,
           200,
           200,
           200,
           200,
           200,
           200,
           200,
           200,
           200,
           200,
           200,
           200,
           200,
           200,
           200,
           200,
           200,
           200,
           200,
           200,
           200,
           200,
           200,
           200,
           200,
           200,
           200,
           200,
           200,
           200,
           200,
           200,
           200,
           200,
           200,
           200,
           200,
           200,
           200,
           200,
           200,
           200,
           200,
           200,
           200,
           200,
           200,
           200,
           200,
           200,
           200,
           200,
           200
          ],
          "size": [
           10,
           7,
           7,
           7,
           7,
           8,
           7,
           7,
           7,
           12,
           7,
           12,
           10,
           10,
           7,
           8,
           7,
           8,
           8,
           9,
           8,
           9,
           7,
           7,
           7,
           9,
           12,
           7,
           8,
           7,
           7,
           10,
           10,
           10,
           9,
           8,
           11,
           8,
           7,
           7,
           7,
           10,
           7,
           7,
           7,
           7,
           7,
           7,
           8,
           7,
           8,
           7,
           8,
           7,
           7,
           8,
           7,
           7,
           10,
           7,
           7,
           7,
           7,
           7,
           8,
           8,
           7,
           8,
           7,
           7,
           7,
           7,
           10,
           7,
           7,
           7,
           8,
           7,
           7,
           9,
           7,
           8,
           7,
           7,
           8,
           7,
           7,
           7,
           10,
           8,
           8,
           7,
           7,
           7,
           8,
           7,
           9,
           7,
           8,
           7,
           7,
           7,
           7,
           7,
           7,
           7,
           7,
           7,
           7,
           7,
           7,
           7,
           7,
           7,
           7,
           7,
           7,
           7,
           7,
           7,
           7,
           7,
           7,
           7,
           7,
           7,
           7,
           7,
           7,
           7,
           7,
           7,
           7,
           7,
           7,
           7,
           7,
           7,
           7,
           7,
           7,
           7,
           7,
           7,
           7,
           7,
           7,
           7,
           7,
           7,
           7,
           7,
           7,
           7,
           7,
           7
          ]
         },
         "mode": "markers",
         "text": [
          "Potawatomi",
          "Kitsai",
          "Yuchi",
          "Chiwere language",
          "Pawnee",
          "Chickasaw",
          "Shawnee",
          "Zuni",
          "Tonkawa",
          "Colorado River Numic language",
          "Comanche",
          "Colorado River Numic language",
          "Winnebago",
          "Mesquakie language",
          "Jicarilla",
          "Muscogee",
          "Wichita",
          "Tewa language",
          "Muscogee",
          "Hopi",
          "Piedras negras Coahuila",
          "Choctaw",
          "Jemez",
          "Tunica",
          "Menominee",
          "Natchez",
          "Colorado River Numic language",
          "Cherokee",
          "Tewa language",
          "Southern Tiwa",
          "Wyandot",
          "Navajo",
          "Chippewa",
          "Chippewa",
          "Kickapoo",
          "Mescalero-Chiricahua",
          "Dakota",
          "Tewa language",
          "Plains Indian Sign Language",
          "Osage",
          "Kiowa",
          "Omaha–Ponca",
          "Western Keres",
          "Chitimacha",
          "Taos dialect",
          "Unami",
          "Eastern Keres",
          "Caddo",
          "Molala language",
          "Koasati",
          "Lower Chinook",
          "Coeur d'Alene",
          "Nanticoke",
          "Ahtna",
          "Mohawk",
          "Salish-Spokane-Kalispel language",
          "Makah",
          "Cheyenne",
          "Shoshoni",
          "Arikara",
          "Lushootseed",
          "Twana",
          "North Straits Salish language",
          "Crow",
          "Kutenai",
          "Washo",
          "Columbia-Moses language",
          "Hawaiian Pidgin",
          "Powhatan",
          "Spokane",
          "Klallam language",
          "North Straits Salish language",
          "Northern Paiute",
          "Blackfoot",
          "North Straits Salish language",
          "North Straits Salish language",
          "Cocopah",
          "Cayuga",
          "Southern Puget Sound Salish",
          "Nez Perce",
          "Okanagan",
          "Mohegan-Pequot",
          "Upper Chehalis",
          "Quileute",
          "Wasco-Wishram",
          "Seneca",
          "Catawba",
          "Hidatsa",
          "Shoshoni",
          "Alabama",
          "Tuscarora",
          "Michif",
          "Arapaho",
          "Mandan",
          "Mono language",
          "North Straits Salish language",
          "Mojave",
          "North Straits Salish language",
          "Timbisha language",
          "Mattole",
          "Southern Ohlone",
          "Klamath language",
          "Yuki",
          "Walla Walla",
          "Achumawi",
          "Northern Pomo",
          "Wintu",
          "Malecite-Passamaquoddy",
          "Luiseño language",
          "Northern Sierra Miwok",
          "Atsugewi",
          "Southern Sierra Miwok",
          "Western Apache",
          "Serrano",
          "Southern Ohlone",
          "Tipai",
          "Cupeño",
          "Havasupai–Hualapai language",
          "Umatilla",
          "Central Pomo",
          "Konkow language",
          "Nisenan",
          "Yurok",
          "Barbareño",
          "Coast Miwok",
          "Esselen",
          "Plains Miwok",
          "Eastern Pomo",
          "O'odham",
          "Central Kalapuya language",
          "Hupa",
          "Tübatulabal",
          "Kawaiisu",
          "Maricopa",
          "Havasupai–Hualapai language",
          "Southeastern Pomo",
          "Chimariko",
          "Cahuilla",
          "Siuslaw",
          "Mikasuki",
          "Tillamook",
          "Central Sierra Miwok",
          "Kashaya",
          "Salinan",
          "Havasupai–Hualapai language",
          "Quechan",
          "Hanis language",
          "Maidu language",
          "Tipai",
          "Massachusett",
          "Karuk",
          "Wiyot",
          "O'odham",
          "Wappo",
          "Shasta",
          "Ineseño"
         ],
         "type": "scattergeo"
        }
       ],
       "layout": {
        "geo": {
         "scope": "north america"
        },
        "template": {
         "data": {
          "bar": [
           {
            "error_x": {
             "color": "#2a3f5f"
            },
            "error_y": {
             "color": "#2a3f5f"
            },
            "marker": {
             "line": {
              "color": "#E5ECF6",
              "width": 0.5
             }
            },
            "type": "bar"
           }
          ],
          "barpolar": [
           {
            "marker": {
             "line": {
              "color": "#E5ECF6",
              "width": 0.5
             }
            },
            "type": "barpolar"
           }
          ],
          "carpet": [
           {
            "aaxis": {
             "endlinecolor": "#2a3f5f",
             "gridcolor": "white",
             "linecolor": "white",
             "minorgridcolor": "white",
             "startlinecolor": "#2a3f5f"
            },
            "baxis": {
             "endlinecolor": "#2a3f5f",
             "gridcolor": "white",
             "linecolor": "white",
             "minorgridcolor": "white",
             "startlinecolor": "#2a3f5f"
            },
            "type": "carpet"
           }
          ],
          "choropleth": [
           {
            "colorbar": {
             "outlinewidth": 0,
             "ticks": ""
            },
            "type": "choropleth"
           }
          ],
          "contour": [
           {
            "colorbar": {
             "outlinewidth": 0,
             "ticks": ""
            },
            "colorscale": [
             [
              0,
              "#0d0887"
             ],
             [
              0.1111111111111111,
              "#46039f"
             ],
             [
              0.2222222222222222,
              "#7201a8"
             ],
             [
              0.3333333333333333,
              "#9c179e"
             ],
             [
              0.4444444444444444,
              "#bd3786"
             ],
             [
              0.5555555555555556,
              "#d8576b"
             ],
             [
              0.6666666666666666,
              "#ed7953"
             ],
             [
              0.7777777777777778,
              "#fb9f3a"
             ],
             [
              0.8888888888888888,
              "#fdca26"
             ],
             [
              1,
              "#f0f921"
             ]
            ],
            "type": "contour"
           }
          ],
          "contourcarpet": [
           {
            "colorbar": {
             "outlinewidth": 0,
             "ticks": ""
            },
            "type": "contourcarpet"
           }
          ],
          "heatmap": [
           {
            "colorbar": {
             "outlinewidth": 0,
             "ticks": ""
            },
            "colorscale": [
             [
              0,
              "#0d0887"
             ],
             [
              0.1111111111111111,
              "#46039f"
             ],
             [
              0.2222222222222222,
              "#7201a8"
             ],
             [
              0.3333333333333333,
              "#9c179e"
             ],
             [
              0.4444444444444444,
              "#bd3786"
             ],
             [
              0.5555555555555556,
              "#d8576b"
             ],
             [
              0.6666666666666666,
              "#ed7953"
             ],
             [
              0.7777777777777778,
              "#fb9f3a"
             ],
             [
              0.8888888888888888,
              "#fdca26"
             ],
             [
              1,
              "#f0f921"
             ]
            ],
            "type": "heatmap"
           }
          ],
          "heatmapgl": [
           {
            "colorbar": {
             "outlinewidth": 0,
             "ticks": ""
            },
            "colorscale": [
             [
              0,
              "#0d0887"
             ],
             [
              0.1111111111111111,
              "#46039f"
             ],
             [
              0.2222222222222222,
              "#7201a8"
             ],
             [
              0.3333333333333333,
              "#9c179e"
             ],
             [
              0.4444444444444444,
              "#bd3786"
             ],
             [
              0.5555555555555556,
              "#d8576b"
             ],
             [
              0.6666666666666666,
              "#ed7953"
             ],
             [
              0.7777777777777778,
              "#fb9f3a"
             ],
             [
              0.8888888888888888,
              "#fdca26"
             ],
             [
              1,
              "#f0f921"
             ]
            ],
            "type": "heatmapgl"
           }
          ],
          "histogram": [
           {
            "marker": {
             "colorbar": {
              "outlinewidth": 0,
              "ticks": ""
             }
            },
            "type": "histogram"
           }
          ],
          "histogram2d": [
           {
            "colorbar": {
             "outlinewidth": 0,
             "ticks": ""
            },
            "colorscale": [
             [
              0,
              "#0d0887"
             ],
             [
              0.1111111111111111,
              "#46039f"
             ],
             [
              0.2222222222222222,
              "#7201a8"
             ],
             [
              0.3333333333333333,
              "#9c179e"
             ],
             [
              0.4444444444444444,
              "#bd3786"
             ],
             [
              0.5555555555555556,
              "#d8576b"
             ],
             [
              0.6666666666666666,
              "#ed7953"
             ],
             [
              0.7777777777777778,
              "#fb9f3a"
             ],
             [
              0.8888888888888888,
              "#fdca26"
             ],
             [
              1,
              "#f0f921"
             ]
            ],
            "type": "histogram2d"
           }
          ],
          "histogram2dcontour": [
           {
            "colorbar": {
             "outlinewidth": 0,
             "ticks": ""
            },
            "colorscale": [
             [
              0,
              "#0d0887"
             ],
             [
              0.1111111111111111,
              "#46039f"
             ],
             [
              0.2222222222222222,
              "#7201a8"
             ],
             [
              0.3333333333333333,
              "#9c179e"
             ],
             [
              0.4444444444444444,
              "#bd3786"
             ],
             [
              0.5555555555555556,
              "#d8576b"
             ],
             [
              0.6666666666666666,
              "#ed7953"
             ],
             [
              0.7777777777777778,
              "#fb9f3a"
             ],
             [
              0.8888888888888888,
              "#fdca26"
             ],
             [
              1,
              "#f0f921"
             ]
            ],
            "type": "histogram2dcontour"
           }
          ],
          "mesh3d": [
           {
            "colorbar": {
             "outlinewidth": 0,
             "ticks": ""
            },
            "type": "mesh3d"
           }
          ],
          "parcoords": [
           {
            "line": {
             "colorbar": {
              "outlinewidth": 0,
              "ticks": ""
             }
            },
            "type": "parcoords"
           }
          ],
          "pie": [
           {
            "automargin": true,
            "type": "pie"
           }
          ],
          "scatter": [
           {
            "marker": {
             "colorbar": {
              "outlinewidth": 0,
              "ticks": ""
             }
            },
            "type": "scatter"
           }
          ],
          "scatter3d": [
           {
            "line": {
             "colorbar": {
              "outlinewidth": 0,
              "ticks": ""
             }
            },
            "marker": {
             "colorbar": {
              "outlinewidth": 0,
              "ticks": ""
             }
            },
            "type": "scatter3d"
           }
          ],
          "scattercarpet": [
           {
            "marker": {
             "colorbar": {
              "outlinewidth": 0,
              "ticks": ""
             }
            },
            "type": "scattercarpet"
           }
          ],
          "scattergeo": [
           {
            "marker": {
             "colorbar": {
              "outlinewidth": 0,
              "ticks": ""
             }
            },
            "type": "scattergeo"
           }
          ],
          "scattergl": [
           {
            "marker": {
             "colorbar": {
              "outlinewidth": 0,
              "ticks": ""
             }
            },
            "type": "scattergl"
           }
          ],
          "scattermapbox": [
           {
            "marker": {
             "colorbar": {
              "outlinewidth": 0,
              "ticks": ""
             }
            },
            "type": "scattermapbox"
           }
          ],
          "scatterpolar": [
           {
            "marker": {
             "colorbar": {
              "outlinewidth": 0,
              "ticks": ""
             }
            },
            "type": "scatterpolar"
           }
          ],
          "scatterpolargl": [
           {
            "marker": {
             "colorbar": {
              "outlinewidth": 0,
              "ticks": ""
             }
            },
            "type": "scatterpolargl"
           }
          ],
          "scatterternary": [
           {
            "marker": {
             "colorbar": {
              "outlinewidth": 0,
              "ticks": ""
             }
            },
            "type": "scatterternary"
           }
          ],
          "surface": [
           {
            "colorbar": {
             "outlinewidth": 0,
             "ticks": ""
            },
            "colorscale": [
             [
              0,
              "#0d0887"
             ],
             [
              0.1111111111111111,
              "#46039f"
             ],
             [
              0.2222222222222222,
              "#7201a8"
             ],
             [
              0.3333333333333333,
              "#9c179e"
             ],
             [
              0.4444444444444444,
              "#bd3786"
             ],
             [
              0.5555555555555556,
              "#d8576b"
             ],
             [
              0.6666666666666666,
              "#ed7953"
             ],
             [
              0.7777777777777778,
              "#fb9f3a"
             ],
             [
              0.8888888888888888,
              "#fdca26"
             ],
             [
              1,
              "#f0f921"
             ]
            ],
            "type": "surface"
           }
          ],
          "table": [
           {
            "cells": {
             "fill": {
              "color": "#EBF0F8"
             },
             "line": {
              "color": "white"
             }
            },
            "header": {
             "fill": {
              "color": "#C8D4E3"
             },
             "line": {
              "color": "white"
             }
            },
            "type": "table"
           }
          ]
         },
         "layout": {
          "annotationdefaults": {
           "arrowcolor": "#2a3f5f",
           "arrowhead": 0,
           "arrowwidth": 1
          },
          "coloraxis": {
           "colorbar": {
            "outlinewidth": 0,
            "ticks": ""
           }
          },
          "colorscale": {
           "diverging": [
            [
             0,
             "#8e0152"
            ],
            [
             0.1,
             "#c51b7d"
            ],
            [
             0.2,
             "#de77ae"
            ],
            [
             0.3,
             "#f1b6da"
            ],
            [
             0.4,
             "#fde0ef"
            ],
            [
             0.5,
             "#f7f7f7"
            ],
            [
             0.6,
             "#e6f5d0"
            ],
            [
             0.7,
             "#b8e186"
            ],
            [
             0.8,
             "#7fbc41"
            ],
            [
             0.9,
             "#4d9221"
            ],
            [
             1,
             "#276419"
            ]
           ],
           "sequential": [
            [
             0,
             "#0d0887"
            ],
            [
             0.1111111111111111,
             "#46039f"
            ],
            [
             0.2222222222222222,
             "#7201a8"
            ],
            [
             0.3333333333333333,
             "#9c179e"
            ],
            [
             0.4444444444444444,
             "#bd3786"
            ],
            [
             0.5555555555555556,
             "#d8576b"
            ],
            [
             0.6666666666666666,
             "#ed7953"
            ],
            [
             0.7777777777777778,
             "#fb9f3a"
            ],
            [
             0.8888888888888888,
             "#fdca26"
            ],
            [
             1,
             "#f0f921"
            ]
           ],
           "sequentialminus": [
            [
             0,
             "#0d0887"
            ],
            [
             0.1111111111111111,
             "#46039f"
            ],
            [
             0.2222222222222222,
             "#7201a8"
            ],
            [
             0.3333333333333333,
             "#9c179e"
            ],
            [
             0.4444444444444444,
             "#bd3786"
            ],
            [
             0.5555555555555556,
             "#d8576b"
            ],
            [
             0.6666666666666666,
             "#ed7953"
            ],
            [
             0.7777777777777778,
             "#fb9f3a"
            ],
            [
             0.8888888888888888,
             "#fdca26"
            ],
            [
             1,
             "#f0f921"
            ]
           ]
          },
          "colorway": [
           "#636efa",
           "#EF553B",
           "#00cc96",
           "#ab63fa",
           "#FFA15A",
           "#19d3f3",
           "#FF6692",
           "#B6E880",
           "#FF97FF",
           "#FECB52"
          ],
          "font": {
           "color": "#2a3f5f"
          },
          "geo": {
           "bgcolor": "white",
           "lakecolor": "white",
           "landcolor": "#E5ECF6",
           "showlakes": true,
           "showland": true,
           "subunitcolor": "white"
          },
          "hoverlabel": {
           "align": "left"
          },
          "hovermode": "closest",
          "mapbox": {
           "style": "light"
          },
          "paper_bgcolor": "white",
          "plot_bgcolor": "#E5ECF6",
          "polar": {
           "angularaxis": {
            "gridcolor": "white",
            "linecolor": "white",
            "ticks": ""
           },
           "bgcolor": "#E5ECF6",
           "radialaxis": {
            "gridcolor": "white",
            "linecolor": "white",
            "ticks": ""
           }
          },
          "scene": {
           "xaxis": {
            "backgroundcolor": "#E5ECF6",
            "gridcolor": "white",
            "gridwidth": 2,
            "linecolor": "white",
            "showbackground": true,
            "ticks": "",
            "zerolinecolor": "white"
           },
           "yaxis": {
            "backgroundcolor": "#E5ECF6",
            "gridcolor": "white",
            "gridwidth": 2,
            "linecolor": "white",
            "showbackground": true,
            "ticks": "",
            "zerolinecolor": "white"
           },
           "zaxis": {
            "backgroundcolor": "#E5ECF6",
            "gridcolor": "white",
            "gridwidth": 2,
            "linecolor": "white",
            "showbackground": true,
            "ticks": "",
            "zerolinecolor": "white"
           }
          },
          "shapedefaults": {
           "line": {
            "color": "#2a3f5f"
           }
          },
          "ternary": {
           "aaxis": {
            "gridcolor": "white",
            "linecolor": "white",
            "ticks": ""
           },
           "baxis": {
            "gridcolor": "white",
            "linecolor": "white",
            "ticks": ""
           },
           "bgcolor": "#E5ECF6",
           "caxis": {
            "gridcolor": "white",
            "linecolor": "white",
            "ticks": ""
           }
          },
          "title": {
           "x": 0.05
          },
          "xaxis": {
           "automargin": true,
           "gridcolor": "white",
           "linecolor": "white",
           "ticks": "",
           "title": {
            "standoff": 15
           },
           "zerolinecolor": "white",
           "zerolinewidth": 2
          },
          "yaxis": {
           "automargin": true,
           "gridcolor": "white",
           "linecolor": "white",
           "ticks": "",
           "title": {
            "standoff": 15
           },
           "zerolinecolor": "white",
           "zerolinewidth": 2
          }
         }
        },
        "title": {
         "text": "Languages in Contiguous United States"
        }
       }
      },
      "text/html": [
       "<div>\n",
       "        \n",
       "        \n",
       "            <div id=\"4f30af8e-b8fa-44fa-b0f2-2377d074bc65\" class=\"plotly-graph-div\" style=\"height:525px; width:100%;\"></div>\n",
       "            <script type=\"text/javascript\">\n",
       "                require([\"plotly\"], function(Plotly) {\n",
       "                    window.PLOTLYENV=window.PLOTLYENV || {};\n",
       "                    \n",
       "                if (document.getElementById(\"4f30af8e-b8fa-44fa-b0f2-2377d074bc65\")) {\n",
       "                    Plotly.newPlot(\n",
       "                        '4f30af8e-b8fa-44fa-b0f2-2377d074bc65',\n",
       "                        [{\"lat\": [\"44.5\", \"31.833333333\", \"35.75\", \"40.5\", \"41.0\", \"34.0\", \"40.0\", \"35.083333333\", \"30.25\", \"37.833333333\", \"33.5\", \"39.0\", \"43.5\", \"43.0\", \"36.583333333\", \"33.0\", \"33.333333333\", \"36.25\", \"34.0\", \"36.0\", \"40.0\", \"32.25\", \"35.833333333\", \"32.666666666\", \"45.5\", \"31.75\", \"34.333333333\", \"35.5\", \"36.083333333\", \"35.0\", \"44.333333333\", \"36.166666666\", \"47.666666666\", \"48.0\", \"42.25\", \"33.25\", \"45.0\", \"35.833333333\", \"40.0\", \"37.0\", \"37.0\", \"42.0\", \"34.916666666\", \"29.666666666\", \"36.5\", \"40.0\", \"35.416666666\", \"33.333333333\", \"44.5\", \"34.833333333\", \"46.25\", \"47.25\", \"38.0\", \"62.0\", \"43.5\", \"48.0\", \"48.333333333\", \"47.0\", \"41.0\", \"45.5\", \"48.0\", \"47.666666666\", \"48.45\", \"47.0\", \"49.5\", \"39.25\", \"47.5\", \"21.5\", \"37.333333333\", \"47.666666666\", \"48.083333333\", \"48.75\", \"42.0\", \"50.0\", \"48.7\", \"48.583333333\", \"32.333333333\", \"42.75\", \"47.25\", \"46.0\", \"49.5\", \"42.666666666\", \"46.583333333\", \"47.916666666\", \"45.5\", \"42.5\", \"35.5\", \"47.0\", \"43.416666666\", \"32.333333333\", \"36.0\", \"52.0\", \"40.0\", \"46.5\", \"38.0\", \"48.333333333\", \"34.666666666\", \"48.583333333\", \"37.0\", \"40.166666666\", \"36.833333333\", \"42.5\", \"39.666666666\", \"46.5\", \"41.5\", \"39.333333333\", \"41.0\", \"45.0\", \"33.333333333\", \"38.333333333\", \"40.75\", \"37.5\", \"33.75\", \"34.5\", \"36.833333333\", \"32.666666666\", \"33.166666666\", \"34.0\", \"45.666666666\", \"39.0\", \"39.5\", \"39.0\", \"41.333333333\", \"34.5\", \"38.333333333\", \"36.25\", \"38.0\", \"39.0\", \"32.0\", \"44.5\", \"41.083333333\", \"36.0\", \"36.0\", \"33.166666666\", \"35.5\", \"39.0\", \"41.0\", \"33.5\", \"44.0\", \"32.0\", \"45.333333333\", \"38.0\", \"38.666666666\", \"36.0\", \"35.75\", \"32.833333333\", \"43.5\", \"40.0\", \"32.166666666\", \"42.5\", \"41.666666666\", \"40.833333333\", \"31.0\", \"38.5\", \"41.833333333\", \"34.666666666\"], \"lon\": [\"-85.0\", \"-96.5\", \"-86.75\", \"-96.0\", \"-98.666666666\", \"-88.0\", \"-83.0\", \"-108.833333333\", \"-96.75\", \"-113.333333333\", \"-101.5\", \"-109.0\", \"-88.5\", \"-83.0\", \"-104.0\", \"-84.0\", \"-97.333333333\", \"-106.166666667\", \"-85.0\", \"-110.0\", \"-90.0\", \"-88.5\", \"-107.0\", \"-91.0\", \"-88.333333333\", \"-91.333333333\", \"-115.166666667\", \"-83.5\", \"-106.083333333\", \"-106.333333333\", \"-77.5\", \"-108.0\", \"-92.5\", \"-95.0\", \"-84.0\", \"-108.0\", \"-93.5\", \"-110.416666667\", \"-100.0\", \"-94.0\", \"-99.0\", \"-97.25\", \"-107.583333333\", \"-91.0\", \"-105.5\", \"-75.166666666\", \"-106.666666667\", \"-93.5\", \"-122.5\", \"-85.166666666\", \"-123.5\", \"-116.5\", \"-76.25\", \"-145.0\", \"-74.25\", \"-117.0\", \"-124.666666667\", \"-95.0\", \"-114.0\", \"-100.5\", \"-122.0\", \"-122.75\", \"-123.333333333\", \"-108.0\", \"-116.0\", \"-120.0\", \"-120.0\", \"-158.0\", \"-76.5\", \"-117.75\", \"-123.75\", \"-123.25\", \"-118.0\", \"-112.666666667\", \"-122.666666667\", \"-123.416666667\", \"-115.0\", \"-76.75\", \"-122.5\", \"-116.0\", \"-118.5\", \"-73.5\", \"-123.0\", \"-124.25\", \"-122.5\", \"-77.5\", \"-80.5\", \"-102.5\", \"-108.833333333\", \"-87.416666666\", \"-77.5\", \"-100.166666667\", \"-103.0\", \"-102.5\", \"-119.0\", \"-123.75\", \"-114.583333333\", \"-122.583333333\", \"-117.0\", \"-124.166666667\", \"-121.5\", \"-121.5\", \"-123.5\", \"-120.0\", \"-121.0\", \"-123.5\", \"-122.5\", \"-67.0\", \"-117.166666667\", \"-120.666666667\", \"-121.0\", \"-120.0\", \"-110.0\", \"-117.0\", \"-121.75\", \"-116.166666667\", \"-116.5\", \"-113.333333333\", \"-118.5\", \"-123.333333333\", \"-121.5\", \"-121.0\", \"-124.0\", \"-120.25\", \"-123.0\", \"-121.75\", \"-121.0\", \"-122.666666667\", \"-112.0\", \"-123.0\", \"-123.666666667\", \"-118.333333333\", \"-117.5\", \"-113.166666667\", \"-113.75\", \"-122.5\", \"-123.0\", \"-116.25\", \"-124.0\", \"-85.0\", \"-123.75\", \"-120.333333333\", \"-123.333333333\", \"-121.0\", \"-112.5\", \"-114.333333333\", \"-124.166666667\", \"-120.666666667\", \"-116.5\", \"-71.0\", \"-123.0\", \"-124.166666667\", \"-112.5\", \"-122.5\", \"-122.666666667\", \"-120.25\"], \"marker\": {\"color\": [800, 200, 200, 200, 200, 400, 200, 200, 200, 1200, 200, 1200, 800, 800, 200, 400, 200, 400, 400, 600, 400, 600, 200, 200, 200, 600, 1200, 200, 400, 200, 200, 800, 800, 800, 600, 400, 1000, 400, 200, 200, 200, 800, 200, 200, 200, 200, 200, 200, 400, 200, 400, 200, 400, 200, 200, 400, 200, 200, 800, 200, 200, 200, 200, 200, 400, 400, 200, 400, 200, 200, 200, 200, 800, 200, 200, 200, 400, 200, 200, 600, 200, 400, 200, 200, 400, 200, 200, 200, 800, 400, 400, 200, 200, 200, 400, 200, 600, 200, 400, 200, 200, 200, 200, 200, 200, 200, 200, 200, 200, 200, 200, 200, 200, 200, 200, 200, 200, 200, 200, 200, 200, 200, 200, 200, 200, 200, 200, 200, 200, 200, 200, 200, 200, 200, 200, 200, 200, 200, 200, 200, 200, 200, 200, 200, 200, 200, 200, 200, 200, 200, 200, 200, 200, 200, 200, 200], \"size\": [10, 7, 7, 7, 7, 8, 7, 7, 7, 12, 7, 12, 10, 10, 7, 8, 7, 8, 8, 9, 8, 9, 7, 7, 7, 9, 12, 7, 8, 7, 7, 10, 10, 10, 9, 8, 11, 8, 7, 7, 7, 10, 7, 7, 7, 7, 7, 7, 8, 7, 8, 7, 8, 7, 7, 8, 7, 7, 10, 7, 7, 7, 7, 7, 8, 8, 7, 8, 7, 7, 7, 7, 10, 7, 7, 7, 8, 7, 7, 9, 7, 8, 7, 7, 8, 7, 7, 7, 10, 8, 8, 7, 7, 7, 8, 7, 9, 7, 8, 7, 7, 7, 7, 7, 7, 7, 7, 7, 7, 7, 7, 7, 7, 7, 7, 7, 7, 7, 7, 7, 7, 7, 7, 7, 7, 7, 7, 7, 7, 7, 7, 7, 7, 7, 7, 7, 7, 7, 7, 7, 7, 7, 7, 7, 7, 7, 7, 7, 7, 7, 7, 7, 7, 7, 7, 7]}, \"mode\": \"markers\", \"text\": [\"Potawatomi\", \"Kitsai\", \"Yuchi\", \"Chiwere language\", \"Pawnee\", \"Chickasaw\", \"Shawnee\", \"Zuni\", \"Tonkawa\", \"Colorado River Numic language\", \"Comanche\", \"Colorado River Numic language\", \"Winnebago\", \"Mesquakie language\", \"Jicarilla\", \"Muscogee\", \"Wichita\", \"Tewa language\", \"Muscogee\", \"Hopi\", \"Piedras negras Coahuila\", \"Choctaw\", \"Jemez\", \"Tunica\", \"Menominee\", \"Natchez\", \"Colorado River Numic language\", \"Cherokee\", \"Tewa language\", \"Southern Tiwa\", \"Wyandot\", \"Navajo\", \"Chippewa\", \"Chippewa\", \"Kickapoo\", \"Mescalero-Chiricahua\", \"Dakota\", \"Tewa language\", \"Plains Indian Sign Language\", \"Osage\", \"Kiowa\", \"Omaha\\u2013Ponca\", \"Western Keres\", \"Chitimacha\", \"Taos dialect\", \"Unami\", \"Eastern Keres\", \"Caddo\", \"Molala language\", \"Koasati\", \"Lower Chinook\", \"Coeur d'Alene\", \"Nanticoke\", \"Ahtna\", \"Mohawk\", \"Salish-Spokane-Kalispel language\", \"Makah\", \"Cheyenne\", \"Shoshoni\", \"Arikara\", \"Lushootseed\", \"Twana\", \"North Straits Salish language\", \"Crow\", \"Kutenai\", \"Washo\", \"Columbia-Moses language\", \"Hawaiian Pidgin\", \"Powhatan\", \"Spokane\", \"Klallam language\", \"North Straits Salish language\", \"Northern Paiute\", \"Blackfoot\", \"North Straits Salish language\", \"North Straits Salish language\", \"Cocopah\", \"Cayuga\", \"Southern Puget Sound Salish\", \"Nez Perce\", \"Okanagan\", \"Mohegan-Pequot\", \"Upper Chehalis\", \"Quileute\", \"Wasco-Wishram\", \"Seneca\", \"Catawba\", \"Hidatsa\", \"Shoshoni\", \"Alabama\", \"Tuscarora\", \"Michif\", \"Arapaho\", \"Mandan\", \"Mono language\", \"North Straits Salish language\", \"Mojave\", \"North Straits Salish language\", \"Timbisha language\", \"Mattole\", \"Southern Ohlone\", \"Klamath language\", \"Yuki\", \"Walla Walla\", \"Achumawi\", \"Northern Pomo\", \"Wintu\", \"Malecite-Passamaquoddy\", \"Luise\\u00f1o language\", \"Northern Sierra Miwok\", \"Atsugewi\", \"Southern Sierra Miwok\", \"Western Apache\", \"Serrano\", \"Southern Ohlone\", \"Tipai\", \"Cupe\\u00f1o\", \"Havasupai\\u2013Hualapai language\", \"Umatilla\", \"Central Pomo\", \"Konkow language\", \"Nisenan\", \"Yurok\", \"Barbare\\u00f1o\", \"Coast Miwok\", \"Esselen\", \"Plains Miwok\", \"Eastern Pomo\", \"O'odham\", \"Central Kalapuya language\", \"Hupa\", \"T\\u00fcbatulabal\", \"Kawaiisu\", \"Maricopa\", \"Havasupai\\u2013Hualapai language\", \"Southeastern Pomo\", \"Chimariko\", \"Cahuilla\", \"Siuslaw\", \"Mikasuki\", \"Tillamook\", \"Central Sierra Miwok\", \"Kashaya\", \"Salinan\", \"Havasupai\\u2013Hualapai language\", \"Quechan\", \"Hanis language\", \"Maidu language\", \"Tipai\", \"Massachusett\", \"Karuk\", \"Wiyot\", \"O'odham\", \"Wappo\", \"Shasta\", \"Inese\\u00f1o\"], \"type\": \"scattergeo\"}],\n",
       "                        {\"geo\": {\"scope\": \"north america\"}, \"template\": {\"data\": {\"bar\": [{\"error_x\": {\"color\": \"#2a3f5f\"}, \"error_y\": {\"color\": \"#2a3f5f\"}, \"marker\": {\"line\": {\"color\": \"#E5ECF6\", \"width\": 0.5}}, \"type\": \"bar\"}], \"barpolar\": [{\"marker\": {\"line\": {\"color\": \"#E5ECF6\", \"width\": 0.5}}, \"type\": \"barpolar\"}], \"carpet\": [{\"aaxis\": {\"endlinecolor\": \"#2a3f5f\", \"gridcolor\": \"white\", \"linecolor\": \"white\", \"minorgridcolor\": \"white\", \"startlinecolor\": \"#2a3f5f\"}, \"baxis\": {\"endlinecolor\": \"#2a3f5f\", \"gridcolor\": \"white\", \"linecolor\": \"white\", \"minorgridcolor\": \"white\", \"startlinecolor\": \"#2a3f5f\"}, \"type\": \"carpet\"}], \"choropleth\": [{\"colorbar\": {\"outlinewidth\": 0, \"ticks\": \"\"}, \"type\": \"choropleth\"}], \"contour\": [{\"colorbar\": {\"outlinewidth\": 0, \"ticks\": \"\"}, \"colorscale\": [[0.0, \"#0d0887\"], [0.1111111111111111, \"#46039f\"], [0.2222222222222222, \"#7201a8\"], [0.3333333333333333, \"#9c179e\"], [0.4444444444444444, \"#bd3786\"], [0.5555555555555556, \"#d8576b\"], [0.6666666666666666, \"#ed7953\"], [0.7777777777777778, \"#fb9f3a\"], [0.8888888888888888, \"#fdca26\"], [1.0, \"#f0f921\"]], \"type\": \"contour\"}], \"contourcarpet\": [{\"colorbar\": {\"outlinewidth\": 0, \"ticks\": \"\"}, \"type\": \"contourcarpet\"}], \"heatmap\": [{\"colorbar\": {\"outlinewidth\": 0, \"ticks\": \"\"}, \"colorscale\": [[0.0, \"#0d0887\"], [0.1111111111111111, \"#46039f\"], [0.2222222222222222, \"#7201a8\"], [0.3333333333333333, \"#9c179e\"], [0.4444444444444444, \"#bd3786\"], [0.5555555555555556, \"#d8576b\"], [0.6666666666666666, \"#ed7953\"], [0.7777777777777778, \"#fb9f3a\"], [0.8888888888888888, \"#fdca26\"], [1.0, \"#f0f921\"]], \"type\": \"heatmap\"}], \"heatmapgl\": [{\"colorbar\": {\"outlinewidth\": 0, \"ticks\": \"\"}, \"colorscale\": [[0.0, \"#0d0887\"], [0.1111111111111111, \"#46039f\"], [0.2222222222222222, \"#7201a8\"], [0.3333333333333333, \"#9c179e\"], [0.4444444444444444, \"#bd3786\"], [0.5555555555555556, \"#d8576b\"], [0.6666666666666666, \"#ed7953\"], [0.7777777777777778, \"#fb9f3a\"], [0.8888888888888888, \"#fdca26\"], [1.0, \"#f0f921\"]], \"type\": \"heatmapgl\"}], \"histogram\": [{\"marker\": {\"colorbar\": {\"outlinewidth\": 0, \"ticks\": \"\"}}, \"type\": \"histogram\"}], \"histogram2d\": [{\"colorbar\": {\"outlinewidth\": 0, \"ticks\": \"\"}, \"colorscale\": [[0.0, \"#0d0887\"], [0.1111111111111111, \"#46039f\"], [0.2222222222222222, \"#7201a8\"], [0.3333333333333333, \"#9c179e\"], [0.4444444444444444, \"#bd3786\"], [0.5555555555555556, \"#d8576b\"], [0.6666666666666666, \"#ed7953\"], [0.7777777777777778, \"#fb9f3a\"], [0.8888888888888888, \"#fdca26\"], [1.0, \"#f0f921\"]], \"type\": \"histogram2d\"}], \"histogram2dcontour\": [{\"colorbar\": {\"outlinewidth\": 0, \"ticks\": \"\"}, \"colorscale\": [[0.0, \"#0d0887\"], [0.1111111111111111, \"#46039f\"], [0.2222222222222222, \"#7201a8\"], [0.3333333333333333, \"#9c179e\"], [0.4444444444444444, \"#bd3786\"], [0.5555555555555556, \"#d8576b\"], [0.6666666666666666, \"#ed7953\"], [0.7777777777777778, \"#fb9f3a\"], [0.8888888888888888, \"#fdca26\"], [1.0, \"#f0f921\"]], \"type\": \"histogram2dcontour\"}], \"mesh3d\": [{\"colorbar\": {\"outlinewidth\": 0, \"ticks\": \"\"}, \"type\": \"mesh3d\"}], \"parcoords\": [{\"line\": {\"colorbar\": {\"outlinewidth\": 0, \"ticks\": \"\"}}, \"type\": \"parcoords\"}], \"pie\": [{\"automargin\": true, \"type\": \"pie\"}], \"scatter\": [{\"marker\": {\"colorbar\": {\"outlinewidth\": 0, \"ticks\": \"\"}}, \"type\": \"scatter\"}], \"scatter3d\": [{\"line\": {\"colorbar\": {\"outlinewidth\": 0, \"ticks\": \"\"}}, \"marker\": {\"colorbar\": {\"outlinewidth\": 0, \"ticks\": \"\"}}, \"type\": \"scatter3d\"}], \"scattercarpet\": [{\"marker\": {\"colorbar\": {\"outlinewidth\": 0, \"ticks\": \"\"}}, \"type\": \"scattercarpet\"}], \"scattergeo\": [{\"marker\": {\"colorbar\": {\"outlinewidth\": 0, \"ticks\": \"\"}}, \"type\": \"scattergeo\"}], \"scattergl\": [{\"marker\": {\"colorbar\": {\"outlinewidth\": 0, \"ticks\": \"\"}}, \"type\": \"scattergl\"}], \"scattermapbox\": [{\"marker\": {\"colorbar\": {\"outlinewidth\": 0, \"ticks\": \"\"}}, \"type\": \"scattermapbox\"}], \"scatterpolar\": [{\"marker\": {\"colorbar\": {\"outlinewidth\": 0, \"ticks\": \"\"}}, \"type\": \"scatterpolar\"}], \"scatterpolargl\": [{\"marker\": {\"colorbar\": {\"outlinewidth\": 0, \"ticks\": \"\"}}, \"type\": \"scatterpolargl\"}], \"scatterternary\": [{\"marker\": {\"colorbar\": {\"outlinewidth\": 0, \"ticks\": \"\"}}, \"type\": \"scatterternary\"}], \"surface\": [{\"colorbar\": {\"outlinewidth\": 0, \"ticks\": \"\"}, \"colorscale\": [[0.0, \"#0d0887\"], [0.1111111111111111, \"#46039f\"], [0.2222222222222222, \"#7201a8\"], [0.3333333333333333, \"#9c179e\"], [0.4444444444444444, \"#bd3786\"], [0.5555555555555556, \"#d8576b\"], [0.6666666666666666, \"#ed7953\"], [0.7777777777777778, \"#fb9f3a\"], [0.8888888888888888, \"#fdca26\"], [1.0, \"#f0f921\"]], \"type\": \"surface\"}], \"table\": [{\"cells\": {\"fill\": {\"color\": \"#EBF0F8\"}, \"line\": {\"color\": \"white\"}}, \"header\": {\"fill\": {\"color\": \"#C8D4E3\"}, \"line\": {\"color\": \"white\"}}, \"type\": \"table\"}]}, \"layout\": {\"annotationdefaults\": {\"arrowcolor\": \"#2a3f5f\", \"arrowhead\": 0, \"arrowwidth\": 1}, \"coloraxis\": {\"colorbar\": {\"outlinewidth\": 0, \"ticks\": \"\"}}, \"colorscale\": {\"diverging\": [[0, \"#8e0152\"], [0.1, \"#c51b7d\"], [0.2, \"#de77ae\"], [0.3, \"#f1b6da\"], [0.4, \"#fde0ef\"], [0.5, \"#f7f7f7\"], [0.6, \"#e6f5d0\"], [0.7, \"#b8e186\"], [0.8, \"#7fbc41\"], [0.9, \"#4d9221\"], [1, \"#276419\"]], \"sequential\": [[0.0, \"#0d0887\"], [0.1111111111111111, \"#46039f\"], [0.2222222222222222, \"#7201a8\"], [0.3333333333333333, \"#9c179e\"], [0.4444444444444444, \"#bd3786\"], [0.5555555555555556, \"#d8576b\"], [0.6666666666666666, \"#ed7953\"], [0.7777777777777778, \"#fb9f3a\"], [0.8888888888888888, \"#fdca26\"], [1.0, \"#f0f921\"]], \"sequentialminus\": [[0.0, \"#0d0887\"], [0.1111111111111111, \"#46039f\"], [0.2222222222222222, \"#7201a8\"], [0.3333333333333333, \"#9c179e\"], [0.4444444444444444, \"#bd3786\"], [0.5555555555555556, \"#d8576b\"], [0.6666666666666666, \"#ed7953\"], [0.7777777777777778, \"#fb9f3a\"], [0.8888888888888888, \"#fdca26\"], [1.0, \"#f0f921\"]]}, \"colorway\": [\"#636efa\", \"#EF553B\", \"#00cc96\", \"#ab63fa\", \"#FFA15A\", \"#19d3f3\", \"#FF6692\", \"#B6E880\", \"#FF97FF\", \"#FECB52\"], \"font\": {\"color\": \"#2a3f5f\"}, \"geo\": {\"bgcolor\": \"white\", \"lakecolor\": \"white\", \"landcolor\": \"#E5ECF6\", \"showlakes\": true, \"showland\": true, \"subunitcolor\": \"white\"}, \"hoverlabel\": {\"align\": \"left\"}, \"hovermode\": \"closest\", \"mapbox\": {\"style\": \"light\"}, \"paper_bgcolor\": \"white\", \"plot_bgcolor\": \"#E5ECF6\", \"polar\": {\"angularaxis\": {\"gridcolor\": \"white\", \"linecolor\": \"white\", \"ticks\": \"\"}, \"bgcolor\": \"#E5ECF6\", \"radialaxis\": {\"gridcolor\": \"white\", \"linecolor\": \"white\", \"ticks\": \"\"}}, \"scene\": {\"xaxis\": {\"backgroundcolor\": \"#E5ECF6\", \"gridcolor\": \"white\", \"gridwidth\": 2, \"linecolor\": \"white\", \"showbackground\": true, \"ticks\": \"\", \"zerolinecolor\": \"white\"}, \"yaxis\": {\"backgroundcolor\": \"#E5ECF6\", \"gridcolor\": \"white\", \"gridwidth\": 2, \"linecolor\": \"white\", \"showbackground\": true, \"ticks\": \"\", \"zerolinecolor\": \"white\"}, \"zaxis\": {\"backgroundcolor\": \"#E5ECF6\", \"gridcolor\": \"white\", \"gridwidth\": 2, \"linecolor\": \"white\", \"showbackground\": true, \"ticks\": \"\", \"zerolinecolor\": \"white\"}}, \"shapedefaults\": {\"line\": {\"color\": \"#2a3f5f\"}}, \"ternary\": {\"aaxis\": {\"gridcolor\": \"white\", \"linecolor\": \"white\", \"ticks\": \"\"}, \"baxis\": {\"gridcolor\": \"white\", \"linecolor\": \"white\", \"ticks\": \"\"}, \"bgcolor\": \"#E5ECF6\", \"caxis\": {\"gridcolor\": \"white\", \"linecolor\": \"white\", \"ticks\": \"\"}}, \"title\": {\"x\": 0.05}, \"xaxis\": {\"automargin\": true, \"gridcolor\": \"white\", \"linecolor\": \"white\", \"ticks\": \"\", \"title\": {\"standoff\": 15}, \"zerolinecolor\": \"white\", \"zerolinewidth\": 2}, \"yaxis\": {\"automargin\": true, \"gridcolor\": \"white\", \"linecolor\": \"white\", \"ticks\": \"\", \"title\": {\"standoff\": 15}, \"zerolinecolor\": \"white\", \"zerolinewidth\": 2}}}, \"title\": {\"text\": \"Languages in Contiguous United States\"}},\n",
       "                        {\"responsive\": true}\n",
       "                    ).then(function(){\n",
       "                            \n",
       "var gd = document.getElementById('4f30af8e-b8fa-44fa-b0f2-2377d074bc65');\n",
       "var x = new MutationObserver(function (mutations, observer) {{\n",
       "        var display = window.getComputedStyle(gd).display;\n",
       "        if (!display || display === 'none') {{\n",
       "            console.log([gd, 'removed!']);\n",
       "            Plotly.purge(gd);\n",
       "            observer.disconnect();\n",
       "        }}\n",
       "}});\n",
       "\n",
       "// Listen for the removal of the full notebook cells\n",
       "var notebookContainer = gd.closest('#notebook-container');\n",
       "if (notebookContainer) {{\n",
       "    x.observe(notebookContainer, {childList: true});\n",
       "}}\n",
       "\n",
       "// Listen for the clearing of the current output cell\n",
       "var outputEl = gd.closest('.output');\n",
       "if (outputEl) {{\n",
       "    x.observe(outputEl, {childList: true});\n",
       "}}\n",
       "\n",
       "                        })\n",
       "                };\n",
       "                });\n",
       "            </script>\n",
       "        </div>"
      ]
     },
     "metadata": {},
     "output_type": "display_data"
    }
   ],
   "source": [
    "display_map(mapdata)"
   ]
  },
  {
   "cell_type": "code",
   "execution_count": null,
   "metadata": {},
   "outputs": [],
   "source": []
  }
 ],
 "metadata": {
  "kernelspec": {
   "display_name": "Python 3",
   "language": "python",
   "name": "python3"
  },
  "language_info": {
   "codemirror_mode": {
    "name": "ipython",
    "version": 3
   },
   "file_extension": ".py",
   "mimetype": "text/x-python",
   "name": "python",
   "nbconvert_exporter": "python",
   "pygments_lexer": "ipython3",
   "version": "3.6.2"
  }
 },
 "nbformat": 4,
 "nbformat_minor": 2
}
