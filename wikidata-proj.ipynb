{
 "cells": [
  {
   "cell_type": "markdown",
   "metadata": {},
   "source": [
    "# Wikidata Project\n",
    "\n",
    "This project explores some of the data available in Wikidata's open knowledge graph through the use of SPARQL and analyzes and displays the data with Python and graphing libraries: matplotlib, plotly. \n",
    "\n",
    "There are two sections in this notebook.\n",
    "\n",
    "The first section looks at musical tonalities of all works available in Wikidata and the movements they belong to. I was curious about the relationship between musical movements and tonalities, and through this data, wanted to answer questions such as \"what were the most popular tonalities during the Romantic music period?\", \"what is the tonality landscape like for works of the First Viennese School?\", \"which movements had the most pieces in D minor?\". The queries and resulting graphs attempt to address these questions.\n",
    "\n",
    "The second section displays a map of indigenous languages in what is now the United States. Please see the sections below for more details on how this is done."
   ]
  },
  {
   "cell_type": "markdown",
   "metadata": {},
   "source": [
    "## Getting Started\n",
    "The requirements.txt file has been updated to include `plotly` and `ipywidgets` packages. Please note that `ipywidgets` also needs to be enabled as a Jupyter extension. This should be handled by Binder through the `postBuild` file but for reference, the following command can be run to enable the extension:\n",
    "\n",
    "```\n",
    "jupyter nbextension enable --py widgetsnbextension\n",
    "```"
   ]
  },
  {
   "cell_type": "markdown",
   "metadata": {},
   "source": [
    "Import the needed python packages"
   ]
  },
  {
   "cell_type": "code",
   "execution_count": 122,
   "metadata": {},
   "outputs": [],
   "source": [
    "import requests\n",
    "import matplotlib.pyplot as plt\n",
    "import plotly.graph_objects as go\n",
    "import random\n",
    "from ipywidgets import interact"
   ]
  },
  {
   "cell_type": "code",
   "execution_count": 2,
   "metadata": {},
   "outputs": [],
   "source": [
    "#from ipywidgets import interact, interactive, fixed, interact_manual\n",
    "#import ipywidgets as widgets"
   ]
  },
  {
   "cell_type": "markdown",
   "metadata": {},
   "source": [
    "## Wikidata Query Setup\n",
    "\n",
    "The code below is unchanged from the example.\n",
    "\n",
    "Defines Wikidata SPARQL endpoint.  Numerous query examples using this endpoint can be found on the [Wikidata examples page](https://www.wikidata.org/wiki/Wikidata:SPARQL_query_service/queries/examples)."
   ]
  },
  {
   "cell_type": "code",
   "execution_count": 109,
   "metadata": {},
   "outputs": [],
   "source": [
    "wikidata_endpoint = 'https://query.wikidata.org/sparql'"
   ]
  },
  {
   "cell_type": "markdown",
   "metadata": {},
   "source": [
    "`do_query` is a simple helper method for setting the HTTP header and submitting the request using the excellent python [requests](https://requests.readthedocs.io/en/master/) package."
   ]
  },
  {
   "cell_type": "code",
   "execution_count": 110,
   "metadata": {},
   "outputs": [],
   "source": [
    "def do_query(query):\n",
    "    rsp = requests.post(\n",
    "        wikidata_endpoint,\n",
    "        data=query,\n",
    "        headers={\n",
    "            'Content-type': 'application/sparql-query',\n",
    "            'Accept': 'application/sparql-results+json',\n",
    "            'User-Agent': 'https://github.com/JSTOR-Labs/sw-dev-project'\n",
    "        }\n",
    "    )\n",
    "    if rsp.status_code != 200:\n",
    "        raise Exception(f\"Query failed with status code {rsp.status_code}.\")\n",
    "    return rsp.json()"
   ]
  },
  {
   "cell_type": "markdown",
   "metadata": {},
   "source": [
    "\n",
    "# Tonality in Musical Movements\n",
    "\n"
   ]
  },
  {
   "cell_type": "code",
   "execution_count": 111,
   "metadata": {},
   "outputs": [],
   "source": [
    "movements_dict = {}\n",
    "movements_tonalities = {}"
   ]
  },
  {
   "cell_type": "code",
   "execution_count": 129,
   "metadata": {},
   "outputs": [],
   "source": [
    "#get all movements\n",
    "def movements():\n",
    "    print('\\nMovements with Tonalities and corresponding QID:')\n",
    "    \n",
    "    query = '''\n",
    "        SELECT ?movement ?movementLabel\n",
    "        WHERE\n",
    "        {\n",
    "          ?work wdt:P826 ?tonality . #find all works that have tonality\n",
    "          ?work wdt:P86 ?composer . #find composer of work\n",
    "          ?composer wdt:P135 ?movement . #find musical movement of composer\n",
    "\n",
    "          SERVICE wikibase:label { bd:serviceParam wikibase:language \"en\" }\n",
    "        }\n",
    "        GROUP BY ?movement ?movementLabel\n",
    "    '''\n",
    "        \n",
    "    results = do_query(query)['results']['bindings']\n",
    "    \n",
    "    for m in results:\n",
    "        qid = m['movement']['value'].split('/')[-1] #split URI string to get QID\n",
    "        movements_dict[m['movementLabel']['value']] = qid\n",
    "        \n",
    "    print(movements_dict)"
   ]
  },
  {
   "cell_type": "code",
   "execution_count": 130,
   "metadata": {},
   "outputs": [
    {
     "name": "stdout",
     "output_type": "stream",
     "text": [
      "\n",
      "Movements with Tonalities and corresponding QID\n",
      "{'Classical period': 'Q17723', 'Western classical music': 'Q9730', 'Romantic music': 'Q207591', 'baroque music': 'Q8361', 'First Viennese School': 'Q702207', 'Impressionism in music': 'Q837182', 'musical modernism': 'Q2426218', 'Harlem Renaissance': 'Q829895', 'Russian symbolism': 'Q1879488', 'Romanticism': 'Q37068', 'avant-garde': 'Q102932', '20th-century classical music': 'Q1338153', 'jazz': 'Q8341', 'vocal': 'Q2529757', 'classicism': 'Q170292', 'glam rock': 'Q76092', 'new wave': 'Q187760', 'art rock': 'Q217467', 'pop rock': 'Q484641', 'blue-eyed soul': 'Q885561', 'art pop': 'Q25094849', 'social contract': 'Q1326430'}\n"
     ]
    }
   ],
   "source": [
    "movements()"
   ]
  },
  {
   "cell_type": "code",
   "execution_count": 114,
   "metadata": {},
   "outputs": [],
   "source": [
    "#get counts of tonalities for each movement\n",
    "def movement_count():\n",
    "    print('\\nQuerying count of tonalities by movement...')\n",
    "\n",
    "    for qid in movements_dict.values():\n",
    "        query = '''\n",
    "            SELECT ?tonalityLabel (COUNT(?tonalityLabel) as ?count)\n",
    "                WHERE\n",
    "                {\n",
    "                  ?composer wdt:P135 wd:%s . #find all composers of movement\n",
    "                  ?work wdt:P86 ?composer . #find works of composers\n",
    "                  ?work wdt:P826 ?tonality . #find tonalities of works\n",
    "\n",
    "                  SERVICE wikibase:label { bd:serviceParam wikibase:language \"en\" }\n",
    "                }\n",
    "                GROUP BY ?tonalityLabel\n",
    "                ORDER BY DESC(?count)\n",
    "        ''' % qid\n",
    "        \n",
    "        results = do_query(query)['results']['bindings']\n",
    "        \n",
    "        movements_tonalities[qid] = {}\n",
    "        for t in results:\n",
    "            movements_tonalities[qid][t['tonalityLabel']['value']] = int(t['count']['value'])\n",
    "            \n",
    "    print('...Done!')\n",
    "    #print(movements_tonalities)"
   ]
  },
  {
   "cell_type": "code",
   "execution_count": 115,
   "metadata": {},
   "outputs": [
    {
     "name": "stdout",
     "output_type": "stream",
     "text": [
      "\n",
      "Querying count of tonalities by movement...\n",
      "...done\n"
     ]
    }
   ],
   "source": [
    "movement_count()"
   ]
  },
  {
   "cell_type": "markdown",
   "metadata": {},
   "source": [
    "After querying data and parsing it into dictionaries, the data is plotted using a pie chart with a drop down menu that allows selection of movement."
   ]
  },
  {
   "cell_type": "code",
   "execution_count": 132,
   "metadata": {},
   "outputs": [],
   "source": [
    "def pie(id):\n",
    "    print('Tonality Count')\n",
    "    for tonality, count in movements_tonalities[id].items():\n",
    "        print('{} {}'.format(tonality, count))\n",
    "\n",
    "    plt.title('Tonalities')\n",
    "    plt.pie(movements_tonalities[id].values(), labels=movements_tonalities[id].keys(), shadow=True)\n",
    "    plt.axis('equal')\n",
    "    plt.subplots_adjust(0,0,1,1)\n",
    "    plt.show()"
   ]
  },
  {
   "cell_type": "code",
   "execution_count": 133,
   "metadata": {},
   "outputs": [
    {
     "data": {
      "application/vnd.jupyter.widget-view+json": {
       "model_id": "6d47fb3252bb44f8940ec725ee1ee424",
       "version_major": 2,
       "version_minor": 0
      },
      "text/plain": [
       "interactive(children=(Dropdown(description='id', options={'Classical period': 'Q17723', 'Western classical mus…"
      ]
     },
     "metadata": {},
     "output_type": "display_data"
    },
    {
     "data": {
      "text/plain": [
       "<function __main__.pie(id)>"
      ]
     },
     "execution_count": 133,
     "metadata": {},
     "output_type": "execute_result"
    }
   ],
   "source": [
    "interact(pie, id=movements_dict)"
   ]
  },
  {
   "cell_type": "markdown",
   "metadata": {},
   "source": [
    "This graph displays 5 randomly selected movements and their respective tonality counts."
   ]
  },
  {
   "cell_type": "code",
   "execution_count": 126,
   "metadata": {},
   "outputs": [],
   "source": [
    "def plotly_bar():\n",
    "    #randomly pick 5 movements\n",
    "    sample = random.sample(list(movements_dict.items()), 5)\n",
    "\n",
    "    fig = go.Figure(data=[\n",
    "        go.Bar(name=sample[0][0], x=list(movements_tonalities[sample[0][1]].keys()), y=list(movements_tonalities[sample[0][1]].values())),\n",
    "        go.Bar(name=sample[1][0], x=list(movements_tonalities[sample[1][1]].keys()), y=list(movements_tonalities[sample[1][1]].values())),\n",
    "        go.Bar(name=sample[2][0], x=list(movements_tonalities[sample[2][1]].keys()), y=list(movements_tonalities[sample[2][1]].values())),\n",
    "        go.Bar(name=sample[3][0], x=list(movements_tonalities[sample[3][1]].keys()), y=list(movements_tonalities[sample[3][1]].values())),\n",
    "\n",
    "    ])\n",
    "    fig.update_layout(barmode='stack')\n",
    "    fig.show()"
   ]
  },
  {
   "cell_type": "code",
   "execution_count": 127,
   "metadata": {},
   "outputs": [
    {
     "data": {
      "application/vnd.plotly.v1+json": {
       "config": {
        "plotlyServerURL": "https://plot.ly"
       },
       "data": [
        {
         "name": "Russian symbolism",
         "type": "bar",
         "x": [
          "atonality",
          "E major",
          "C minor",
          "D-sharp minor",
          "F-sharp minor",
          "G-sharp minor",
          "C-sharp minor",
          "E minor",
          "E-flat minor",
          "F minor",
          "F-sharp major",
          "A-flat major",
          "A minor",
          "C major",
          "F major",
          "B minor"
         ],
         "y": [
          4,
          2,
          2,
          2,
          2,
          2,
          2,
          2,
          2,
          1,
          1,
          1,
          1,
          1,
          1,
          1
         ]
        },
        {
         "name": "pop rock",
         "type": "bar",
         "x": [
          "F major"
         ],
         "y": [
          1
         ]
        },
        {
         "name": "First Viennese School",
         "type": "bar",
         "x": [
          "C major",
          "D major",
          "B-flat major",
          "G major",
          "E-flat major",
          "A major",
          "F major",
          "D minor",
          "C minor",
          "G minor",
          "E major",
          "E minor",
          "F-sharp minor",
          "F minor",
          "E-flat minor",
          "B major"
         ],
         "y": [
          33,
          31,
          22,
          20,
          19,
          11,
          8,
          5,
          4,
          3,
          3,
          2,
          2,
          2,
          1,
          1
         ]
        },
        {
         "name": "baroque music",
         "type": "bar",
         "x": [
          "D major",
          "G major",
          "C major",
          "F major",
          "B-flat major",
          "A major",
          "D minor",
          "G minor",
          "C minor",
          "A minor",
          "E major",
          "F minor",
          "E minor",
          "E-flat major",
          "B minor",
          "F-sharp major",
          "B major",
          "F-sharp minor",
          "A-flat major",
          "C-sharp minor",
          "B-flat minor",
          "C-sharp major",
          "G-sharp minor",
          "E-flat minor",
          "D-sharp minor"
         ],
         "y": [
          102,
          98,
          84,
          73,
          67,
          66,
          60,
          50,
          42,
          34,
          33,
          30,
          29,
          27,
          23,
          6,
          6,
          5,
          4,
          4,
          3,
          2,
          2,
          1,
          1
         ]
        }
       ],
       "layout": {
        "barmode": "stack",
        "template": {
         "data": {
          "bar": [
           {
            "error_x": {
             "color": "#2a3f5f"
            },
            "error_y": {
             "color": "#2a3f5f"
            },
            "marker": {
             "line": {
              "color": "#E5ECF6",
              "width": 0.5
             }
            },
            "type": "bar"
           }
          ],
          "barpolar": [
           {
            "marker": {
             "line": {
              "color": "#E5ECF6",
              "width": 0.5
             }
            },
            "type": "barpolar"
           }
          ],
          "carpet": [
           {
            "aaxis": {
             "endlinecolor": "#2a3f5f",
             "gridcolor": "white",
             "linecolor": "white",
             "minorgridcolor": "white",
             "startlinecolor": "#2a3f5f"
            },
            "baxis": {
             "endlinecolor": "#2a3f5f",
             "gridcolor": "white",
             "linecolor": "white",
             "minorgridcolor": "white",
             "startlinecolor": "#2a3f5f"
            },
            "type": "carpet"
           }
          ],
          "choropleth": [
           {
            "colorbar": {
             "outlinewidth": 0,
             "ticks": ""
            },
            "type": "choropleth"
           }
          ],
          "contour": [
           {
            "colorbar": {
             "outlinewidth": 0,
             "ticks": ""
            },
            "colorscale": [
             [
              0,
              "#0d0887"
             ],
             [
              0.1111111111111111,
              "#46039f"
             ],
             [
              0.2222222222222222,
              "#7201a8"
             ],
             [
              0.3333333333333333,
              "#9c179e"
             ],
             [
              0.4444444444444444,
              "#bd3786"
             ],
             [
              0.5555555555555556,
              "#d8576b"
             ],
             [
              0.6666666666666666,
              "#ed7953"
             ],
             [
              0.7777777777777778,
              "#fb9f3a"
             ],
             [
              0.8888888888888888,
              "#fdca26"
             ],
             [
              1,
              "#f0f921"
             ]
            ],
            "type": "contour"
           }
          ],
          "contourcarpet": [
           {
            "colorbar": {
             "outlinewidth": 0,
             "ticks": ""
            },
            "type": "contourcarpet"
           }
          ],
          "heatmap": [
           {
            "colorbar": {
             "outlinewidth": 0,
             "ticks": ""
            },
            "colorscale": [
             [
              0,
              "#0d0887"
             ],
             [
              0.1111111111111111,
              "#46039f"
             ],
             [
              0.2222222222222222,
              "#7201a8"
             ],
             [
              0.3333333333333333,
              "#9c179e"
             ],
             [
              0.4444444444444444,
              "#bd3786"
             ],
             [
              0.5555555555555556,
              "#d8576b"
             ],
             [
              0.6666666666666666,
              "#ed7953"
             ],
             [
              0.7777777777777778,
              "#fb9f3a"
             ],
             [
              0.8888888888888888,
              "#fdca26"
             ],
             [
              1,
              "#f0f921"
             ]
            ],
            "type": "heatmap"
           }
          ],
          "heatmapgl": [
           {
            "colorbar": {
             "outlinewidth": 0,
             "ticks": ""
            },
            "colorscale": [
             [
              0,
              "#0d0887"
             ],
             [
              0.1111111111111111,
              "#46039f"
             ],
             [
              0.2222222222222222,
              "#7201a8"
             ],
             [
              0.3333333333333333,
              "#9c179e"
             ],
             [
              0.4444444444444444,
              "#bd3786"
             ],
             [
              0.5555555555555556,
              "#d8576b"
             ],
             [
              0.6666666666666666,
              "#ed7953"
             ],
             [
              0.7777777777777778,
              "#fb9f3a"
             ],
             [
              0.8888888888888888,
              "#fdca26"
             ],
             [
              1,
              "#f0f921"
             ]
            ],
            "type": "heatmapgl"
           }
          ],
          "histogram": [
           {
            "marker": {
             "colorbar": {
              "outlinewidth": 0,
              "ticks": ""
             }
            },
            "type": "histogram"
           }
          ],
          "histogram2d": [
           {
            "colorbar": {
             "outlinewidth": 0,
             "ticks": ""
            },
            "colorscale": [
             [
              0,
              "#0d0887"
             ],
             [
              0.1111111111111111,
              "#46039f"
             ],
             [
              0.2222222222222222,
              "#7201a8"
             ],
             [
              0.3333333333333333,
              "#9c179e"
             ],
             [
              0.4444444444444444,
              "#bd3786"
             ],
             [
              0.5555555555555556,
              "#d8576b"
             ],
             [
              0.6666666666666666,
              "#ed7953"
             ],
             [
              0.7777777777777778,
              "#fb9f3a"
             ],
             [
              0.8888888888888888,
              "#fdca26"
             ],
             [
              1,
              "#f0f921"
             ]
            ],
            "type": "histogram2d"
           }
          ],
          "histogram2dcontour": [
           {
            "colorbar": {
             "outlinewidth": 0,
             "ticks": ""
            },
            "colorscale": [
             [
              0,
              "#0d0887"
             ],
             [
              0.1111111111111111,
              "#46039f"
             ],
             [
              0.2222222222222222,
              "#7201a8"
             ],
             [
              0.3333333333333333,
              "#9c179e"
             ],
             [
              0.4444444444444444,
              "#bd3786"
             ],
             [
              0.5555555555555556,
              "#d8576b"
             ],
             [
              0.6666666666666666,
              "#ed7953"
             ],
             [
              0.7777777777777778,
              "#fb9f3a"
             ],
             [
              0.8888888888888888,
              "#fdca26"
             ],
             [
              1,
              "#f0f921"
             ]
            ],
            "type": "histogram2dcontour"
           }
          ],
          "mesh3d": [
           {
            "colorbar": {
             "outlinewidth": 0,
             "ticks": ""
            },
            "type": "mesh3d"
           }
          ],
          "parcoords": [
           {
            "line": {
             "colorbar": {
              "outlinewidth": 0,
              "ticks": ""
             }
            },
            "type": "parcoords"
           }
          ],
          "pie": [
           {
            "automargin": true,
            "type": "pie"
           }
          ],
          "scatter": [
           {
            "marker": {
             "colorbar": {
              "outlinewidth": 0,
              "ticks": ""
             }
            },
            "type": "scatter"
           }
          ],
          "scatter3d": [
           {
            "line": {
             "colorbar": {
              "outlinewidth": 0,
              "ticks": ""
             }
            },
            "marker": {
             "colorbar": {
              "outlinewidth": 0,
              "ticks": ""
             }
            },
            "type": "scatter3d"
           }
          ],
          "scattercarpet": [
           {
            "marker": {
             "colorbar": {
              "outlinewidth": 0,
              "ticks": ""
             }
            },
            "type": "scattercarpet"
           }
          ],
          "scattergeo": [
           {
            "marker": {
             "colorbar": {
              "outlinewidth": 0,
              "ticks": ""
             }
            },
            "type": "scattergeo"
           }
          ],
          "scattergl": [
           {
            "marker": {
             "colorbar": {
              "outlinewidth": 0,
              "ticks": ""
             }
            },
            "type": "scattergl"
           }
          ],
          "scattermapbox": [
           {
            "marker": {
             "colorbar": {
              "outlinewidth": 0,
              "ticks": ""
             }
            },
            "type": "scattermapbox"
           }
          ],
          "scatterpolar": [
           {
            "marker": {
             "colorbar": {
              "outlinewidth": 0,
              "ticks": ""
             }
            },
            "type": "scatterpolar"
           }
          ],
          "scatterpolargl": [
           {
            "marker": {
             "colorbar": {
              "outlinewidth": 0,
              "ticks": ""
             }
            },
            "type": "scatterpolargl"
           }
          ],
          "scatterternary": [
           {
            "marker": {
             "colorbar": {
              "outlinewidth": 0,
              "ticks": ""
             }
            },
            "type": "scatterternary"
           }
          ],
          "surface": [
           {
            "colorbar": {
             "outlinewidth": 0,
             "ticks": ""
            },
            "colorscale": [
             [
              0,
              "#0d0887"
             ],
             [
              0.1111111111111111,
              "#46039f"
             ],
             [
              0.2222222222222222,
              "#7201a8"
             ],
             [
              0.3333333333333333,
              "#9c179e"
             ],
             [
              0.4444444444444444,
              "#bd3786"
             ],
             [
              0.5555555555555556,
              "#d8576b"
             ],
             [
              0.6666666666666666,
              "#ed7953"
             ],
             [
              0.7777777777777778,
              "#fb9f3a"
             ],
             [
              0.8888888888888888,
              "#fdca26"
             ],
             [
              1,
              "#f0f921"
             ]
            ],
            "type": "surface"
           }
          ],
          "table": [
           {
            "cells": {
             "fill": {
              "color": "#EBF0F8"
             },
             "line": {
              "color": "white"
             }
            },
            "header": {
             "fill": {
              "color": "#C8D4E3"
             },
             "line": {
              "color": "white"
             }
            },
            "type": "table"
           }
          ]
         },
         "layout": {
          "annotationdefaults": {
           "arrowcolor": "#2a3f5f",
           "arrowhead": 0,
           "arrowwidth": 1
          },
          "coloraxis": {
           "colorbar": {
            "outlinewidth": 0,
            "ticks": ""
           }
          },
          "colorscale": {
           "diverging": [
            [
             0,
             "#8e0152"
            ],
            [
             0.1,
             "#c51b7d"
            ],
            [
             0.2,
             "#de77ae"
            ],
            [
             0.3,
             "#f1b6da"
            ],
            [
             0.4,
             "#fde0ef"
            ],
            [
             0.5,
             "#f7f7f7"
            ],
            [
             0.6,
             "#e6f5d0"
            ],
            [
             0.7,
             "#b8e186"
            ],
            [
             0.8,
             "#7fbc41"
            ],
            [
             0.9,
             "#4d9221"
            ],
            [
             1,
             "#276419"
            ]
           ],
           "sequential": [
            [
             0,
             "#0d0887"
            ],
            [
             0.1111111111111111,
             "#46039f"
            ],
            [
             0.2222222222222222,
             "#7201a8"
            ],
            [
             0.3333333333333333,
             "#9c179e"
            ],
            [
             0.4444444444444444,
             "#bd3786"
            ],
            [
             0.5555555555555556,
             "#d8576b"
            ],
            [
             0.6666666666666666,
             "#ed7953"
            ],
            [
             0.7777777777777778,
             "#fb9f3a"
            ],
            [
             0.8888888888888888,
             "#fdca26"
            ],
            [
             1,
             "#f0f921"
            ]
           ],
           "sequentialminus": [
            [
             0,
             "#0d0887"
            ],
            [
             0.1111111111111111,
             "#46039f"
            ],
            [
             0.2222222222222222,
             "#7201a8"
            ],
            [
             0.3333333333333333,
             "#9c179e"
            ],
            [
             0.4444444444444444,
             "#bd3786"
            ],
            [
             0.5555555555555556,
             "#d8576b"
            ],
            [
             0.6666666666666666,
             "#ed7953"
            ],
            [
             0.7777777777777778,
             "#fb9f3a"
            ],
            [
             0.8888888888888888,
             "#fdca26"
            ],
            [
             1,
             "#f0f921"
            ]
           ]
          },
          "colorway": [
           "#636efa",
           "#EF553B",
           "#00cc96",
           "#ab63fa",
           "#FFA15A",
           "#19d3f3",
           "#FF6692",
           "#B6E880",
           "#FF97FF",
           "#FECB52"
          ],
          "font": {
           "color": "#2a3f5f"
          },
          "geo": {
           "bgcolor": "white",
           "lakecolor": "white",
           "landcolor": "#E5ECF6",
           "showlakes": true,
           "showland": true,
           "subunitcolor": "white"
          },
          "hoverlabel": {
           "align": "left"
          },
          "hovermode": "closest",
          "mapbox": {
           "style": "light"
          },
          "paper_bgcolor": "white",
          "plot_bgcolor": "#E5ECF6",
          "polar": {
           "angularaxis": {
            "gridcolor": "white",
            "linecolor": "white",
            "ticks": ""
           },
           "bgcolor": "#E5ECF6",
           "radialaxis": {
            "gridcolor": "white",
            "linecolor": "white",
            "ticks": ""
           }
          },
          "scene": {
           "xaxis": {
            "backgroundcolor": "#E5ECF6",
            "gridcolor": "white",
            "gridwidth": 2,
            "linecolor": "white",
            "showbackground": true,
            "ticks": "",
            "zerolinecolor": "white"
           },
           "yaxis": {
            "backgroundcolor": "#E5ECF6",
            "gridcolor": "white",
            "gridwidth": 2,
            "linecolor": "white",
            "showbackground": true,
            "ticks": "",
            "zerolinecolor": "white"
           },
           "zaxis": {
            "backgroundcolor": "#E5ECF6",
            "gridcolor": "white",
            "gridwidth": 2,
            "linecolor": "white",
            "showbackground": true,
            "ticks": "",
            "zerolinecolor": "white"
           }
          },
          "shapedefaults": {
           "line": {
            "color": "#2a3f5f"
           }
          },
          "ternary": {
           "aaxis": {
            "gridcolor": "white",
            "linecolor": "white",
            "ticks": ""
           },
           "baxis": {
            "gridcolor": "white",
            "linecolor": "white",
            "ticks": ""
           },
           "bgcolor": "#E5ECF6",
           "caxis": {
            "gridcolor": "white",
            "linecolor": "white",
            "ticks": ""
           }
          },
          "title": {
           "x": 0.05
          },
          "xaxis": {
           "automargin": true,
           "gridcolor": "white",
           "linecolor": "white",
           "ticks": "",
           "title": {
            "standoff": 15
           },
           "zerolinecolor": "white",
           "zerolinewidth": 2
          },
          "yaxis": {
           "automargin": true,
           "gridcolor": "white",
           "linecolor": "white",
           "ticks": "",
           "title": {
            "standoff": 15
           },
           "zerolinecolor": "white",
           "zerolinewidth": 2
          }
         }
        }
       }
      },
      "text/html": [
       "<div>\n",
       "        \n",
       "        \n",
       "            <div id=\"7b390a40-1f2f-443f-8961-a0b6a818fe4f\" class=\"plotly-graph-div\" style=\"height:525px; width:100%;\"></div>\n",
       "            <script type=\"text/javascript\">\n",
       "                require([\"plotly\"], function(Plotly) {\n",
       "                    window.PLOTLYENV=window.PLOTLYENV || {};\n",
       "                    \n",
       "                if (document.getElementById(\"7b390a40-1f2f-443f-8961-a0b6a818fe4f\")) {\n",
       "                    Plotly.newPlot(\n",
       "                        '7b390a40-1f2f-443f-8961-a0b6a818fe4f',\n",
       "                        [{\"name\": \"Russian symbolism\", \"type\": \"bar\", \"x\": [\"atonality\", \"E major\", \"C minor\", \"D-sharp minor\", \"F-sharp minor\", \"G-sharp minor\", \"C-sharp minor\", \"E minor\", \"E-flat minor\", \"F minor\", \"F-sharp major\", \"A-flat major\", \"A minor\", \"C major\", \"F major\", \"B minor\"], \"y\": [4, 2, 2, 2, 2, 2, 2, 2, 2, 1, 1, 1, 1, 1, 1, 1]}, {\"name\": \"pop rock\", \"type\": \"bar\", \"x\": [\"F major\"], \"y\": [1]}, {\"name\": \"First Viennese School\", \"type\": \"bar\", \"x\": [\"C major\", \"D major\", \"B-flat major\", \"G major\", \"E-flat major\", \"A major\", \"F major\", \"D minor\", \"C minor\", \"G minor\", \"E major\", \"E minor\", \"F-sharp minor\", \"F minor\", \"E-flat minor\", \"B major\"], \"y\": [33, 31, 22, 20, 19, 11, 8, 5, 4, 3, 3, 2, 2, 2, 1, 1]}, {\"name\": \"baroque music\", \"type\": \"bar\", \"x\": [\"D major\", \"G major\", \"C major\", \"F major\", \"B-flat major\", \"A major\", \"D minor\", \"G minor\", \"C minor\", \"A minor\", \"E major\", \"F minor\", \"E minor\", \"E-flat major\", \"B minor\", \"F-sharp major\", \"B major\", \"F-sharp minor\", \"A-flat major\", \"C-sharp minor\", \"B-flat minor\", \"C-sharp major\", \"G-sharp minor\", \"E-flat minor\", \"D-sharp minor\"], \"y\": [102, 98, 84, 73, 67, 66, 60, 50, 42, 34, 33, 30, 29, 27, 23, 6, 6, 5, 4, 4, 3, 2, 2, 1, 1]}],\n",
       "                        {\"barmode\": \"stack\", \"template\": {\"data\": {\"bar\": [{\"error_x\": {\"color\": \"#2a3f5f\"}, \"error_y\": {\"color\": \"#2a3f5f\"}, \"marker\": {\"line\": {\"color\": \"#E5ECF6\", \"width\": 0.5}}, \"type\": \"bar\"}], \"barpolar\": [{\"marker\": {\"line\": {\"color\": \"#E5ECF6\", \"width\": 0.5}}, \"type\": \"barpolar\"}], \"carpet\": [{\"aaxis\": {\"endlinecolor\": \"#2a3f5f\", \"gridcolor\": \"white\", \"linecolor\": \"white\", \"minorgridcolor\": \"white\", \"startlinecolor\": \"#2a3f5f\"}, \"baxis\": {\"endlinecolor\": \"#2a3f5f\", \"gridcolor\": \"white\", \"linecolor\": \"white\", \"minorgridcolor\": \"white\", \"startlinecolor\": \"#2a3f5f\"}, \"type\": \"carpet\"}], \"choropleth\": [{\"colorbar\": {\"outlinewidth\": 0, \"ticks\": \"\"}, \"type\": \"choropleth\"}], \"contour\": [{\"colorbar\": {\"outlinewidth\": 0, \"ticks\": \"\"}, \"colorscale\": [[0.0, \"#0d0887\"], [0.1111111111111111, \"#46039f\"], [0.2222222222222222, \"#7201a8\"], [0.3333333333333333, \"#9c179e\"], [0.4444444444444444, \"#bd3786\"], [0.5555555555555556, \"#d8576b\"], [0.6666666666666666, \"#ed7953\"], [0.7777777777777778, \"#fb9f3a\"], [0.8888888888888888, \"#fdca26\"], [1.0, \"#f0f921\"]], \"type\": \"contour\"}], \"contourcarpet\": [{\"colorbar\": {\"outlinewidth\": 0, \"ticks\": \"\"}, \"type\": \"contourcarpet\"}], \"heatmap\": [{\"colorbar\": {\"outlinewidth\": 0, \"ticks\": \"\"}, \"colorscale\": [[0.0, \"#0d0887\"], [0.1111111111111111, \"#46039f\"], [0.2222222222222222, \"#7201a8\"], [0.3333333333333333, \"#9c179e\"], [0.4444444444444444, \"#bd3786\"], [0.5555555555555556, \"#d8576b\"], [0.6666666666666666, \"#ed7953\"], [0.7777777777777778, \"#fb9f3a\"], [0.8888888888888888, \"#fdca26\"], [1.0, \"#f0f921\"]], \"type\": \"heatmap\"}], \"heatmapgl\": [{\"colorbar\": {\"outlinewidth\": 0, \"ticks\": \"\"}, \"colorscale\": [[0.0, \"#0d0887\"], [0.1111111111111111, \"#46039f\"], [0.2222222222222222, \"#7201a8\"], [0.3333333333333333, \"#9c179e\"], [0.4444444444444444, \"#bd3786\"], [0.5555555555555556, \"#d8576b\"], [0.6666666666666666, \"#ed7953\"], [0.7777777777777778, \"#fb9f3a\"], [0.8888888888888888, \"#fdca26\"], [1.0, \"#f0f921\"]], \"type\": \"heatmapgl\"}], \"histogram\": [{\"marker\": {\"colorbar\": {\"outlinewidth\": 0, \"ticks\": \"\"}}, \"type\": \"histogram\"}], \"histogram2d\": [{\"colorbar\": {\"outlinewidth\": 0, \"ticks\": \"\"}, \"colorscale\": [[0.0, \"#0d0887\"], [0.1111111111111111, \"#46039f\"], [0.2222222222222222, \"#7201a8\"], [0.3333333333333333, \"#9c179e\"], [0.4444444444444444, \"#bd3786\"], [0.5555555555555556, \"#d8576b\"], [0.6666666666666666, \"#ed7953\"], [0.7777777777777778, \"#fb9f3a\"], [0.8888888888888888, \"#fdca26\"], [1.0, \"#f0f921\"]], \"type\": \"histogram2d\"}], \"histogram2dcontour\": [{\"colorbar\": {\"outlinewidth\": 0, \"ticks\": \"\"}, \"colorscale\": [[0.0, \"#0d0887\"], [0.1111111111111111, \"#46039f\"], [0.2222222222222222, \"#7201a8\"], [0.3333333333333333, \"#9c179e\"], [0.4444444444444444, \"#bd3786\"], [0.5555555555555556, \"#d8576b\"], [0.6666666666666666, \"#ed7953\"], [0.7777777777777778, \"#fb9f3a\"], [0.8888888888888888, \"#fdca26\"], [1.0, \"#f0f921\"]], \"type\": \"histogram2dcontour\"}], \"mesh3d\": [{\"colorbar\": {\"outlinewidth\": 0, \"ticks\": \"\"}, \"type\": \"mesh3d\"}], \"parcoords\": [{\"line\": {\"colorbar\": {\"outlinewidth\": 0, \"ticks\": \"\"}}, \"type\": \"parcoords\"}], \"pie\": [{\"automargin\": true, \"type\": \"pie\"}], \"scatter\": [{\"marker\": {\"colorbar\": {\"outlinewidth\": 0, \"ticks\": \"\"}}, \"type\": \"scatter\"}], \"scatter3d\": [{\"line\": {\"colorbar\": {\"outlinewidth\": 0, \"ticks\": \"\"}}, \"marker\": {\"colorbar\": {\"outlinewidth\": 0, \"ticks\": \"\"}}, \"type\": \"scatter3d\"}], \"scattercarpet\": [{\"marker\": {\"colorbar\": {\"outlinewidth\": 0, \"ticks\": \"\"}}, \"type\": \"scattercarpet\"}], \"scattergeo\": [{\"marker\": {\"colorbar\": {\"outlinewidth\": 0, \"ticks\": \"\"}}, \"type\": \"scattergeo\"}], \"scattergl\": [{\"marker\": {\"colorbar\": {\"outlinewidth\": 0, \"ticks\": \"\"}}, \"type\": \"scattergl\"}], \"scattermapbox\": [{\"marker\": {\"colorbar\": {\"outlinewidth\": 0, \"ticks\": \"\"}}, \"type\": \"scattermapbox\"}], \"scatterpolar\": [{\"marker\": {\"colorbar\": {\"outlinewidth\": 0, \"ticks\": \"\"}}, \"type\": \"scatterpolar\"}], \"scatterpolargl\": [{\"marker\": {\"colorbar\": {\"outlinewidth\": 0, \"ticks\": \"\"}}, \"type\": \"scatterpolargl\"}], \"scatterternary\": [{\"marker\": {\"colorbar\": {\"outlinewidth\": 0, \"ticks\": \"\"}}, \"type\": \"scatterternary\"}], \"surface\": [{\"colorbar\": {\"outlinewidth\": 0, \"ticks\": \"\"}, \"colorscale\": [[0.0, \"#0d0887\"], [0.1111111111111111, \"#46039f\"], [0.2222222222222222, \"#7201a8\"], [0.3333333333333333, \"#9c179e\"], [0.4444444444444444, \"#bd3786\"], [0.5555555555555556, \"#d8576b\"], [0.6666666666666666, \"#ed7953\"], [0.7777777777777778, \"#fb9f3a\"], [0.8888888888888888, \"#fdca26\"], [1.0, \"#f0f921\"]], \"type\": \"surface\"}], \"table\": [{\"cells\": {\"fill\": {\"color\": \"#EBF0F8\"}, \"line\": {\"color\": \"white\"}}, \"header\": {\"fill\": {\"color\": \"#C8D4E3\"}, \"line\": {\"color\": \"white\"}}, \"type\": \"table\"}]}, \"layout\": {\"annotationdefaults\": {\"arrowcolor\": \"#2a3f5f\", \"arrowhead\": 0, \"arrowwidth\": 1}, \"coloraxis\": {\"colorbar\": {\"outlinewidth\": 0, \"ticks\": \"\"}}, \"colorscale\": {\"diverging\": [[0, \"#8e0152\"], [0.1, \"#c51b7d\"], [0.2, \"#de77ae\"], [0.3, \"#f1b6da\"], [0.4, \"#fde0ef\"], [0.5, \"#f7f7f7\"], [0.6, \"#e6f5d0\"], [0.7, \"#b8e186\"], [0.8, \"#7fbc41\"], [0.9, \"#4d9221\"], [1, \"#276419\"]], \"sequential\": [[0.0, \"#0d0887\"], [0.1111111111111111, \"#46039f\"], [0.2222222222222222, \"#7201a8\"], [0.3333333333333333, \"#9c179e\"], [0.4444444444444444, \"#bd3786\"], [0.5555555555555556, \"#d8576b\"], [0.6666666666666666, \"#ed7953\"], [0.7777777777777778, \"#fb9f3a\"], [0.8888888888888888, \"#fdca26\"], [1.0, \"#f0f921\"]], \"sequentialminus\": [[0.0, \"#0d0887\"], [0.1111111111111111, \"#46039f\"], [0.2222222222222222, \"#7201a8\"], [0.3333333333333333, \"#9c179e\"], [0.4444444444444444, \"#bd3786\"], [0.5555555555555556, \"#d8576b\"], [0.6666666666666666, \"#ed7953\"], [0.7777777777777778, \"#fb9f3a\"], [0.8888888888888888, \"#fdca26\"], [1.0, \"#f0f921\"]]}, \"colorway\": [\"#636efa\", \"#EF553B\", \"#00cc96\", \"#ab63fa\", \"#FFA15A\", \"#19d3f3\", \"#FF6692\", \"#B6E880\", \"#FF97FF\", \"#FECB52\"], \"font\": {\"color\": \"#2a3f5f\"}, \"geo\": {\"bgcolor\": \"white\", \"lakecolor\": \"white\", \"landcolor\": \"#E5ECF6\", \"showlakes\": true, \"showland\": true, \"subunitcolor\": \"white\"}, \"hoverlabel\": {\"align\": \"left\"}, \"hovermode\": \"closest\", \"mapbox\": {\"style\": \"light\"}, \"paper_bgcolor\": \"white\", \"plot_bgcolor\": \"#E5ECF6\", \"polar\": {\"angularaxis\": {\"gridcolor\": \"white\", \"linecolor\": \"white\", \"ticks\": \"\"}, \"bgcolor\": \"#E5ECF6\", \"radialaxis\": {\"gridcolor\": \"white\", \"linecolor\": \"white\", \"ticks\": \"\"}}, \"scene\": {\"xaxis\": {\"backgroundcolor\": \"#E5ECF6\", \"gridcolor\": \"white\", \"gridwidth\": 2, \"linecolor\": \"white\", \"showbackground\": true, \"ticks\": \"\", \"zerolinecolor\": \"white\"}, \"yaxis\": {\"backgroundcolor\": \"#E5ECF6\", \"gridcolor\": \"white\", \"gridwidth\": 2, \"linecolor\": \"white\", \"showbackground\": true, \"ticks\": \"\", \"zerolinecolor\": \"white\"}, \"zaxis\": {\"backgroundcolor\": \"#E5ECF6\", \"gridcolor\": \"white\", \"gridwidth\": 2, \"linecolor\": \"white\", \"showbackground\": true, \"ticks\": \"\", \"zerolinecolor\": \"white\"}}, \"shapedefaults\": {\"line\": {\"color\": \"#2a3f5f\"}}, \"ternary\": {\"aaxis\": {\"gridcolor\": \"white\", \"linecolor\": \"white\", \"ticks\": \"\"}, \"baxis\": {\"gridcolor\": \"white\", \"linecolor\": \"white\", \"ticks\": \"\"}, \"bgcolor\": \"#E5ECF6\", \"caxis\": {\"gridcolor\": \"white\", \"linecolor\": \"white\", \"ticks\": \"\"}}, \"title\": {\"x\": 0.05}, \"xaxis\": {\"automargin\": true, \"gridcolor\": \"white\", \"linecolor\": \"white\", \"ticks\": \"\", \"title\": {\"standoff\": 15}, \"zerolinecolor\": \"white\", \"zerolinewidth\": 2}, \"yaxis\": {\"automargin\": true, \"gridcolor\": \"white\", \"linecolor\": \"white\", \"ticks\": \"\", \"title\": {\"standoff\": 15}, \"zerolinecolor\": \"white\", \"zerolinewidth\": 2}}}},\n",
       "                        {\"responsive\": true}\n",
       "                    ).then(function(){\n",
       "                            \n",
       "var gd = document.getElementById('7b390a40-1f2f-443f-8961-a0b6a818fe4f');\n",
       "var x = new MutationObserver(function (mutations, observer) {{\n",
       "        var display = window.getComputedStyle(gd).display;\n",
       "        if (!display || display === 'none') {{\n",
       "            console.log([gd, 'removed!']);\n",
       "            Plotly.purge(gd);\n",
       "            observer.disconnect();\n",
       "        }}\n",
       "}});\n",
       "\n",
       "// Listen for the removal of the full notebook cells\n",
       "var notebookContainer = gd.closest('#notebook-container');\n",
       "if (notebookContainer) {{\n",
       "    x.observe(notebookContainer, {childList: true});\n",
       "}}\n",
       "\n",
       "// Listen for the clearing of the current output cell\n",
       "var outputEl = gd.closest('.output');\n",
       "if (outputEl) {{\n",
       "    x.observe(outputEl, {childList: true});\n",
       "}}\n",
       "\n",
       "                        })\n",
       "                };\n",
       "                });\n",
       "            </script>\n",
       "        </div>"
      ]
     },
     "metadata": {},
     "output_type": "display_data"
    }
   ],
   "source": [
    "plotly_bar()"
   ]
  },
  {
   "cell_type": "markdown",
   "metadata": {},
   "source": [
    "\n",
    "\n",
    "# Map of Languages in the Contiguous United States"
   ]
  },
  {
   "cell_type": "markdown",
   "metadata": {},
   "source": [
    "In the below function, a subquery is used to first search for indigenous languages and count the number of states each language is associated with (this can vary from 1 state to 6). The outer query then retrieves the coordinate locations for each language (this can vary from 1 location to 4). A nested query was used because the states and coordinate location properties for a language are not related and occasionally have very different counts.\n",
    "\n",
    "Please note that the query takes around 33 seconds to complete. Timeout has not been an issue but a workaround to this runtime is to use two separate queries and parsing and merging the data."
   ]
  },
  {
   "cell_type": "code",
   "execution_count": 134,
   "metadata": {},
   "outputs": [],
   "source": [
    "mapdata = {\n",
    "    'lat': [],\n",
    "    'lon':[],\n",
    "    'text':[],\n",
    "    'count_size':[],\n",
    "    'count_color':[],\n",
    "}"
   ]
  },
  {
   "cell_type": "code",
   "execution_count": 137,
   "metadata": {},
   "outputs": [],
   "source": [
    "def languages_query():\n",
    "    print('\\nQuerying Languages in the Contiguous United States...')\n",
    "    \n",
    "    query = '''\n",
    "        SELECT ?language ?languageLabel ?coordinates ?statecount\n",
    "\n",
    "        WHERE {\n",
    "          ?language wdt:P625 ?coordinates . #get coordinates of language\n",
    "\n",
    "          #subquery\n",
    "          { SELECT ?language (COUNT(?state) as ?statecount)\n",
    "                   WHERE {\n",
    "                      ?language wdt:P31 wd:Q34770 . #find languages\n",
    "                      ?language wdt:P2341 ?state . #that are indigenous to a state\n",
    "                      ?state wdt:P361 wd:Q578170 . #a state that is a part of the contiguous united states\n",
    "                     }\n",
    "\n",
    "            GROUP BY ?language\n",
    "          }\n",
    "          #end of subquery\n",
    "\n",
    "          SERVICE wikibase:label { bd:serviceParam wikibase:language \"en\". }\n",
    "\n",
    "          }\n",
    "    '''\n",
    "    \n",
    "    results = do_query(query)['results']['bindings']\n",
    "    \n",
    "    for lang in results:\n",
    "        #append coordinates\n",
    "        coord = lang['coordinates']['value'][6:-1]\n",
    "        lon_coord, lat_coord = coord.split()\n",
    "        \n",
    "        mapdata['lat'].append(lat_coord)\n",
    "        mapdata['lon'].append(lon_coord)\n",
    "        \n",
    "        #append text (language label)\n",
    "        text = lang['languageLabel']['value']\n",
    "        mapdata['text'].append(text)\n",
    "        \n",
    "        #append count\n",
    "        count = int(lang['statecount']['value'])\n",
    "        mapdata['count_size'].append(count+6)\n",
    "        mapdata['count_color'].append(count*200)\n",
    "\n",
    "    print('...Done!')"
   ]
  },
  {
   "cell_type": "code",
   "execution_count": 136,
   "metadata": {},
   "outputs": [
    {
     "name": "stdout",
     "output_type": "stream",
     "text": [
      "\n",
      "Languages in the Contiguous United States:\n",
      "querying...\n",
      "...done\n",
      "\n",
      "Mapdata results:\n",
      "{'lat': ['44.5', '43.0', '44.333333333', '43.5', '52.0', '45.0', '21.5', '62.0', '32.166666666', '32.666666666', '33.166666666', '33.333333333', '33.5', '31.0', '32.0', '32.333333333', '32.833333333', '34.333333333', '33.166666666', '34.0', '33.75', '33.25', '33.5', '30.25', '31.833333333', '33.333333333', '29.666666666', '31.75', '33.333333333', '32.666666666', '32.25', '32.333333333', '34.0', '32.0', '33.0', '34.0', '36.25', '36.0', '38.333333333', '38.5', '36.833333333', '36.833333333', '38.0', '38.0', '38.333333333', '39.333333333', '38.666666666', '39.666666666', '39.0', '39.0', '39.0', '40.166666666', '39.5', '39.0', '40.0', '40.75', '40.833333333', '41.083333333', '41.333333333', '41.0', '41.0', '41.666666666', '41.833333333', '41.5', '42.5', '43.5', '44.0', '44.5', '44.5', '45.333333333', '45.5', '46.25', '46.583333333', '48.333333333', '47.916666666', '48.083333333', '47.25', '47.666666666', '48.333333333', '48.45', '48.583333333', '48.75', '48.583333333', '48.7', '48.0', '34.5', '34.666666666', '36.0', '34.5', '36.0', '37.5', '38.0', '37.0', '34.666666666', '35.5', '35.75', '37.833333333', '39.25', '42.0', '41.0', '35.833333333', '36.0', '35.083333333', '34.916666666', '36.166666666', '35.0', '35.416666666', '35.833333333', '36.083333333', '36.25', '36.5', '36.583333333', '39.0', '45.666666666', '46.5', '46.0', '47.5', '47.666666666', '47.25', '48.0', '49.5', '49.5', '50.0', '43.416666666', '47.0', '37.0', '40.0', '40.0', '40.5', '41.0', '42.0', '37.0', '35.75', '40.0', '46.5', '47.0', '45.5', '47.0', '48.0', '45.0', '43.5', '45.5', '47.666666666', '34.833333333', '35.5', '35.5', '36.0', '40.0', '42.25', '42.5', '37.333333333', '38.0', '40.0', '42.75', '42.666666666', '42.5'], 'lon': ['-85.0', '-83.0', '-77.5', '-74.25', '-100.166666667', '-67.0', '-158.0', '-145.0', '-116.5', '-116.166666667', '-116.5', '-117.166666667', '-116.25', '-112.5', '-112.0', '-115.0', '-114.333333333', '-115.166666667', '-113.166666667', '-113.333333333', '-110.0', '-108.0', '-101.5', '-96.75', '-96.5', '-97.333333333', '-91.0', '-91.333333333', '-93.5', '-91.0', '-88.5', '-87.416666666', '-88.0', '-85.0', '-84.0', '-85.0', '-121.75', '-121.0', '-123.0', '-122.5', '-121.75', '-121.5', '-121.0', '-120.333333333', '-120.666666667', '-123.5', '-123.333333333', '-123.5', '-123.333333333', '-122.5', '-122.666666667', '-124.166666667', '-121.5', '-121.0', '-120.666666667', '-121.0', '-124.166666667', '-123.666666667', '-124.0', '-123.0', '-122.5', '-123.0', '-122.666666667', '-121.0', '-121.5', '-124.166666667', '-124.0', '-123.0', '-122.5', '-123.75', '-122.5', '-123.5', '-123.0', '-124.666666667', '-124.25', '-123.75', '-122.5', '-122.75', '-123.75', '-123.333333333', '-123.416666667', '-123.25', '-122.583333333', '-122.666666667', '-122.0', '-120.25', '-120.25', '-118.333333333', '-117.0', '-117.5', '-120.0', '-119.0', '-117.0', '-114.583333333', '-113.75', '-112.5', '-113.333333333', '-120.0', '-118.0', '-114.0', '-110.416666667', '-110.0', '-108.833333333', '-107.583333333', '-108.0', '-106.333333333', '-106.666666667', '-107.0', '-106.083333333', '-106.166666667', '-105.5', '-104.0', '-109.0', '-118.5', '-120.0', '-116.0', '-120.0', '-117.75', '-116.5', '-117.0', '-118.5', '-116.0', '-112.666666667', '-108.833333333', '-108.0', '-99.0', '-103.0', '-100.0', '-96.0', '-98.666666666', '-97.25', '-94.0', '-86.75', '-90.0', '-102.5', '-102.5', '-100.5', '-95.0', '-95.0', '-93.5', '-88.5', '-88.333333333', '-92.5', '-85.166666666', '-83.5', '-80.5', '-77.5', '-83.0', '-84.0', '-77.5', '-76.5', '-76.25', '-75.166666666', '-76.75', '-73.5', '-71.0'], 'text': ['Potawatomi', 'Mesquakie language', 'Wyandot', 'Mohawk', 'Michif', 'Malecite-Passamaquoddy', 'Hawaiian Pidgin', 'Ahtna', 'Tipai', 'Tipai', 'Cupeño', 'Luiseño language', 'Cahuilla', \"O'odham\", \"O'odham\", 'Cocopah', 'Quechan', 'Colorado River Numic language', 'Maricopa', 'Havasupai–Hualapai language', 'Western Apache', 'Mescalero-Chiricahua', 'Comanche', 'Tonkawa', 'Kitsai', 'Wichita', 'Chitimacha', 'Natchez', 'Caddo', 'Tunica', 'Choctaw', 'Alabama', 'Chickasaw', 'Mikasuki', 'Muscogee', 'Muscogee', 'Esselen', 'Salinan', 'Coast Miwok', 'Wappo', 'Southern Ohlone', 'Southern Ohlone', 'Plains Miwok', 'Central Sierra Miwok', 'Northern Sierra Miwok', 'Northern Pomo', 'Kashaya', 'Yuki', 'Central Pomo', 'Southeastern Pomo', 'Eastern Pomo', 'Mattole', 'Konkow language', 'Nisenan', 'Maidu language', 'Atsugewi', 'Wiyot', 'Hupa', 'Yurok', 'Chimariko', 'Wintu', 'Karuk', 'Shasta', 'Achumawi', 'Klamath language', 'Hanis language', 'Siuslaw', 'Central Kalapuya language', 'Molala language', 'Tillamook', 'Wasco-Wishram', 'Lower Chinook', 'Upper Chehalis', 'Makah', 'Quileute', 'Klallam language', 'Southern Puget Sound Salish', 'Twana', 'North Straits Salish language', 'North Straits Salish language', 'North Straits Salish language', 'North Straits Salish language', 'North Straits Salish language', 'North Straits Salish language', 'Lushootseed', 'Barbareño', 'Ineseño', 'Tübatulabal', 'Serrano', 'Kawaiisu', 'Southern Sierra Miwok', 'Mono language', 'Timbisha language', 'Mojave', 'Havasupai–Hualapai language', 'Havasupai–Hualapai language', 'Colorado River Numic language', 'Washo', 'Northern Paiute', 'Shoshoni', 'Tewa language', 'Hopi', 'Zuni', 'Western Keres', 'Navajo', 'Southern Tiwa', 'Eastern Keres', 'Jemez', 'Tewa language', 'Tewa language', 'Taos dialect', 'Jicarilla', 'Colorado River Numic language', 'Umatilla', 'Walla Walla', 'Nez Perce', 'Columbia-Moses language', 'Spokane', \"Coeur d'Alene\", 'Salish-Spokane-Kalispel language', 'Okanagan', 'Kutenai', 'Blackfoot', 'Shoshoni', 'Crow', 'Kiowa', 'Arapaho', 'Plains Indian Sign Language', 'Chiwere language', 'Pawnee', 'Omaha–Ponca', 'Osage', 'Yuchi', 'Piedras negras Coahuila', 'Mandan', 'Hidatsa', 'Arikara', 'Cheyenne', 'Chippewa', 'Dakota', 'Winnebago', 'Menominee', 'Chippewa', 'Koasati', 'Cherokee', 'Catawba', 'Tuscarora', 'Shawnee', 'Kickapoo', 'Seneca', 'Powhatan', 'Nanticoke', 'Unami', 'Cayuga', 'Mohegan-Pequot', 'Massachusett'], 'count_size': [10, 10, 7, 7, 7, 7, 8, 7, 7, 7, 7, 7, 7, 7, 7, 8, 7, 12, 7, 7, 7, 8, 7, 7, 7, 7, 7, 9, 7, 7, 9, 8, 8, 7, 8, 8, 7, 7, 7, 7, 7, 7, 7, 7, 7, 7, 7, 7, 7, 7, 7, 7, 7, 7, 7, 7, 7, 7, 7, 7, 7, 7, 7, 7, 7, 7, 7, 7, 8, 7, 8, 8, 7, 7, 7, 7, 7, 7, 7, 7, 7, 7, 7, 7, 7, 7, 7, 7, 7, 7, 7, 8, 8, 9, 7, 7, 12, 8, 10, 10, 8, 9, 7, 7, 10, 7, 7, 7, 8, 8, 7, 7, 12, 7, 7, 9, 7, 7, 7, 8, 7, 8, 7, 10, 7, 7, 7, 7, 7, 7, 10, 7, 7, 8, 7, 7, 7, 7, 10, 11, 10, 7, 10, 7, 7, 7, 8, 7, 9, 7, 7, 8, 7, 7, 8, 7], 'count_color': [800, 800, 200, 200, 200, 200, 400, 200, 200, 200, 200, 200, 200, 200, 200, 400, 200, 1200, 200, 200, 200, 400, 200, 200, 200, 200, 200, 600, 200, 200, 600, 400, 400, 200, 400, 400, 200, 200, 200, 200, 200, 200, 200, 200, 200, 200, 200, 200, 200, 200, 200, 200, 200, 200, 200, 200, 200, 200, 200, 200, 200, 200, 200, 200, 200, 200, 200, 200, 400, 200, 400, 400, 200, 200, 200, 200, 200, 200, 200, 200, 200, 200, 200, 200, 200, 200, 200, 200, 200, 200, 200, 400, 400, 600, 200, 200, 1200, 400, 800, 800, 400, 600, 200, 200, 800, 200, 200, 200, 400, 400, 200, 200, 1200, 200, 200, 600, 200, 200, 200, 400, 200, 400, 200, 800, 200, 200, 200, 200, 200, 200, 800, 200, 200, 400, 200, 200, 200, 200, 800, 1000, 800, 200, 800, 200, 200, 200, 400, 200, 600, 200, 200, 400, 200, 200, 400, 200]}\n"
     ]
    }
   ],
   "source": [
    "languages_query()"
   ]
  },
  {
   "cell_type": "markdown",
   "metadata": {},
   "source": [
    "The number of states a language is indigenous to gives us an idea of widely used or at least how spatially wide the territory of the peoples speaking a certain language was. The coordinate values of a language give us a relative geographical point of where these languages were used.\n",
    "\n",
    "In the map, the colors of the markers correspond to each unique language. The size of the markers correlate to how many states (in today's current US geography) the language is indigenous to. The bigger the marker, the higher number of states the language is known to be indigenous to."
   ]
  },
  {
   "cell_type": "code",
   "execution_count": 138,
   "metadata": {},
   "outputs": [],
   "source": [
    "#display map\n",
    "def display_map(data):\n",
    "    fig = go.Figure(data=go.Scattergeo(\n",
    "        lon = data['lon'],\n",
    "        lat = data['lat'],\n",
    "        text = data['text'],\n",
    "        mode = 'markers',\n",
    "        \n",
    "        marker = dict(\n",
    "            size=data['count_size'],\n",
    "            color=data['count_color'],\n",
    "            )\n",
    "        ))\n",
    "\n",
    "    fig.update_layout(\n",
    "            title = 'Languages in Contiguous United States',\n",
    "            geo_scope = 'north america'\n",
    "        )\n",
    "    fig.show()"
   ]
  },
  {
   "cell_type": "code",
   "execution_count": 140,
   "metadata": {
    "scrolled": true
   },
   "outputs": [
    {
     "data": {
      "application/vnd.plotly.v1+json": {
       "config": {
        "plotlyServerURL": "https://plot.ly"
       },
       "data": [
        {
         "lat": [
          "44.5",
          "43.0",
          "44.333333333",
          "43.5",
          "52.0",
          "45.0",
          "21.5",
          "62.0",
          "32.166666666",
          "32.666666666",
          "33.166666666",
          "33.333333333",
          "33.5",
          "31.0",
          "32.0",
          "32.333333333",
          "32.833333333",
          "34.333333333",
          "33.166666666",
          "34.0",
          "33.75",
          "33.25",
          "33.5",
          "30.25",
          "31.833333333",
          "33.333333333",
          "29.666666666",
          "31.75",
          "33.333333333",
          "32.666666666",
          "32.25",
          "32.333333333",
          "34.0",
          "32.0",
          "33.0",
          "34.0",
          "36.25",
          "36.0",
          "38.333333333",
          "38.5",
          "36.833333333",
          "36.833333333",
          "38.0",
          "38.0",
          "38.333333333",
          "39.333333333",
          "38.666666666",
          "39.666666666",
          "39.0",
          "39.0",
          "39.0",
          "40.166666666",
          "39.5",
          "39.0",
          "40.0",
          "40.75",
          "40.833333333",
          "41.083333333",
          "41.333333333",
          "41.0",
          "41.0",
          "41.666666666",
          "41.833333333",
          "41.5",
          "42.5",
          "43.5",
          "44.0",
          "44.5",
          "44.5",
          "45.333333333",
          "45.5",
          "46.25",
          "46.583333333",
          "48.333333333",
          "47.916666666",
          "48.083333333",
          "47.25",
          "47.666666666",
          "48.333333333",
          "48.45",
          "48.583333333",
          "48.75",
          "48.583333333",
          "48.7",
          "48.0",
          "34.5",
          "34.666666666",
          "36.0",
          "34.5",
          "36.0",
          "37.5",
          "38.0",
          "37.0",
          "34.666666666",
          "35.5",
          "35.75",
          "37.833333333",
          "39.25",
          "42.0",
          "41.0",
          "35.833333333",
          "36.0",
          "35.083333333",
          "34.916666666",
          "36.166666666",
          "35.0",
          "35.416666666",
          "35.833333333",
          "36.083333333",
          "36.25",
          "36.5",
          "36.583333333",
          "39.0",
          "45.666666666",
          "46.5",
          "46.0",
          "47.5",
          "47.666666666",
          "47.25",
          "48.0",
          "49.5",
          "49.5",
          "50.0",
          "43.416666666",
          "47.0",
          "37.0",
          "40.0",
          "40.0",
          "40.5",
          "41.0",
          "42.0",
          "37.0",
          "35.75",
          "40.0",
          "46.5",
          "47.0",
          "45.5",
          "47.0",
          "48.0",
          "45.0",
          "43.5",
          "45.5",
          "47.666666666",
          "34.833333333",
          "35.5",
          "35.5",
          "36.0",
          "40.0",
          "42.25",
          "42.5",
          "37.333333333",
          "38.0",
          "40.0",
          "42.75",
          "42.666666666",
          "42.5"
         ],
         "lon": [
          "-85.0",
          "-83.0",
          "-77.5",
          "-74.25",
          "-100.166666667",
          "-67.0",
          "-158.0",
          "-145.0",
          "-116.5",
          "-116.166666667",
          "-116.5",
          "-117.166666667",
          "-116.25",
          "-112.5",
          "-112.0",
          "-115.0",
          "-114.333333333",
          "-115.166666667",
          "-113.166666667",
          "-113.333333333",
          "-110.0",
          "-108.0",
          "-101.5",
          "-96.75",
          "-96.5",
          "-97.333333333",
          "-91.0",
          "-91.333333333",
          "-93.5",
          "-91.0",
          "-88.5",
          "-87.416666666",
          "-88.0",
          "-85.0",
          "-84.0",
          "-85.0",
          "-121.75",
          "-121.0",
          "-123.0",
          "-122.5",
          "-121.75",
          "-121.5",
          "-121.0",
          "-120.333333333",
          "-120.666666667",
          "-123.5",
          "-123.333333333",
          "-123.5",
          "-123.333333333",
          "-122.5",
          "-122.666666667",
          "-124.166666667",
          "-121.5",
          "-121.0",
          "-120.666666667",
          "-121.0",
          "-124.166666667",
          "-123.666666667",
          "-124.0",
          "-123.0",
          "-122.5",
          "-123.0",
          "-122.666666667",
          "-121.0",
          "-121.5",
          "-124.166666667",
          "-124.0",
          "-123.0",
          "-122.5",
          "-123.75",
          "-122.5",
          "-123.5",
          "-123.0",
          "-124.666666667",
          "-124.25",
          "-123.75",
          "-122.5",
          "-122.75",
          "-123.75",
          "-123.333333333",
          "-123.416666667",
          "-123.25",
          "-122.583333333",
          "-122.666666667",
          "-122.0",
          "-120.25",
          "-120.25",
          "-118.333333333",
          "-117.0",
          "-117.5",
          "-120.0",
          "-119.0",
          "-117.0",
          "-114.583333333",
          "-113.75",
          "-112.5",
          "-113.333333333",
          "-120.0",
          "-118.0",
          "-114.0",
          "-110.416666667",
          "-110.0",
          "-108.833333333",
          "-107.583333333",
          "-108.0",
          "-106.333333333",
          "-106.666666667",
          "-107.0",
          "-106.083333333",
          "-106.166666667",
          "-105.5",
          "-104.0",
          "-109.0",
          "-118.5",
          "-120.0",
          "-116.0",
          "-120.0",
          "-117.75",
          "-116.5",
          "-117.0",
          "-118.5",
          "-116.0",
          "-112.666666667",
          "-108.833333333",
          "-108.0",
          "-99.0",
          "-103.0",
          "-100.0",
          "-96.0",
          "-98.666666666",
          "-97.25",
          "-94.0",
          "-86.75",
          "-90.0",
          "-102.5",
          "-102.5",
          "-100.5",
          "-95.0",
          "-95.0",
          "-93.5",
          "-88.5",
          "-88.333333333",
          "-92.5",
          "-85.166666666",
          "-83.5",
          "-80.5",
          "-77.5",
          "-83.0",
          "-84.0",
          "-77.5",
          "-76.5",
          "-76.25",
          "-75.166666666",
          "-76.75",
          "-73.5",
          "-71.0"
         ],
         "marker": {
          "color": [
           800,
           800,
           200,
           200,
           200,
           200,
           400,
           200,
           200,
           200,
           200,
           200,
           200,
           200,
           200,
           400,
           200,
           1200,
           200,
           200,
           200,
           400,
           200,
           200,
           200,
           200,
           200,
           600,
           200,
           200,
           600,
           400,
           400,
           200,
           400,
           400,
           200,
           200,
           200,
           200,
           200,
           200,
           200,
           200,
           200,
           200,
           200,
           200,
           200,
           200,
           200,
           200,
           200,
           200,
           200,
           200,
           200,
           200,
           200,
           200,
           200,
           200,
           200,
           200,
           200,
           200,
           200,
           200,
           400,
           200,
           400,
           400,
           200,
           200,
           200,
           200,
           200,
           200,
           200,
           200,
           200,
           200,
           200,
           200,
           200,
           200,
           200,
           200,
           200,
           200,
           200,
           400,
           400,
           600,
           200,
           200,
           1200,
           400,
           800,
           800,
           400,
           600,
           200,
           200,
           800,
           200,
           200,
           200,
           400,
           400,
           200,
           200,
           1200,
           200,
           200,
           600,
           200,
           200,
           200,
           400,
           200,
           400,
           200,
           800,
           200,
           200,
           200,
           200,
           200,
           200,
           800,
           200,
           200,
           400,
           200,
           200,
           200,
           200,
           800,
           1000,
           800,
           200,
           800,
           200,
           200,
           200,
           400,
           200,
           600,
           200,
           200,
           400,
           200,
           200,
           400,
           200
          ],
          "size": [
           10,
           10,
           7,
           7,
           7,
           7,
           8,
           7,
           7,
           7,
           7,
           7,
           7,
           7,
           7,
           8,
           7,
           12,
           7,
           7,
           7,
           8,
           7,
           7,
           7,
           7,
           7,
           9,
           7,
           7,
           9,
           8,
           8,
           7,
           8,
           8,
           7,
           7,
           7,
           7,
           7,
           7,
           7,
           7,
           7,
           7,
           7,
           7,
           7,
           7,
           7,
           7,
           7,
           7,
           7,
           7,
           7,
           7,
           7,
           7,
           7,
           7,
           7,
           7,
           7,
           7,
           7,
           7,
           8,
           7,
           8,
           8,
           7,
           7,
           7,
           7,
           7,
           7,
           7,
           7,
           7,
           7,
           7,
           7,
           7,
           7,
           7,
           7,
           7,
           7,
           7,
           8,
           8,
           9,
           7,
           7,
           12,
           8,
           10,
           10,
           8,
           9,
           7,
           7,
           10,
           7,
           7,
           7,
           8,
           8,
           7,
           7,
           12,
           7,
           7,
           9,
           7,
           7,
           7,
           8,
           7,
           8,
           7,
           10,
           7,
           7,
           7,
           7,
           7,
           7,
           10,
           7,
           7,
           8,
           7,
           7,
           7,
           7,
           10,
           11,
           10,
           7,
           10,
           7,
           7,
           7,
           8,
           7,
           9,
           7,
           7,
           8,
           7,
           7,
           8,
           7
          ]
         },
         "mode": "markers",
         "text": [
          "Potawatomi",
          "Mesquakie language",
          "Wyandot",
          "Mohawk",
          "Michif",
          "Malecite-Passamaquoddy",
          "Hawaiian Pidgin",
          "Ahtna",
          "Tipai",
          "Tipai",
          "Cupeño",
          "Luiseño language",
          "Cahuilla",
          "O'odham",
          "O'odham",
          "Cocopah",
          "Quechan",
          "Colorado River Numic language",
          "Maricopa",
          "Havasupai–Hualapai language",
          "Western Apache",
          "Mescalero-Chiricahua",
          "Comanche",
          "Tonkawa",
          "Kitsai",
          "Wichita",
          "Chitimacha",
          "Natchez",
          "Caddo",
          "Tunica",
          "Choctaw",
          "Alabama",
          "Chickasaw",
          "Mikasuki",
          "Muscogee",
          "Muscogee",
          "Esselen",
          "Salinan",
          "Coast Miwok",
          "Wappo",
          "Southern Ohlone",
          "Southern Ohlone",
          "Plains Miwok",
          "Central Sierra Miwok",
          "Northern Sierra Miwok",
          "Northern Pomo",
          "Kashaya",
          "Yuki",
          "Central Pomo",
          "Southeastern Pomo",
          "Eastern Pomo",
          "Mattole",
          "Konkow language",
          "Nisenan",
          "Maidu language",
          "Atsugewi",
          "Wiyot",
          "Hupa",
          "Yurok",
          "Chimariko",
          "Wintu",
          "Karuk",
          "Shasta",
          "Achumawi",
          "Klamath language",
          "Hanis language",
          "Siuslaw",
          "Central Kalapuya language",
          "Molala language",
          "Tillamook",
          "Wasco-Wishram",
          "Lower Chinook",
          "Upper Chehalis",
          "Makah",
          "Quileute",
          "Klallam language",
          "Southern Puget Sound Salish",
          "Twana",
          "North Straits Salish language",
          "North Straits Salish language",
          "North Straits Salish language",
          "North Straits Salish language",
          "North Straits Salish language",
          "North Straits Salish language",
          "Lushootseed",
          "Barbareño",
          "Ineseño",
          "Tübatulabal",
          "Serrano",
          "Kawaiisu",
          "Southern Sierra Miwok",
          "Mono language",
          "Timbisha language",
          "Mojave",
          "Havasupai–Hualapai language",
          "Havasupai–Hualapai language",
          "Colorado River Numic language",
          "Washo",
          "Northern Paiute",
          "Shoshoni",
          "Tewa language",
          "Hopi",
          "Zuni",
          "Western Keres",
          "Navajo",
          "Southern Tiwa",
          "Eastern Keres",
          "Jemez",
          "Tewa language",
          "Tewa language",
          "Taos dialect",
          "Jicarilla",
          "Colorado River Numic language",
          "Umatilla",
          "Walla Walla",
          "Nez Perce",
          "Columbia-Moses language",
          "Spokane",
          "Coeur d'Alene",
          "Salish-Spokane-Kalispel language",
          "Okanagan",
          "Kutenai",
          "Blackfoot",
          "Shoshoni",
          "Crow",
          "Kiowa",
          "Arapaho",
          "Plains Indian Sign Language",
          "Chiwere language",
          "Pawnee",
          "Omaha–Ponca",
          "Osage",
          "Yuchi",
          "Piedras negras Coahuila",
          "Mandan",
          "Hidatsa",
          "Arikara",
          "Cheyenne",
          "Chippewa",
          "Dakota",
          "Winnebago",
          "Menominee",
          "Chippewa",
          "Koasati",
          "Cherokee",
          "Catawba",
          "Tuscarora",
          "Shawnee",
          "Kickapoo",
          "Seneca",
          "Powhatan",
          "Nanticoke",
          "Unami",
          "Cayuga",
          "Mohegan-Pequot",
          "Massachusett"
         ],
         "type": "scattergeo"
        }
       ],
       "layout": {
        "geo": {
         "scope": "north america"
        },
        "template": {
         "data": {
          "bar": [
           {
            "error_x": {
             "color": "#2a3f5f"
            },
            "error_y": {
             "color": "#2a3f5f"
            },
            "marker": {
             "line": {
              "color": "#E5ECF6",
              "width": 0.5
             }
            },
            "type": "bar"
           }
          ],
          "barpolar": [
           {
            "marker": {
             "line": {
              "color": "#E5ECF6",
              "width": 0.5
             }
            },
            "type": "barpolar"
           }
          ],
          "carpet": [
           {
            "aaxis": {
             "endlinecolor": "#2a3f5f",
             "gridcolor": "white",
             "linecolor": "white",
             "minorgridcolor": "white",
             "startlinecolor": "#2a3f5f"
            },
            "baxis": {
             "endlinecolor": "#2a3f5f",
             "gridcolor": "white",
             "linecolor": "white",
             "minorgridcolor": "white",
             "startlinecolor": "#2a3f5f"
            },
            "type": "carpet"
           }
          ],
          "choropleth": [
           {
            "colorbar": {
             "outlinewidth": 0,
             "ticks": ""
            },
            "type": "choropleth"
           }
          ],
          "contour": [
           {
            "colorbar": {
             "outlinewidth": 0,
             "ticks": ""
            },
            "colorscale": [
             [
              0,
              "#0d0887"
             ],
             [
              0.1111111111111111,
              "#46039f"
             ],
             [
              0.2222222222222222,
              "#7201a8"
             ],
             [
              0.3333333333333333,
              "#9c179e"
             ],
             [
              0.4444444444444444,
              "#bd3786"
             ],
             [
              0.5555555555555556,
              "#d8576b"
             ],
             [
              0.6666666666666666,
              "#ed7953"
             ],
             [
              0.7777777777777778,
              "#fb9f3a"
             ],
             [
              0.8888888888888888,
              "#fdca26"
             ],
             [
              1,
              "#f0f921"
             ]
            ],
            "type": "contour"
           }
          ],
          "contourcarpet": [
           {
            "colorbar": {
             "outlinewidth": 0,
             "ticks": ""
            },
            "type": "contourcarpet"
           }
          ],
          "heatmap": [
           {
            "colorbar": {
             "outlinewidth": 0,
             "ticks": ""
            },
            "colorscale": [
             [
              0,
              "#0d0887"
             ],
             [
              0.1111111111111111,
              "#46039f"
             ],
             [
              0.2222222222222222,
              "#7201a8"
             ],
             [
              0.3333333333333333,
              "#9c179e"
             ],
             [
              0.4444444444444444,
              "#bd3786"
             ],
             [
              0.5555555555555556,
              "#d8576b"
             ],
             [
              0.6666666666666666,
              "#ed7953"
             ],
             [
              0.7777777777777778,
              "#fb9f3a"
             ],
             [
              0.8888888888888888,
              "#fdca26"
             ],
             [
              1,
              "#f0f921"
             ]
            ],
            "type": "heatmap"
           }
          ],
          "heatmapgl": [
           {
            "colorbar": {
             "outlinewidth": 0,
             "ticks": ""
            },
            "colorscale": [
             [
              0,
              "#0d0887"
             ],
             [
              0.1111111111111111,
              "#46039f"
             ],
             [
              0.2222222222222222,
              "#7201a8"
             ],
             [
              0.3333333333333333,
              "#9c179e"
             ],
             [
              0.4444444444444444,
              "#bd3786"
             ],
             [
              0.5555555555555556,
              "#d8576b"
             ],
             [
              0.6666666666666666,
              "#ed7953"
             ],
             [
              0.7777777777777778,
              "#fb9f3a"
             ],
             [
              0.8888888888888888,
              "#fdca26"
             ],
             [
              1,
              "#f0f921"
             ]
            ],
            "type": "heatmapgl"
           }
          ],
          "histogram": [
           {
            "marker": {
             "colorbar": {
              "outlinewidth": 0,
              "ticks": ""
             }
            },
            "type": "histogram"
           }
          ],
          "histogram2d": [
           {
            "colorbar": {
             "outlinewidth": 0,
             "ticks": ""
            },
            "colorscale": [
             [
              0,
              "#0d0887"
             ],
             [
              0.1111111111111111,
              "#46039f"
             ],
             [
              0.2222222222222222,
              "#7201a8"
             ],
             [
              0.3333333333333333,
              "#9c179e"
             ],
             [
              0.4444444444444444,
              "#bd3786"
             ],
             [
              0.5555555555555556,
              "#d8576b"
             ],
             [
              0.6666666666666666,
              "#ed7953"
             ],
             [
              0.7777777777777778,
              "#fb9f3a"
             ],
             [
              0.8888888888888888,
              "#fdca26"
             ],
             [
              1,
              "#f0f921"
             ]
            ],
            "type": "histogram2d"
           }
          ],
          "histogram2dcontour": [
           {
            "colorbar": {
             "outlinewidth": 0,
             "ticks": ""
            },
            "colorscale": [
             [
              0,
              "#0d0887"
             ],
             [
              0.1111111111111111,
              "#46039f"
             ],
             [
              0.2222222222222222,
              "#7201a8"
             ],
             [
              0.3333333333333333,
              "#9c179e"
             ],
             [
              0.4444444444444444,
              "#bd3786"
             ],
             [
              0.5555555555555556,
              "#d8576b"
             ],
             [
              0.6666666666666666,
              "#ed7953"
             ],
             [
              0.7777777777777778,
              "#fb9f3a"
             ],
             [
              0.8888888888888888,
              "#fdca26"
             ],
             [
              1,
              "#f0f921"
             ]
            ],
            "type": "histogram2dcontour"
           }
          ],
          "mesh3d": [
           {
            "colorbar": {
             "outlinewidth": 0,
             "ticks": ""
            },
            "type": "mesh3d"
           }
          ],
          "parcoords": [
           {
            "line": {
             "colorbar": {
              "outlinewidth": 0,
              "ticks": ""
             }
            },
            "type": "parcoords"
           }
          ],
          "pie": [
           {
            "automargin": true,
            "type": "pie"
           }
          ],
          "scatter": [
           {
            "marker": {
             "colorbar": {
              "outlinewidth": 0,
              "ticks": ""
             }
            },
            "type": "scatter"
           }
          ],
          "scatter3d": [
           {
            "line": {
             "colorbar": {
              "outlinewidth": 0,
              "ticks": ""
             }
            },
            "marker": {
             "colorbar": {
              "outlinewidth": 0,
              "ticks": ""
             }
            },
            "type": "scatter3d"
           }
          ],
          "scattercarpet": [
           {
            "marker": {
             "colorbar": {
              "outlinewidth": 0,
              "ticks": ""
             }
            },
            "type": "scattercarpet"
           }
          ],
          "scattergeo": [
           {
            "marker": {
             "colorbar": {
              "outlinewidth": 0,
              "ticks": ""
             }
            },
            "type": "scattergeo"
           }
          ],
          "scattergl": [
           {
            "marker": {
             "colorbar": {
              "outlinewidth": 0,
              "ticks": ""
             }
            },
            "type": "scattergl"
           }
          ],
          "scattermapbox": [
           {
            "marker": {
             "colorbar": {
              "outlinewidth": 0,
              "ticks": ""
             }
            },
            "type": "scattermapbox"
           }
          ],
          "scatterpolar": [
           {
            "marker": {
             "colorbar": {
              "outlinewidth": 0,
              "ticks": ""
             }
            },
            "type": "scatterpolar"
           }
          ],
          "scatterpolargl": [
           {
            "marker": {
             "colorbar": {
              "outlinewidth": 0,
              "ticks": ""
             }
            },
            "type": "scatterpolargl"
           }
          ],
          "scatterternary": [
           {
            "marker": {
             "colorbar": {
              "outlinewidth": 0,
              "ticks": ""
             }
            },
            "type": "scatterternary"
           }
          ],
          "surface": [
           {
            "colorbar": {
             "outlinewidth": 0,
             "ticks": ""
            },
            "colorscale": [
             [
              0,
              "#0d0887"
             ],
             [
              0.1111111111111111,
              "#46039f"
             ],
             [
              0.2222222222222222,
              "#7201a8"
             ],
             [
              0.3333333333333333,
              "#9c179e"
             ],
             [
              0.4444444444444444,
              "#bd3786"
             ],
             [
              0.5555555555555556,
              "#d8576b"
             ],
             [
              0.6666666666666666,
              "#ed7953"
             ],
             [
              0.7777777777777778,
              "#fb9f3a"
             ],
             [
              0.8888888888888888,
              "#fdca26"
             ],
             [
              1,
              "#f0f921"
             ]
            ],
            "type": "surface"
           }
          ],
          "table": [
           {
            "cells": {
             "fill": {
              "color": "#EBF0F8"
             },
             "line": {
              "color": "white"
             }
            },
            "header": {
             "fill": {
              "color": "#C8D4E3"
             },
             "line": {
              "color": "white"
             }
            },
            "type": "table"
           }
          ]
         },
         "layout": {
          "annotationdefaults": {
           "arrowcolor": "#2a3f5f",
           "arrowhead": 0,
           "arrowwidth": 1
          },
          "coloraxis": {
           "colorbar": {
            "outlinewidth": 0,
            "ticks": ""
           }
          },
          "colorscale": {
           "diverging": [
            [
             0,
             "#8e0152"
            ],
            [
             0.1,
             "#c51b7d"
            ],
            [
             0.2,
             "#de77ae"
            ],
            [
             0.3,
             "#f1b6da"
            ],
            [
             0.4,
             "#fde0ef"
            ],
            [
             0.5,
             "#f7f7f7"
            ],
            [
             0.6,
             "#e6f5d0"
            ],
            [
             0.7,
             "#b8e186"
            ],
            [
             0.8,
             "#7fbc41"
            ],
            [
             0.9,
             "#4d9221"
            ],
            [
             1,
             "#276419"
            ]
           ],
           "sequential": [
            [
             0,
             "#0d0887"
            ],
            [
             0.1111111111111111,
             "#46039f"
            ],
            [
             0.2222222222222222,
             "#7201a8"
            ],
            [
             0.3333333333333333,
             "#9c179e"
            ],
            [
             0.4444444444444444,
             "#bd3786"
            ],
            [
             0.5555555555555556,
             "#d8576b"
            ],
            [
             0.6666666666666666,
             "#ed7953"
            ],
            [
             0.7777777777777778,
             "#fb9f3a"
            ],
            [
             0.8888888888888888,
             "#fdca26"
            ],
            [
             1,
             "#f0f921"
            ]
           ],
           "sequentialminus": [
            [
             0,
             "#0d0887"
            ],
            [
             0.1111111111111111,
             "#46039f"
            ],
            [
             0.2222222222222222,
             "#7201a8"
            ],
            [
             0.3333333333333333,
             "#9c179e"
            ],
            [
             0.4444444444444444,
             "#bd3786"
            ],
            [
             0.5555555555555556,
             "#d8576b"
            ],
            [
             0.6666666666666666,
             "#ed7953"
            ],
            [
             0.7777777777777778,
             "#fb9f3a"
            ],
            [
             0.8888888888888888,
             "#fdca26"
            ],
            [
             1,
             "#f0f921"
            ]
           ]
          },
          "colorway": [
           "#636efa",
           "#EF553B",
           "#00cc96",
           "#ab63fa",
           "#FFA15A",
           "#19d3f3",
           "#FF6692",
           "#B6E880",
           "#FF97FF",
           "#FECB52"
          ],
          "font": {
           "color": "#2a3f5f"
          },
          "geo": {
           "bgcolor": "white",
           "lakecolor": "white",
           "landcolor": "#E5ECF6",
           "showlakes": true,
           "showland": true,
           "subunitcolor": "white"
          },
          "hoverlabel": {
           "align": "left"
          },
          "hovermode": "closest",
          "mapbox": {
           "style": "light"
          },
          "paper_bgcolor": "white",
          "plot_bgcolor": "#E5ECF6",
          "polar": {
           "angularaxis": {
            "gridcolor": "white",
            "linecolor": "white",
            "ticks": ""
           },
           "bgcolor": "#E5ECF6",
           "radialaxis": {
            "gridcolor": "white",
            "linecolor": "white",
            "ticks": ""
           }
          },
          "scene": {
           "xaxis": {
            "backgroundcolor": "#E5ECF6",
            "gridcolor": "white",
            "gridwidth": 2,
            "linecolor": "white",
            "showbackground": true,
            "ticks": "",
            "zerolinecolor": "white"
           },
           "yaxis": {
            "backgroundcolor": "#E5ECF6",
            "gridcolor": "white",
            "gridwidth": 2,
            "linecolor": "white",
            "showbackground": true,
            "ticks": "",
            "zerolinecolor": "white"
           },
           "zaxis": {
            "backgroundcolor": "#E5ECF6",
            "gridcolor": "white",
            "gridwidth": 2,
            "linecolor": "white",
            "showbackground": true,
            "ticks": "",
            "zerolinecolor": "white"
           }
          },
          "shapedefaults": {
           "line": {
            "color": "#2a3f5f"
           }
          },
          "ternary": {
           "aaxis": {
            "gridcolor": "white",
            "linecolor": "white",
            "ticks": ""
           },
           "baxis": {
            "gridcolor": "white",
            "linecolor": "white",
            "ticks": ""
           },
           "bgcolor": "#E5ECF6",
           "caxis": {
            "gridcolor": "white",
            "linecolor": "white",
            "ticks": ""
           }
          },
          "title": {
           "x": 0.05
          },
          "xaxis": {
           "automargin": true,
           "gridcolor": "white",
           "linecolor": "white",
           "ticks": "",
           "title": {
            "standoff": 15
           },
           "zerolinecolor": "white",
           "zerolinewidth": 2
          },
          "yaxis": {
           "automargin": true,
           "gridcolor": "white",
           "linecolor": "white",
           "ticks": "",
           "title": {
            "standoff": 15
           },
           "zerolinecolor": "white",
           "zerolinewidth": 2
          }
         }
        },
        "title": {
         "text": "Languages in Contiguous United States"
        }
       }
      },
      "text/html": [
       "<div>\n",
       "        \n",
       "        \n",
       "            <div id=\"5d18b5d3-dff7-4030-b700-08f43dd1cac3\" class=\"plotly-graph-div\" style=\"height:525px; width:100%;\"></div>\n",
       "            <script type=\"text/javascript\">\n",
       "                require([\"plotly\"], function(Plotly) {\n",
       "                    window.PLOTLYENV=window.PLOTLYENV || {};\n",
       "                    \n",
       "                if (document.getElementById(\"5d18b5d3-dff7-4030-b700-08f43dd1cac3\")) {\n",
       "                    Plotly.newPlot(\n",
       "                        '5d18b5d3-dff7-4030-b700-08f43dd1cac3',\n",
       "                        [{\"lat\": [\"44.5\", \"43.0\", \"44.333333333\", \"43.5\", \"52.0\", \"45.0\", \"21.5\", \"62.0\", \"32.166666666\", \"32.666666666\", \"33.166666666\", \"33.333333333\", \"33.5\", \"31.0\", \"32.0\", \"32.333333333\", \"32.833333333\", \"34.333333333\", \"33.166666666\", \"34.0\", \"33.75\", \"33.25\", \"33.5\", \"30.25\", \"31.833333333\", \"33.333333333\", \"29.666666666\", \"31.75\", \"33.333333333\", \"32.666666666\", \"32.25\", \"32.333333333\", \"34.0\", \"32.0\", \"33.0\", \"34.0\", \"36.25\", \"36.0\", \"38.333333333\", \"38.5\", \"36.833333333\", \"36.833333333\", \"38.0\", \"38.0\", \"38.333333333\", \"39.333333333\", \"38.666666666\", \"39.666666666\", \"39.0\", \"39.0\", \"39.0\", \"40.166666666\", \"39.5\", \"39.0\", \"40.0\", \"40.75\", \"40.833333333\", \"41.083333333\", \"41.333333333\", \"41.0\", \"41.0\", \"41.666666666\", \"41.833333333\", \"41.5\", \"42.5\", \"43.5\", \"44.0\", \"44.5\", \"44.5\", \"45.333333333\", \"45.5\", \"46.25\", \"46.583333333\", \"48.333333333\", \"47.916666666\", \"48.083333333\", \"47.25\", \"47.666666666\", \"48.333333333\", \"48.45\", \"48.583333333\", \"48.75\", \"48.583333333\", \"48.7\", \"48.0\", \"34.5\", \"34.666666666\", \"36.0\", \"34.5\", \"36.0\", \"37.5\", \"38.0\", \"37.0\", \"34.666666666\", \"35.5\", \"35.75\", \"37.833333333\", \"39.25\", \"42.0\", \"41.0\", \"35.833333333\", \"36.0\", \"35.083333333\", \"34.916666666\", \"36.166666666\", \"35.0\", \"35.416666666\", \"35.833333333\", \"36.083333333\", \"36.25\", \"36.5\", \"36.583333333\", \"39.0\", \"45.666666666\", \"46.5\", \"46.0\", \"47.5\", \"47.666666666\", \"47.25\", \"48.0\", \"49.5\", \"49.5\", \"50.0\", \"43.416666666\", \"47.0\", \"37.0\", \"40.0\", \"40.0\", \"40.5\", \"41.0\", \"42.0\", \"37.0\", \"35.75\", \"40.0\", \"46.5\", \"47.0\", \"45.5\", \"47.0\", \"48.0\", \"45.0\", \"43.5\", \"45.5\", \"47.666666666\", \"34.833333333\", \"35.5\", \"35.5\", \"36.0\", \"40.0\", \"42.25\", \"42.5\", \"37.333333333\", \"38.0\", \"40.0\", \"42.75\", \"42.666666666\", \"42.5\"], \"lon\": [\"-85.0\", \"-83.0\", \"-77.5\", \"-74.25\", \"-100.166666667\", \"-67.0\", \"-158.0\", \"-145.0\", \"-116.5\", \"-116.166666667\", \"-116.5\", \"-117.166666667\", \"-116.25\", \"-112.5\", \"-112.0\", \"-115.0\", \"-114.333333333\", \"-115.166666667\", \"-113.166666667\", \"-113.333333333\", \"-110.0\", \"-108.0\", \"-101.5\", \"-96.75\", \"-96.5\", \"-97.333333333\", \"-91.0\", \"-91.333333333\", \"-93.5\", \"-91.0\", \"-88.5\", \"-87.416666666\", \"-88.0\", \"-85.0\", \"-84.0\", \"-85.0\", \"-121.75\", \"-121.0\", \"-123.0\", \"-122.5\", \"-121.75\", \"-121.5\", \"-121.0\", \"-120.333333333\", \"-120.666666667\", \"-123.5\", \"-123.333333333\", \"-123.5\", \"-123.333333333\", \"-122.5\", \"-122.666666667\", \"-124.166666667\", \"-121.5\", \"-121.0\", \"-120.666666667\", \"-121.0\", \"-124.166666667\", \"-123.666666667\", \"-124.0\", \"-123.0\", \"-122.5\", \"-123.0\", \"-122.666666667\", \"-121.0\", \"-121.5\", \"-124.166666667\", \"-124.0\", \"-123.0\", \"-122.5\", \"-123.75\", \"-122.5\", \"-123.5\", \"-123.0\", \"-124.666666667\", \"-124.25\", \"-123.75\", \"-122.5\", \"-122.75\", \"-123.75\", \"-123.333333333\", \"-123.416666667\", \"-123.25\", \"-122.583333333\", \"-122.666666667\", \"-122.0\", \"-120.25\", \"-120.25\", \"-118.333333333\", \"-117.0\", \"-117.5\", \"-120.0\", \"-119.0\", \"-117.0\", \"-114.583333333\", \"-113.75\", \"-112.5\", \"-113.333333333\", \"-120.0\", \"-118.0\", \"-114.0\", \"-110.416666667\", \"-110.0\", \"-108.833333333\", \"-107.583333333\", \"-108.0\", \"-106.333333333\", \"-106.666666667\", \"-107.0\", \"-106.083333333\", \"-106.166666667\", \"-105.5\", \"-104.0\", \"-109.0\", \"-118.5\", \"-120.0\", \"-116.0\", \"-120.0\", \"-117.75\", \"-116.5\", \"-117.0\", \"-118.5\", \"-116.0\", \"-112.666666667\", \"-108.833333333\", \"-108.0\", \"-99.0\", \"-103.0\", \"-100.0\", \"-96.0\", \"-98.666666666\", \"-97.25\", \"-94.0\", \"-86.75\", \"-90.0\", \"-102.5\", \"-102.5\", \"-100.5\", \"-95.0\", \"-95.0\", \"-93.5\", \"-88.5\", \"-88.333333333\", \"-92.5\", \"-85.166666666\", \"-83.5\", \"-80.5\", \"-77.5\", \"-83.0\", \"-84.0\", \"-77.5\", \"-76.5\", \"-76.25\", \"-75.166666666\", \"-76.75\", \"-73.5\", \"-71.0\"], \"marker\": {\"color\": [800, 800, 200, 200, 200, 200, 400, 200, 200, 200, 200, 200, 200, 200, 200, 400, 200, 1200, 200, 200, 200, 400, 200, 200, 200, 200, 200, 600, 200, 200, 600, 400, 400, 200, 400, 400, 200, 200, 200, 200, 200, 200, 200, 200, 200, 200, 200, 200, 200, 200, 200, 200, 200, 200, 200, 200, 200, 200, 200, 200, 200, 200, 200, 200, 200, 200, 200, 200, 400, 200, 400, 400, 200, 200, 200, 200, 200, 200, 200, 200, 200, 200, 200, 200, 200, 200, 200, 200, 200, 200, 200, 400, 400, 600, 200, 200, 1200, 400, 800, 800, 400, 600, 200, 200, 800, 200, 200, 200, 400, 400, 200, 200, 1200, 200, 200, 600, 200, 200, 200, 400, 200, 400, 200, 800, 200, 200, 200, 200, 200, 200, 800, 200, 200, 400, 200, 200, 200, 200, 800, 1000, 800, 200, 800, 200, 200, 200, 400, 200, 600, 200, 200, 400, 200, 200, 400, 200], \"size\": [10, 10, 7, 7, 7, 7, 8, 7, 7, 7, 7, 7, 7, 7, 7, 8, 7, 12, 7, 7, 7, 8, 7, 7, 7, 7, 7, 9, 7, 7, 9, 8, 8, 7, 8, 8, 7, 7, 7, 7, 7, 7, 7, 7, 7, 7, 7, 7, 7, 7, 7, 7, 7, 7, 7, 7, 7, 7, 7, 7, 7, 7, 7, 7, 7, 7, 7, 7, 8, 7, 8, 8, 7, 7, 7, 7, 7, 7, 7, 7, 7, 7, 7, 7, 7, 7, 7, 7, 7, 7, 7, 8, 8, 9, 7, 7, 12, 8, 10, 10, 8, 9, 7, 7, 10, 7, 7, 7, 8, 8, 7, 7, 12, 7, 7, 9, 7, 7, 7, 8, 7, 8, 7, 10, 7, 7, 7, 7, 7, 7, 10, 7, 7, 8, 7, 7, 7, 7, 10, 11, 10, 7, 10, 7, 7, 7, 8, 7, 9, 7, 7, 8, 7, 7, 8, 7]}, \"mode\": \"markers\", \"text\": [\"Potawatomi\", \"Mesquakie language\", \"Wyandot\", \"Mohawk\", \"Michif\", \"Malecite-Passamaquoddy\", \"Hawaiian Pidgin\", \"Ahtna\", \"Tipai\", \"Tipai\", \"Cupe\\u00f1o\", \"Luise\\u00f1o language\", \"Cahuilla\", \"O'odham\", \"O'odham\", \"Cocopah\", \"Quechan\", \"Colorado River Numic language\", \"Maricopa\", \"Havasupai\\u2013Hualapai language\", \"Western Apache\", \"Mescalero-Chiricahua\", \"Comanche\", \"Tonkawa\", \"Kitsai\", \"Wichita\", \"Chitimacha\", \"Natchez\", \"Caddo\", \"Tunica\", \"Choctaw\", \"Alabama\", \"Chickasaw\", \"Mikasuki\", \"Muscogee\", \"Muscogee\", \"Esselen\", \"Salinan\", \"Coast Miwok\", \"Wappo\", \"Southern Ohlone\", \"Southern Ohlone\", \"Plains Miwok\", \"Central Sierra Miwok\", \"Northern Sierra Miwok\", \"Northern Pomo\", \"Kashaya\", \"Yuki\", \"Central Pomo\", \"Southeastern Pomo\", \"Eastern Pomo\", \"Mattole\", \"Konkow language\", \"Nisenan\", \"Maidu language\", \"Atsugewi\", \"Wiyot\", \"Hupa\", \"Yurok\", \"Chimariko\", \"Wintu\", \"Karuk\", \"Shasta\", \"Achumawi\", \"Klamath language\", \"Hanis language\", \"Siuslaw\", \"Central Kalapuya language\", \"Molala language\", \"Tillamook\", \"Wasco-Wishram\", \"Lower Chinook\", \"Upper Chehalis\", \"Makah\", \"Quileute\", \"Klallam language\", \"Southern Puget Sound Salish\", \"Twana\", \"North Straits Salish language\", \"North Straits Salish language\", \"North Straits Salish language\", \"North Straits Salish language\", \"North Straits Salish language\", \"North Straits Salish language\", \"Lushootseed\", \"Barbare\\u00f1o\", \"Inese\\u00f1o\", \"T\\u00fcbatulabal\", \"Serrano\", \"Kawaiisu\", \"Southern Sierra Miwok\", \"Mono language\", \"Timbisha language\", \"Mojave\", \"Havasupai\\u2013Hualapai language\", \"Havasupai\\u2013Hualapai language\", \"Colorado River Numic language\", \"Washo\", \"Northern Paiute\", \"Shoshoni\", \"Tewa language\", \"Hopi\", \"Zuni\", \"Western Keres\", \"Navajo\", \"Southern Tiwa\", \"Eastern Keres\", \"Jemez\", \"Tewa language\", \"Tewa language\", \"Taos dialect\", \"Jicarilla\", \"Colorado River Numic language\", \"Umatilla\", \"Walla Walla\", \"Nez Perce\", \"Columbia-Moses language\", \"Spokane\", \"Coeur d'Alene\", \"Salish-Spokane-Kalispel language\", \"Okanagan\", \"Kutenai\", \"Blackfoot\", \"Shoshoni\", \"Crow\", \"Kiowa\", \"Arapaho\", \"Plains Indian Sign Language\", \"Chiwere language\", \"Pawnee\", \"Omaha\\u2013Ponca\", \"Osage\", \"Yuchi\", \"Piedras negras Coahuila\", \"Mandan\", \"Hidatsa\", \"Arikara\", \"Cheyenne\", \"Chippewa\", \"Dakota\", \"Winnebago\", \"Menominee\", \"Chippewa\", \"Koasati\", \"Cherokee\", \"Catawba\", \"Tuscarora\", \"Shawnee\", \"Kickapoo\", \"Seneca\", \"Powhatan\", \"Nanticoke\", \"Unami\", \"Cayuga\", \"Mohegan-Pequot\", \"Massachusett\"], \"type\": \"scattergeo\"}],\n",
       "                        {\"geo\": {\"scope\": \"north america\"}, \"template\": {\"data\": {\"bar\": [{\"error_x\": {\"color\": \"#2a3f5f\"}, \"error_y\": {\"color\": \"#2a3f5f\"}, \"marker\": {\"line\": {\"color\": \"#E5ECF6\", \"width\": 0.5}}, \"type\": \"bar\"}], \"barpolar\": [{\"marker\": {\"line\": {\"color\": \"#E5ECF6\", \"width\": 0.5}}, \"type\": \"barpolar\"}], \"carpet\": [{\"aaxis\": {\"endlinecolor\": \"#2a3f5f\", \"gridcolor\": \"white\", \"linecolor\": \"white\", \"minorgridcolor\": \"white\", \"startlinecolor\": \"#2a3f5f\"}, \"baxis\": {\"endlinecolor\": \"#2a3f5f\", \"gridcolor\": \"white\", \"linecolor\": \"white\", \"minorgridcolor\": \"white\", \"startlinecolor\": \"#2a3f5f\"}, \"type\": \"carpet\"}], \"choropleth\": [{\"colorbar\": {\"outlinewidth\": 0, \"ticks\": \"\"}, \"type\": \"choropleth\"}], \"contour\": [{\"colorbar\": {\"outlinewidth\": 0, \"ticks\": \"\"}, \"colorscale\": [[0.0, \"#0d0887\"], [0.1111111111111111, \"#46039f\"], [0.2222222222222222, \"#7201a8\"], [0.3333333333333333, \"#9c179e\"], [0.4444444444444444, \"#bd3786\"], [0.5555555555555556, \"#d8576b\"], [0.6666666666666666, \"#ed7953\"], [0.7777777777777778, \"#fb9f3a\"], [0.8888888888888888, \"#fdca26\"], [1.0, \"#f0f921\"]], \"type\": \"contour\"}], \"contourcarpet\": [{\"colorbar\": {\"outlinewidth\": 0, \"ticks\": \"\"}, \"type\": \"contourcarpet\"}], \"heatmap\": [{\"colorbar\": {\"outlinewidth\": 0, \"ticks\": \"\"}, \"colorscale\": [[0.0, \"#0d0887\"], [0.1111111111111111, \"#46039f\"], [0.2222222222222222, \"#7201a8\"], [0.3333333333333333, \"#9c179e\"], [0.4444444444444444, \"#bd3786\"], [0.5555555555555556, \"#d8576b\"], [0.6666666666666666, \"#ed7953\"], [0.7777777777777778, \"#fb9f3a\"], [0.8888888888888888, \"#fdca26\"], [1.0, \"#f0f921\"]], \"type\": \"heatmap\"}], \"heatmapgl\": [{\"colorbar\": {\"outlinewidth\": 0, \"ticks\": \"\"}, \"colorscale\": [[0.0, \"#0d0887\"], [0.1111111111111111, \"#46039f\"], [0.2222222222222222, \"#7201a8\"], [0.3333333333333333, \"#9c179e\"], [0.4444444444444444, \"#bd3786\"], [0.5555555555555556, \"#d8576b\"], [0.6666666666666666, \"#ed7953\"], [0.7777777777777778, \"#fb9f3a\"], [0.8888888888888888, \"#fdca26\"], [1.0, \"#f0f921\"]], \"type\": \"heatmapgl\"}], \"histogram\": [{\"marker\": {\"colorbar\": {\"outlinewidth\": 0, \"ticks\": \"\"}}, \"type\": \"histogram\"}], \"histogram2d\": [{\"colorbar\": {\"outlinewidth\": 0, \"ticks\": \"\"}, \"colorscale\": [[0.0, \"#0d0887\"], [0.1111111111111111, \"#46039f\"], [0.2222222222222222, \"#7201a8\"], [0.3333333333333333, \"#9c179e\"], [0.4444444444444444, \"#bd3786\"], [0.5555555555555556, \"#d8576b\"], [0.6666666666666666, \"#ed7953\"], [0.7777777777777778, \"#fb9f3a\"], [0.8888888888888888, \"#fdca26\"], [1.0, \"#f0f921\"]], \"type\": \"histogram2d\"}], \"histogram2dcontour\": [{\"colorbar\": {\"outlinewidth\": 0, \"ticks\": \"\"}, \"colorscale\": [[0.0, \"#0d0887\"], [0.1111111111111111, \"#46039f\"], [0.2222222222222222, \"#7201a8\"], [0.3333333333333333, \"#9c179e\"], [0.4444444444444444, \"#bd3786\"], [0.5555555555555556, \"#d8576b\"], [0.6666666666666666, \"#ed7953\"], [0.7777777777777778, \"#fb9f3a\"], [0.8888888888888888, \"#fdca26\"], [1.0, \"#f0f921\"]], \"type\": \"histogram2dcontour\"}], \"mesh3d\": [{\"colorbar\": {\"outlinewidth\": 0, \"ticks\": \"\"}, \"type\": \"mesh3d\"}], \"parcoords\": [{\"line\": {\"colorbar\": {\"outlinewidth\": 0, \"ticks\": \"\"}}, \"type\": \"parcoords\"}], \"pie\": [{\"automargin\": true, \"type\": \"pie\"}], \"scatter\": [{\"marker\": {\"colorbar\": {\"outlinewidth\": 0, \"ticks\": \"\"}}, \"type\": \"scatter\"}], \"scatter3d\": [{\"line\": {\"colorbar\": {\"outlinewidth\": 0, \"ticks\": \"\"}}, \"marker\": {\"colorbar\": {\"outlinewidth\": 0, \"ticks\": \"\"}}, \"type\": \"scatter3d\"}], \"scattercarpet\": [{\"marker\": {\"colorbar\": {\"outlinewidth\": 0, \"ticks\": \"\"}}, \"type\": \"scattercarpet\"}], \"scattergeo\": [{\"marker\": {\"colorbar\": {\"outlinewidth\": 0, \"ticks\": \"\"}}, \"type\": \"scattergeo\"}], \"scattergl\": [{\"marker\": {\"colorbar\": {\"outlinewidth\": 0, \"ticks\": \"\"}}, \"type\": \"scattergl\"}], \"scattermapbox\": [{\"marker\": {\"colorbar\": {\"outlinewidth\": 0, \"ticks\": \"\"}}, \"type\": \"scattermapbox\"}], \"scatterpolar\": [{\"marker\": {\"colorbar\": {\"outlinewidth\": 0, \"ticks\": \"\"}}, \"type\": \"scatterpolar\"}], \"scatterpolargl\": [{\"marker\": {\"colorbar\": {\"outlinewidth\": 0, \"ticks\": \"\"}}, \"type\": \"scatterpolargl\"}], \"scatterternary\": [{\"marker\": {\"colorbar\": {\"outlinewidth\": 0, \"ticks\": \"\"}}, \"type\": \"scatterternary\"}], \"surface\": [{\"colorbar\": {\"outlinewidth\": 0, \"ticks\": \"\"}, \"colorscale\": [[0.0, \"#0d0887\"], [0.1111111111111111, \"#46039f\"], [0.2222222222222222, \"#7201a8\"], [0.3333333333333333, \"#9c179e\"], [0.4444444444444444, \"#bd3786\"], [0.5555555555555556, \"#d8576b\"], [0.6666666666666666, \"#ed7953\"], [0.7777777777777778, \"#fb9f3a\"], [0.8888888888888888, \"#fdca26\"], [1.0, \"#f0f921\"]], \"type\": \"surface\"}], \"table\": [{\"cells\": {\"fill\": {\"color\": \"#EBF0F8\"}, \"line\": {\"color\": \"white\"}}, \"header\": {\"fill\": {\"color\": \"#C8D4E3\"}, \"line\": {\"color\": \"white\"}}, \"type\": \"table\"}]}, \"layout\": {\"annotationdefaults\": {\"arrowcolor\": \"#2a3f5f\", \"arrowhead\": 0, \"arrowwidth\": 1}, \"coloraxis\": {\"colorbar\": {\"outlinewidth\": 0, \"ticks\": \"\"}}, \"colorscale\": {\"diverging\": [[0, \"#8e0152\"], [0.1, \"#c51b7d\"], [0.2, \"#de77ae\"], [0.3, \"#f1b6da\"], [0.4, \"#fde0ef\"], [0.5, \"#f7f7f7\"], [0.6, \"#e6f5d0\"], [0.7, \"#b8e186\"], [0.8, \"#7fbc41\"], [0.9, \"#4d9221\"], [1, \"#276419\"]], \"sequential\": [[0.0, \"#0d0887\"], [0.1111111111111111, \"#46039f\"], [0.2222222222222222, \"#7201a8\"], [0.3333333333333333, \"#9c179e\"], [0.4444444444444444, \"#bd3786\"], [0.5555555555555556, \"#d8576b\"], [0.6666666666666666, \"#ed7953\"], [0.7777777777777778, \"#fb9f3a\"], [0.8888888888888888, \"#fdca26\"], [1.0, \"#f0f921\"]], \"sequentialminus\": [[0.0, \"#0d0887\"], [0.1111111111111111, \"#46039f\"], [0.2222222222222222, \"#7201a8\"], [0.3333333333333333, \"#9c179e\"], [0.4444444444444444, \"#bd3786\"], [0.5555555555555556, \"#d8576b\"], [0.6666666666666666, \"#ed7953\"], [0.7777777777777778, \"#fb9f3a\"], [0.8888888888888888, \"#fdca26\"], [1.0, \"#f0f921\"]]}, \"colorway\": [\"#636efa\", \"#EF553B\", \"#00cc96\", \"#ab63fa\", \"#FFA15A\", \"#19d3f3\", \"#FF6692\", \"#B6E880\", \"#FF97FF\", \"#FECB52\"], \"font\": {\"color\": \"#2a3f5f\"}, \"geo\": {\"bgcolor\": \"white\", \"lakecolor\": \"white\", \"landcolor\": \"#E5ECF6\", \"showlakes\": true, \"showland\": true, \"subunitcolor\": \"white\"}, \"hoverlabel\": {\"align\": \"left\"}, \"hovermode\": \"closest\", \"mapbox\": {\"style\": \"light\"}, \"paper_bgcolor\": \"white\", \"plot_bgcolor\": \"#E5ECF6\", \"polar\": {\"angularaxis\": {\"gridcolor\": \"white\", \"linecolor\": \"white\", \"ticks\": \"\"}, \"bgcolor\": \"#E5ECF6\", \"radialaxis\": {\"gridcolor\": \"white\", \"linecolor\": \"white\", \"ticks\": \"\"}}, \"scene\": {\"xaxis\": {\"backgroundcolor\": \"#E5ECF6\", \"gridcolor\": \"white\", \"gridwidth\": 2, \"linecolor\": \"white\", \"showbackground\": true, \"ticks\": \"\", \"zerolinecolor\": \"white\"}, \"yaxis\": {\"backgroundcolor\": \"#E5ECF6\", \"gridcolor\": \"white\", \"gridwidth\": 2, \"linecolor\": \"white\", \"showbackground\": true, \"ticks\": \"\", \"zerolinecolor\": \"white\"}, \"zaxis\": {\"backgroundcolor\": \"#E5ECF6\", \"gridcolor\": \"white\", \"gridwidth\": 2, \"linecolor\": \"white\", \"showbackground\": true, \"ticks\": \"\", \"zerolinecolor\": \"white\"}}, \"shapedefaults\": {\"line\": {\"color\": \"#2a3f5f\"}}, \"ternary\": {\"aaxis\": {\"gridcolor\": \"white\", \"linecolor\": \"white\", \"ticks\": \"\"}, \"baxis\": {\"gridcolor\": \"white\", \"linecolor\": \"white\", \"ticks\": \"\"}, \"bgcolor\": \"#E5ECF6\", \"caxis\": {\"gridcolor\": \"white\", \"linecolor\": \"white\", \"ticks\": \"\"}}, \"title\": {\"x\": 0.05}, \"xaxis\": {\"automargin\": true, \"gridcolor\": \"white\", \"linecolor\": \"white\", \"ticks\": \"\", \"title\": {\"standoff\": 15}, \"zerolinecolor\": \"white\", \"zerolinewidth\": 2}, \"yaxis\": {\"automargin\": true, \"gridcolor\": \"white\", \"linecolor\": \"white\", \"ticks\": \"\", \"title\": {\"standoff\": 15}, \"zerolinecolor\": \"white\", \"zerolinewidth\": 2}}}, \"title\": {\"text\": \"Languages in Contiguous United States\"}},\n",
       "                        {\"responsive\": true}\n",
       "                    ).then(function(){\n",
       "                            \n",
       "var gd = document.getElementById('5d18b5d3-dff7-4030-b700-08f43dd1cac3');\n",
       "var x = new MutationObserver(function (mutations, observer) {{\n",
       "        var display = window.getComputedStyle(gd).display;\n",
       "        if (!display || display === 'none') {{\n",
       "            console.log([gd, 'removed!']);\n",
       "            Plotly.purge(gd);\n",
       "            observer.disconnect();\n",
       "        }}\n",
       "}});\n",
       "\n",
       "// Listen for the removal of the full notebook cells\n",
       "var notebookContainer = gd.closest('#notebook-container');\n",
       "if (notebookContainer) {{\n",
       "    x.observe(notebookContainer, {childList: true});\n",
       "}}\n",
       "\n",
       "// Listen for the clearing of the current output cell\n",
       "var outputEl = gd.closest('.output');\n",
       "if (outputEl) {{\n",
       "    x.observe(outputEl, {childList: true});\n",
       "}}\n",
       "\n",
       "                        })\n",
       "                };\n",
       "                });\n",
       "            </script>\n",
       "        </div>"
      ]
     },
     "metadata": {},
     "output_type": "display_data"
    }
   ],
   "source": [
    "display_map(mapdata)"
   ]
  },
  {
   "cell_type": "code",
   "execution_count": null,
   "metadata": {},
   "outputs": [],
   "source": []
  }
 ],
 "metadata": {
  "kernelspec": {
   "display_name": "Python 3",
   "language": "python",
   "name": "python3"
  },
  "language_info": {
   "codemirror_mode": {
    "name": "ipython",
    "version": 3
   },
   "file_extension": ".py",
   "mimetype": "text/x-python",
   "name": "python",
   "nbconvert_exporter": "python",
   "pygments_lexer": "ipython3",
   "version": "3.6.2"
  }
 },
 "nbformat": 4,
 "nbformat_minor": 2
}
